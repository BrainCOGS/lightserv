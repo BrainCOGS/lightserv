{
 "cells": [
  {
   "cell_type": "code",
   "execution_count": 1,
   "metadata": {
    "collapsed": false
   },
   "outputs": [],
   "source": [
    "import json\n",
    "import graphviz"
   ]
  },
  {
   "cell_type": "markdown",
   "metadata": {},
   "source": [
    "## Trying a simpler version first\n",
    "Let's start with this structure but only have a single child and try to make the dot file"
   ]
  },
  {
   "cell_type": "code",
   "execution_count": 189,
   "metadata": {
    "collapsed": true
   },
   "outputs": [],
   "source": [
    "test_ontology_file = 'test_ontology.json'"
   ]
  },
  {
   "cell_type": "code",
   "execution_count": 190,
   "metadata": {
    "collapsed": true
   },
   "outputs": [],
   "source": [
    "with open(test_ontology_file) as json_file:\n",
    "    test_data = json.load(json_file)"
   ]
  },
  {
   "cell_type": "code",
   "execution_count": 156,
   "metadata": {
    "collapsed": true
   },
   "outputs": [],
   "source": [
    "def make_graph(dic,graph):\n",
    "    \"\"\" Make a edge-unweighted directed graph from a dictionary\n",
    "    Representing a brain ontology\n",
    "    \"\"\"\n",
    "    name = dic.get('name')\n",
    "    children = dic.get('children')\n",
    "    for child in children:\n",
    "        child_name = child.get('name')\n",
    "        graph.edge(name,child_name)\n",
    "        make_graph(child,graph)\n",
    "    return "
   ]
  },
  {
   "cell_type": "code",
   "execution_count": 179,
   "metadata": {
    "collapsed": false
   },
   "outputs": [
    {
     "data": {
      "text/plain": [
       "'test_allen_graph.gv'"
      ]
     },
     "execution_count": 179,
     "metadata": {},
     "output_type": "execute_result"
    }
   ],
   "source": [
    "G = graphviz.Digraph()\n",
    "make_graph(test_data,G)\n",
    "G.save(filename='test_allen_graph.gv')"
   ]
  },
  {
   "cell_type": "code",
   "execution_count": 147,
   "metadata": {
    "collapsed": false
   },
   "outputs": [
    {
     "data": {
      "text/plain": [
       "'Digraph.gv.pdf'"
      ]
     },
     "execution_count": 147,
     "metadata": {},
     "output_type": "execute_result"
    }
   ],
   "source": [
    "G.view()"
   ]
  },
  {
   "cell_type": "markdown",
   "metadata": {},
   "source": [
    "## Real Ontology file"
   ]
  },
  {
   "cell_type": "code",
   "execution_count": 150,
   "metadata": {
    "collapsed": true
   },
   "outputs": [],
   "source": [
    "ontology_file = 'allen_ontology.json'\n",
    "with open(ontology_file) as json_file:\n",
    "    data = json.load(json_file)"
   ]
  },
  {
   "cell_type": "code",
   "execution_count": 162,
   "metadata": {
    "collapsed": false,
    "scrolled": false
   },
   "outputs": [],
   "source": [
    "allen_graph = graphviz.Digraph()\n",
    "make_graph(data,allen_graph)"
   ]
  },
  {
   "cell_type": "code",
   "execution_count": 161,
   "metadata": {
    "collapsed": false
   },
   "outputs": [
    {
     "data": {
      "text/plain": [
       "'allen_graph.gv'"
      ]
     },
     "execution_count": 161,
     "metadata": {},
     "output_type": "execute_result"
    }
   ],
   "source": [
    "allen_graph.save(filename='allen_graph.gv')"
   ]
  },
  {
   "cell_type": "markdown",
   "metadata": {},
   "source": [
    "## Playing around with attributes"
   ]
  },
  {
   "cell_type": "code",
   "execution_count": 208,
   "metadata": {
    "collapsed": true
   },
   "outputs": [],
   "source": [
    "def make_acroynm_graph(dic,graph):\n",
    "    \"\"\" Make a edge-unweighted directed graph from a dictionary\n",
    "    Representing a brain ontology. Use acronyms instead of name\n",
    "    for the node labels.\n",
    "    \"\"\"\n",
    "    acr = dic.get('acronym')\n",
    "    children = dic.get('children')\n",
    "    for child in children:\n",
    "        child_acr = child.get('acronym')\n",
    "        graph.edge(acr,child_acr)\n",
    "        make_boxy_graph(child,graph)\n",
    "    return "
   ]
  },
  {
   "cell_type": "code",
   "execution_count": 197,
   "metadata": {
    "collapsed": false
   },
   "outputs": [
    {
     "data": {
      "text/plain": [
       "'Graph.gv.pdf'"
      ]
     },
     "execution_count": 197,
     "metadata": {},
     "output_type": "execute_result"
    }
   ],
   "source": [
    "Gboxy = graphviz.Graph()\n",
    "Gboxy.attr('node',shape='box')\n",
    "make_boxy_graph(test_data,Gboxy)\n",
    "Gboxy.view()"
   ]
  },
  {
   "cell_type": "markdown",
   "metadata": {},
   "source": [
    "## real data"
   ]
  },
  {
   "cell_type": "code",
   "execution_count": 201,
   "metadata": {
    "collapsed": true
   },
   "outputs": [],
   "source": [
    "allen_boxy_acronym_graph = graphviz.Graph()\n",
    "allen_boxy_acronym_graph.attr('node',shape='box')\n",
    "make_boxy_graph(data,allen_boxy_acronym_graph)"
   ]
  },
  {
   "cell_type": "code",
   "execution_count": 203,
   "metadata": {
    "collapsed": false
   },
   "outputs": [
    {
     "data": {
      "text/plain": [
       "'allen_boxy_graph_acronym.gv'"
      ]
     },
     "execution_count": 203,
     "metadata": {},
     "output_type": "execute_result"
    }
   ],
   "source": [
    "allen_boxy_acronym_graph.save(filename='allen_boxy_graph_acronym.gv')"
   ]
  },
  {
   "cell_type": "code",
   "execution_count": 210,
   "metadata": {
    "collapsed": false
   },
   "outputs": [],
   "source": [
    "allen_boxy_graph = graphviz.Graph()\n",
    "allen_boxy_graph.attr('node',shape='box')\n",
    "make_graph(data,allen_boxy_graph)"
   ]
  },
  {
   "cell_type": "code",
   "execution_count": 211,
   "metadata": {
    "collapsed": false
   },
   "outputs": [
    {
     "data": {
      "text/plain": [
       "'allen_boxy_graph.gv'"
      ]
     },
     "execution_count": 211,
     "metadata": {},
     "output_type": "execute_result"
    }
   ],
   "source": [
    "allen_boxy_graph.save(filename='allen_boxy_graph.gv')"
   ]
  },
  {
   "cell_type": "code",
   "execution_count": null,
   "metadata": {
    "collapsed": true
   },
   "outputs": [],
   "source": []
  }
 ],
 "metadata": {
  "anaconda-cloud": {},
  "kernelspec": {
   "display_name": "lightserv",
   "language": "python",
   "name": "lightserv"
  },
  "language_info": {
   "codemirror_mode": {
    "name": "ipython",
    "version": 3
   },
   "file_extension": ".py",
   "mimetype": "text/x-python",
   "name": "python",
   "nbconvert_exporter": "python",
   "pygments_lexer": "ipython3",
   "version": "3.7.3"
  }
 },
 "nbformat": 4,
 "nbformat_minor": 2
}
