{
 "cells": [
  {
   "cell_type": "code",
   "execution_count": 1,
   "metadata": {
    "collapsed": false
   },
   "outputs": [],
   "source": [
    "import json\n",
    "import graphviz"
   ]
  },
  {
   "cell_type": "markdown",
   "metadata": {},
   "source": [
    "## Trying a simpler version first\n",
    "Let's start with this structure but only have a single child and try to make the dot file"
   ]
  },
  {
   "cell_type": "code",
   "execution_count": 2,
   "metadata": {
    "collapsed": true
   },
   "outputs": [],
   "source": [
    "test_ontology_file = 'test_ontology.json'"
   ]
  },
  {
   "cell_type": "code",
   "execution_count": 143,
   "metadata": {
    "collapsed": true
   },
   "outputs": [],
   "source": [
    "with open(test_ontology_file) as json_file:\n",
    "    test_data = json.load(json_file)"
   ]
  },
  {
   "cell_type": "code",
   "execution_count": 144,
   "metadata": {
    "collapsed": false
   },
   "outputs": [
    {
     "data": {
      "text/plain": [
       "{'id': 997,\n",
       " 'name': 'root',\n",
       " 'parent_structure_id': 'null',\n",
       " 'children': [{'id': 8,\n",
       "   'name': 'Basic cell groups and regions',\n",
       "   'parent_structure_id': 997,\n",
       "   'children': []},\n",
       "  {'id': 567,\n",
       "   'name': 'Cerebrum',\n",
       "   'children': [{'id': 688,\n",
       "     'name': 'Cerebral cortex',\n",
       "     'atlas_id': 85,\n",
       "     'ontology_id': 1,\n",
       "     'acronym': 'CTX',\n",
       "     'color_hex_triplet': 'B0FFB8',\n",
       "     'graph_order': 3,\n",
       "     'st_level': 3,\n",
       "     'hemisphere_id': 3,\n",
       "     'parent_structure_id': 567,\n",
       "     'children': []},\n",
       "    {'id': 695,\n",
       "     'atlas_id': 86,\n",
       "     'ontology_id': 1,\n",
       "     'acronym': 'CTXpl',\n",
       "     'name': 'Cortical plate',\n",
       "     'color_hex_triplet': '70FF70',\n",
       "     'graph_order': 4,\n",
       "     'st_level': 4,\n",
       "     'hemisphere_id': 3,\n",
       "     'parent_structure_id': 688,\n",
       "     'children': []}]}]}"
      ]
     },
     "execution_count": 144,
     "metadata": {},
     "output_type": "execute_result"
    }
   ],
   "source": [
    "test_data"
   ]
  },
  {
   "cell_type": "code",
   "execution_count": 156,
   "metadata": {
    "collapsed": true
   },
   "outputs": [],
   "source": [
    "def make_graph(dic,graph):\n",
    "    \"\"\" Make a edge-unweighted directed graph from a dictionary\n",
    "    Representing a brain ontology\n",
    "    \"\"\"\n",
    "    name = dic.get('name')\n",
    "    children = dic.get('children')\n",
    "    for child in children:\n",
    "        child_name = child.get('name')\n",
    "        graph.edge(name,child_name)\n",
    "        make_graph(child,graph)\n",
    "    return "
   ]
  },
  {
   "cell_type": "code",
   "execution_count": 146,
   "metadata": {
    "collapsed": false
   },
   "outputs": [
    {
     "name": "stdout",
     "output_type": "stream",
     "text": [
      "digraph {\n",
      "\troot -> \"Basic cell groups and regions\"\n",
      "\troot -> Cerebrum\n",
      "\tCerebrum -> \"Cerebral cortex\"\n",
      "\tCerebrum -> \"Cortical plate\"\n",
      "}\n"
     ]
    }
   ],
   "source": [
    "G = graphviz.Digraph()\n",
    "make_graph(test_data)\n",
    "print(G)"
   ]
  },
  {
   "cell_type": "code",
   "execution_count": 147,
   "metadata": {
    "collapsed": false
   },
   "outputs": [
    {
     "data": {
      "text/plain": [
       "'Digraph.gv.pdf'"
      ]
     },
     "execution_count": 147,
     "metadata": {},
     "output_type": "execute_result"
    }
   ],
   "source": [
    "G.view()"
   ]
  },
  {
   "cell_type": "markdown",
   "metadata": {},
   "source": [
    "## Real Ontology file"
   ]
  },
  {
   "cell_type": "code",
   "execution_count": 150,
   "metadata": {
    "collapsed": true
   },
   "outputs": [],
   "source": [
    "ontology_file = 'allen_ontology.json'\n",
    "with open(ontology_file) as json_file:\n",
    "    data = json.load(json_file)"
   ]
  },
  {
   "cell_type": "code",
   "execution_count": 162,
   "metadata": {
    "collapsed": false,
    "scrolled": false
   },
   "outputs": [],
   "source": [
    "allen_graph = graphviz.Digraph()\n",
    "make_graph(data,allen_graph)"
   ]
  },
  {
   "cell_type": "code",
   "execution_count": 161,
   "metadata": {
    "collapsed": false
   },
   "outputs": [
    {
     "data": {
      "text/plain": [
       "'allen_graph.gv'"
      ]
     },
     "execution_count": 161,
     "metadata": {},
     "output_type": "execute_result"
    }
   ],
   "source": [
    "allen_graph.save(filename='allen_graph.gv')"
   ]
  },
  {
   "cell_type": "code",
   "execution_count": 106,
   "metadata": {
    "collapsed": false
   },
   "outputs": [],
   "source": [
    "def make_cluster_graph(dic):\n",
    "    ID = dic.get('id')\n",
    "    \n",
    "    children = dic.get('children')\n",
    "#     print(ID,children)\n",
    "#     input(\"next\")\n",
    "    with g.subgraph(name='cluster_{}'.format(ID)) as c:\n",
    "        for child in children:\n",
    "            child_ID = child.get('id')\n",
    "            c.edge(str(ID),str(child_ID))\n",
    "            make_cluster_graph(child)\n",
    "    return\n",
    "#     return \n",
    "#     with g.subgraph(name='cluster_0') as c:\n",
    "#         c.attr(style='filled', color='lightgrey')\n",
    "#         c.node_attr.update(style='filled', color='white')\n",
    "#         c.edges([('a0', 'a1'), ('a1', 'a2'), ('a2', 'a3')])\n",
    "#         c.attr(label='process #1')"
   ]
  },
  {
   "cell_type": "code",
   "execution_count": 107,
   "metadata": {
    "collapsed": false
   },
   "outputs": [
    {
     "name": "stdout",
     "output_type": "stream",
     "text": [
      "digraph {\n",
      "\tsubgraph cluster_8 {\n",
      "\t}\n",
      "\tsubgraph cluster_688 {\n",
      "\t}\n",
      "\tsubgraph cluster_695 {\n",
      "\t}\n",
      "\tsubgraph cluster_567 {\n",
      "\t\t567 -> 688\n",
      "\t\t567 -> 695\n",
      "\t}\n",
      "\tsubgraph cluster_997 {\n",
      "\t\t997 -> 8\n",
      "\t\t997 -> 567\n",
      "\t}\n",
      "}\n"
     ]
    }
   ],
   "source": [
    "g = graphviz.Digraph()\n",
    "make_cluster_graph(test_data)\n",
    "print(g)"
   ]
  },
  {
   "cell_type": "code",
   "execution_count": 110,
   "metadata": {
    "collapsed": false
   },
   "outputs": [
    {
     "name": "stdout",
     "output_type": "stream",
     "text": [
      "digraph parent {\n",
      "}\n"
     ]
    }
   ],
   "source": [
    "demo_graph = graphviz.Digraph(name='parent')\n",
    "demo_graph.subgraph(name='child')\n",
    "print(demo_graph)\n"
   ]
  },
  {
   "cell_type": "code",
   "execution_count": 113,
   "metadata": {
    "collapsed": false
   },
   "outputs": [
    {
     "name": "stdout",
     "output_type": "stream",
     "text": [
      "graph cluster_parent {\n",
      "\tsubgraph cluster_child {\n",
      "\t}\n",
      "}\n"
     ]
    }
   ],
   "source": [
    "from graphviz import Graph\n",
    "\n",
    "graph = Graph(name='cluster_parent')\n",
    "child_graph = Graph(name='cluster_child')\n",
    "graph.subgraph(child_graph)\n",
    "print(graph)"
   ]
  },
  {
   "cell_type": "code",
   "execution_count": 118,
   "metadata": {
    "collapsed": true
   },
   "outputs": [],
   "source": [
    "from graphviz import Graph\n",
    "def make_clustered_graph(dic):\n",
    "    \"\"\" pass in graph or subgraph object\"\"\"\n",
    "\n",
    "    ID = dic.get('id')\n",
    "    g = Graph(name='cluster_{}'.format(ID))\n",
    "    parent_ID = dic.get('parent_structure_id')\n",
    "    if parent_ID != \"null\":\n",
    "        parent_graph = Graph(name='cluster_{}'.format(parent_ID))\n",
    "        g.\n",
    " \n",
    "    children = dic.get('children')\n",
    "    for child in children:\n",
    "        child_ID = child.get('id')\n",
    "        s = Graph(name='cluster_{}'.format(child_ID))\n",
    "        g.subgraph(s)\n",
    "#         c.edge(str(ID),str(child_ID))\n",
    "        make_clustered_graph(child)\n",
    "    return g"
   ]
  },
  {
   "cell_type": "code",
   "execution_count": 120,
   "metadata": {
    "collapsed": false
   },
   "outputs": [
    {
     "name": "stdout",
     "output_type": "stream",
     "text": [
      "graph cluster_997 {\n",
      "\tsubgraph cluster_8 {\n",
      "\t}\n",
      "\tsubgraph cluster_567 {\n",
      "\t}\n",
      "}\n"
     ]
    }
   ],
   "source": [
    "G = Graph()\n",
    "g = make_clustered_graph(G)\n",
    "print(g)"
   ]
  },
  {
   "cell_type": "code",
   "execution_count": 135,
   "metadata": {
    "collapsed": false
   },
   "outputs": [
    {
     "data": {
      "text/plain": [
       "True"
      ]
     },
     "execution_count": 135,
     "metadata": {},
     "output_type": "execute_result"
    }
   ],
   "source": [
    "isinstance(g,Graph)"
   ]
  },
  {
   "cell_type": "code",
   "execution_count": 42,
   "metadata": {
    "collapsed": false
   },
   "outputs": [
    {
     "name": "stdout",
     "output_type": "stream",
     "text": [
      "digraph {\n",
      "\tsubgraph cluster_1 {\n",
      "\t\ta -> b\n",
      "\t}\n",
      "}\n"
     ]
    }
   ],
   "source": [
    "def make_cluster_graph_old(graph):\n",
    "    \"\"\" pass in graph or subgraph object\"\"\"\n",
    "    ID = dic.get('id')\n",
    "    \n",
    "    children = dic.get('children')\n",
    "    print(ID,children)\n",
    "    input(\"next\")\n",
    "    with graph.subgraph(name='cluster_{}'.format(ID)) as c:\n",
    "        for child in children:\n",
    "            child_ID = child.get('id')\n",
    "            c.edge(str(ID),str(child_ID))\n",
    "            make_cluster_graph(graph)\n",
    "    return"
   ]
  },
  {
   "cell_type": "code",
   "execution_count": 137,
   "metadata": {
    "collapsed": false
   },
   "outputs": [],
   "source": [
    "parent_graph = graphviz.Graph('parent')\n",
    "parent_graph.node('a')"
   ]
  },
  {
   "cell_type": "code",
   "execution_count": null,
   "metadata": {
    "collapsed": true
   },
   "outputs": [],
   "source": [
    "parent_graph"
   ]
  }
 ],
 "metadata": {
  "anaconda-cloud": {},
  "kernelspec": {
   "display_name": "lightserv",
   "language": "python",
   "name": "lightserv"
  },
  "language_info": {
   "codemirror_mode": {
    "name": "ipython",
    "version": 3
   },
   "file_extension": ".py",
   "mimetype": "text/x-python",
   "name": "python",
   "nbconvert_exporter": "python",
   "pygments_lexer": "ipython3",
   "version": "3.7.3"
  }
 },
 "nbformat": 4,
 "nbformat_minor": 2
}
