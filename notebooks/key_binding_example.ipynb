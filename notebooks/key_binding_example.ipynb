{
 "cells": [
  {
   "cell_type": "code",
   "execution_count": 1,
   "metadata": {},
   "outputs": [],
   "source": [
    "import neuroglancer\n",
    "import cloudvolume"
   ]
  },
  {
   "cell_type": "code",
   "execution_count": 2,
   "metadata": {},
   "outputs": [],
   "source": [
    "import numpy as np\n",
    "from collections import OrderedDict\n",
    "import webbrowser"
   ]
  },
  {
   "cell_type": "code",
   "execution_count": 3,
   "metadata": {},
   "outputs": [],
   "source": [
    "neuroglancer.set_static_content_source(url='https://neuromancer-seung-import.appspot.com')"
   ]
  },
  {
   "cell_type": "code",
   "execution_count": 21,
   "metadata": {},
   "outputs": [
    {
     "name": "stdout",
     "output_type": "stream",
     "text": [
      "http://127.0.0.1:33939/v/ebb4e3516f339fd6fe70e3217dd12bf97086b05d/\n"
     ]
    }
   ],
   "source": [
    "viewer = neuroglancer.Viewer()\n",
    "# This volume handle can be used to notify the viewer that the data has changed.\n",
    "\n",
    "with viewer.txn() as s:\n",
    "    s.layers['segmentation'] = neuroglancer.SegmentationLayer(source='precomputed://http://localhost:1339'\n",
    "    )\n",
    "with viewer.txn() as s:\n",
    "    s.layers[0]._json_data['skeletonRendering']=\\\n",
    "        OrderedDict([('mode2d', 'lines_and_points'), ('mode3d', 'lines')])\n",
    "#     s.layers[0]._json_data['segments']=unique_segments\n",
    "print(viewer)"
   ]
  },
  {
   "cell_type": "code",
   "execution_count": 14,
   "metadata": {},
   "outputs": [
    {
     "name": "stdout",
     "output_type": "stream",
     "text": [
      "Got my-action\n",
      "  Mouse position: [176.5 302.  271. ]\n",
      "  Layer selected values: Map({\"segmentation\": 362})\n",
      "Got my-action 2\n",
      "  Mouse position: [176.5 302.  271. ]\n",
      "  Layer selected values: Map({\"segmentation\": 362})\n"
     ]
    }
   ],
   "source": [
    "# get th key binding to work\n",
    "num_actions = 0\n",
    "def my_action(s):\n",
    "    global num_actions\n",
    "    num_actions += 1\n",
    "    with viewer.config_state.txn() as st:\n",
    "      st.status_messages['hello'] = ('Got action %d: mouse position = %r' %\n",
    "                                     (num_actions, s.mouse_voxel_coordinates))\n",
    "    print('Got my-action %i' % num_actions)\n",
    "    print('  Mouse position: %s' % (s.mouse_voxel_coordinates,))\n",
    "    print('  Layer selected values: %s' % (s.selected_values,))\n",
    "viewer.actions.add('my-action', my_action)\n",
    "with viewer.config_state.txn() as s:\n",
    "    s.input_event_bindings.viewer['keyt'] = 'my-action'\n",
    "    s.status_messages['hello'] = 'Welcome to this example'"
   ]
  },
  {
   "cell_type": "code",
   "execution_count": 23,
   "metadata": {},
   "outputs": [
    {
     "name": "stdout",
     "output_type": "stream",
     "text": [
      "Got my-action 1\n",
      "  Layer selected values: Map({\"segmentation\": 362})\n",
      "Got my-action 2\n",
      "  Layer selected values: Map({\"segmentation\": 362})\n"
     ]
    }
   ],
   "source": [
    "atlas_fake_dict = {362:'Neocortex'} \n",
    "# get the message to print out the value in the fake atlas dictionary for the segment selected in the viewer\n",
    "num_actions = 0\n",
    "def my_action2(s):\n",
    "    global num_actions\n",
    "    num_actions += 1\n",
    "    with viewer.config_state.txn() as st:\n",
    "        region_id = s.selected_values['segmentation']\n",
    "        region_name = atlas_fake_dict.get(region_id)\n",
    "        st.status_messages['hello'] = ('%i:%s' %\n",
    "                                     (region_id, region_name))\n",
    "    print('Got my-action %i' % num_actions)\n",
    "#     print('  Mouse position: %s' % (s.mouse_voxel_coordinates,))\n",
    "    print('  Layer selected values: %s' % (s.selected_values,))\n",
    "viewer.actions.add('my-action2', my_action2)\n",
    "with viewer.config_state.txn() as s:\n",
    "    s.input_event_bindings.viewer['keyp'] = 'my-action2'\n",
    "    s.status_messages['hello'] = 'Welcome to the segment metadata example. Press p to see region name when hovering.'\n",
    "\n"
   ]
  },
  {
   "cell_type": "code",
   "execution_count": null,
   "metadata": {},
   "outputs": [],
   "source": []
  }
 ],
 "metadata": {
  "kernelspec": {
   "display_name": "ng",
   "language": "python",
   "name": "ng"
  },
  "language_info": {
   "codemirror_mode": {
    "name": "ipython",
    "version": 3
   },
   "file_extension": ".py",
   "mimetype": "text/x-python",
   "name": "python",
   "nbconvert_exporter": "python",
   "pygments_lexer": "ipython3",
   "version": "3.6.9"
  }
 },
 "nbformat": 4,
 "nbformat_minor": 2
}
