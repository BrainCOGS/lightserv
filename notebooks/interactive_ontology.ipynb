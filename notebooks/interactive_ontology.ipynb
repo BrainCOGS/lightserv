{
 "cells": [
  {
   "cell_type": "code",
   "execution_count": 19,
   "metadata": {
    "collapsed": true
   },
   "outputs": [],
   "source": [
    "import graphviz\n",
    "import json\n",
    "import numpy as np\n",
    "%matplotlib inline"
   ]
  },
  {
   "cell_type": "code",
   "execution_count": 10,
   "metadata": {
    "collapsed": false
   },
   "outputs": [],
   "source": [
    "ontology_file = '/Users/athair/Git/lightserv_dj_demo/lightserv/data/allen_ontology.json'\n",
    "with open(ontology_file) as json_file:\n",
    "    data = json.load(json_file)\n",
    "    \n",
    "test_ontology_file = '/Users/athair/Git/lightserv_dj_demo/lightserv/data/test_ontology.json'\n",
    "with open(test_ontology_file) as json_file:\n",
    "    test_ontology_dict = json.load(json_file)"
   ]
  },
  {
   "cell_type": "code",
   "execution_count": 79,
   "metadata": {
    "collapsed": false
   },
   "outputs": [],
   "source": [
    "def test_expand_graph(dic=test_ontology_dict,graph=my_test_graph,input_nodename=None):\n",
    "    \"\"\" \n",
    "    ---PURPOSE---\n",
    "    Take an existing graph and add to it the children \n",
    "    of an input_nodename. Recursive function.\n",
    "    ---INPUT---\n",
    "    dic             Dictionary representing the entire ontology graph (with \"rank\" key included)\n",
    "    graph           The graphviz graph object that will be updated.\n",
    "                    graph may be a subgraph of the entire graph as long as \n",
    "                    input_nodename is a node name in it\n",
    "    input_nodename  The name of the node whose children you want to display\n",
    "    \"\"\"\n",
    "    name = dic.get('name')\n",
    "#     print(name)\n",
    "    children = dic.get('children')\n",
    "    if input_nodename == None: # default is root\n",
    "        graph.node('root')\n",
    "        return graph\n",
    "    if name == input_nodename:\n",
    "        for child in children: # child is a dict\n",
    "            child_name = child.get('name')\n",
    "            graph.node(child_name)\n",
    "            graph.edge(name,child_name)\n",
    "        return graph\n",
    "     \n",
    "    for child in children:\n",
    "        test_expand_graph(child,graph,input_nodename=input_nodename)\n",
    "    return graph"
   ]
  },
  {
   "cell_type": "code",
   "execution_count": 99,
   "metadata": {
    "collapsed": true
   },
   "outputs": [],
   "source": [
    "def test_contract_graph(dic=test_ontology_dict,graph=my_test_graph,input_nodename=None):\n",
    "    \"\"\" \n",
    "    ---PURPOSE---\n",
    "    Take an existing graph and remove all descendents\n",
    "    of an input_nodename. Recursive function.\n",
    "    ---INPUT---\n",
    "    dic             Dictionary representing the entire ontology graph (with \"rank\" key included)\n",
    "    graph           The graphviz graph object that will be updated.\n",
    "                    graph may be a subgraph of the entire graph as long as \n",
    "                    input_nodename is a node name in it\n",
    "    input_nodename  The name of the node whose descendents you want to remove\n",
    "    \"\"\"\n",
    "    name = dic.get('name')\n",
    "    name_label = f'\"{name}\"' if len(name.split())>1 else name\n",
    "    children = dic.get('children')\n",
    "    if name == input_nodename:\n",
    "        for child in children: # child is a dict\n",
    "            child_name = child.get('name')\n",
    "            child_label = f'\"{child_name}\"' if len(child_name.split())>1 else child_name\n",
    "\n",
    "            edge_str = f'\\t{name_label} -> {child_label}' \n",
    "#             print(edge_st/r)\n",
    "            # delete edges to children and children themselves\n",
    "            child_str = f'\\t{child_label}'\n",
    "\n",
    "            del graph.body[graph.body.index(edge_str)]\n",
    "            del graph.body[graph.body.index(child_str)]\n",
    "            print(\"deleted %s\" % child_str)\n",
    "            print(\"deleting %s\" % edge_str)\n",
    "            test_contract_graph(child,graph,input_nodename=child_name)\n",
    "    for child in children:\n",
    "        test_contract_graph(child,graph,input_nodename=input_nodename)\n",
    "    return graph"
   ]
  },
  {
   "cell_type": "code",
   "execution_count": 102,
   "metadata": {
    "collapsed": false
   },
   "outputs": [
    {
     "name": "stdout",
     "output_type": "stream",
     "text": [
      "deleted \t\"Basic cell groups and regions\"\n",
      "deleting \troot -> \"Basic cell groups and regions\"\n",
      "deleted \tCerebrum\n",
      "deleting \troot -> Cerebrum\n",
      "deleted \t\"Cerebral cortex\"\n",
      "deleting \tCerebrum -> \"Cerebral cortex\"\n",
      "deleted \t\"Cortical plate\"\n",
      "deleting \tCerebrum -> \"Cortical plate\"\n"
     ]
    },
    {
     "data": {
      "image/svg+xml": [
       "<?xml version=\"1.0\" encoding=\"UTF-8\" standalone=\"no\"?>\n",
       "<!DOCTYPE svg PUBLIC \"-//W3C//DTD SVG 1.1//EN\"\n",
       " \"http://www.w3.org/Graphics/SVG/1.1/DTD/svg11.dtd\">\n",
       "<!-- Generated by graphviz version 2.40.1 (20161225.0304)\n",
       " -->\n",
       "<!-- Title: %3 Pages: 1 -->\n",
       "<svg width=\"62pt\" height=\"44pt\"\n",
       " viewBox=\"0.00 0.00 62.00 44.00\" xmlns=\"http://www.w3.org/2000/svg\" xmlns:xlink=\"http://www.w3.org/1999/xlink\">\n",
       "<g id=\"graph0\" class=\"graph\" transform=\"scale(1 1) rotate(0) translate(4 40)\">\n",
       "<title>%3</title>\n",
       "<polygon fill=\"#ffffff\" stroke=\"transparent\" points=\"-4,4 -4,-40 58,-40 58,4 -4,4\"/>\n",
       "<!-- root -->\n",
       "<g id=\"node1\" class=\"node\">\n",
       "<title>root</title>\n",
       "<ellipse fill=\"none\" stroke=\"#000000\" cx=\"27\" cy=\"-18\" rx=\"27\" ry=\"18\"/>\n",
       "<text text-anchor=\"middle\" x=\"27\" y=\"-13.8\" font-family=\"Times,serif\" font-size=\"14.00\" fill=\"#000000\">root</text>\n",
       "</g>\n",
       "</g>\n",
       "</svg>\n"
      ],
      "text/plain": [
       "<graphviz.dot.Digraph at 0x10b6e26a0>"
      ]
     },
     "execution_count": 102,
     "metadata": {},
     "output_type": "execute_result"
    }
   ],
   "source": [
    "my_test_graph = graphviz.Digraph(strict=True)\n",
    "# my_test_graph.attr('node',shape='box')\n",
    "graph=test_expand_graph(graph=my_test_graph)\n",
    "graph=test_expand_graph(graph=graph,input_nodename='root')\n",
    "graph=test_expand_graph(graph=graph,input_nodename='Cerebrum')\n",
    "graph = test_contract_graph(graph=graph,input_nodename='root')\n",
    "# print(graph.body)\n",
    "# graph=test_expand_graph(graph=graph,input_nodename='Cerebrum')\n",
    "graph"
   ]
  },
  {
   "cell_type": "code",
   "execution_count": 103,
   "metadata": {
    "collapsed": false
   },
   "outputs": [
    {
     "data": {
      "text/plain": [
       "'/Users/athair/Git/lightserv_dj_demo/notebooks'"
      ]
     },
     "execution_count": 103,
     "metadata": {},
     "output_type": "execute_result"
    }
   ],
   "source": [
    "pwd"
   ]
  },
  {
   "cell_type": "code",
   "execution_count": null,
   "metadata": {
    "collapsed": true
   },
   "outputs": [],
   "source": []
  }
 ],
 "metadata": {
  "kernelspec": {
   "display_name": "lightserv",
   "language": "python",
   "name": "lightserv"
  },
  "language_info": {
   "codemirror_mode": {
    "name": "ipython",
    "version": 3
   },
   "file_extension": ".py",
   "mimetype": "text/x-python",
   "name": "python",
   "nbconvert_exporter": "python",
   "pygments_lexer": "ipython3",
   "version": "3.7.3"
  }
 },
 "nbformat": 4,
 "nbformat_minor": 1
}
