{
 "cells": [
  {
   "cell_type": "markdown",
   "metadata": {},
   "source": [
    "First, establish an ssh tunnel [with your PNI password] to jtb3-dev.princeton.edu to make the database available to you:\n",
    "\n",
    "    ssh username@jtb3-dev.princeton.edu -L 3306:127.0.0.1:3306 -N\n",
    "\n",
    "jtb3-dev is the database server on which all behavior and mouse data is stored. Second, make sure you have installed datajoint >= '0.12.dev3'\n",
    "[ pip install datajoint==0.12.dev3 ]"
   ]
  },
  {
   "cell_type": "code",
   "execution_count": 176,
   "metadata": {},
   "outputs": [],
   "source": [
    "import pylab as pl\n",
    "import datajoint as dj\n",
    "import numpy as np\n",
    "import os,sys\n",
    "import secrets\n",
    "# assert dj.__version__>='0.12.dev3'\n",
    "import pickle\n",
    "from datetime import datetime\n",
    "from googleapiclient.discovery import build\n",
    "from google_auth_oauthlib.flow import InstalledAppFlow\n",
    "from google.auth.transport.requests import Request\n",
    "import pandas as pd\n",
    "import pkg_resources\n",
    "from shutil import copyfile\n",
    "\n",
    "home_dir = os.environ['HOME']"
   ]
  },
  {
   "cell_type": "code",
   "execution_count": 2,
   "metadata": {},
   "outputs": [
    {
     "data": {
      "text/plain": [
       "'0.12.2'"
      ]
     },
     "execution_count": 2,
     "metadata": {},
     "output_type": "execute_result"
    }
   ],
   "source": [
    "dj.__version__"
   ]
  },
  {
   "cell_type": "code",
   "execution_count": 3,
   "metadata": {},
   "outputs": [
    {
     "data": {
      "text/plain": [
       "{   'connection.charset': '',\n",
       "    'connection.init_function': None,\n",
       "    'database.host': 'localhost',\n",
       "    'database.password': None,\n",
       "    'database.port': 3306,\n",
       "    'database.reconnect': True,\n",
       "    'database.use_tls': None,\n",
       "    'database.user': None,\n",
       "    'display.limit': 12,\n",
       "    'display.show_tuple_count': True,\n",
       "    'display.width': 14,\n",
       "    'enable_python_native_blobs': False,\n",
       "    'fetch_format': 'array',\n",
       "    'loglevel': 'INFO',\n",
       "    'safemode': True}"
      ]
     },
     "execution_count": 3,
     "metadata": {},
     "output_type": "execute_result"
    }
   ],
   "source": [
    "dj.config"
   ]
  },
  {
   "cell_type": "code",
   "execution_count": 177,
   "metadata": {},
   "outputs": [],
   "source": [
    "schema = dj.create_virtual_module(\"ahoag_lightsheet_demo\",\"ahoag_lightsheet_demo\")"
   ]
  },
  {
   "cell_type": "code",
   "execution_count": 163,
   "metadata": {},
   "outputs": [
    {
     "name": "stderr",
     "output_type": "stream",
     "text": [
      "/home/ahoag/anaconda3/envs/lightserv/lib/python3.7/site-packages/datajoint/connection.py:215: UserWarning: MySQL server has gone away. Reconnecting to the server.\n",
      "  warnings.warn(\"MySQL server has gone away. Reconnecting to the server.\")\n"
     ]
    }
   ],
   "source": [
    "schema = dj.create_virtual_module(\"ahoag_microscope_demo\",\"ahoag_microscope_demo\")"
   ]
  },
  {
   "cell_type": "code",
   "execution_count": 165,
   "metadata": {},
   "outputs": [
    {
     "data": {
      "text/html": [
       "\n",
       "        \n",
       "        <style type=\"text/css\">\n",
       "            .Relation{\n",
       "                border-collapse:collapse;\n",
       "            }\n",
       "            .Relation th{\n",
       "                background: #A0A0A0; color: #ffffff; padding:4px; border:#f0e0e0 1px solid;\n",
       "                font-weight: normal; font-family: monospace; font-size: 100%;\n",
       "            }\n",
       "            .Relation td{\n",
       "                padding:4px; border:#f0e0e0 1px solid; font-size:100%;\n",
       "            }\n",
       "            .Relation tr:nth-child(odd){\n",
       "                background: #ffffff;\n",
       "            }\n",
       "            .Relation tr:nth-child(even){\n",
       "                background: #f3f1ff;\n",
       "            }\n",
       "            /* Tooltip container */\n",
       "            .djtooltip {\n",
       "            }\n",
       "            /* Tooltip text */\n",
       "            .djtooltip .djtooltiptext {\n",
       "                visibility: hidden;\n",
       "                width: 120px;\n",
       "                background-color: black;\n",
       "                color: #fff;\n",
       "                text-align: center;\n",
       "                padding: 5px 0;\n",
       "                border-radius: 6px;\n",
       "                /* Position the tooltip text - see examples below! */\n",
       "                position: absolute;\n",
       "                z-index: 1;\n",
       "            }\n",
       "            #primary {\n",
       "                font-weight: bold;\n",
       "                color: black;\n",
       "            }\n",
       "\n",
       "            #nonprimary {\n",
       "                font-weight: normal;\n",
       "                color: white;\n",
       "            }\n",
       "\n",
       "            /* Show the tooltip text when you mouse over the tooltip container */\n",
       "            .djtooltip:hover .djtooltiptext {\n",
       "                visibility: visible;\n",
       "            }\n",
       "        </style>\n",
       "        \n",
       "        <b></b>\n",
       "            <div style=\"max-height:1000px;max-width:1500px;overflow:auto;\">\n",
       "            <table border=\"1\" class=\"Relation\">\n",
       "                <thead> <tr style=\"text-align: right;\"> <th> <div class=\"djtooltip\">\n",
       "                                <p id=\"primary\">pmt_serial</p>\n",
       "                                <span class=\"djtooltiptext\"></span>\n",
       "                            </div></th><th><div class=\"djtooltip\">\n",
       "                                <p id=\"nonprimary\">pmt_brand</p>\n",
       "                                <span class=\"djtooltiptext\"></span>\n",
       "                            </div></th><th><div class=\"djtooltip\">\n",
       "                                <p id=\"nonprimary\">pmt_model</p>\n",
       "                                <span class=\"djtooltiptext\"></span>\n",
       "                            </div></th><th><div class=\"djtooltip\">\n",
       "                                <p id=\"nonprimary\">pmt_date_of_first_use</p>\n",
       "                                <span class=\"djtooltiptext\"></span>\n",
       "                            </div> </th> </tr> </thead>\n",
       "                <tbody> <tr>  </tr> </tbody>\n",
       "            </table>\n",
       "            \n",
       "            <p>Total: 0</p></div>\n",
       "            "
      ],
      "text/plain": [
       "*pmt_serial    pmt_brand     pmt_model     pmt_date_of_fi\n",
       "+------------+ +-----------+ +-----------+ +------------+\n",
       "\n",
       " (Total: 0)"
      ]
     },
     "execution_count": 165,
     "metadata": {},
     "output_type": "execute_result"
    }
   ],
   "source": [
    "schema.Pmt()"
   ]
  },
  {
   "cell_type": "code",
   "execution_count": 148,
   "metadata": {},
   "outputs": [
    {
     "data": {
      "image/svg+xml": [
       "<svg height=\"405pt\" viewBox=\"0.00 0.00 1190.50 405.00\" width=\"1191pt\" xmlns=\"http://www.w3.org/2000/svg\" xmlns:xlink=\"http://www.w3.org/1999/xlink\">\n",
       "<g class=\"graph\" id=\"graph0\" transform=\"scale(1 1) rotate(0) translate(4 401)\">\n",
       "<title>%3</title>\n",
       "<polygon fill=\"white\" points=\"-4,4 -4,-401 1186.5,-401 1186.5,4 -4,4\" stroke=\"none\"/>\n",
       "<!-- 0 -->\n",
       "<g class=\"node\" id=\"node1\"><title>0</title>\n",
       "<ellipse cx=\"99\" cy=\"-237.5\" fill=\"#ff8800\" fill-opacity=\"0.501961\" rx=\"2\" ry=\"2\" stroke=\"#ff8800\" stroke-opacity=\"0.501961\"/>\n",
       "<text fill=\"#ff8800\" font-family=\"arial\" font-size=\"1.00\" text-anchor=\"middle\" x=\"99\" y=\"-237.2\">0</text>\n",
       "</g>\n",
       "<!-- schema.Sample.ImagingRequest -->\n",
       "<g class=\"node\" id=\"node12\"><title>schema.Sample.ImagingRequest</title>\n",
       "<g id=\"a_node12\"><a xlink:title=\"→ schema.Sample\r",
       "imaging_request_number \r",
       "------------------------------\r",
       "→ [nullable] schema.User.proj(imager=&quot;username&quot;)\r",
       "imaging_request_date_submitted \r",
       "imaging_request_time_submitted \r",
       "imaging_date=null    \r",
       "imaging_progress     \r",
       "→ [nullable] schema.User.proj(processor=&quot;username&quot;)\r",
       "processing_progress  \r",
       "\">\n",
       "<polygon fill=\"none\" points=\"179,-184 19,-184 19,-165 179,-165 179,-184\" stroke=\"none\"/>\n",
       "<text font-family=\"arial\" font-size=\"10.00\" text-anchor=\"start\" text-decoration=\"underline\" x=\"27\" y=\"-173\">schema.Sample.ImagingRequest</text>\n",
       "</a>\n",
       "</g>\n",
       "</g>\n",
       "<!-- 0&#45;&gt;schema.Sample.ImagingRequest -->\n",
       "<g class=\"edge\" id=\"edge1\"><title>0-&gt;schema.Sample.ImagingRequest</title>\n",
       "<path d=\"M99,-235.441C99,-229.429 99,-199.323 99,-184.199\" fill=\"none\" stroke=\"#000000\" stroke-dasharray=\"5,2\" stroke-opacity=\"0.250980\" stroke-width=\"0.75\"/>\n",
       "</g>\n",
       "<!-- 1 -->\n",
       "<g class=\"node\" id=\"node2\"><title>1</title>\n",
       "<ellipse cx=\"136\" cy=\"-308.5\" fill=\"#ff8800\" fill-opacity=\"0.501961\" rx=\"2\" ry=\"2\" stroke=\"#ff8800\" stroke-opacity=\"0.501961\"/>\n",
       "<text fill=\"#ff8800\" font-family=\"arial\" font-size=\"1.00\" text-anchor=\"middle\" x=\"136\" y=\"-308.2\">1</text>\n",
       "</g>\n",
       "<!-- 1&#45;&gt;schema.Sample.ImagingRequest -->\n",
       "<g class=\"edge\" id=\"edge2\"><title>1-&gt;schema.Sample.ImagingRequest</title>\n",
       "<path d=\"M135.783,-306.249C134.395,-298.349 126.504,-254.592 116,-220 112.155,-207.338 106.476,-193.121 102.757,-184.239\" fill=\"none\" stroke=\"#000000\" stroke-dasharray=\"5,2\" stroke-opacity=\"0.250980\" stroke-width=\"0.75\"/>\n",
       "</g>\n",
       "<!-- schema.User -->\n",
       "<g class=\"node\" id=\"node3\"><title>schema.User</title>\n",
       "<g id=\"a_node3\"><a xlink:title=\"username             \r",
       "------------------------------\r",
       "princeton_email      \r",
       "\">\n",
       "<polygon fill=\"#000000\" fill-opacity=\"0.125490\" points=\"173,-397 99,-397 99,-362 173,-362 173,-397\" stroke=\"none\"/>\n",
       "<text font-family=\"arial\" font-size=\"10.00\" text-anchor=\"start\" text-decoration=\"underline\" x=\"107\" y=\"-378\">schema.User</text>\n",
       "</a>\n",
       "</g>\n",
       "</g>\n",
       "<!-- schema.User&#45;&gt;0 -->\n",
       "<g class=\"edge\" id=\"edge3\"><title>schema.User-&gt;0</title>\n",
       "<path d=\"M129.657,-361.634C125.955,-351.415 121.366,-338.065 118,-326 108.309,-291.262 100.578,-247.624 99.2141,-239.747\" fill=\"none\" stroke=\"#000000\" stroke-dasharray=\"5,2\" stroke-opacity=\"0.250980\" stroke-width=\"0.75\"/>\n",
       "</g>\n",
       "<!-- schema.User&#45;&gt;1 -->\n",
       "<g class=\"edge\" id=\"edge4\"><title>schema.User-&gt;1</title>\n",
       "<path d=\"M136,-361.797C136,-343.929 136,-317.29 136,-310.91\" fill=\"none\" stroke=\"#000000\" stroke-dasharray=\"5,2\" stroke-opacity=\"0.250980\" stroke-width=\"0.75\"/>\n",
       "</g>\n",
       "<!-- schema.Request -->\n",
       "<g class=\"node\" id=\"node4\"><title>schema.Request</title>\n",
       "<g id=\"a_node4\"><a xlink:title=\"→ schema.User\r",
       "request_name         \r",
       "------------------------------\r",
       "date_submitted       \r",
       "time_submitted       \r",
       "labname              \r",
       "correspondence_email=&quot;&quot; \r",
       "description          \r",
       "species              \r",
       "number_of_samples    \r",
       "sample_prefix        \r",
       "uniform_clearing     \r",
       "\">\n",
       "<polygon fill=\"#00ff00\" fill-opacity=\"0.188235\" points=\"422,-326 318,-326 318,-291 422,-291 422,-326\" stroke=\"#00ff00\" stroke-opacity=\"0.188235\"/>\n",
       "<text fill=\"darkgreen\" font-family=\"arial\" font-size=\"12.00\" text-anchor=\"start\" text-decoration=\"underline\" x=\"326\" y=\"-306.4\">schema.Request</text>\n",
       "</a>\n",
       "</g>\n",
       "</g>\n",
       "<!-- schema.User&#45;&gt;schema.Request -->\n",
       "<g class=\"edge\" id=\"edge5\"><title>schema.User-&gt;schema.Request</title>\n",
       "<path d=\"M173.078,-367.567C212.126,-356.053 273.924,-337.83 317.869,-324.872\" fill=\"none\" stroke=\"#000000\" stroke-opacity=\"0.250980\" stroke-width=\"0.75\"/>\n",
       "</g>\n",
       "<!-- schema.Sample -->\n",
       "<g class=\"node\" id=\"node5\"><title>schema.Sample</title>\n",
       "<g id=\"a_node5\"><a xlink:title=\"→ schema.Request\r",
       "sample_name          \r",
       "------------------------------\r",
       "perfusion_date=null  \r",
       "expected_handoff_date=null \r",
       "clearer=&quot;not yet assigned&quot; \r",
       "clearing_protocol    \r",
       "clearing_progress    \r",
       "antibody1=&quot;&quot;         \r",
       "antibody2=&quot;&quot;         \r",
       "notes_for_clearer=&quot;&quot; \r",
       "stitching_method     \r",
       "blend_type           \r",
       "notes_from_processing=&quot;&quot; \r",
       "\">\n",
       "<polygon fill=\"#00ff00\" fill-opacity=\"0.188235\" points=\"575.5,-255 474.5,-255 474.5,-220 575.5,-220 575.5,-255\" stroke=\"#00ff00\" stroke-opacity=\"0.188235\"/>\n",
       "<text fill=\"darkgreen\" font-family=\"arial\" font-size=\"12.00\" text-anchor=\"start\" text-decoration=\"underline\" x=\"482.5\" y=\"-235.4\">schema.Sample</text>\n",
       "</a>\n",
       "</g>\n",
       "</g>\n",
       "<!-- schema.Request&#45;&gt;schema.Sample -->\n",
       "<g class=\"edge\" id=\"edge6\"><title>schema.Request-&gt;schema.Sample</title>\n",
       "<path d=\"M407.126,-290.973C431.577,-280.088 463.465,-265.893 487.908,-255.012\" fill=\"none\" stroke=\"#000000\" stroke-opacity=\"0.250980\" stroke-width=\"0.75\"/>\n",
       "</g>\n",
       "<!-- schema.Sample.IdiscoAbbreviatedClearing -->\n",
       "<g class=\"node\" id=\"node6\"><title>schema.Sample.IdiscoAbbreviatedClearing</title>\n",
       "<g id=\"a_node6\"><a xlink:title=\"→ schema.Sample\r",
       "------------------------------\r",
       "exp_notes=&quot;&quot;         \r",
       "time_pbs_wash1=null  \r",
       "pbs_wash1_notes=&quot;&quot;   \r",
       "time_pbs_wash2=null  \r",
       "pbs_wash2_notes=&quot;&quot;   \r",
       "time_pbs_wash3=null  \r",
       "pbs_wash3_notes=&quot;&quot;   \r",
       "time_dehydr_methanol_20percent_wash1=null \r",
       "dehydr_methanol_20percent_wash1_notes=&quot;&quot; \r",
       "time_dehydr_methanol_40percent_wash1=null \r",
       "dehydr_methanol_40percent_wash1_notes=&quot;&quot; \r",
       "time_dehydr_methanol_60percent_wash1=null \r",
       "dehydr_methanol_60percent_wash1_notes=&quot;&quot; \r",
       "time_dehydr_methanol_80percent_wash1=null \r",
       "dehydr_methanol_80percent_wash1_notes=&quot;&quot; \r",
       "time_dehydr_methanol_100percent_wash1=null \r",
       "dehydr_methanol_100percent_wash1_notes=&quot;&quot; \r",
       "time_dehydr_methanol_100percent_wash2=null \r",
       "dehydr_methanol_100percent_wash2_notes=&quot;&quot; \r",
       "time_dehydr_dcm_66percent_methanol_33percent=null \r",
       "dehydr_dcm_66percent_methanol_33percent_notes=&quot;&quot; \r",
       "time_dehydr_dcm_wash1=null \r",
       "dehydr_dcm_wash1_notes=&quot;&quot; \r",
       "time_dehydr_dcm_wash2=null \r",
       "dehydr_dcm_wash2_notes=&quot;&quot; \r",
       "time_dehydr_dbe_wash1=null \r",
       "dehydr_dbe_wash1_notes=&quot;&quot; \r",
       "time_dehydr_dbe_wash2=null \r",
       "dehydr_dbe_wash2_notes=&quot;&quot; \r",
       "clearing_notes=&quot;&quot;    \r",
       "\">\n",
       "<polygon fill=\"none\" points=\"398.5,-184 197.5,-184 197.5,-165 398.5,-165 398.5,-184\" stroke=\"none\"/>\n",
       "<text font-family=\"arial\" font-size=\"10.00\" text-anchor=\"middle\" x=\"298\" y=\"-172\">schema.Sample.IdiscoAbbreviatedClearing</text>\n",
       "</a>\n",
       "</g>\n",
       "</g>\n",
       "<!-- schema.Sample&#45;&gt;schema.Sample.IdiscoAbbreviatedClearing -->\n",
       "<g class=\"edge\" id=\"edge7\"><title>schema.Sample-&gt;schema.Sample.IdiscoAbbreviatedClearing</title>\n",
       "<path d=\"M474.339,-222.886C430.173,-211.018 367.471,-194.168 329.953,-184.087\" fill=\"none\" stroke=\"#000000\" stroke-opacity=\"0.250980\" stroke-width=\"2\"/>\n",
       "</g>\n",
       "<!-- schema.Sample.IdiscoAbbreviatedRatClearing -->\n",
       "<g class=\"node\" id=\"node7\"><title>schema.Sample.IdiscoAbbreviatedRatClearing</title>\n",
       "<g id=\"a_node7\"><a xlink:title=\"→ schema.Sample\r",
       "------------------------------\r",
       "exp_notes=&quot;&quot;         \r",
       "time_pbs_wash1=null  \r",
       "pbs_wash1_notes=&quot;&quot;   \r",
       "time_pbs_wash2=null  \r",
       "pbs_wash2_notes=&quot;&quot;   \r",
       "time_pbs_wash3=null  \r",
       "pbs_wash3_notes=&quot;&quot;   \r",
       "time_dehydr_methanol_20percent_wash1=null \r",
       "dehydr_methanol_20percent_wash1_notes=&quot;&quot; \r",
       "time_dehydr_methanol_20percent_wash2=null \r",
       "dehydr_methanol_20percent_wash2_notes=&quot;&quot; \r",
       "time_dehydr_methanol_40percent_wash1=null \r",
       "dehydr_methanol_40percent_wash1_notes=&quot;&quot; \r",
       "time_dehydr_methanol_40percent_wash2=null \r",
       "dehydr_methanol_40percent_wash2_notes=&quot;&quot; \r",
       "time_dehydr_methanol_60percent_wash1=null \r",
       "dehydr_methanol_60percent_wash1_notes=&quot;&quot; \r",
       "time_dehydr_methanol_80percent_wash1=null \r",
       "dehydr_methanol_80percent_wash1_notes=&quot;&quot; \r",
       "time_dehydr_methanol_80percent_wash2=null \r",
       "dehydr_methanol_80percent_wash2_notes=&quot;&quot; \r",
       "time_dehydr_methanol_100percent_wash1=null \r",
       "dehydr_methanol_100percent_wash1_notes=&quot;&quot; \r",
       "time_dehydr_methanol_100percent_wash2=null \r",
       "dehydr_methanol_100percent_wash2_notes=&quot;&quot; \r",
       "time_dehydr_peroxide_wash1=null \r",
       "dehydr_peroxide_wash1_notes=&quot;&quot; \r",
       "time_dehydr_methanol_100percent_wash3=null \r",
       "dehydr_methanol_100percent_wash3_notes=&quot;&quot; \r",
       "time_dehydr_methanol_100percent_wash4=null \r",
       "dehydr_methanol_100percent_wash4_notes=&quot;&quot; \r",
       "time_dehydr_methanol_100percent_wash5=null \r",
       "dehydr_methanol_100percent_wash5_notes=&quot;&quot; \r",
       "time_dehydr_dcm_66percent_methanol_33percent=null \r",
       "dehydr_dcm_66percent_methanol_33percent_notes=&quot;&quot; \r",
       "time_dehydr_dcm_wash1=null \r",
       "dehydr_dcm_wash1_notes=&quot;&quot; \r",
       "time_dehydr_dcm_wash2=null \r",
       "dehydr_dcm_wash2_notes=&quot;&quot; \r",
       "time_dehydr_dbe_wash1=null \r",
       "dehydr_dbe_wash1_notes=&quot;&quot; \r",
       "time_dehydr_dbe_wash2=null \r",
       "dehydr_dbe_wash2_notes=&quot;&quot; \r",
       "clearing_notes=&quot;&quot;    \r",
       "\">\n",
       "<polygon fill=\"none\" points=\"633,-184 417,-184 417,-165 633,-165 633,-184\" stroke=\"none\"/>\n",
       "<text font-family=\"arial\" font-size=\"10.00\" text-anchor=\"middle\" x=\"525\" y=\"-172\">schema.Sample.IdiscoAbbreviatedRatClearing</text>\n",
       "</a>\n",
       "</g>\n",
       "</g>\n",
       "<!-- schema.Sample&#45;&gt;schema.Sample.IdiscoAbbreviatedRatClearing -->\n",
       "<g class=\"edge\" id=\"edge8\"><title>schema.Sample-&gt;schema.Sample.IdiscoAbbreviatedRatClearing</title>\n",
       "<path d=\"M525,-219.831C525,-208.261 525,-193.322 525,-184.078\" fill=\"none\" stroke=\"#000000\" stroke-opacity=\"0.250980\" stroke-width=\"2\"/>\n",
       "</g>\n",
       "<!-- schema.Sample.IdiscoEdUClearing -->\n",
       "<g class=\"node\" id=\"node8\"><title>schema.Sample.IdiscoEdUClearing</title>\n",
       "<g id=\"a_node8\"><a xlink:title=\"→ schema.Sample\r",
       "------------------------------\r",
       "exp_notes=&quot;&quot;         \r",
       "time_dehydr_pbs_wash1=null \r",
       "dehydr_pbs_wash1_notes=&quot;&quot; \r",
       "time_dehydr_pbs_wash2=null \r",
       "dehydr_pbs_wash2_notes=&quot;&quot; \r",
       "time_dehydr_pbs_wash3=null \r",
       "dehydr_pbs_wash3_notes=&quot;&quot; \r",
       "time_dehydr_methanol_20percent_wash1=null \r",
       "dehydr_methanol_20percent_wash1_notes=&quot;&quot; \r",
       "time_dehydr_methanol_40percent_wash1=null \r",
       "dehydr_methanol_40percent_wash1_notes=&quot;&quot; \r",
       "time_dehydr_methanol_60percent_wash1=null \r",
       "dehydr_methanol_60percent_wash1_notes=&quot;&quot; \r",
       "time_dehydr_methanol_80percent_wash1=null \r",
       "dehydr_methanol_80percent_wash1_notes=&quot;&quot; \r",
       "time_dehydr_methanol_100percent_wash1=null \r",
       "dehydr_methanol_100percent_wash1_notes=&quot;&quot; \r",
       "time_dehydr_methanol_100percent_wash2=null \r",
       "dehydr_methanol_100percent_wash2_notes=&quot;&quot; \r",
       "time_dehydr_peroxide_wash1=null \r",
       "dehydr_peroxide_wash1_notes=&quot;&quot; \r",
       "time_rehydr_methanol_100percent_wash1=null \r",
       "rehydr_methanol_100percent_wash1_notes=&quot;&quot; \r",
       "time_rehydr_methanol_80percent_wash1=null \r",
       "rehydr_methanol_80percent_wash1_notes=&quot;&quot; \r",
       "time_rehydr_methanol_60percent_wash1=null \r",
       "rehydr_methanol_60percent_wash1_notes=&quot;&quot; \r",
       "time_rehydr_methanol_40percent_wash1=null \r",
       "rehydr_methanol_40percent_wash1_notes=&quot;&quot; \r",
       "time_rehydr_methanol_20percent_wash1=null \r",
       "rehydr_methanol_20percent_wash1_notes=&quot;&quot; \r",
       "time_rehydr_pbs_wash1=null \r",
       "rehydr_pbs_wash1_notes=&quot;&quot; \r",
       "time_rehydr_sodium_azide_wash1=null \r",
       "rehydr_sodium_azide_wash1_notes=&quot;&quot; \r",
       "time_rehydr_sodium_azide_wash2=null \r",
       "rehydr_sodium_azide_wash2_notes=&quot;&quot; \r",
       "time_rehydr_glycine_wash1=null \r",
       "rehydr_glycine_wash1_notes=&quot;&quot; \r",
       "time_wash1_start_roomtemp=null \r",
       "wash1_start_roomtemp_notes=&quot;&quot; \r",
       "time_wash1_ptwh_wash1=null \r",
       "wash1_ptwh_wash1_notes=&quot;&quot; \r",
       "time_wash1_ptwh_wash2=null \r",
       "wash1_ptwh_wash2_notes=&quot;&quot; \r",
       "time_wash1_ptwh_wash3=null \r",
       "wash1_ptwh_wash3_notes=&quot;&quot; \r",
       "time_wash1_ptwh_wash4=null \r",
       "wash1_ptwh_wash4_notes=&quot;&quot; \r",
       "time_wash1_ptwh_wash5=null \r",
       "wash1_ptwh_wash5_notes=&quot;&quot; \r",
       "time_edu_click_chemistry=null \r",
       "edu_click_chemistry_notes=&quot;&quot; \r",
       "time_wash2_ptwh_wash1=null \r",
       "wash2_ptwh_wash1_notes=&quot;&quot; \r",
       "time_wash2_ptwh_wash2=null \r",
       "wash2_ptwh_wash2_notes=&quot;&quot; \r",
       "time_wash2_ptwh_wash3=null \r",
       "wash2_ptwh_wash3_notes=&quot;&quot; \r",
       "time_wash2_ptwh_wash4=null \r",
       "wash2_ptwh_wash4_notes=&quot;&quot; \r",
       "time_wash2_ptwh_wash5=null \r",
       "wash2_ptwh_wash5_notes=&quot;&quot; \r",
       "time_clearing_methanol_20percent_wash1=null \r",
       "clearing_methanol_20percent_wash1_notes=&quot;&quot; \r",
       "time_clearing_methanol_40percent_wash1=null \r",
       "clearing_methanol_40percent_wash1_notes=&quot;&quot; \r",
       "time_clearing_methanol_60percent_wash1=null \r",
       "clearing_methanol_60percent_wash1_notes=&quot;&quot; \r",
       "time_clearing_methanol_80percent_wash1=null \r",
       "clearing_methanol_80percent_wash1_notes=&quot;&quot; \r",
       "time_clearing_methanol_100percent_wash1=null \r",
       "clearing_methanol_100percent_wash1_notes=&quot;&quot; \r",
       "time_clearing_methanol_100percent_wash2=null \r",
       "clearing_methanol_100percent_wash2_notes=&quot;&quot; \r",
       "time_clearing_dcm_66percent_methanol_33percent=null \r",
       "clearing_dcm_66percent_methanol_33percent_notes=&quot;&quot; \r",
       "time_clearing_dcm_wash1=null \r",
       "clearing_dcm_wash1_notes=&quot;&quot; \r",
       "time_clearing_dcm_wash2=null \r",
       "clearing_dcm_wash2_notes=&quot;&quot; \r",
       "time_clearing_dbe=null \r",
       "clearing_dbe_notes=&quot;&quot; \r",
       "time_clearing_new_tubes=null \r",
       "clearing_new_tubes_notes=&quot;&quot; \r",
       "clearing_notes=&quot;&quot;    \r",
       "\">\n",
       "<polygon fill=\"none\" points=\"821,-184 651,-184 651,-165 821,-165 821,-184\" stroke=\"none\"/>\n",
       "<text font-family=\"arial\" font-size=\"10.00\" text-anchor=\"middle\" x=\"736\" y=\"-172\">schema.Sample.IdiscoEdUClearing</text>\n",
       "</a>\n",
       "</g>\n",
       "</g>\n",
       "<!-- schema.Sample&#45;&gt;schema.Sample.IdiscoEdUClearing -->\n",
       "<g class=\"edge\" id=\"edge9\"><title>schema.Sample-&gt;schema.Sample.IdiscoEdUClearing</title>\n",
       "<path d=\"M575.54,-221.889C616.383,-210.081 672.472,-193.866 706.372,-184.065\" fill=\"none\" stroke=\"#000000\" stroke-opacity=\"0.250980\" stroke-width=\"2\"/>\n",
       "</g>\n",
       "<!-- schema.Sample.IdiscoPlusClearing -->\n",
       "<g class=\"node\" id=\"node9\"><title>schema.Sample.IdiscoPlusClearing</title>\n",
       "<g id=\"a_node9\"><a xlink:title=\"→ schema.Sample\r",
       "------------------------------\r",
       "exp_notes=&quot;&quot;         \r",
       "time_dehydr_pbs_wash1=null \r",
       "dehydr_pbs_wash1_notes=&quot;&quot; \r",
       "time_dehydr_pbs_wash2=null \r",
       "dehydr_pbs_wash2_notes=&quot;&quot; \r",
       "time_dehydr_pbs_wash3=null \r",
       "dehydr_pbs_wash3_notes=&quot;&quot; \r",
       "time_dehydr_methanol_20percent_wash1=null \r",
       "dehydr_methanol_20percent_wash1_notes=&quot;&quot; \r",
       "time_dehydr_methanol_40percent_wash1=null \r",
       "dehydr_methanol_40percent_wash1_notes=&quot;&quot; \r",
       "time_dehydr_methanol_60percent_wash1=null \r",
       "dehydr_methanol_60percent_wash1_notes=&quot;&quot; \r",
       "time_dehydr_methanol_80percent_wash1=null \r",
       "dehydr_methanol_80percent_wash1_notes=&quot;&quot; \r",
       "time_dehydr_methanol_100percent_wash1=null \r",
       "dehydr_methanol_100percent_wash1_notes=&quot;&quot; \r",
       "time_dehydr_methanol_100percent_wash2=null \r",
       "dehydr_methanol_100percent_wash2_notes=&quot;&quot; \r",
       "time_dehydr_peroxide_wash1=null \r",
       "dehydr_peroxide_wash1_notes=&quot;&quot; \r",
       "time_rehydr_methanol_100percent_wash1=null \r",
       "rehydr_methanol_100percent_wash1_notes=&quot;&quot; \r",
       "time_rehydr_methanol_80percent_wash1=null \r",
       "rehydr_methanol_80percent_wash1_notes=&quot;&quot; \r",
       "time_rehydr_methanol_60percent_wash1=null \r",
       "rehydr_methanol_60percent_wash1_notes=&quot;&quot; \r",
       "time_rehydr_methanol_40percent_wash1=null \r",
       "rehydr_methanol_40percent_wash1_notes=&quot;&quot; \r",
       "time_rehydr_methanol_20percent_wash1=null \r",
       "rehydr_methanol_20percent_wash1_notes=&quot;&quot; \r",
       "time_rehydr_pbs_wash1=null \r",
       "rehydr_pbs_wash1_notes=&quot;&quot; \r",
       "time_rehydr_sodium_azide_wash1=null \r",
       "rehydr_sodium_azide_wash1_notes=&quot;&quot; \r",
       "time_rehydr_sodium_azide_wash2=null \r",
       "rehydr_sodium_azide_wash2_notes=&quot;&quot; \r",
       "time_rehydr_glycine_wash1=null \r",
       "rehydr_glycine_wash1_notes=&quot;&quot; \r",
       "time_blocking_start_roomtemp=null \r",
       "blocking_start_roomtemp_notes=&quot;&quot; \r",
       "time_blocking_donkey_serum=null \r",
       "blocking_donkey_serum_notes=&quot;&quot; \r",
       "time_antibody1_start_roomtemp=null \r",
       "antibody1_start_roomtemp_notes=&quot;&quot; \r",
       "time_antibody1_ptwh_wash1=null \r",
       "antibody1_ptwh_wash1_notes=&quot;&quot; \r",
       "time_antibody1_ptwh_wash2=null \r",
       "antibody1_ptwh_wash2_notes=&quot;&quot; \r",
       "time_antibody1_added=null \r",
       "antibody1_added_notes=&quot;&quot; \r",
       "time_wash1_start_roomtemp=null \r",
       "wash1_start_roomtemp_notes=&quot;&quot; \r",
       "time_wash1_ptwh_wash1=null \r",
       "wash1_ptwh_wash1_notes=&quot;&quot; \r",
       "time_wash1_ptwh_wash2=null \r",
       "wash1_ptwh_wash2_notes=&quot;&quot; \r",
       "time_wash1_ptwh_wash3=null \r",
       "wash1_ptwh_wash3_notes=&quot;&quot; \r",
       "time_wash1_ptwh_wash4=null \r",
       "wash1_ptwh_wash4_notes=&quot;&quot; \r",
       "time_wash1_ptwh_wash5=null \r",
       "wash1_ptwh_wash5_notes=&quot;&quot; \r",
       "time_antibody2_added=null \r",
       "antibody2_added_notes=&quot;&quot; \r",
       "time_wash2_start_roomtemp=null \r",
       "wash2_start_roomtemp_notes=&quot;&quot; \r",
       "time_wash2_ptwh_wash1=null \r",
       "wash2_ptwh_wash1_notes=&quot;&quot; \r",
       "time_wash2_ptwh_wash2=null \r",
       "wash2_ptwh_wash2_notes=&quot;&quot; \r",
       "time_wash2_ptwh_wash3=null \r",
       "wash2_ptwh_wash3_notes=&quot;&quot; \r",
       "time_wash2_ptwh_wash4=null \r",
       "wash2_ptwh_wash4_notes=&quot;&quot; \r",
       "time_wash2_ptwh_wash5=null \r",
       "wash2_ptwh_wash5_notes=&quot;&quot; \r",
       "time_clearing_methanol_20percent_wash1=null \r",
       "clearing_methanol_20percent_wash1_notes=&quot;&quot; \r",
       "time_clearing_methanol_40percent_wash1=null \r",
       "clearing_methanol_40percent_wash1_notes=&quot;&quot; \r",
       "time_clearing_methanol_60percent_wash1=null \r",
       "clearing_methanol_60percent_wash1_notes=&quot;&quot; \r",
       "time_clearing_methanol_80percent_wash1=null \r",
       "clearing_methanol_80percent_wash1_notes=&quot;&quot; \r",
       "time_clearing_methanol_100percent_wash1=null \r",
       "clearing_methanol_100percent_wash1_notes=&quot;&quot; \r",
       "time_clearing_methanol_100percent_wash2=null \r",
       "clearing_methanol_100percent_wash2_notes=&quot;&quot; \r",
       "time_clearing_dcm_66percent_methanol_33percent=null \r",
       "clearing_dcm_66percent_methanol_33percent_notes=&quot;&quot; \r",
       "time_clearing_dcm_wash1=null \r",
       "clearing_dcm_wash1_notes=&quot;&quot; \r",
       "time_clearing_dcm_wash2=null \r",
       "clearing_dcm_wash2_notes=&quot;&quot; \r",
       "time_clearing_dbe=null \r",
       "clearing_dbe_notes=&quot;&quot; \r",
       "time_clearing_new_tubes=null \r",
       "clearing_new_tubes_notes=&quot;&quot; \r",
       "clearing_notes=&quot;&quot;    \r",
       "\">\n",
       "<polygon fill=\"none\" points=\"1009,-184 839,-184 839,-165 1009,-165 1009,-184\" stroke=\"none\"/>\n",
       "<text font-family=\"arial\" font-size=\"10.00\" text-anchor=\"middle\" x=\"924\" y=\"-172\">schema.Sample.IdiscoPlusClearing</text>\n",
       "</a>\n",
       "</g>\n",
       "</g>\n",
       "<!-- schema.Sample&#45;&gt;schema.Sample.IdiscoPlusClearing -->\n",
       "<g class=\"edge\" id=\"edge10\"><title>schema.Sample-&gt;schema.Sample.IdiscoPlusClearing</title>\n",
       "<path d=\"M575.534,-228.774C650.396,-217.329 790.277,-195.944 868.11,-184.045\" fill=\"none\" stroke=\"#000000\" stroke-opacity=\"0.250980\" stroke-width=\"2\"/>\n",
       "</g>\n",
       "<!-- schema.Sample&#45;&gt;schema.Sample.ImagingRequest -->\n",
       "<g class=\"edge\" id=\"edge11\"><title>schema.Sample-&gt;schema.Sample.ImagingRequest</title>\n",
       "<path d=\"M474.459,-229.263C395.447,-217.949 243.005,-196.12 158.701,-184.049\" fill=\"none\" stroke=\"#000000\" stroke-opacity=\"0.250980\" stroke-width=\"0.75\"/>\n",
       "</g>\n",
       "<!-- schema.Sample.UdiscoClearing -->\n",
       "<g class=\"node\" id=\"node14\"><title>schema.Sample.UdiscoClearing</title>\n",
       "<g id=\"a_node14\"><a xlink:title=\"→ schema.Sample\r",
       "------------------------------\r",
       "exp_notes=&quot;&quot;         \r",
       "time_dehydr_pbs_wash1=null \r",
       "dehydr_pbs_wash1_notes=&quot;&quot; \r",
       "time_dehydr_butanol_30percent=null \r",
       "dehydr_butanol_30percent_notes=&quot;&quot; \r",
       "time_dehydr_butanol_50percent=null \r",
       "dehydr_butanol_50percent_notes=&quot;&quot; \r",
       "time_dehydr_butanol_70percent=null \r",
       "dehydr_butanol_70percent_notes=&quot;&quot; \r",
       "time_dehydr_butanol_80percent=null \r",
       "dehydr_butanol_80percent_notes=&quot;&quot; \r",
       "time_dehydr_butanol_90percent=null \r",
       "dehydr_butanol_90percent_notes=&quot;&quot; \r",
       "time_dehydr_butanol_96percent=null \r",
       "dehydr_butanol_96percent_notes=&quot;&quot; \r",
       "time_dehydr_butanol_100percent=null \r",
       "dehydr_butanol_100percent_notes=&quot;&quot; \r",
       "time_clearing_dcm_wash1=null \r",
       "clearing_dcm_wash1_notes=&quot;&quot; \r",
       "time_clearing_babb_wash1=null \r",
       "clearing_babb_wash1_notes=&quot;&quot; \r",
       "clearing_notes=&quot;&quot;    \r",
       "\">\n",
       "<polygon fill=\"none\" points=\"1182.5,-184 1027.5,-184 1027.5,-165 1182.5,-165 1182.5,-184\" stroke=\"none\"/>\n",
       "<text font-family=\"arial\" font-size=\"10.00\" text-anchor=\"middle\" x=\"1105\" y=\"-172\">schema.Sample.UdiscoClearing</text>\n",
       "</a>\n",
       "</g>\n",
       "</g>\n",
       "<!-- schema.Sample&#45;&gt;schema.Sample.UdiscoClearing -->\n",
       "<g class=\"edge\" id=\"edge12\"><title>schema.Sample-&gt;schema.Sample.UdiscoClearing</title>\n",
       "<path d=\"M575.709,-231.167C677.284,-220.484 906.277,-196.4 1027.05,-183.698\" fill=\"none\" stroke=\"#000000\" stroke-opacity=\"0.250980\" stroke-width=\"2\"/>\n",
       "</g>\n",
       "<!-- schema.Sample.ImageResolutionRequest -->\n",
       "<g class=\"node\" id=\"node10\"><title>schema.Sample.ImageResolutionRequest</title>\n",
       "<g id=\"a_node10\"><a xlink:title=\"→ schema.Sample.ImagingRequest\r",
       "image_resolution     \r",
       "------------------------------\r",
       "atlas_name           \r",
       "notes_for_imager=&quot;&quot;  \r",
       "notes_from_imaging=&quot;&quot; \r",
       "notes_for_processor=&quot;&quot; \r",
       "\">\n",
       "<polygon fill=\"none\" points=\"198,-129 0,-129 0,-110 198,-110 198,-129\" stroke=\"none\"/>\n",
       "<text font-family=\"arial\" font-size=\"10.00\" text-anchor=\"start\" text-decoration=\"underline\" x=\"8\" y=\"-118\">schema.Sample.ImageResolutionRequest</text>\n",
       "</a>\n",
       "</g>\n",
       "</g>\n",
       "<!-- schema.Sample.ImagingChannel -->\n",
       "<g class=\"node\" id=\"node11\"><title>schema.Sample.ImagingChannel</title>\n",
       "<g id=\"a_node11\"><a xlink:title=\"→ schema.Sample.ImageResolutionRequest\r",
       "channel_name         \r",
       "------------------------------\r",
       "imaging_date=null    \r",
       "registration=0       \r",
       "injection_detection=0 \r",
       "probe_detection=0    \r",
       "cell_detection=0     \r",
       "generic_imaging=0    \r",
       "pixel_type=null      \r",
       "tiling_scheme=&quot;1x1&quot;  \r",
       "tiling_overlap=0     \r",
       "z_step=10            \r",
       "number_of_z_planes=null \r",
       "rawdata_subfolder=null \r",
       "imspector_channel_index=null \r",
       "\">\n",
       "<polygon fill=\"none\" points=\"178.5,-74 19.5,-74 19.5,-55 178.5,-55 178.5,-74\" stroke=\"none\"/>\n",
       "<text font-family=\"arial\" font-size=\"10.00\" text-anchor=\"start\" text-decoration=\"underline\" x=\"27.5\" y=\"-63\">schema.Sample.ImagingChannel</text>\n",
       "</a>\n",
       "</g>\n",
       "</g>\n",
       "<!-- schema.Sample.ImageResolutionRequest&#45;&gt;schema.Sample.ImagingChannel -->\n",
       "<g class=\"edge\" id=\"edge13\"><title>schema.Sample.ImageResolutionRequest-&gt;schema.Sample.ImagingChannel</title>\n",
       "<path d=\"M99,-109.748C99,-99.8693 99,-83.9003 99,-74.089\" fill=\"none\" stroke=\"#000000\" stroke-opacity=\"0.250980\" stroke-width=\"0.75\"/>\n",
       "</g>\n",
       "<!-- schema.Sample.ProcessingChannel -->\n",
       "<g class=\"node\" id=\"node13\"><title>schema.Sample.ProcessingChannel</title>\n",
       "<g id=\"a_node13\"><a xlink:title=\"→ schema.Sample.ImagingChannel\r",
       "------------------------------\r",
       "lightsheet_channel_str \r",
       "imspector_version=&quot;&quot; \r",
       "datetime_processing_started \r",
       "numerical_aperture=null \r",
       "intensity_correction=1 \r",
       "metadata_xml_string  \r",
       "\">\n",
       "<polygon fill=\"none\" points=\"186,-19 12,-19 12,-0 186,-0 186,-19\" stroke=\"none\"/>\n",
       "<text font-family=\"arial\" font-size=\"10.00\" text-anchor=\"middle\" x=\"99\" y=\"-7\">schema.Sample.ProcessingChannel</text>\n",
       "</a>\n",
       "</g>\n",
       "</g>\n",
       "<!-- schema.Sample.ImagingChannel&#45;&gt;schema.Sample.ProcessingChannel -->\n",
       "<g class=\"edge\" id=\"edge14\"><title>schema.Sample.ImagingChannel-&gt;schema.Sample.ProcessingChannel</title>\n",
       "<path d=\"M99,-54.7481C99,-44.8693 99,-28.9003 99,-19.089\" fill=\"none\" stroke=\"#000000\" stroke-opacity=\"0.250980\" stroke-width=\"2\"/>\n",
       "</g>\n",
       "<!-- schema.Sample.ImagingRequest&#45;&gt;schema.Sample.ImageResolutionRequest -->\n",
       "<g class=\"edge\" id=\"edge15\"><title>schema.Sample.ImagingRequest-&gt;schema.Sample.ImageResolutionRequest</title>\n",
       "<path d=\"M99,-164.748C99,-154.869 99,-138.9 99,-129.089\" fill=\"none\" stroke=\"#000000\" stroke-opacity=\"0.250980\" stroke-width=\"0.75\"/>\n",
       "</g>\n",
       "</g>\n",
       "</svg>"
      ],
      "text/plain": [
       "<datajoint.diagram.Diagram at 0x7f6fd6d32860>"
      ]
     },
     "execution_count": 148,
     "metadata": {},
     "output_type": "execute_result"
    }
   ],
   "source": [
    "dj.ERD(schema)"
   ]
  },
  {
   "cell_type": "code",
   "execution_count": 151,
   "metadata": {},
   "outputs": [
    {
     "data": {
      "text/html": [
       "\n",
       "        \n",
       "        <style type=\"text/css\">\n",
       "            .Relation{\n",
       "                border-collapse:collapse;\n",
       "            }\n",
       "            .Relation th{\n",
       "                background: #A0A0A0; color: #ffffff; padding:4px; border:#f0e0e0 1px solid;\n",
       "                font-weight: normal; font-family: monospace; font-size: 100%;\n",
       "            }\n",
       "            .Relation td{\n",
       "                padding:4px; border:#f0e0e0 1px solid; font-size:100%;\n",
       "            }\n",
       "            .Relation tr:nth-child(odd){\n",
       "                background: #ffffff;\n",
       "            }\n",
       "            .Relation tr:nth-child(even){\n",
       "                background: #f3f1ff;\n",
       "            }\n",
       "            /* Tooltip container */\n",
       "            .djtooltip {\n",
       "            }\n",
       "            /* Tooltip text */\n",
       "            .djtooltip .djtooltiptext {\n",
       "                visibility: hidden;\n",
       "                width: 120px;\n",
       "                background-color: black;\n",
       "                color: #fff;\n",
       "                text-align: center;\n",
       "                padding: 5px 0;\n",
       "                border-radius: 6px;\n",
       "                /* Position the tooltip text - see examples below! */\n",
       "                position: absolute;\n",
       "                z-index: 1;\n",
       "            }\n",
       "            #primary {\n",
       "                font-weight: bold;\n",
       "                color: black;\n",
       "            }\n",
       "\n",
       "            #nonprimary {\n",
       "                font-weight: normal;\n",
       "                color: white;\n",
       "            }\n",
       "\n",
       "            /* Show the tooltip text when you mouse over the tooltip container */\n",
       "            .djtooltip:hover .djtooltiptext {\n",
       "                visibility: visible;\n",
       "            }\n",
       "        </style>\n",
       "        \n",
       "        <b>The highest level table for handling user requests to the Core Facility</b>\n",
       "            <div style=\"max-height:1000px;max-width:1500px;overflow:auto;\">\n",
       "            <table border=\"1\" class=\"Relation\">\n",
       "                <thead> <tr style=\"text-align: right;\"> <th> <div class=\"djtooltip\">\n",
       "                                <p id=\"primary\">username</p>\n",
       "                                <span class=\"djtooltiptext\">user in the lab</span>\n",
       "                            </div></th><th><div class=\"djtooltip\">\n",
       "                                <p id=\"primary\">request_name</p>\n",
       "                                <span class=\"djtooltiptext\"></span>\n",
       "                            </div></th><th><div class=\"djtooltip\">\n",
       "                                <p id=\"nonprimary\">date_submitted</p>\n",
       "                                <span class=\"djtooltiptext\">The date it was submitted as a request</span>\n",
       "                            </div></th><th><div class=\"djtooltip\">\n",
       "                                <p id=\"nonprimary\">time_submitted</p>\n",
       "                                <span class=\"djtooltiptext\">The time it was submitted as a request</span>\n",
       "                            </div></th><th><div class=\"djtooltip\">\n",
       "                                <p id=\"nonprimary\">labname</p>\n",
       "                                <span class=\"djtooltiptext\"></span>\n",
       "                            </div></th><th><div class=\"djtooltip\">\n",
       "                                <p id=\"nonprimary\">correspondence_email</p>\n",
       "                                <span class=\"djtooltiptext\"></span>\n",
       "                            </div></th><th><div class=\"djtooltip\">\n",
       "                                <p id=\"nonprimary\">description</p>\n",
       "                                <span class=\"djtooltiptext\"></span>\n",
       "                            </div></th><th><div class=\"djtooltip\">\n",
       "                                <p id=\"nonprimary\">species</p>\n",
       "                                <span class=\"djtooltiptext\"></span>\n",
       "                            </div></th><th><div class=\"djtooltip\">\n",
       "                                <p id=\"nonprimary\">number_of_samples</p>\n",
       "                                <span class=\"djtooltiptext\"></span>\n",
       "                            </div></th><th><div class=\"djtooltip\">\n",
       "                                <p id=\"nonprimary\">sample_prefix</p>\n",
       "                                <span class=\"djtooltiptext\"></span>\n",
       "                            </div></th><th><div class=\"djtooltip\">\n",
       "                                <p id=\"nonprimary\">uniform_clearing</p>\n",
       "                                <span class=\"djtooltiptext\"></span>\n",
       "                            </div> </th> </tr> </thead>\n",
       "                <tbody> <tr> <td>ahoag</td>\n",
       "<td>test</td>\n",
       "<td>2019-12-05</td>\n",
       "<td>12:56:06</td>\n",
       "<td>braincogs</td>\n",
       "<td>ahoag@princeton.edu</td>\n",
       "<td>test</td>\n",
       "<td>mouse</td>\n",
       "<td>1</td>\n",
       "<td>sample</td>\n",
       "<td>1</td> </tr> </tbody>\n",
       "            </table>\n",
       "            \n",
       "            <p>Total: 1</p></div>\n",
       "            "
      ],
      "text/plain": [
       "*username    *request_name  date_submitted time_submitted labname       correspondence description    species     number_of_samp sample_prefix  uniform_cleari\n",
       "+----------+ +------------+ +------------+ +------------+ +-----------+ +------------+ +------------+ +---------+ +------------+ +------------+ +------------+\n",
       "ahoag        test           2019-12-05     12:56:06       braincogs     ahoag@princeto test           mouse       1              sample         1             \n",
       " (Total: 1)"
      ]
     },
     "execution_count": 151,
     "metadata": {},
     "output_type": "execute_result"
    }
   ],
   "source": [
    "schema.Request()"
   ]
  },
  {
   "cell_type": "code",
   "execution_count": 183,
   "metadata": {},
   "outputs": [
    {
     "data": {
      "text/html": [
       "\n",
       "        \n",
       "        <style type=\"text/css\">\n",
       "            .Relation{\n",
       "                border-collapse:collapse;\n",
       "            }\n",
       "            .Relation th{\n",
       "                background: #A0A0A0; color: #ffffff; padding:4px; border:#f0e0e0 1px solid;\n",
       "                font-weight: normal; font-family: monospace; font-size: 100%;\n",
       "            }\n",
       "            .Relation td{\n",
       "                padding:4px; border:#f0e0e0 1px solid; font-size:100%;\n",
       "            }\n",
       "            .Relation tr:nth-child(odd){\n",
       "                background: #ffffff;\n",
       "            }\n",
       "            .Relation tr:nth-child(even){\n",
       "                background: #f3f1ff;\n",
       "            }\n",
       "            /* Tooltip container */\n",
       "            .djtooltip {\n",
       "            }\n",
       "            /* Tooltip text */\n",
       "            .djtooltip .djtooltiptext {\n",
       "                visibility: hidden;\n",
       "                width: 120px;\n",
       "                background-color: black;\n",
       "                color: #fff;\n",
       "                text-align: center;\n",
       "                padding: 5px 0;\n",
       "                border-radius: 6px;\n",
       "                /* Position the tooltip text - see examples below! */\n",
       "                position: absolute;\n",
       "                z-index: 1;\n",
       "            }\n",
       "            #primary {\n",
       "                font-weight: bold;\n",
       "                color: black;\n",
       "            }\n",
       "\n",
       "            #nonprimary {\n",
       "                font-weight: normal;\n",
       "                color: white;\n",
       "            }\n",
       "\n",
       "            /* Show the tooltip text when you mouse over the tooltip container */\n",
       "            .djtooltip:hover .djtooltiptext {\n",
       "                visibility: visible;\n",
       "            }\n",
       "        </style>\n",
       "        \n",
       "        <b>The highest level table for handling user requests to the Core Facility</b>\n",
       "            <div style=\"max-height:1000px;max-width:1500px;overflow:auto;\">\n",
       "            <table border=\"1\" class=\"Relation\">\n",
       "                <thead> <tr style=\"text-align: right;\"> <th> <div class=\"djtooltip\">\n",
       "                                <p id=\"primary\">username</p>\n",
       "                                <span class=\"djtooltiptext\">user in the lab</span>\n",
       "                            </div></th><th><div class=\"djtooltip\">\n",
       "                                <p id=\"primary\">request_name</p>\n",
       "                                <span class=\"djtooltiptext\"></span>\n",
       "                            </div></th><th><div class=\"djtooltip\">\n",
       "                                <p id=\"nonprimary\">date_submitted</p>\n",
       "                                <span class=\"djtooltiptext\">The date it was submitted as a request</span>\n",
       "                            </div></th><th><div class=\"djtooltip\">\n",
       "                                <p id=\"nonprimary\">time_submitted</p>\n",
       "                                <span class=\"djtooltiptext\">The time it was submitted as a request</span>\n",
       "                            </div></th><th><div class=\"djtooltip\">\n",
       "                                <p id=\"nonprimary\">labname</p>\n",
       "                                <span class=\"djtooltiptext\"></span>\n",
       "                            </div></th><th><div class=\"djtooltip\">\n",
       "                                <p id=\"nonprimary\">correspondence_email</p>\n",
       "                                <span class=\"djtooltiptext\"></span>\n",
       "                            </div></th><th><div class=\"djtooltip\">\n",
       "                                <p id=\"nonprimary\">description</p>\n",
       "                                <span class=\"djtooltiptext\"></span>\n",
       "                            </div></th><th><div class=\"djtooltip\">\n",
       "                                <p id=\"nonprimary\">species</p>\n",
       "                                <span class=\"djtooltiptext\"></span>\n",
       "                            </div></th><th><div class=\"djtooltip\">\n",
       "                                <p id=\"nonprimary\">number_of_samples</p>\n",
       "                                <span class=\"djtooltiptext\"></span>\n",
       "                            </div></th><th><div class=\"djtooltip\">\n",
       "                                <p id=\"nonprimary\">sample_prefix</p>\n",
       "                                <span class=\"djtooltiptext\"></span>\n",
       "                            </div></th><th><div class=\"djtooltip\">\n",
       "                                <p id=\"nonprimary\">uniform_clearing</p>\n",
       "                                <span class=\"djtooltiptext\"></span>\n",
       "                            </div> </th> </tr> </thead>\n",
       "                <tbody> <tr> <td>ahoag</td>\n",
       "<td>test</td>\n",
       "<td>2019-12-06</td>\n",
       "<td>14:48:15</td>\n",
       "<td>braincogs</td>\n",
       "<td>ahoag@princeton.edu</td>\n",
       "<td>test</td>\n",
       "<td>mouse</td>\n",
       "<td>1</td>\n",
       "<td>sample</td>\n",
       "<td>1</td></tr><tr><td>ahoag</td>\n",
       "<td>test2</td>\n",
       "<td>2019-12-06</td>\n",
       "<td>14:54:41</td>\n",
       "<td>braincogs</td>\n",
       "<td>ahoag@princeton.edu</td>\n",
       "<td>test</td>\n",
       "<td>mouse</td>\n",
       "<td>1</td>\n",
       "<td>sample</td>\n",
       "<td>1</td></tr><tr><td>ahoag</td>\n",
       "<td>test3</td>\n",
       "<td>2019-12-06</td>\n",
       "<td>14:56:14</td>\n",
       "<td>braincogs</td>\n",
       "<td>ahoag@princeton.edu</td>\n",
       "<td>test</td>\n",
       "<td>mouse</td>\n",
       "<td>1</td>\n",
       "<td>sample</td>\n",
       "<td>1</td> </tr> </tbody>\n",
       "            </table>\n",
       "            \n",
       "            <p>Total: 3</p></div>\n",
       "            "
      ],
      "text/plain": [
       "*username    *request_name  date_submitted time_submitted labname       correspondence description    species     number_of_samp sample_prefix  uniform_cleari\n",
       "+----------+ +------------+ +------------+ +------------+ +-----------+ +------------+ +------------+ +---------+ +------------+ +------------+ +------------+\n",
       "ahoag        test           2019-12-06     14:48:15       braincogs     ahoag@princeto test           mouse       1              sample         1             \n",
       "ahoag        test2          2019-12-06     14:54:41       braincogs     ahoag@princeto test           mouse       1              sample         1             \n",
       "ahoag        test3          2019-12-06     14:56:14       braincogs     ahoag@princeto test           mouse       1              sample         1             \n",
       " (Total: 3)"
      ]
     },
     "execution_count": 183,
     "metadata": {},
     "output_type": "execute_result"
    }
   ],
   "source": [
    "schema.Request()"
   ]
  },
  {
   "cell_type": "code",
   "execution_count": 152,
   "metadata": {},
   "outputs": [
    {
     "data": {
      "text/html": [
       "\n",
       "        \n",
       "        <style type=\"text/css\">\n",
       "            .Relation{\n",
       "                border-collapse:collapse;\n",
       "            }\n",
       "            .Relation th{\n",
       "                background: #A0A0A0; color: #ffffff; padding:4px; border:#f0e0e0 1px solid;\n",
       "                font-weight: normal; font-family: monospace; font-size: 100%;\n",
       "            }\n",
       "            .Relation td{\n",
       "                padding:4px; border:#f0e0e0 1px solid; font-size:100%;\n",
       "            }\n",
       "            .Relation tr:nth-child(odd){\n",
       "                background: #ffffff;\n",
       "            }\n",
       "            .Relation tr:nth-child(even){\n",
       "                background: #f3f1ff;\n",
       "            }\n",
       "            /* Tooltip container */\n",
       "            .djtooltip {\n",
       "            }\n",
       "            /* Tooltip text */\n",
       "            .djtooltip .djtooltiptext {\n",
       "                visibility: hidden;\n",
       "                width: 120px;\n",
       "                background-color: black;\n",
       "                color: #fff;\n",
       "                text-align: center;\n",
       "                padding: 5px 0;\n",
       "                border-radius: 6px;\n",
       "                /* Position the tooltip text - see examples below! */\n",
       "                position: absolute;\n",
       "                z-index: 1;\n",
       "            }\n",
       "            #primary {\n",
       "                font-weight: bold;\n",
       "                color: black;\n",
       "            }\n",
       "\n",
       "            #nonprimary {\n",
       "                font-weight: normal;\n",
       "                color: white;\n",
       "            }\n",
       "\n",
       "            /* Show the tooltip text when you mouse over the tooltip container */\n",
       "            .djtooltip:hover .djtooltiptext {\n",
       "                visibility: visible;\n",
       "            }\n",
       "        </style>\n",
       "        \n",
       "        <b>Samples from a particular request</b>\n",
       "            <div style=\"max-height:1000px;max-width:1500px;overflow:auto;\">\n",
       "            <table border=\"1\" class=\"Relation\">\n",
       "                <thead> <tr style=\"text-align: right;\"> <th> <div class=\"djtooltip\">\n",
       "                                <p id=\"primary\">username</p>\n",
       "                                <span class=\"djtooltiptext\">user in the lab</span>\n",
       "                            </div></th><th><div class=\"djtooltip\">\n",
       "                                <p id=\"primary\">request_name</p>\n",
       "                                <span class=\"djtooltiptext\"></span>\n",
       "                            </div></th><th><div class=\"djtooltip\">\n",
       "                                <p id=\"primary\">sample_name</p>\n",
       "                                <span class=\"djtooltiptext\"></span>\n",
       "                            </div></th><th><div class=\"djtooltip\">\n",
       "                                <p id=\"nonprimary\">perfusion_date</p>\n",
       "                                <span class=\"djtooltiptext\"></span>\n",
       "                            </div></th><th><div class=\"djtooltip\">\n",
       "                                <p id=\"nonprimary\">expected_handoff_date</p>\n",
       "                                <span class=\"djtooltiptext\"></span>\n",
       "                            </div></th><th><div class=\"djtooltip\">\n",
       "                                <p id=\"nonprimary\">clearer</p>\n",
       "                                <span class=\"djtooltiptext\">netid of person doing the clearing</span>\n",
       "                            </div></th><th><div class=\"djtooltip\">\n",
       "                                <p id=\"nonprimary\">clearing_protocol</p>\n",
       "                                <span class=\"djtooltiptext\"></span>\n",
       "                            </div></th><th><div class=\"djtooltip\">\n",
       "                                <p id=\"nonprimary\">clearing_progress</p>\n",
       "                                <span class=\"djtooltiptext\"></span>\n",
       "                            </div></th><th><div class=\"djtooltip\">\n",
       "                                <p id=\"nonprimary\">antibody1</p>\n",
       "                                <span class=\"djtooltiptext\"></span>\n",
       "                            </div></th><th><div class=\"djtooltip\">\n",
       "                                <p id=\"nonprimary\">antibody2</p>\n",
       "                                <span class=\"djtooltiptext\"></span>\n",
       "                            </div></th><th><div class=\"djtooltip\">\n",
       "                                <p id=\"nonprimary\">notes_for_clearer</p>\n",
       "                                <span class=\"djtooltiptext\"></span>\n",
       "                            </div></th><th><div class=\"djtooltip\">\n",
       "                                <p id=\"nonprimary\">stitching_method</p>\n",
       "                                <span class=\"djtooltiptext\"></span>\n",
       "                            </div></th><th><div class=\"djtooltip\">\n",
       "                                <p id=\"nonprimary\">blend_type</p>\n",
       "                                <span class=\"djtooltiptext\"></span>\n",
       "                            </div></th><th><div class=\"djtooltip\">\n",
       "                                <p id=\"nonprimary\">notes_from_processing</p>\n",
       "                                <span class=\"djtooltiptext\"></span>\n",
       "                            </div> </th> </tr> </thead>\n",
       "                <tbody> <tr> <td>ahoag</td>\n",
       "<td>test</td>\n",
       "<td>sample-001</td>\n",
       "<td>None</td>\n",
       "<td>None</td>\n",
       "<td>not yet assigned</td>\n",
       "<td>iDISCO abbreviated clearing</td>\n",
       "<td>incomplete</td>\n",
       "<td></td>\n",
       "<td></td>\n",
       "<td></td>\n",
       "<td>blending</td>\n",
       "<td>sigmoidal</td>\n",
       "<td></td> </tr> </tbody>\n",
       "            </table>\n",
       "            \n",
       "            <p>Total: 1</p></div>\n",
       "            "
      ],
      "text/plain": [
       "*username    *request_name  *sample_name   perfusion_date expected_hando clearer        clearing_proto clearing_progr antibody1     antibody2     notes_for_clea stitching_meth blend_type     notes_from_pro\n",
       "+----------+ +------------+ +------------+ +------------+ +------------+ +------------+ +------------+ +------------+ +-----------+ +-----------+ +------------+ +------------+ +------------+ +------------+\n",
       "ahoag        test           sample-001     None           None           not yet assign iDISCO abbrevi incomplete                                                blending       sigmoidal                    \n",
       " (Total: 1)"
      ]
     },
     "execution_count": 152,
     "metadata": {},
     "output_type": "execute_result"
    }
   ],
   "source": [
    "sample_contents = schema.Sample() \n",
    "sample_contents"
   ]
  },
  {
   "cell_type": "code",
   "execution_count": 184,
   "metadata": {},
   "outputs": [
    {
     "data": {
      "text/html": [
       "\n",
       "        \n",
       "        <style type=\"text/css\">\n",
       "            .Relation{\n",
       "                border-collapse:collapse;\n",
       "            }\n",
       "            .Relation th{\n",
       "                background: #A0A0A0; color: #ffffff; padding:4px; border:#f0e0e0 1px solid;\n",
       "                font-weight: normal; font-family: monospace; font-size: 100%;\n",
       "            }\n",
       "            .Relation td{\n",
       "                padding:4px; border:#f0e0e0 1px solid; font-size:100%;\n",
       "            }\n",
       "            .Relation tr:nth-child(odd){\n",
       "                background: #ffffff;\n",
       "            }\n",
       "            .Relation tr:nth-child(even){\n",
       "                background: #f3f1ff;\n",
       "            }\n",
       "            /* Tooltip container */\n",
       "            .djtooltip {\n",
       "            }\n",
       "            /* Tooltip text */\n",
       "            .djtooltip .djtooltiptext {\n",
       "                visibility: hidden;\n",
       "                width: 120px;\n",
       "                background-color: black;\n",
       "                color: #fff;\n",
       "                text-align: center;\n",
       "                padding: 5px 0;\n",
       "                border-radius: 6px;\n",
       "                /* Position the tooltip text - see examples below! */\n",
       "                position: absolute;\n",
       "                z-index: 1;\n",
       "            }\n",
       "            #primary {\n",
       "                font-weight: bold;\n",
       "                color: black;\n",
       "            }\n",
       "\n",
       "            #nonprimary {\n",
       "                font-weight: normal;\n",
       "                color: white;\n",
       "            }\n",
       "\n",
       "            /* Show the tooltip text when you mouse over the tooltip container */\n",
       "            .djtooltip:hover .djtooltiptext {\n",
       "                visibility: visible;\n",
       "            }\n",
       "        </style>\n",
       "        \n",
       "        <b>Processing parameters for a channel</b>\n",
       "            <div style=\"max-height:1000px;max-width:1500px;overflow:auto;\">\n",
       "            <table border=\"1\" class=\"Relation\">\n",
       "                <thead> <tr style=\"text-align: right;\"> <th> <div class=\"djtooltip\">\n",
       "                                <p id=\"primary\">username</p>\n",
       "                                <span class=\"djtooltiptext\">user in the lab</span>\n",
       "                            </div></th><th><div class=\"djtooltip\">\n",
       "                                <p id=\"primary\">request_name</p>\n",
       "                                <span class=\"djtooltiptext\"></span>\n",
       "                            </div></th><th><div class=\"djtooltip\">\n",
       "                                <p id=\"primary\">sample_name</p>\n",
       "                                <span class=\"djtooltiptext\"></span>\n",
       "                            </div></th><th><div class=\"djtooltip\">\n",
       "                                <p id=\"primary\">imaging_request_number</p>\n",
       "                                <span class=\"djtooltiptext\"></span>\n",
       "                            </div></th><th><div class=\"djtooltip\">\n",
       "                                <p id=\"primary\">image_resolution</p>\n",
       "                                <span class=\"djtooltiptext\"></span>\n",
       "                            </div></th><th><div class=\"djtooltip\">\n",
       "                                <p id=\"primary\">channel_name</p>\n",
       "                                <span class=\"djtooltiptext\"></span>\n",
       "                            </div></th><th><div class=\"djtooltip\">\n",
       "                                <p id=\"nonprimary\">lightsheet_channel_str</p>\n",
       "                                <span class=\"djtooltiptext\"></span>\n",
       "                            </div></th><th><div class=\"djtooltip\">\n",
       "                                <p id=\"nonprimary\">imspector_version</p>\n",
       "                                <span class=\"djtooltiptext\"></span>\n",
       "                            </div></th><th><div class=\"djtooltip\">\n",
       "                                <p id=\"nonprimary\">datetime_processing_started</p>\n",
       "                                <span class=\"djtooltiptext\"></span>\n",
       "                            </div></th><th><div class=\"djtooltip\">\n",
       "                                <p id=\"nonprimary\">intensity_correction</p>\n",
       "                                <span class=\"djtooltiptext\"></span>\n",
       "                            </div></th><th><div class=\"djtooltip\">\n",
       "                                <p id=\"nonprimary\">metadata_xml_string</p>\n",
       "                                <span class=\"djtooltiptext\">The entire metadata xml string. Sometimes it is not available so those times it will be NULL</span>\n",
       "                            </div> </th> </tr> </thead>\n",
       "                <tbody> <tr> <td>ahoag</td>\n",
       "<td>test</td>\n",
       "<td>sample-001</td>\n",
       "<td>1</td>\n",
       "<td>1.3x</td>\n",
       "<td>488</td>\n",
       "<td>regch</td>\n",
       "<td></td>\n",
       "<td>2019-12-06 15:36:09</td>\n",
       "<td>1</td>\n",
       "<td>=BLOB=</td> </tr> </tbody>\n",
       "            </table>\n",
       "            \n",
       "            <p>Total: 1</p></div>\n",
       "            "
      ],
      "text/plain": [
       "*username    *request_name  *sample_name   *imaging_reque *image_resolut *channel_name  lightsheet_cha imspector_vers datetime_proce intensity_corr metadata_x\n",
       "+----------+ +------------+ +------------+ +------------+ +------------+ +------------+ +------------+ +------------+ +------------+ +------------+ +--------+\n",
       "ahoag        test           sample-001     1              1.3x           488            regch                         2019-12-06 15: 1              =BLOB=    \n",
       " (Total: 1)"
      ]
     },
     "execution_count": 184,
     "metadata": {},
     "output_type": "execute_result"
    }
   ],
   "source": [
    "schema.Sample.ProcessingChannel()"
   ]
  },
  {
   "cell_type": "code",
   "execution_count": 157,
   "metadata": {},
   "outputs": [],
   "source": [
    "dj.Table._update(schema.Sample.ImagingRequest(),'processing_progress','not started')"
   ]
  },
  {
   "cell_type": "code",
   "execution_count": 182,
   "metadata": {},
   "outputs": [
    {
     "data": {
      "text/html": [
       "\n",
       "        \n",
       "        <style type=\"text/css\">\n",
       "            .Relation{\n",
       "                border-collapse:collapse;\n",
       "            }\n",
       "            .Relation th{\n",
       "                background: #A0A0A0; color: #ffffff; padding:4px; border:#f0e0e0 1px solid;\n",
       "                font-weight: normal; font-family: monospace; font-size: 100%;\n",
       "            }\n",
       "            .Relation td{\n",
       "                padding:4px; border:#f0e0e0 1px solid; font-size:100%;\n",
       "            }\n",
       "            .Relation tr:nth-child(odd){\n",
       "                background: #ffffff;\n",
       "            }\n",
       "            .Relation tr:nth-child(even){\n",
       "                background: #f3f1ff;\n",
       "            }\n",
       "            /* Tooltip container */\n",
       "            .djtooltip {\n",
       "            }\n",
       "            /* Tooltip text */\n",
       "            .djtooltip .djtooltiptext {\n",
       "                visibility: hidden;\n",
       "                width: 120px;\n",
       "                background-color: black;\n",
       "                color: #fff;\n",
       "                text-align: center;\n",
       "                padding: 5px 0;\n",
       "                border-radius: 6px;\n",
       "                /* Position the tooltip text - see examples below! */\n",
       "                position: absolute;\n",
       "                z-index: 1;\n",
       "            }\n",
       "            #primary {\n",
       "                font-weight: bold;\n",
       "                color: black;\n",
       "            }\n",
       "\n",
       "            #nonprimary {\n",
       "                font-weight: normal;\n",
       "                color: white;\n",
       "            }\n",
       "\n",
       "            /* Show the tooltip text when you mouse over the tooltip container */\n",
       "            .djtooltip:hover .djtooltiptext {\n",
       "                visibility: visible;\n",
       "            }\n",
       "        </style>\n",
       "        \n",
       "        <b>Imaging request</b>\n",
       "            <div style=\"max-height:1000px;max-width:1500px;overflow:auto;\">\n",
       "            <table border=\"1\" class=\"Relation\">\n",
       "                <thead> <tr style=\"text-align: right;\"> <th> <div class=\"djtooltip\">\n",
       "                                <p id=\"primary\">username</p>\n",
       "                                <span class=\"djtooltiptext\">user in the lab</span>\n",
       "                            </div></th><th><div class=\"djtooltip\">\n",
       "                                <p id=\"primary\">request_name</p>\n",
       "                                <span class=\"djtooltiptext\"></span>\n",
       "                            </div></th><th><div class=\"djtooltip\">\n",
       "                                <p id=\"primary\">sample_name</p>\n",
       "                                <span class=\"djtooltiptext\"></span>\n",
       "                            </div></th><th><div class=\"djtooltip\">\n",
       "                                <p id=\"primary\">imaging_request_number</p>\n",
       "                                <span class=\"djtooltiptext\"></span>\n",
       "                            </div></th><th><div class=\"djtooltip\">\n",
       "                                <p id=\"nonprimary\">imager</p>\n",
       "                                <span class=\"djtooltiptext\">user in the lab</span>\n",
       "                            </div></th><th><div class=\"djtooltip\">\n",
       "                                <p id=\"nonprimary\">imaging_request_date_submitted</p>\n",
       "                                <span class=\"djtooltiptext\">date that the user submitted the request for imaging</span>\n",
       "                            </div></th><th><div class=\"djtooltip\">\n",
       "                                <p id=\"nonprimary\">imaging_request_time_submitted</p>\n",
       "                                <span class=\"djtooltiptext\">time that the user submitted the request for imaging</span>\n",
       "                            </div></th><th><div class=\"djtooltip\">\n",
       "                                <p id=\"nonprimary\">imaging_performed_date</p>\n",
       "                                <span class=\"djtooltiptext\">date that the imaging form was submitted by the imager</span>\n",
       "                            </div></th><th><div class=\"djtooltip\">\n",
       "                                <p id=\"nonprimary\">imaging_progress</p>\n",
       "                                <span class=\"djtooltiptext\"></span>\n",
       "                            </div></th><th><div class=\"djtooltip\">\n",
       "                                <p id=\"nonprimary\">processor</p>\n",
       "                                <span class=\"djtooltiptext\">user in the lab</span>\n",
       "                            </div></th><th><div class=\"djtooltip\">\n",
       "                                <p id=\"nonprimary\">processing_progress</p>\n",
       "                                <span class=\"djtooltiptext\"></span>\n",
       "                            </div> </th> </tr> </thead>\n",
       "                <tbody> <tr> <td>ahoag</td>\n",
       "<td>test</td>\n",
       "<td>sample-001</td>\n",
       "<td>1</td>\n",
       "<td>ahoag</td>\n",
       "<td>2019-12-06</td>\n",
       "<td>14:48:15</td>\n",
       "<td>2019-12-06</td>\n",
       "<td>complete</td>\n",
       "<td>None</td>\n",
       "<td>not started</td></tr><tr><td>ahoag</td>\n",
       "<td>test</td>\n",
       "<td>sample-001</td>\n",
       "<td>2</td>\n",
       "<td>ahoag</td>\n",
       "<td>2019-12-06</td>\n",
       "<td>14:49:08</td>\n",
       "<td>2019-12-06</td>\n",
       "<td>complete</td>\n",
       "<td>None</td>\n",
       "<td>not started</td> </tr> </tbody>\n",
       "            </table>\n",
       "            \n",
       "            <p>Total: 2</p></div>\n",
       "            "
      ],
      "text/plain": [
       "*username    *request_name  *sample_name   *imaging_reque imager     imaging_reques imaging_reques imaging_perfor imaging_progre processor     processing_pro\n",
       "+----------+ +------------+ +------------+ +------------+ +--------+ +------------+ +------------+ +------------+ +------------+ +-----------+ +------------+\n",
       "ahoag        test           sample-001     1              ahoag      2019-12-06     14:48:15       2019-12-06     complete       None          not started   \n",
       "ahoag        test           sample-001     2              ahoag      2019-12-06     14:49:08       2019-12-06     complete       None          not started   \n",
       " (Total: 2)"
      ]
     },
     "execution_count": 182,
     "metadata": {},
     "output_type": "execute_result"
    }
   ],
   "source": [
    "schema.Sample.ImagingRequest()"
   ]
  },
  {
   "cell_type": "code",
   "execution_count": 160,
   "metadata": {},
   "outputs": [
    {
     "data": {
      "text/html": [
       "\n",
       "        \n",
       "        <style type=\"text/css\">\n",
       "            .Relation{\n",
       "                border-collapse:collapse;\n",
       "            }\n",
       "            .Relation th{\n",
       "                background: #A0A0A0; color: #ffffff; padding:4px; border:#f0e0e0 1px solid;\n",
       "                font-weight: normal; font-family: monospace; font-size: 100%;\n",
       "            }\n",
       "            .Relation td{\n",
       "                padding:4px; border:#f0e0e0 1px solid; font-size:100%;\n",
       "            }\n",
       "            .Relation tr:nth-child(odd){\n",
       "                background: #ffffff;\n",
       "            }\n",
       "            .Relation tr:nth-child(even){\n",
       "                background: #f3f1ff;\n",
       "            }\n",
       "            /* Tooltip container */\n",
       "            .djtooltip {\n",
       "            }\n",
       "            /* Tooltip text */\n",
       "            .djtooltip .djtooltiptext {\n",
       "                visibility: hidden;\n",
       "                width: 120px;\n",
       "                background-color: black;\n",
       "                color: #fff;\n",
       "                text-align: center;\n",
       "                padding: 5px 0;\n",
       "                border-radius: 6px;\n",
       "                /* Position the tooltip text - see examples below! */\n",
       "                position: absolute;\n",
       "                z-index: 1;\n",
       "            }\n",
       "            #primary {\n",
       "                font-weight: bold;\n",
       "                color: black;\n",
       "            }\n",
       "\n",
       "            #nonprimary {\n",
       "                font-weight: normal;\n",
       "                color: white;\n",
       "            }\n",
       "\n",
       "            /* Show the tooltip text when you mouse over the tooltip container */\n",
       "            .djtooltip:hover .djtooltiptext {\n",
       "                visibility: visible;\n",
       "            }\n",
       "        </style>\n",
       "        \n",
       "        <b>Imaging parameters for a channel, belonging to a sample</b>\n",
       "            <div style=\"max-height:1000px;max-width:1500px;overflow:auto;\">\n",
       "            <table border=\"1\" class=\"Relation\">\n",
       "                <thead> <tr style=\"text-align: right;\"> <th> <div class=\"djtooltip\">\n",
       "                                <p id=\"primary\">username</p>\n",
       "                                <span class=\"djtooltiptext\">user in the lab</span>\n",
       "                            </div></th><th><div class=\"djtooltip\">\n",
       "                                <p id=\"primary\">request_name</p>\n",
       "                                <span class=\"djtooltiptext\"></span>\n",
       "                            </div></th><th><div class=\"djtooltip\">\n",
       "                                <p id=\"primary\">sample_name</p>\n",
       "                                <span class=\"djtooltiptext\"></span>\n",
       "                            </div></th><th><div class=\"djtooltip\">\n",
       "                                <p id=\"primary\">imaging_request_number</p>\n",
       "                                <span class=\"djtooltiptext\"></span>\n",
       "                            </div></th><th><div class=\"djtooltip\">\n",
       "                                <p id=\"primary\">image_resolution</p>\n",
       "                                <span class=\"djtooltiptext\"></span>\n",
       "                            </div></th><th><div class=\"djtooltip\">\n",
       "                                <p id=\"nonprimary\">atlas_name</p>\n",
       "                                <span class=\"djtooltiptext\">only one atlas can be used for a given resolution</span>\n",
       "                            </div></th><th><div class=\"djtooltip\">\n",
       "                                <p id=\"nonprimary\">notes_for_imager</p>\n",
       "                                <span class=\"djtooltiptext\"></span>\n",
       "                            </div></th><th><div class=\"djtooltip\">\n",
       "                                <p id=\"nonprimary\">notes_from_imaging</p>\n",
       "                                <span class=\"djtooltiptext\"></span>\n",
       "                            </div></th><th><div class=\"djtooltip\">\n",
       "                                <p id=\"nonprimary\">notes_for_processor</p>\n",
       "                                <span class=\"djtooltiptext\"></span>\n",
       "                            </div> </th> </tr> </thead>\n",
       "                <tbody> <tr> <td>ahoag</td>\n",
       "<td>test</td>\n",
       "<td>sample-001</td>\n",
       "<td>1</td>\n",
       "<td>1.3x</td>\n",
       "<td>allen_2017</td>\n",
       "<td></td>\n",
       "<td></td>\n",
       "<td></td> </tr> </tbody>\n",
       "            </table>\n",
       "            \n",
       "            <p>Total: 1</p></div>\n",
       "            "
      ],
      "text/plain": [
       "*username    *request_name  *sample_name   *imaging_reque *image_resolut atlas_name     notes_for_imag notes_from_ima notes_for_proc\n",
       "+----------+ +------------+ +------------+ +------------+ +------------+ +------------+ +------------+ +------------+ +------------+\n",
       "ahoag        test           sample-001     1              1.3x           allen_2017                                                 \n",
       " (Total: 1)"
      ]
     },
     "execution_count": 160,
     "metadata": {},
     "output_type": "execute_result"
    }
   ],
   "source": [
    "schema.Sample.ImageResolutionRequest()"
   ]
  },
  {
   "cell_type": "code",
   "execution_count": 159,
   "metadata": {},
   "outputs": [
    {
     "data": {
      "text/html": [
       "\n",
       "        \n",
       "        <style type=\"text/css\">\n",
       "            .Relation{\n",
       "                border-collapse:collapse;\n",
       "            }\n",
       "            .Relation th{\n",
       "                background: #A0A0A0; color: #ffffff; padding:4px; border:#f0e0e0 1px solid;\n",
       "                font-weight: normal; font-family: monospace; font-size: 100%;\n",
       "            }\n",
       "            .Relation td{\n",
       "                padding:4px; border:#f0e0e0 1px solid; font-size:100%;\n",
       "            }\n",
       "            .Relation tr:nth-child(odd){\n",
       "                background: #ffffff;\n",
       "            }\n",
       "            .Relation tr:nth-child(even){\n",
       "                background: #f3f1ff;\n",
       "            }\n",
       "            /* Tooltip container */\n",
       "            .djtooltip {\n",
       "            }\n",
       "            /* Tooltip text */\n",
       "            .djtooltip .djtooltiptext {\n",
       "                visibility: hidden;\n",
       "                width: 120px;\n",
       "                background-color: black;\n",
       "                color: #fff;\n",
       "                text-align: center;\n",
       "                padding: 5px 0;\n",
       "                border-radius: 6px;\n",
       "                /* Position the tooltip text - see examples below! */\n",
       "                position: absolute;\n",
       "                z-index: 1;\n",
       "            }\n",
       "            #primary {\n",
       "                font-weight: bold;\n",
       "                color: black;\n",
       "            }\n",
       "\n",
       "            #nonprimary {\n",
       "                font-weight: normal;\n",
       "                color: white;\n",
       "            }\n",
       "\n",
       "            /* Show the tooltip text when you mouse over the tooltip container */\n",
       "            .djtooltip:hover .djtooltiptext {\n",
       "                visibility: visible;\n",
       "            }\n",
       "        </style>\n",
       "        \n",
       "        <b>Imaging parameters for a channel, belonging to a sample</b>\n",
       "            <div style=\"max-height:1000px;max-width:1500px;overflow:auto;\">\n",
       "            <table border=\"1\" class=\"Relation\">\n",
       "                <thead> <tr style=\"text-align: right;\"> <th> <div class=\"djtooltip\">\n",
       "                                <p id=\"primary\">username</p>\n",
       "                                <span class=\"djtooltiptext\">user in the lab</span>\n",
       "                            </div></th><th><div class=\"djtooltip\">\n",
       "                                <p id=\"primary\">request_name</p>\n",
       "                                <span class=\"djtooltiptext\"></span>\n",
       "                            </div></th><th><div class=\"djtooltip\">\n",
       "                                <p id=\"primary\">sample_name</p>\n",
       "                                <span class=\"djtooltiptext\"></span>\n",
       "                            </div></th><th><div class=\"djtooltip\">\n",
       "                                <p id=\"primary\">imaging_request_number</p>\n",
       "                                <span class=\"djtooltiptext\"></span>\n",
       "                            </div></th><th><div class=\"djtooltip\">\n",
       "                                <p id=\"primary\">image_resolution</p>\n",
       "                                <span class=\"djtooltiptext\"></span>\n",
       "                            </div></th><th><div class=\"djtooltip\">\n",
       "                                <p id=\"primary\">channel_name</p>\n",
       "                                <span class=\"djtooltiptext\"></span>\n",
       "                            </div></th><th><div class=\"djtooltip\">\n",
       "                                <p id=\"nonprimary\">imaging_date</p>\n",
       "                                <span class=\"djtooltiptext\"></span>\n",
       "                            </div></th><th><div class=\"djtooltip\">\n",
       "                                <p id=\"nonprimary\">registration</p>\n",
       "                                <span class=\"djtooltiptext\"></span>\n",
       "                            </div></th><th><div class=\"djtooltip\">\n",
       "                                <p id=\"nonprimary\">injection_detection</p>\n",
       "                                <span class=\"djtooltiptext\"></span>\n",
       "                            </div></th><th><div class=\"djtooltip\">\n",
       "                                <p id=\"nonprimary\">probe_detection</p>\n",
       "                                <span class=\"djtooltiptext\"></span>\n",
       "                            </div></th><th><div class=\"djtooltip\">\n",
       "                                <p id=\"nonprimary\">cell_detection</p>\n",
       "                                <span class=\"djtooltiptext\"></span>\n",
       "                            </div></th><th><div class=\"djtooltip\">\n",
       "                                <p id=\"nonprimary\">generic_imaging</p>\n",
       "                                <span class=\"djtooltiptext\"></span>\n",
       "                            </div></th><th><div class=\"djtooltip\">\n",
       "                                <p id=\"nonprimary\">pixel_type</p>\n",
       "                                <span class=\"djtooltiptext\"></span>\n",
       "                            </div></th><th><div class=\"djtooltip\">\n",
       "                                <p id=\"nonprimary\">numerical_aperture</p>\n",
       "                                <span class=\"djtooltiptext\">it is not always recorded in metadata so those times it will be NULL</span>\n",
       "                            </div></th><th><div class=\"djtooltip\">\n",
       "                                <p id=\"nonprimary\">tiling_scheme</p>\n",
       "                                <span class=\"djtooltiptext\"></span>\n",
       "                            </div></th><th><div class=\"djtooltip\">\n",
       "                                <p id=\"nonprimary\">tiling_overlap</p>\n",
       "                                <span class=\"djtooltiptext\"></span>\n",
       "                            </div></th><th><div class=\"djtooltip\">\n",
       "                                <p id=\"nonprimary\">z_step</p>\n",
       "                                <span class=\"djtooltiptext\"></span>\n",
       "                            </div></th><th><div class=\"djtooltip\">\n",
       "                                <p id=\"nonprimary\">number_of_z_planes</p>\n",
       "                                <span class=\"djtooltiptext\"></span>\n",
       "                            </div></th><th><div class=\"djtooltip\">\n",
       "                                <p id=\"nonprimary\">rawdata_subfolder</p>\n",
       "                                <span class=\"djtooltiptext\"></span>\n",
       "                            </div></th><th><div class=\"djtooltip\">\n",
       "                                <p id=\"nonprimary\">imspector_channel_index</p>\n",
       "                                <span class=\"djtooltiptext\">refers to multi-channel imaging - 0 if first (or only) channel in rawdata_subfolder, 1 if second, 2 if third, ...</span>\n",
       "                            </div> </th> </tr> </thead>\n",
       "                <tbody> <tr> <td>ahoag</td>\n",
       "<td>test</td>\n",
       "<td>sample-001</td>\n",
       "<td>1</td>\n",
       "<td>1.3x</td>\n",
       "<td>488</td>\n",
       "<td>None</td>\n",
       "<td>1</td>\n",
       "<td>0</td>\n",
       "<td>0</td>\n",
       "<td>0</td>\n",
       "<td>0</td>\n",
       "<td>None</td>\n",
       "<td>nan</td>\n",
       "<td>1x1</td>\n",
       "<td>0.1</td>\n",
       "<td>10</td>\n",
       "<td>1000</td>\n",
       "<td>test488</td>\n",
       "<td>0</td> </tr> </tbody>\n",
       "            </table>\n",
       "            \n",
       "            <p>Total: 1</p></div>\n",
       "            "
      ],
      "text/plain": [
       "*username    *request_name  *sample_name   *imaging_reque *image_resolut *channel_name  imaging_date   registration   injection_dete probe_detectio cell_detection generic_imagin pixel_type     numerical_aper tiling_scheme  tiling_overlap z_step     number_of_z_pl rawdata_subfol imspector_chan\n",
       "+----------+ +------------+ +------------+ +------------+ +------------+ +------------+ +------------+ +------------+ +------------+ +------------+ +------------+ +------------+ +------------+ +------------+ +------------+ +------------+ +--------+ +------------+ +------------+ +------------+\n",
       "ahoag        test           sample-001     1              1.3x           488            None           1              0              0              0              0              None           nan            1x1            0.1            10         1000           test488        0             \n",
       " (Total: 1)"
      ]
     },
     "execution_count": 159,
     "metadata": {},
     "output_type": "execute_result"
    }
   ],
   "source": [
    "schema.Sample.ImagingChannel()"
   ]
  },
  {
   "cell_type": "code",
   "execution_count": 89,
   "metadata": {},
   "outputs": [
    {
     "data": {
      "text/plain": [
       "['username',\n",
       " 'request_name',\n",
       " 'sample_name',\n",
       " 'imaging_request_number',\n",
       " 'image_resolution',\n",
       " 'channel_name',\n",
       " 'imaging_date',\n",
       " 'registration',\n",
       " 'injection_detection',\n",
       " 'probe_detection',\n",
       " 'cell_detection',\n",
       " 'pixel_type',\n",
       " 'tiling_scheme',\n",
       " 'tiling_overlap',\n",
       " 'z_step',\n",
       " 'number_of_z_planes',\n",
       " 'rawdata_subfolder',\n",
       " 'imspector_channel_index']"
      ]
     },
     "execution_count": 89,
     "metadata": {},
     "output_type": "execute_result"
    }
   ],
   "source": [
    "schema.Sample.ImagingChannel.heading.names"
   ]
  },
  {
   "cell_type": "code",
   "execution_count": 143,
   "metadata": {},
   "outputs": [
    {
     "name": "stderr",
     "output_type": "stream",
     "text": [
      "/home/ahoag/anaconda3/envs/lightserv/lib/python3.7/site-packages/datajoint/connection.py:215: UserWarning: MySQL server has gone away. Reconnecting to the server.\n",
      "  warnings.warn(\"MySQL server has gone away. Reconnecting to the server.\")\n"
     ]
    },
    {
     "data": {
      "text/html": [
       "\n",
       "        \n",
       "        <style type=\"text/css\">\n",
       "            .Relation{\n",
       "                border-collapse:collapse;\n",
       "            }\n",
       "            .Relation th{\n",
       "                background: #A0A0A0; color: #ffffff; padding:4px; border:#f0e0e0 1px solid;\n",
       "                font-weight: normal; font-family: monospace; font-size: 100%;\n",
       "            }\n",
       "            .Relation td{\n",
       "                padding:4px; border:#f0e0e0 1px solid; font-size:100%;\n",
       "            }\n",
       "            .Relation tr:nth-child(odd){\n",
       "                background: #ffffff;\n",
       "            }\n",
       "            .Relation tr:nth-child(even){\n",
       "                background: #f3f1ff;\n",
       "            }\n",
       "            /* Tooltip container */\n",
       "            .djtooltip {\n",
       "            }\n",
       "            /* Tooltip text */\n",
       "            .djtooltip .djtooltiptext {\n",
       "                visibility: hidden;\n",
       "                width: 120px;\n",
       "                background-color: black;\n",
       "                color: #fff;\n",
       "                text-align: center;\n",
       "                padding: 5px 0;\n",
       "                border-radius: 6px;\n",
       "                /* Position the tooltip text - see examples below! */\n",
       "                position: absolute;\n",
       "                z-index: 1;\n",
       "            }\n",
       "            #primary {\n",
       "                font-weight: bold;\n",
       "                color: black;\n",
       "            }\n",
       "\n",
       "            #nonprimary {\n",
       "                font-weight: normal;\n",
       "                color: white;\n",
       "            }\n",
       "\n",
       "            /* Show the tooltip text when you mouse over the tooltip container */\n",
       "            .djtooltip:hover .djtooltiptext {\n",
       "                visibility: visible;\n",
       "            }\n",
       "        </style>\n",
       "        \n",
       "        <b>Samples from a particular request</b>\n",
       "            <div style=\"max-height:1000px;max-width:1500px;overflow:auto;\">\n",
       "            <table border=\"1\" class=\"Relation\">\n",
       "                <thead> <tr style=\"text-align: right;\"> <th> <div class=\"djtooltip\">\n",
       "                                <p id=\"primary\">username</p>\n",
       "                                <span class=\"djtooltiptext\">user in the lab</span>\n",
       "                            </div></th><th><div class=\"djtooltip\">\n",
       "                                <p id=\"primary\">request_name</p>\n",
       "                                <span class=\"djtooltiptext\"></span>\n",
       "                            </div></th><th><div class=\"djtooltip\">\n",
       "                                <p id=\"primary\">sample_name</p>\n",
       "                                <span class=\"djtooltiptext\"></span>\n",
       "                            </div></th><th><div class=\"djtooltip\">\n",
       "                                <p id=\"nonprimary\">perfusion_date</p>\n",
       "                                <span class=\"djtooltiptext\"></span>\n",
       "                            </div></th><th><div class=\"djtooltip\">\n",
       "                                <p id=\"nonprimary\">expected_handoff_date</p>\n",
       "                                <span class=\"djtooltiptext\"></span>\n",
       "                            </div></th><th><div class=\"djtooltip\">\n",
       "                                <p id=\"nonprimary\">clearer</p>\n",
       "                                <span class=\"djtooltiptext\">netid of person doing the clearing</span>\n",
       "                            </div></th><th><div class=\"djtooltip\">\n",
       "                                <p id=\"nonprimary\">clearing_protocol</p>\n",
       "                                <span class=\"djtooltiptext\"></span>\n",
       "                            </div></th><th><div class=\"djtooltip\">\n",
       "                                <p id=\"nonprimary\">clearing_progress</p>\n",
       "                                <span class=\"djtooltiptext\"></span>\n",
       "                            </div></th><th><div class=\"djtooltip\">\n",
       "                                <p id=\"nonprimary\">antibody1</p>\n",
       "                                <span class=\"djtooltiptext\"></span>\n",
       "                            </div></th><th><div class=\"djtooltip\">\n",
       "                                <p id=\"nonprimary\">antibody2</p>\n",
       "                                <span class=\"djtooltiptext\"></span>\n",
       "                            </div></th><th><div class=\"djtooltip\">\n",
       "                                <p id=\"nonprimary\">notes_for_clearer</p>\n",
       "                                <span class=\"djtooltiptext\"></span>\n",
       "                            </div></th><th><div class=\"djtooltip\">\n",
       "                                <p id=\"nonprimary\">stitching_method</p>\n",
       "                                <span class=\"djtooltiptext\"></span>\n",
       "                            </div></th><th><div class=\"djtooltip\">\n",
       "                                <p id=\"nonprimary\">blend_type</p>\n",
       "                                <span class=\"djtooltiptext\"></span>\n",
       "                            </div></th><th><div class=\"djtooltip\">\n",
       "                                <p id=\"nonprimary\">notes_from_processing</p>\n",
       "                                <span class=\"djtooltiptext\"></span>\n",
       "                            </div> </th> </tr> </thead>\n",
       "                <tbody> <tr> <td>ahoag</td>\n",
       "<td>test</td>\n",
       "<td>sample-001</td>\n",
       "<td>None</td>\n",
       "<td>None</td>\n",
       "<td>not yet assigned</td>\n",
       "<td>iDISCO abbreviated clearing</td>\n",
       "<td>incomplete</td>\n",
       "<td></td>\n",
       "<td></td>\n",
       "<td></td>\n",
       "<td>blending</td>\n",
       "<td>sigmoidal</td>\n",
       "<td></td> </tr> </tbody>\n",
       "            </table>\n",
       "            \n",
       "            <p>Total: 1</p></div>\n",
       "            "
      ],
      "text/plain": [
       "*username    *request_name  *sample_name   perfusion_date expected_hando clearer        clearing_proto clearing_progr antibody1     antibody2     notes_for_clea stitching_meth blend_type     notes_from_pro\n",
       "+----------+ +------------+ +------------+ +------------+ +------------+ +------------+ +------------+ +------------+ +-----------+ +-----------+ +------------+ +------------+ +------------+ +------------+\n",
       "ahoag        test           sample-001     None           None           not yet assign iDISCO abbrevi incomplete                                                blending       sigmoidal                    \n",
       " (Total: 1)"
      ]
     },
     "execution_count": 143,
     "metadata": {},
     "output_type": "execute_result"
    }
   ],
   "source": [
    "schema.Sample()"
   ]
  },
  {
   "cell_type": "code",
   "execution_count": 134,
   "metadata": {},
   "outputs": [
    {
     "data": {
      "text/html": [
       "\n",
       "        \n",
       "        <style type=\"text/css\">\n",
       "            .Relation{\n",
       "                border-collapse:collapse;\n",
       "            }\n",
       "            .Relation th{\n",
       "                background: #A0A0A0; color: #ffffff; padding:4px; border:#f0e0e0 1px solid;\n",
       "                font-weight: normal; font-family: monospace; font-size: 100%;\n",
       "            }\n",
       "            .Relation td{\n",
       "                padding:4px; border:#f0e0e0 1px solid; font-size:100%;\n",
       "            }\n",
       "            .Relation tr:nth-child(odd){\n",
       "                background: #ffffff;\n",
       "            }\n",
       "            .Relation tr:nth-child(even){\n",
       "                background: #f3f1ff;\n",
       "            }\n",
       "            /* Tooltip container */\n",
       "            .djtooltip {\n",
       "            }\n",
       "            /* Tooltip text */\n",
       "            .djtooltip .djtooltiptext {\n",
       "                visibility: hidden;\n",
       "                width: 120px;\n",
       "                background-color: black;\n",
       "                color: #fff;\n",
       "                text-align: center;\n",
       "                padding: 5px 0;\n",
       "                border-radius: 6px;\n",
       "                /* Position the tooltip text - see examples below! */\n",
       "                position: absolute;\n",
       "                z-index: 1;\n",
       "            }\n",
       "            #primary {\n",
       "                font-weight: bold;\n",
       "                color: black;\n",
       "            }\n",
       "\n",
       "            #nonprimary {\n",
       "                font-weight: normal;\n",
       "                color: white;\n",
       "            }\n",
       "\n",
       "            /* Show the tooltip text when you mouse over the tooltip container */\n",
       "            .djtooltip:hover .djtooltiptext {\n",
       "                visibility: visible;\n",
       "            }\n",
       "        </style>\n",
       "        \n",
       "        <b>iDISCO abbreviated clearing table</b>\n",
       "            <div style=\"max-height:1000px;max-width:1500px;overflow:auto;\">\n",
       "            <table border=\"1\" class=\"Relation\">\n",
       "                <thead> <tr style=\"text-align: right;\"> <th> <div class=\"djtooltip\">\n",
       "                                <p id=\"primary\">username</p>\n",
       "                                <span class=\"djtooltiptext\">user in the lab</span>\n",
       "                            </div></th><th><div class=\"djtooltip\">\n",
       "                                <p id=\"primary\">request_name</p>\n",
       "                                <span class=\"djtooltiptext\"></span>\n",
       "                            </div></th><th><div class=\"djtooltip\">\n",
       "                                <p id=\"primary\">sample_name</p>\n",
       "                                <span class=\"djtooltiptext\"></span>\n",
       "                            </div></th><th><div class=\"djtooltip\">\n",
       "                                <p id=\"nonprimary\">exp_notes</p>\n",
       "                                <span class=\"djtooltiptext\">Note anything unusual that happened during request handling that could affect clearing</span>\n",
       "                            </div></th><th><div class=\"djtooltip\">\n",
       "                                <p id=\"nonprimary\">time_pbs_wash1</p>\n",
       "                                <span class=\"djtooltiptext\"></span>\n",
       "                            </div></th><th><div class=\"djtooltip\">\n",
       "                                <p id=\"nonprimary\">pbs_wash1_notes</p>\n",
       "                                <span class=\"djtooltiptext\"></span>\n",
       "                            </div></th><th><div class=\"djtooltip\">\n",
       "                                <p id=\"nonprimary\">time_pbs_wash2</p>\n",
       "                                <span class=\"djtooltiptext\"></span>\n",
       "                            </div></th><th><div class=\"djtooltip\">\n",
       "                                <p id=\"nonprimary\">pbs_wash2_notes</p>\n",
       "                                <span class=\"djtooltiptext\"></span>\n",
       "                            </div></th><th><div class=\"djtooltip\">\n",
       "                                <p id=\"nonprimary\">time_pbs_wash3</p>\n",
       "                                <span class=\"djtooltiptext\"></span>\n",
       "                            </div></th><th><div class=\"djtooltip\">\n",
       "                                <p id=\"nonprimary\">pbs_wash3_notes</p>\n",
       "                                <span class=\"djtooltiptext\"></span>\n",
       "                            </div></th><th><div class=\"djtooltip\">\n",
       "                                <p id=\"nonprimary\">time_dehydr_methanol_20percent_wash1</p>\n",
       "                                <span class=\"djtooltiptext\"></span>\n",
       "                            </div></th><th><div class=\"djtooltip\">\n",
       "                                <p id=\"nonprimary\">dehydr_methanol_20percent_wash1_notes</p>\n",
       "                                <span class=\"djtooltiptext\"></span>\n",
       "                            </div></th><th><div class=\"djtooltip\">\n",
       "                                <p id=\"nonprimary\">time_dehydr_methanol_40percent_wash1</p>\n",
       "                                <span class=\"djtooltiptext\"></span>\n",
       "                            </div></th><th><div class=\"djtooltip\">\n",
       "                                <p id=\"nonprimary\">dehydr_methanol_40percent_wash1_notes</p>\n",
       "                                <span class=\"djtooltiptext\"></span>\n",
       "                            </div></th><th><div class=\"djtooltip\">\n",
       "                                <p id=\"nonprimary\">time_dehydr_methanol_60percent_wash1</p>\n",
       "                                <span class=\"djtooltiptext\"></span>\n",
       "                            </div></th><th><div class=\"djtooltip\">\n",
       "                                <p id=\"nonprimary\">dehydr_methanol_60percent_wash1_notes</p>\n",
       "                                <span class=\"djtooltiptext\"></span>\n",
       "                            </div></th><th><div class=\"djtooltip\">\n",
       "                                <p id=\"nonprimary\">time_dehydr_methanol_80percent_wash1</p>\n",
       "                                <span class=\"djtooltiptext\"></span>\n",
       "                            </div></th><th><div class=\"djtooltip\">\n",
       "                                <p id=\"nonprimary\">dehydr_methanol_80percent_wash1_notes</p>\n",
       "                                <span class=\"djtooltiptext\"></span>\n",
       "                            </div></th><th><div class=\"djtooltip\">\n",
       "                                <p id=\"nonprimary\">time_dehydr_methanol_100percent_wash1</p>\n",
       "                                <span class=\"djtooltiptext\"></span>\n",
       "                            </div></th><th><div class=\"djtooltip\">\n",
       "                                <p id=\"nonprimary\">dehydr_methanol_100percent_wash1_notes</p>\n",
       "                                <span class=\"djtooltiptext\"></span>\n",
       "                            </div></th><th><div class=\"djtooltip\">\n",
       "                                <p id=\"nonprimary\">time_dehydr_methanol_100percent_wash2</p>\n",
       "                                <span class=\"djtooltiptext\"></span>\n",
       "                            </div></th><th><div class=\"djtooltip\">\n",
       "                                <p id=\"nonprimary\">dehydr_methanol_100percent_wash2_notes</p>\n",
       "                                <span class=\"djtooltiptext\"></span>\n",
       "                            </div></th><th><div class=\"djtooltip\">\n",
       "                                <p id=\"nonprimary\">time_dehydr_dcm_66percent_methanol_33percent</p>\n",
       "                                <span class=\"djtooltiptext\"></span>\n",
       "                            </div></th><th><div class=\"djtooltip\">\n",
       "                                <p id=\"nonprimary\">dehydr_dcm_66percent_methanol_33percent_notes</p>\n",
       "                                <span class=\"djtooltiptext\"></span>\n",
       "                            </div></th><th><div class=\"djtooltip\">\n",
       "                                <p id=\"nonprimary\">time_dehydr_dcm_wash1</p>\n",
       "                                <span class=\"djtooltiptext\"></span>\n",
       "                            </div></th><th><div class=\"djtooltip\">\n",
       "                                <p id=\"nonprimary\">dehydr_dcm_wash1_notes</p>\n",
       "                                <span class=\"djtooltiptext\"></span>\n",
       "                            </div></th><th><div class=\"djtooltip\">\n",
       "                                <p id=\"nonprimary\">time_dehydr_dcm_wash2</p>\n",
       "                                <span class=\"djtooltiptext\"></span>\n",
       "                            </div></th><th><div class=\"djtooltip\">\n",
       "                                <p id=\"nonprimary\">dehydr_dcm_wash2_notes</p>\n",
       "                                <span class=\"djtooltiptext\"></span>\n",
       "                            </div></th><th><div class=\"djtooltip\">\n",
       "                                <p id=\"nonprimary\">time_dehydr_dbe_wash1</p>\n",
       "                                <span class=\"djtooltiptext\"></span>\n",
       "                            </div></th><th><div class=\"djtooltip\">\n",
       "                                <p id=\"nonprimary\">dehydr_dbe_wash1_notes</p>\n",
       "                                <span class=\"djtooltiptext\"></span>\n",
       "                            </div></th><th><div class=\"djtooltip\">\n",
       "                                <p id=\"nonprimary\">time_dehydr_dbe_wash2</p>\n",
       "                                <span class=\"djtooltiptext\"></span>\n",
       "                            </div></th><th><div class=\"djtooltip\">\n",
       "                                <p id=\"nonprimary\">dehydr_dbe_wash2_notes</p>\n",
       "                                <span class=\"djtooltiptext\"></span>\n",
       "                            </div></th><th><div class=\"djtooltip\">\n",
       "                                <p id=\"nonprimary\">clearing_notes</p>\n",
       "                                <span class=\"djtooltiptext\"></span>\n",
       "                            </div> </th> </tr> </thead>\n",
       "                <tbody> <tr> <td>ahoag</td>\n",
       "<td>test</td>\n",
       "<td>sample-001</td>\n",
       "<td></td>\n",
       "<td>None</td>\n",
       "<td></td>\n",
       "<td>None</td>\n",
       "<td></td>\n",
       "<td>None</td>\n",
       "<td></td>\n",
       "<td>None</td>\n",
       "<td></td>\n",
       "<td>None</td>\n",
       "<td></td>\n",
       "<td>None</td>\n",
       "<td></td>\n",
       "<td>None</td>\n",
       "<td></td>\n",
       "<td>None</td>\n",
       "<td></td>\n",
       "<td>None</td>\n",
       "<td></td>\n",
       "<td>None</td>\n",
       "<td></td>\n",
       "<td>None</td>\n",
       "<td></td>\n",
       "<td>None</td>\n",
       "<td></td>\n",
       "<td>None</td>\n",
       "<td></td>\n",
       "<td>None</td>\n",
       "<td></td>\n",
       "<td></td></tr><tr><td>ahoag</td>\n",
       "<td>test6</td>\n",
       "<td>sample-001</td>\n",
       "<td>some notes</td>\n",
       "<td>None</td>\n",
       "<td></td>\n",
       "<td>None</td>\n",
       "<td></td>\n",
       "<td>None</td>\n",
       "<td></td>\n",
       "<td>2019-12-03 13:01:00</td>\n",
       "<td></td>\n",
       "<td>None</td>\n",
       "<td></td>\n",
       "<td>None</td>\n",
       "<td></td>\n",
       "<td>None</td>\n",
       "<td></td>\n",
       "<td>None</td>\n",
       "<td></td>\n",
       "<td>None</td>\n",
       "<td></td>\n",
       "<td>None</td>\n",
       "<td></td>\n",
       "<td>None</td>\n",
       "<td></td>\n",
       "<td>None</td>\n",
       "<td></td>\n",
       "<td>None</td>\n",
       "<td></td>\n",
       "<td>None</td>\n",
       "<td></td>\n",
       "<td>final notes</td> </tr> </tbody>\n",
       "            </table>\n",
       "            \n",
       "            <p>Total: 2</p></div>\n",
       "            "
      ],
      "text/plain": [
       "*username    *request_name  *sample_name   exp_notes      time_pbs_wash1 pbs_wash1_note time_pbs_wash2 pbs_wash2_note time_pbs_wash3 pbs_wash3_note time_dehydr_me dehydr_methano time_dehydr_me dehydr_methano time_dehydr_me dehydr_methano time_dehydr_me dehydr_methano time_dehydr_me dehydr_methano time_dehydr_me dehydr_methano time_dehydr_dc dehydr_dcm_66p time_dehydr_dc dehydr_dcm_was time_dehydr_dc dehydr_dcm_was time_dehydr_db dehydr_dbe_was time_dehydr_db dehydr_dbe_was clearing_notes\n",
       "+----------+ +------------+ +------------+ +------------+ +------------+ +------------+ +------------+ +------------+ +------------+ +------------+ +------------+ +------------+ +------------+ +------------+ +------------+ +------------+ +------------+ +------------+ +------------+ +------------+ +------------+ +------------+ +------------+ +------------+ +------------+ +------------+ +------------+ +------------+ +------------+ +------------+ +------------+ +------------+ +------------+\n",
       "ahoag        test           sample-001                    None                          None                          None                          None                          None                          None                          None                          None                          None                          None                          None                          None                          None                          None                                        \n",
       "ahoag        test6          sample-001     some notes     None                          None                          None                          2019-12-03 13:                None                          None                          None                          None                          None                          None                          None                          None                          None                          None                          final notes   \n",
       " (Total: 2)"
      ]
     },
     "execution_count": 134,
     "metadata": {},
     "output_type": "execute_result"
    }
   ],
   "source": [
    "schema.Sample.IdiscoAbbreviatedClearing()"
   ]
  },
  {
   "cell_type": "code",
   "execution_count": 133,
   "metadata": {},
   "outputs": [
    {
     "data": {
      "text/html": [
       "\n",
       "        \n",
       "        <style type=\"text/css\">\n",
       "            .Relation{\n",
       "                border-collapse:collapse;\n",
       "            }\n",
       "            .Relation th{\n",
       "                background: #A0A0A0; color: #ffffff; padding:4px; border:#f0e0e0 1px solid;\n",
       "                font-weight: normal; font-family: monospace; font-size: 100%;\n",
       "            }\n",
       "            .Relation td{\n",
       "                padding:4px; border:#f0e0e0 1px solid; font-size:100%;\n",
       "            }\n",
       "            .Relation tr:nth-child(odd){\n",
       "                background: #ffffff;\n",
       "            }\n",
       "            .Relation tr:nth-child(even){\n",
       "                background: #f3f1ff;\n",
       "            }\n",
       "            /* Tooltip container */\n",
       "            .djtooltip {\n",
       "            }\n",
       "            /* Tooltip text */\n",
       "            .djtooltip .djtooltiptext {\n",
       "                visibility: hidden;\n",
       "                width: 120px;\n",
       "                background-color: black;\n",
       "                color: #fff;\n",
       "                text-align: center;\n",
       "                padding: 5px 0;\n",
       "                border-radius: 6px;\n",
       "                /* Position the tooltip text - see examples below! */\n",
       "                position: absolute;\n",
       "                z-index: 1;\n",
       "            }\n",
       "            #primary {\n",
       "                font-weight: bold;\n",
       "                color: black;\n",
       "            }\n",
       "\n",
       "            #nonprimary {\n",
       "                font-weight: normal;\n",
       "                color: white;\n",
       "            }\n",
       "\n",
       "            /* Show the tooltip text when you mouse over the tooltip container */\n",
       "            .djtooltip:hover .djtooltiptext {\n",
       "                visibility: visible;\n",
       "            }\n",
       "        </style>\n",
       "        \n",
       "        <b>Samples from a particular request</b>\n",
       "            <div style=\"max-height:1000px;max-width:1500px;overflow:auto;\">\n",
       "            <table border=\"1\" class=\"Relation\">\n",
       "                <thead> <tr style=\"text-align: right;\"> <th> <div class=\"djtooltip\">\n",
       "                                <p id=\"primary\">username</p>\n",
       "                                <span class=\"djtooltiptext\">user in the lab</span>\n",
       "                            </div></th><th><div class=\"djtooltip\">\n",
       "                                <p id=\"primary\">request_name</p>\n",
       "                                <span class=\"djtooltiptext\"></span>\n",
       "                            </div></th><th><div class=\"djtooltip\">\n",
       "                                <p id=\"primary\">sample_name</p>\n",
       "                                <span class=\"djtooltiptext\"></span>\n",
       "                            </div></th><th><div class=\"djtooltip\">\n",
       "                                <p id=\"nonprimary\">perfusion_date</p>\n",
       "                                <span class=\"djtooltiptext\"></span>\n",
       "                            </div></th><th><div class=\"djtooltip\">\n",
       "                                <p id=\"nonprimary\">expected_handoff_date</p>\n",
       "                                <span class=\"djtooltiptext\"></span>\n",
       "                            </div></th><th><div class=\"djtooltip\">\n",
       "                                <p id=\"nonprimary\">clearer</p>\n",
       "                                <span class=\"djtooltiptext\">netid of person doing the clearing</span>\n",
       "                            </div></th><th><div class=\"djtooltip\">\n",
       "                                <p id=\"nonprimary\">clearing_protocol</p>\n",
       "                                <span class=\"djtooltiptext\"></span>\n",
       "                            </div></th><th><div class=\"djtooltip\">\n",
       "                                <p id=\"nonprimary\">clearing_progress</p>\n",
       "                                <span class=\"djtooltiptext\"></span>\n",
       "                            </div></th><th><div class=\"djtooltip\">\n",
       "                                <p id=\"nonprimary\">antibody1</p>\n",
       "                                <span class=\"djtooltiptext\"></span>\n",
       "                            </div></th><th><div class=\"djtooltip\">\n",
       "                                <p id=\"nonprimary\">antibody2</p>\n",
       "                                <span class=\"djtooltiptext\"></span>\n",
       "                            </div></th><th><div class=\"djtooltip\">\n",
       "                                <p id=\"nonprimary\">notes_for_clearer</p>\n",
       "                                <span class=\"djtooltiptext\"></span>\n",
       "                            </div></th><th><div class=\"djtooltip\">\n",
       "                                <p id=\"nonprimary\">processor</p>\n",
       "                                <span class=\"djtooltiptext\">netid of person doing the processing</span>\n",
       "                            </div></th><th><div class=\"djtooltip\">\n",
       "                                <p id=\"nonprimary\">processing_progress</p>\n",
       "                                <span class=\"djtooltiptext\"></span>\n",
       "                            </div></th><th><div class=\"djtooltip\">\n",
       "                                <p id=\"nonprimary\">stitching_method</p>\n",
       "                                <span class=\"djtooltiptext\"></span>\n",
       "                            </div></th><th><div class=\"djtooltip\">\n",
       "                                <p id=\"nonprimary\">blend_type</p>\n",
       "                                <span class=\"djtooltiptext\"></span>\n",
       "                            </div></th><th><div class=\"djtooltip\">\n",
       "                                <p id=\"nonprimary\">notes_from_processing</p>\n",
       "                                <span class=\"djtooltiptext\"></span>\n",
       "                            </div> </th> </tr> </thead>\n",
       "                <tbody> <tr> <td>ahoag</td>\n",
       "<td>test6</td>\n",
       "<td>sample-001</td>\n",
       "<td>None</td>\n",
       "<td>None</td>\n",
       "<td>ahoag</td>\n",
       "<td>iDISCO abbreviated clearing</td>\n",
       "<td>complete</td>\n",
       "<td>an old antibody</td>\n",
       "<td></td>\n",
       "<td></td>\n",
       "<td>not yet assigned</td>\n",
       "<td>not started</td>\n",
       "<td>blending</td>\n",
       "<td>sigmoidal</td>\n",
       "<td></td></tr><tr><td>ahoag</td>\n",
       "<td>test6</td>\n",
       "<td>sample-002</td>\n",
       "<td>None</td>\n",
       "<td>None</td>\n",
       "<td>not yet assigned</td>\n",
       "<td>iDISCO abbreviated clearing</td>\n",
       "<td>incomplete</td>\n",
       "<td>a new antibody</td>\n",
       "<td></td>\n",
       "<td></td>\n",
       "<td>not yet assigned</td>\n",
       "<td>not started</td>\n",
       "<td>blending</td>\n",
       "<td>sigmoidal</td>\n",
       "<td></td> </tr> </tbody>\n",
       "            </table>\n",
       "            \n",
       "            <p>Total: 2</p></div>\n",
       "            "
      ],
      "text/plain": [
       "*username    *request_name  *sample_name   perfusion_date expected_hando clearer        clearing_proto clearing_progr antibody1      antibody2     notes_for_clea processor      processing_pro stitching_meth blend_type     notes_from_pro\n",
       "+----------+ +------------+ +------------+ +------------+ +------------+ +------------+ +------------+ +------------+ +------------+ +-----------+ +------------+ +------------+ +------------+ +------------+ +------------+ +------------+\n",
       "ahoag        test6          sample-001     None           None           ahoag          iDISCO abbrevi complete       an old antibod                              not yet assign not started    blending       sigmoidal                    \n",
       "ahoag        test6          sample-002     None           None           not yet assign iDISCO abbrevi incomplete     a new antibody                              not yet assign not started    blending       sigmoidal                    \n",
       " (Total: 2)"
      ]
     },
     "execution_count": 133,
     "metadata": {},
     "output_type": "execute_result"
    }
   ],
   "source": [
    "sample_contents = schema.Sample & 'request_name=\"test6\"' & 'username=\"ahoag\"' \n",
    "sample_contents"
   ]
  },
  {
   "cell_type": "code",
   "execution_count": 142,
   "metadata": {},
   "outputs": [
    {
     "name": "stdout",
     "output_type": "stream",
     "text": [
      "list index out of range\n"
     ]
    }
   ],
   "source": [
    "l=[1,2]\n",
    "try:\n",
    "    a = l[3]\n",
    "except Exception as e:\n",
    "    print(e)"
   ]
  },
  {
   "cell_type": "code",
   "execution_count": 138,
   "metadata": {},
   "outputs": [
    {
     "name": "stderr",
     "output_type": "stream",
     "text": [
      "/home/ahoag/anaconda3/envs/lightserv/lib/python3.7/site-packages/datajoint/connection.py:215: UserWarning: MySQL server has gone away. Reconnecting to the server.\n",
      "  warnings.warn(\"MySQL server has gone away. Reconnecting to the server.\")\n"
     ]
    },
    {
     "ename": "DataJointError",
     "evalue": "fetch1 should only return one tuple. 2 tuples were found",
     "output_type": "error",
     "traceback": [
      "\u001b[0;31m---------------------------------------------------------------------------\u001b[0m",
      "\u001b[0;31mDataJointError\u001b[0m                            Traceback (most recent call last)",
      "\u001b[0;32m<ipython-input-138-4e6e6008ec71>\u001b[0m in \u001b[0;36m<module>\u001b[0;34m\u001b[0m\n\u001b[0;32m----> 1\u001b[0;31m \u001b[0msample_contents\u001b[0m\u001b[0;34m.\u001b[0m\u001b[0mfetch1\u001b[0m\u001b[0;34m(\u001b[0m\u001b[0;34m'antibody1'\u001b[0m\u001b[0;34m,\u001b[0m\u001b[0;34m'antibody2'\u001b[0m\u001b[0;34m)\u001b[0m\u001b[0;34m\u001b[0m\u001b[0;34m\u001b[0m\u001b[0m\n\u001b[0m",
      "\u001b[0;32m~/anaconda3/envs/lightserv/lib/python3.7/site-packages/datajoint/fetch.py\u001b[0m in \u001b[0;36m__call__\u001b[0;34m(self, squeeze, download_path, *attrs)\u001b[0m\n\u001b[1;32m    241\u001b[0m             \u001b[0mresult\u001b[0m \u001b[0;34m=\u001b[0m \u001b[0mself\u001b[0m\u001b[0;34m.\u001b[0m\u001b[0m_expression\u001b[0m\u001b[0;34m.\u001b[0m\u001b[0mproj\u001b[0m\u001b[0;34m(\u001b[0m\u001b[0;34m*\u001b[0m\u001b[0mattributes\u001b[0m\u001b[0;34m)\u001b[0m\u001b[0;34m.\u001b[0m\u001b[0mfetch\u001b[0m\u001b[0;34m(\u001b[0m\u001b[0msqueeze\u001b[0m\u001b[0;34m=\u001b[0m\u001b[0msqueeze\u001b[0m\u001b[0;34m,\u001b[0m \u001b[0mdownload_path\u001b[0m\u001b[0;34m=\u001b[0m\u001b[0mdownload_path\u001b[0m\u001b[0;34m)\u001b[0m\u001b[0;34m\u001b[0m\u001b[0;34m\u001b[0m\u001b[0m\n\u001b[1;32m    242\u001b[0m             \u001b[0;32mif\u001b[0m \u001b[0mlen\u001b[0m\u001b[0;34m(\u001b[0m\u001b[0mresult\u001b[0m\u001b[0;34m)\u001b[0m \u001b[0;34m!=\u001b[0m \u001b[0;36m1\u001b[0m\u001b[0;34m:\u001b[0m\u001b[0;34m\u001b[0m\u001b[0;34m\u001b[0m\u001b[0m\n\u001b[0;32m--> 243\u001b[0;31m                 \u001b[0;32mraise\u001b[0m \u001b[0mDataJointError\u001b[0m\u001b[0;34m(\u001b[0m\u001b[0;34m'fetch1 should only return one tuple. %d tuples were found'\u001b[0m \u001b[0;34m%\u001b[0m \u001b[0mlen\u001b[0m\u001b[0;34m(\u001b[0m\u001b[0mresult\u001b[0m\u001b[0;34m)\u001b[0m\u001b[0;34m)\u001b[0m\u001b[0;34m\u001b[0m\u001b[0;34m\u001b[0m\u001b[0m\n\u001b[0m\u001b[1;32m    244\u001b[0m             return_values = tuple(\n\u001b[1;32m    245\u001b[0m                 \u001b[0mnext\u001b[0m\u001b[0;34m(\u001b[0m\u001b[0mto_dicts\u001b[0m\u001b[0;34m(\u001b[0m\u001b[0mresult\u001b[0m\u001b[0;34m[\u001b[0m\u001b[0mself\u001b[0m\u001b[0;34m.\u001b[0m\u001b[0m_expression\u001b[0m\u001b[0;34m.\u001b[0m\u001b[0mprimary_key\u001b[0m\u001b[0;34m]\u001b[0m\u001b[0;34m)\u001b[0m\u001b[0;34m)\u001b[0m \u001b[0;32mif\u001b[0m \u001b[0mis_key\u001b[0m\u001b[0;34m(\u001b[0m\u001b[0mattribute\u001b[0m\u001b[0;34m)\u001b[0m \u001b[0;32melse\u001b[0m \u001b[0mresult\u001b[0m\u001b[0;34m[\u001b[0m\u001b[0mattribute\u001b[0m\u001b[0;34m]\u001b[0m\u001b[0;34m[\u001b[0m\u001b[0;36m0\u001b[0m\u001b[0;34m]\u001b[0m\u001b[0;34m\u001b[0m\u001b[0;34m\u001b[0m\u001b[0m\n",
      "\u001b[0;31mDataJointError\u001b[0m: fetch1 should only return one tuple. 2 tuples were found"
     ]
    }
   ],
   "source": [
    "sample_contents.fetch1('antibody1','antibody2')"
   ]
  },
  {
   "cell_type": "code",
   "execution_count": 128,
   "metadata": {},
   "outputs": [],
   "source": [
    "dj.Table._update?"
   ]
  },
  {
   "cell_type": "code",
   "execution_count": 100,
   "metadata": {},
   "outputs": [],
   "source": [
    "resolution_dict = {'image_resolution': '1.3x', 'channels': [{'channel_name': '488', 'registration': False, 'injection_detection': False, 'probe_detection': False, 'cell_detection': False, 'csrf_token': ''}, {'channel_name': '555', 'registration': False, 'injection_detection': False, 'probe_detection': False, 'cell_detection': False, 'csrf_token': ''}, {'channel_name': '647', 'registration': False, 'injection_detection': False, 'probe_detection': False, 'cell_detection': False, 'csrf_token': ''}, {'channel_name': '790', 'registration': False, 'injection_detection': False, 'probe_detection': False, 'cell_detection': False, 'csrf_token': ''}], 'notes_for_imager': '', 'notes_for_processor': '', 'atlas_name': 'allen_2017', 'csrf_token': ''}"
   ]
  },
  {
   "cell_type": "code",
   "execution_count": 114,
   "metadata": {},
   "outputs": [
    {
     "data": {
      "text/plain": [
       "['registration',\n",
       " 'injection_detection',\n",
       " 'probe_detection',\n",
       " 'cell_detection',\n",
       " 'registration',\n",
       " 'injection_detection',\n",
       " 'probe_detection',\n",
       " 'cell_detection',\n",
       " 'registration',\n",
       " 'injection_detection',\n",
       " 'probe_detection',\n",
       " 'cell_detection',\n",
       " 'registration',\n",
       " 'injection_detection',\n",
       " 'probe_detection',\n",
       " 'cell_detection']"
      ]
     },
     "execution_count": 114,
     "metadata": {},
     "output_type": "execute_result"
    }
   ],
   "source": [
    "all_imaging_modes = ['registration','injection_detection','probe_detection','cell_detection']\n",
    "channels = resolution_dict['channels']\n",
    "[item for subdict in channels for item in subdict if item in all_imaging_modes and subdict[item]==False]"
   ]
  },
  {
   "cell_type": "code",
   "execution_count": 29,
   "metadata": {
    "collapsed": true
   },
   "outputs": [],
   "source": [
    "insert_dict = {'username': 'ahoag',\n",
    "  'experiment_name': 'test2',\n",
    "  'sample_name': 'sample-001',\n",
    "  'image_resolution': '1.3x',\n",
    "  'channel_name': '488',\n",
    "  'imaging_request_number': 2,\n",
    "  'registration': 1,\n",
    "  'injection_detection': 0,\n",
    "  'probe_detection': 0,\n",
    "  'cell_detection': 0,\n",
    "  'notes_for_imager': '',\n",
    "  'notes_from_imaging': '',\n",
    "  'atlas_name': 'allen_2017',\n",
    "  'notes_for_processor': '',\n",
    "  'tiling_scheme': '1x1',\n",
    "  'tiling_overlap': 0.0,\n",
    "  'z_step': 10,\n",
    "    }"
   ]
  },
  {
   "cell_type": "code",
   "execution_count": 9,
   "metadata": {},
   "outputs": [
    {
     "data": {
      "text/html": [
       "\n",
       "        \n",
       "        <style type=\"text/css\">\n",
       "            .Relation{\n",
       "                border-collapse:collapse;\n",
       "            }\n",
       "            .Relation th{\n",
       "                background: #A0A0A0; color: #ffffff; padding:4px; border:#f0e0e0 1px solid;\n",
       "                font-weight: normal; font-family: monospace; font-size: 100%;\n",
       "            }\n",
       "            .Relation td{\n",
       "                padding:4px; border:#f0e0e0 1px solid; font-size:100%;\n",
       "            }\n",
       "            .Relation tr:nth-child(odd){\n",
       "                background: #ffffff;\n",
       "            }\n",
       "            .Relation tr:nth-child(even){\n",
       "                background: #f3f1ff;\n",
       "            }\n",
       "            /* Tooltip container */\n",
       "            .djtooltip {\n",
       "            }\n",
       "            /* Tooltip text */\n",
       "            .djtooltip .djtooltiptext {\n",
       "                visibility: hidden;\n",
       "                width: 120px;\n",
       "                background-color: black;\n",
       "                color: #fff;\n",
       "                text-align: center;\n",
       "                padding: 5px 0;\n",
       "                border-radius: 6px;\n",
       "                /* Position the tooltip text - see examples below! */\n",
       "                position: absolute;\n",
       "                z-index: 1;\n",
       "            }\n",
       "            #primary {\n",
       "                font-weight: bold;\n",
       "                color: black;\n",
       "            }\n",
       "\n",
       "            #nonprimary {\n",
       "                font-weight: normal;\n",
       "                color: white;\n",
       "            }\n",
       "\n",
       "            /* Show the tooltip text when you mouse over the tooltip container */\n",
       "            .djtooltip:hover .djtooltiptext {\n",
       "                visibility: visible;\n",
       "            }\n",
       "        </style>\n",
       "        \n",
       "        <b>Experiments performed using the light sheet microscope</b>\n",
       "            <div style=\"max-height:1000px;max-width:1500px;overflow:auto;\">\n",
       "            <table border=\"1\" class=\"Relation\">\n",
       "                <thead> <tr style=\"text-align: right;\"> <th> <div class=\"djtooltip\">\n",
       "                                <p id=\"primary\">username</p>\n",
       "                                <span class=\"djtooltiptext\">user in the lab</span>\n",
       "                            </div></th><th><div class=\"djtooltip\">\n",
       "                                <p id=\"primary\">experiment_name</p>\n",
       "                                <span class=\"djtooltiptext\"></span>\n",
       "                            </div></th><th><div class=\"djtooltip\">\n",
       "                                <p id=\"nonprimary\">date_submitted</p>\n",
       "                                <span class=\"djtooltiptext\">The date it was submitted as a request</span>\n",
       "                            </div></th><th><div class=\"djtooltip\">\n",
       "                                <p id=\"nonprimary\">time_submitted</p>\n",
       "                                <span class=\"djtooltiptext\">The time it was submitted as a request</span>\n",
       "                            </div></th><th><div class=\"djtooltip\">\n",
       "                                <p id=\"nonprimary\">labname</p>\n",
       "                                <span class=\"djtooltiptext\"></span>\n",
       "                            </div></th><th><div class=\"djtooltip\">\n",
       "                                <p id=\"nonprimary\">correspondence_email</p>\n",
       "                                <span class=\"djtooltiptext\"></span>\n",
       "                            </div></th><th><div class=\"djtooltip\">\n",
       "                                <p id=\"nonprimary\">description</p>\n",
       "                                <span class=\"djtooltiptext\"></span>\n",
       "                            </div></th><th><div class=\"djtooltip\">\n",
       "                                <p id=\"nonprimary\">species</p>\n",
       "                                <span class=\"djtooltiptext\"></span>\n",
       "                            </div></th><th><div class=\"djtooltip\">\n",
       "                                <p id=\"nonprimary\">number_of_samples</p>\n",
       "                                <span class=\"djtooltiptext\"></span>\n",
       "                            </div></th><th><div class=\"djtooltip\">\n",
       "                                <p id=\"nonprimary\">sample_prefix</p>\n",
       "                                <span class=\"djtooltiptext\"></span>\n",
       "                            </div></th><th><div class=\"djtooltip\">\n",
       "                                <p id=\"nonprimary\">uniform_clearing</p>\n",
       "                                <span class=\"djtooltiptext\"></span>\n",
       "                            </div></th><th><div class=\"djtooltip\">\n",
       "                                <p id=\"nonprimary\">uniform_imaging</p>\n",
       "                                <span class=\"djtooltiptext\"></span>\n",
       "                            </div> </th> </tr> </thead>\n",
       "                <tbody> <tr> <td>ahoag</td>\n",
       "<td>test</td>\n",
       "<td>2019-11-27</td>\n",
       "<td>9:15:28</td>\n",
       "<td>braincogs</td>\n",
       "<td>ahoag@princeton.edu</td>\n",
       "<td>test</td>\n",
       "<td>mouse</td>\n",
       "<td>1</td>\n",
       "<td>sample</td>\n",
       "<td>1</td>\n",
       "<td>1</td> </tr> </tbody>\n",
       "            </table>\n",
       "            \n",
       "            <p>Total: 1</p></div>\n",
       "            "
      ],
      "text/plain": [
       "*username    *experiment_na date_submitted time_submitted labname       correspondence description    species     number_of_samp sample_prefix  uniform_cleari uniform_imagin\n",
       "+----------+ +------------+ +------------+ +------------+ +-----------+ +------------+ +------------+ +---------+ +------------+ +------------+ +------------+ +------------+\n",
       "ahoag        test           2019-11-27     9:15:28        braincogs     ahoag@princeto test           mouse       1              sample         1              1             \n",
       " (Total: 1)"
      ]
     },
     "execution_count": 9,
     "metadata": {},
     "output_type": "execute_result"
    }
   ],
   "source": [
    "exp_contents = schema.Experiment()\n",
    "exp_contents"
   ]
  },
  {
   "cell_type": "code",
   "execution_count": 8,
   "metadata": {},
   "outputs": [
    {
     "data": {
      "text/html": [
       "\n",
       "        \n",
       "        <style type=\"text/css\">\n",
       "            .Relation{\n",
       "                border-collapse:collapse;\n",
       "            }\n",
       "            .Relation th{\n",
       "                background: #A0A0A0; color: #ffffff; padding:4px; border:#f0e0e0 1px solid;\n",
       "                font-weight: normal; font-family: monospace; font-size: 100%;\n",
       "            }\n",
       "            .Relation td{\n",
       "                padding:4px; border:#f0e0e0 1px solid; font-size:100%;\n",
       "            }\n",
       "            .Relation tr:nth-child(odd){\n",
       "                background: #ffffff;\n",
       "            }\n",
       "            .Relation tr:nth-child(even){\n",
       "                background: #f3f1ff;\n",
       "            }\n",
       "            /* Tooltip container */\n",
       "            .djtooltip {\n",
       "            }\n",
       "            /* Tooltip text */\n",
       "            .djtooltip .djtooltiptext {\n",
       "                visibility: hidden;\n",
       "                width: 120px;\n",
       "                background-color: black;\n",
       "                color: #fff;\n",
       "                text-align: center;\n",
       "                padding: 5px 0;\n",
       "                border-radius: 6px;\n",
       "                /* Position the tooltip text - see examples below! */\n",
       "                position: absolute;\n",
       "                z-index: 1;\n",
       "            }\n",
       "            #primary {\n",
       "                font-weight: bold;\n",
       "                color: black;\n",
       "            }\n",
       "\n",
       "            #nonprimary {\n",
       "                font-weight: normal;\n",
       "                color: white;\n",
       "            }\n",
       "\n",
       "            /* Show the tooltip text when you mouse over the tooltip container */\n",
       "            .djtooltip:hover .djtooltiptext {\n",
       "                visibility: visible;\n",
       "            }\n",
       "        </style>\n",
       "        \n",
       "        <b>Samples from a particular experiment</b>\n",
       "            <div style=\"max-height:1000px;max-width:1500px;overflow:auto;\">\n",
       "            <table border=\"1\" class=\"Relation\">\n",
       "                <thead> <tr style=\"text-align: right;\"> <th> <div class=\"djtooltip\">\n",
       "                                <p id=\"primary\">username</p>\n",
       "                                <span class=\"djtooltiptext\">user in the lab</span>\n",
       "                            </div></th><th><div class=\"djtooltip\">\n",
       "                                <p id=\"primary\">experiment_name</p>\n",
       "                                <span class=\"djtooltiptext\"></span>\n",
       "                            </div></th><th><div class=\"djtooltip\">\n",
       "                                <p id=\"primary\">sample_name</p>\n",
       "                                <span class=\"djtooltiptext\"></span>\n",
       "                            </div></th><th><div class=\"djtooltip\">\n",
       "                                <p id=\"nonprimary\">perfusion_date</p>\n",
       "                                <span class=\"djtooltiptext\"></span>\n",
       "                            </div></th><th><div class=\"djtooltip\">\n",
       "                                <p id=\"nonprimary\">expected_handoff_date</p>\n",
       "                                <span class=\"djtooltiptext\"></span>\n",
       "                            </div></th><th><div class=\"djtooltip\">\n",
       "                                <p id=\"nonprimary\">clearer</p>\n",
       "                                <span class=\"djtooltiptext\">netid of person doing the clearing</span>\n",
       "                            </div></th><th><div class=\"djtooltip\">\n",
       "                                <p id=\"nonprimary\">clearing_protocol</p>\n",
       "                                <span class=\"djtooltiptext\"></span>\n",
       "                            </div></th><th><div class=\"djtooltip\">\n",
       "                                <p id=\"nonprimary\">clearing_progress</p>\n",
       "                                <span class=\"djtooltiptext\"></span>\n",
       "                            </div></th><th><div class=\"djtooltip\">\n",
       "                                <p id=\"nonprimary\">antibody1</p>\n",
       "                                <span class=\"djtooltiptext\"></span>\n",
       "                            </div></th><th><div class=\"djtooltip\">\n",
       "                                <p id=\"nonprimary\">antibody2</p>\n",
       "                                <span class=\"djtooltiptext\"></span>\n",
       "                            </div></th><th><div class=\"djtooltip\">\n",
       "                                <p id=\"nonprimary\">notes_for_clearer</p>\n",
       "                                <span class=\"djtooltiptext\"></span>\n",
       "                            </div></th><th><div class=\"djtooltip\">\n",
       "                                <p id=\"nonprimary\">imager</p>\n",
       "                                <span class=\"djtooltiptext\">netid of person doing the imaging</span>\n",
       "                            </div></th><th><div class=\"djtooltip\">\n",
       "                                <p id=\"nonprimary\">processor</p>\n",
       "                                <span class=\"djtooltiptext\">netid of person doing the processing</span>\n",
       "                            </div></th><th><div class=\"djtooltip\">\n",
       "                                <p id=\"nonprimary\">processing_progress</p>\n",
       "                                <span class=\"djtooltiptext\"></span>\n",
       "                            </div></th><th><div class=\"djtooltip\">\n",
       "                                <p id=\"nonprimary\">stitching_method</p>\n",
       "                                <span class=\"djtooltiptext\"></span>\n",
       "                            </div></th><th><div class=\"djtooltip\">\n",
       "                                <p id=\"nonprimary\">blend_type</p>\n",
       "                                <span class=\"djtooltiptext\"></span>\n",
       "                            </div></th><th><div class=\"djtooltip\">\n",
       "                                <p id=\"nonprimary\">notes_from_processing</p>\n",
       "                                <span class=\"djtooltiptext\"></span>\n",
       "                            </div> </th> </tr> </thead>\n",
       "                <tbody> <tr> <td>ahoag</td>\n",
       "<td>test</td>\n",
       "<td>sample-001</td>\n",
       "<td>None</td>\n",
       "<td>None</td>\n",
       "<td>not yet assigned</td>\n",
       "<td>iDISCO abbreviated clearing</td>\n",
       "<td>incomplete</td>\n",
       "<td></td>\n",
       "<td></td>\n",
       "<td></td>\n",
       "<td>not yet assigned</td>\n",
       "<td>not yet assigned</td>\n",
       "<td>not started</td>\n",
       "<td>blending</td>\n",
       "<td>sigmoidal</td>\n",
       "<td></td> </tr> </tbody>\n",
       "            </table>\n",
       "            \n",
       "            <p>Total: 1</p></div>\n",
       "            "
      ],
      "text/plain": [
       "*username    *experiment_na *sample_name   perfusion_date expected_hando clearer        clearing_proto clearing_progr antibody1     antibody2     notes_for_clea imager         processor      processing_pro stitching_meth blend_type     notes_from_pro\n",
       "+----------+ +------------+ +------------+ +------------+ +------------+ +------------+ +------------+ +------------+ +-----------+ +-----------+ +------------+ +------------+ +------------+ +------------+ +------------+ +------------+ +------------+\n",
       "ahoag        test           sample-001     None           None           not yet assign iDISCO abbrevi incomplete                                                not yet assign not yet assign not started    blending       sigmoidal                    \n",
       " (Total: 1)"
      ]
     },
     "execution_count": 8,
     "metadata": {},
     "output_type": "execute_result"
    }
   ],
   "source": [
    "sample_contents = schema.Sample()\n",
    "sample_contents"
   ]
  },
  {
   "cell_type": "code",
   "execution_count": 18,
   "metadata": {},
   "outputs": [
    {
     "data": {
      "text/html": [
       "\n",
       "        \n",
       "        <style type=\"text/css\">\n",
       "            .Relation{\n",
       "                border-collapse:collapse;\n",
       "            }\n",
       "            .Relation th{\n",
       "                background: #A0A0A0; color: #ffffff; padding:4px; border:#f0e0e0 1px solid;\n",
       "                font-weight: normal; font-family: monospace; font-size: 100%;\n",
       "            }\n",
       "            .Relation td{\n",
       "                padding:4px; border:#f0e0e0 1px solid; font-size:100%;\n",
       "            }\n",
       "            .Relation tr:nth-child(odd){\n",
       "                background: #ffffff;\n",
       "            }\n",
       "            .Relation tr:nth-child(even){\n",
       "                background: #f3f1ff;\n",
       "            }\n",
       "            /* Tooltip container */\n",
       "            .djtooltip {\n",
       "            }\n",
       "            /* Tooltip text */\n",
       "            .djtooltip .djtooltiptext {\n",
       "                visibility: hidden;\n",
       "                width: 120px;\n",
       "                background-color: black;\n",
       "                color: #fff;\n",
       "                text-align: center;\n",
       "                padding: 5px 0;\n",
       "                border-radius: 6px;\n",
       "                /* Position the tooltip text - see examples below! */\n",
       "                position: absolute;\n",
       "                z-index: 1;\n",
       "            }\n",
       "            #primary {\n",
       "                font-weight: bold;\n",
       "                color: black;\n",
       "            }\n",
       "\n",
       "            #nonprimary {\n",
       "                font-weight: normal;\n",
       "                color: white;\n",
       "            }\n",
       "\n",
       "            /* Show the tooltip text when you mouse over the tooltip container */\n",
       "            .djtooltip:hover .djtooltiptext {\n",
       "                visibility: visible;\n",
       "            }\n",
       "        </style>\n",
       "        \n",
       "        <b>Imaging parameters for a channel, belonging to a sample</b>\n",
       "            <div style=\"max-height:1000px;max-width:1500px;overflow:auto;\">\n",
       "            <table border=\"1\" class=\"Relation\">\n",
       "                <thead> <tr style=\"text-align: right;\"> <th> <div class=\"djtooltip\">\n",
       "                                <p id=\"primary\">username</p>\n",
       "                                <span class=\"djtooltiptext\">user in the lab</span>\n",
       "                            </div></th><th><div class=\"djtooltip\">\n",
       "                                <p id=\"primary\">experiment_name</p>\n",
       "                                <span class=\"djtooltiptext\"></span>\n",
       "                            </div></th><th><div class=\"djtooltip\">\n",
       "                                <p id=\"primary\">sample_name</p>\n",
       "                                <span class=\"djtooltiptext\"></span>\n",
       "                            </div></th><th><div class=\"djtooltip\">\n",
       "                                <p id=\"primary\">image_resolution</p>\n",
       "                                <span class=\"djtooltiptext\"></span>\n",
       "                            </div></th><th><div class=\"djtooltip\">\n",
       "                                <p id=\"primary\">channel_name</p>\n",
       "                                <span class=\"djtooltiptext\"></span>\n",
       "                            </div></th><th><div class=\"djtooltip\">\n",
       "                                <p id=\"primary\">imaging_request_number</p>\n",
       "                                <span class=\"djtooltiptext\"></span>\n",
       "                            </div></th><th><div class=\"djtooltip\">\n",
       "                                <p id=\"nonprimary\">imaging_date</p>\n",
       "                                <span class=\"djtooltiptext\"></span>\n",
       "                            </div></th><th><div class=\"djtooltip\">\n",
       "                                <p id=\"nonprimary\">imaging_progress</p>\n",
       "                                <span class=\"djtooltiptext\"></span>\n",
       "                            </div></th><th><div class=\"djtooltip\">\n",
       "                                <p id=\"nonprimary\">registration</p>\n",
       "                                <span class=\"djtooltiptext\"></span>\n",
       "                            </div></th><th><div class=\"djtooltip\">\n",
       "                                <p id=\"nonprimary\">injection_detection</p>\n",
       "                                <span class=\"djtooltiptext\"></span>\n",
       "                            </div></th><th><div class=\"djtooltip\">\n",
       "                                <p id=\"nonprimary\">probe_detection</p>\n",
       "                                <span class=\"djtooltiptext\"></span>\n",
       "                            </div></th><th><div class=\"djtooltip\">\n",
       "                                <p id=\"nonprimary\">cell_detection</p>\n",
       "                                <span class=\"djtooltiptext\"></span>\n",
       "                            </div></th><th><div class=\"djtooltip\">\n",
       "                                <p id=\"nonprimary\">notes_for_imager</p>\n",
       "                                <span class=\"djtooltiptext\"></span>\n",
       "                            </div></th><th><div class=\"djtooltip\">\n",
       "                                <p id=\"nonprimary\">notes_from_imaging</p>\n",
       "                                <span class=\"djtooltiptext\"></span>\n",
       "                            </div></th><th><div class=\"djtooltip\">\n",
       "                                <p id=\"nonprimary\">atlas_name</p>\n",
       "                                <span class=\"djtooltiptext\"></span>\n",
       "                            </div></th><th><div class=\"djtooltip\">\n",
       "                                <p id=\"nonprimary\">notes_for_processor</p>\n",
       "                                <span class=\"djtooltiptext\"></span>\n",
       "                            </div></th><th><div class=\"djtooltip\">\n",
       "                                <p id=\"nonprimary\">pixel_type</p>\n",
       "                                <span class=\"djtooltiptext\"></span>\n",
       "                            </div></th><th><div class=\"djtooltip\">\n",
       "                                <p id=\"nonprimary\">tiling_scheme</p>\n",
       "                                <span class=\"djtooltiptext\"></span>\n",
       "                            </div></th><th><div class=\"djtooltip\">\n",
       "                                <p id=\"nonprimary\">tiling_overlap</p>\n",
       "                                <span class=\"djtooltiptext\"></span>\n",
       "                            </div></th><th><div class=\"djtooltip\">\n",
       "                                <p id=\"nonprimary\">z_step</p>\n",
       "                                <span class=\"djtooltiptext\"></span>\n",
       "                            </div></th><th><div class=\"djtooltip\">\n",
       "                                <p id=\"nonprimary\">number_of_z_planes</p>\n",
       "                                <span class=\"djtooltiptext\"></span>\n",
       "                            </div></th><th><div class=\"djtooltip\">\n",
       "                                <p id=\"nonprimary\">rawdata_subfolder</p>\n",
       "                                <span class=\"djtooltiptext\"></span>\n",
       "                            </div></th><th><div class=\"djtooltip\">\n",
       "                                <p id=\"nonprimary\">imspector_channel_index</p>\n",
       "                                <span class=\"djtooltiptext\">0 if first (or only) channel in rawdata_subfolder, 1 if second, 2 if third, ...</span>\n",
       "                            </div> </th> </tr> </thead>\n",
       "                <tbody> <tr> <td>ahoag</td>\n",
       "<td>test</td>\n",
       "<td>sample-001</td>\n",
       "<td>1.3x</td>\n",
       "<td>488</td>\n",
       "<td>1</td>\n",
       "<td>None</td>\n",
       "<td>incomplete</td>\n",
       "<td>1</td>\n",
       "<td>0</td>\n",
       "<td>0</td>\n",
       "<td>0</td>\n",
       "<td></td>\n",
       "<td></td>\n",
       "<td>allen_2017</td>\n",
       "<td></td>\n",
       "<td>None</td>\n",
       "<td>1x1</td>\n",
       "<td>0.0</td>\n",
       "<td>10</td>\n",
       "<td>None</td>\n",
       "<td>None</td>\n",
       "<td>None</td></tr><tr><td>ahoag</td>\n",
       "<td>test2</td>\n",
       "<td>sample-001</td>\n",
       "<td>1.3x</td>\n",
       "<td>488</td>\n",
       "<td>1</td>\n",
       "<td>None</td>\n",
       "<td>incomplete</td>\n",
       "<td>1</td>\n",
       "<td>0</td>\n",
       "<td>0</td>\n",
       "<td>0</td>\n",
       "<td></td>\n",
       "<td></td>\n",
       "<td>allen_2017</td>\n",
       "<td></td>\n",
       "<td>None</td>\n",
       "<td>1x1</td>\n",
       "<td>0.0</td>\n",
       "<td>10</td>\n",
       "<td>None</td>\n",
       "<td>None</td>\n",
       "<td>None</td></tr><tr><td>ahoag</td>\n",
       "<td>test2</td>\n",
       "<td>sample-001</td>\n",
       "<td>1.3x</td>\n",
       "<td>555</td>\n",
       "<td>1</td>\n",
       "<td>None</td>\n",
       "<td>incomplete</td>\n",
       "<td>0</td>\n",
       "<td>1</td>\n",
       "<td>0</td>\n",
       "<td>0</td>\n",
       "<td></td>\n",
       "<td></td>\n",
       "<td>allen_2017</td>\n",
       "<td></td>\n",
       "<td>None</td>\n",
       "<td>1x1</td>\n",
       "<td>0.0</td>\n",
       "<td>10</td>\n",
       "<td>None</td>\n",
       "<td>None</td>\n",
       "<td>None</td></tr><tr><td>ahoag</td>\n",
       "<td>test2</td>\n",
       "<td>sample-001</td>\n",
       "<td>1.3x</td>\n",
       "<td>647</td>\n",
       "<td>1</td>\n",
       "<td>None</td>\n",
       "<td>incomplete</td>\n",
       "<td>0</td>\n",
       "<td>0</td>\n",
       "<td>1</td>\n",
       "<td>0</td>\n",
       "<td></td>\n",
       "<td></td>\n",
       "<td>allen_2017</td>\n",
       "<td></td>\n",
       "<td>None</td>\n",
       "<td>1x1</td>\n",
       "<td>0.0</td>\n",
       "<td>10</td>\n",
       "<td>None</td>\n",
       "<td>None</td>\n",
       "<td>None</td></tr><tr><td>ahoag</td>\n",
       "<td>test2</td>\n",
       "<td>sample-001</td>\n",
       "<td>1.3x</td>\n",
       "<td>790</td>\n",
       "<td>1</td>\n",
       "<td>None</td>\n",
       "<td>incomplete</td>\n",
       "<td>0</td>\n",
       "<td>0</td>\n",
       "<td>0</td>\n",
       "<td>1</td>\n",
       "<td></td>\n",
       "<td></td>\n",
       "<td>allen_2017</td>\n",
       "<td></td>\n",
       "<td>None</td>\n",
       "<td>1x1</td>\n",
       "<td>0.0</td>\n",
       "<td>10</td>\n",
       "<td>None</td>\n",
       "<td>None</td>\n",
       "<td>None</td> </tr> </tbody>\n",
       "            </table>\n",
       "            \n",
       "            <p>Total: 5</p></div>\n",
       "            "
      ],
      "text/plain": [
       "*username    *experiment_na *sample_name   *image_resolut *channel_name  *imaging_reque imaging_date   imaging_progre registration   injection_dete probe_detectio cell_detection notes_for_imag notes_from_ima atlas_name     notes_for_proc pixel_type     tiling_scheme  tiling_overlap z_step     number_of_z_pl rawdata_subfol imspector_chan\n",
       "+----------+ +------------+ +------------+ +------------+ +------------+ +------------+ +------------+ +------------+ +------------+ +------------+ +------------+ +------------+ +------------+ +------------+ +------------+ +------------+ +------------+ +------------+ +------------+ +--------+ +------------+ +------------+ +------------+\n",
       "ahoag        test           sample-001     1.3x           488            1              None           incomplete     1              0              0              0                                            allen_2017                    None           1x1            0.0            10         None           None           None          \n",
       "ahoag        test2          sample-001     1.3x           488            1              None           incomplete     1              0              0              0                                            allen_2017                    None           1x1            0.0            10         None           None           None          \n",
       "ahoag        test2          sample-001     1.3x           555            1              None           incomplete     0              1              0              0                                            allen_2017                    None           1x1            0.0            10         None           None           None          \n",
       "ahoag        test2          sample-001     1.3x           647            1              None           incomplete     0              0              1              0                                            allen_2017                    None           1x1            0.0            10         None           None           None          \n",
       "ahoag        test2          sample-001     1.3x           790            1              None           incomplete     0              0              0              1                                            allen_2017                    None           1x1            0.0            10         None           None           None          \n",
       " (Total: 5)"
      ]
     },
     "execution_count": 18,
     "metadata": {},
     "output_type": "execute_result"
    }
   ],
   "source": [
    "channel_contents = schema.Sample.ImagingChannel()\n",
    "channel_contents"
   ]
  },
  {
   "cell_type": "code",
   "execution_count": 21,
   "metadata": {},
   "outputs": [
    {
     "data": {
      "text/html": [
       "\n",
       "        \n",
       "        <style type=\"text/css\">\n",
       "            .Relation{\n",
       "                border-collapse:collapse;\n",
       "            }\n",
       "            .Relation th{\n",
       "                background: #A0A0A0; color: #ffffff; padding:4px; border:#f0e0e0 1px solid;\n",
       "                font-weight: normal; font-family: monospace; font-size: 100%;\n",
       "            }\n",
       "            .Relation td{\n",
       "                padding:4px; border:#f0e0e0 1px solid; font-size:100%;\n",
       "            }\n",
       "            .Relation tr:nth-child(odd){\n",
       "                background: #ffffff;\n",
       "            }\n",
       "            .Relation tr:nth-child(even){\n",
       "                background: #f3f1ff;\n",
       "            }\n",
       "            /* Tooltip container */\n",
       "            .djtooltip {\n",
       "            }\n",
       "            /* Tooltip text */\n",
       "            .djtooltip .djtooltiptext {\n",
       "                visibility: hidden;\n",
       "                width: 120px;\n",
       "                background-color: black;\n",
       "                color: #fff;\n",
       "                text-align: center;\n",
       "                padding: 5px 0;\n",
       "                border-radius: 6px;\n",
       "                /* Position the tooltip text - see examples below! */\n",
       "                position: absolute;\n",
       "                z-index: 1;\n",
       "            }\n",
       "            #primary {\n",
       "                font-weight: bold;\n",
       "                color: black;\n",
       "            }\n",
       "\n",
       "            #nonprimary {\n",
       "                font-weight: normal;\n",
       "                color: white;\n",
       "            }\n",
       "\n",
       "            /* Show the tooltip text when you mouse over the tooltip container */\n",
       "            .djtooltip:hover .djtooltiptext {\n",
       "                visibility: visible;\n",
       "            }\n",
       "        </style>\n",
       "        \n",
       "        \n",
       "            <div style=\"max-height:1000px;max-width:1500px;overflow:auto;\">\n",
       "            <table border=\"1\" class=\"Relation\">\n",
       "                <thead> <tr style=\"text-align: right;\"> <th> <div class=\"djtooltip\">\n",
       "                                <p id=\"primary\">experiment_name</p>\n",
       "                                <span class=\"djtooltiptext\"></span>\n",
       "                            </div></th><th><div class=\"djtooltip\">\n",
       "                                <p id=\"primary\">sample_name</p>\n",
       "                                <span class=\"djtooltiptext\"></span>\n",
       "                            </div></th><th><div class=\"djtooltip\">\n",
       "                                <p id=\"primary\">imaging_request_number</p>\n",
       "                                <span class=\"djtooltiptext\"></span>\n",
       "                            </div></th><th><div class=\"djtooltip\">\n",
       "                                <p id=\"primary\">username</p>\n",
       "                                <span class=\"djtooltiptext\">user in the lab</span>\n",
       "                            </div></th><th><div class=\"djtooltip\">\n",
       "                                <p id=\"nonprimary\">date_submitted</p>\n",
       "                                <span class=\"djtooltiptext\">The date it was submitted as a request</span>\n",
       "                            </div></th><th><div class=\"djtooltip\">\n",
       "                                <p id=\"nonprimary\">time_submitted</p>\n",
       "                                <span class=\"djtooltiptext\">The time it was submitted as a request</span>\n",
       "                            </div></th><th><div class=\"djtooltip\">\n",
       "                                <p id=\"nonprimary\">labname</p>\n",
       "                                <span class=\"djtooltiptext\"></span>\n",
       "                            </div></th><th><div class=\"djtooltip\">\n",
       "                                <p id=\"nonprimary\">correspondence_email</p>\n",
       "                                <span class=\"djtooltiptext\"></span>\n",
       "                            </div></th><th><div class=\"djtooltip\">\n",
       "                                <p id=\"nonprimary\">description</p>\n",
       "                                <span class=\"djtooltiptext\"></span>\n",
       "                            </div></th><th><div class=\"djtooltip\">\n",
       "                                <p id=\"nonprimary\">species</p>\n",
       "                                <span class=\"djtooltiptext\"></span>\n",
       "                            </div></th><th><div class=\"djtooltip\">\n",
       "                                <p id=\"nonprimary\">number_of_samples</p>\n",
       "                                <span class=\"djtooltiptext\"></span>\n",
       "                            </div></th><th><div class=\"djtooltip\">\n",
       "                                <p id=\"nonprimary\">sample_prefix</p>\n",
       "                                <span class=\"djtooltiptext\"></span>\n",
       "                            </div></th><th><div class=\"djtooltip\">\n",
       "                                <p id=\"nonprimary\">uniform_clearing</p>\n",
       "                                <span class=\"djtooltiptext\"></span>\n",
       "                            </div></th><th><div class=\"djtooltip\">\n",
       "                                <p id=\"nonprimary\">uniform_imaging</p>\n",
       "                                <span class=\"djtooltiptext\"></span>\n",
       "                            </div> </th> </tr> </thead>\n",
       "                <tbody> <tr> <td>test2</td>\n",
       "<td>sample-001</td>\n",
       "<td>1</td>\n",
       "<td>ahoag</td>\n",
       "<td>2019-11-27</td>\n",
       "<td>11:05:43</td>\n",
       "<td>braincogs</td>\n",
       "<td>ahoag@princeton.edu</td>\n",
       "<td>test</td>\n",
       "<td>mouse</td>\n",
       "<td>1</td>\n",
       "<td>sample</td>\n",
       "<td>1</td>\n",
       "<td>1</td> </tr> </tbody>\n",
       "            </table>\n",
       "            \n",
       "            <p>Total: 1</p></div>\n",
       "            "
      ],
      "text/plain": [
       "*experiment_na *sample_name   *imaging_reque *username    date_submitted time_submitted labname       correspondence description    species     number_of_samp sample_prefix  uniform_cleari uniform_imagin\n",
       "+------------+ +------------+ +------------+ +----------+ +------------+ +------------+ +-----------+ +------------+ +------------+ +---------+ +------------+ +------------+ +------------+ +------------+\n",
       "test2          sample-001     1              ahoag        2019-11-27     11:05:43       braincogs     ahoag@princeto test           mouse       1              sample         1              1             \n",
       " (Total: 1)"
      ]
     },
     "execution_count": 21,
     "metadata": {},
     "output_type": "execute_result"
    }
   ],
   "source": [
    "combined_contents = dj.U('experiment_name','sample_name','imaging_request_number').aggr(\n",
    "    channel_contents & 'experiment_name=\"test2\"') * exp_contents\n",
    "combined_contents"
   ]
  },
  {
   "cell_type": "code",
   "execution_count": 11,
   "metadata": {},
   "outputs": [
    {
     "ename": "SyntaxError",
     "evalue": "positional argument follows keyword argument (<ipython-input-11-1733a6f90c5e>, line 2)",
     "output_type": "error",
     "traceback": [
      "\u001b[0;36m  File \u001b[0;32m\"<ipython-input-11-1733a6f90c5e>\"\u001b[0;36m, line \u001b[0;32m2\u001b[0m\n\u001b[0;31m    image_resolution='min(image_resolution)','imaging_progress') * sample_contents * exp_contents\u001b[0m\n\u001b[0m                                            ^\u001b[0m\n\u001b[0;31mSyntaxError\u001b[0m\u001b[0;31m:\u001b[0m positional argument follows keyword argument\n"
     ]
    }
   ],
   "source": [
    "combined_contents = dj.U('experiment_name','username','sample_name','imaging_request_number').aggr(channel_contents, \n",
    "        image_resolution='min(image_resolution)') * sample_contents * exp_contents\n",
    "combined_contents"
   ]
  },
  {
   "cell_type": "code",
   "execution_count": 14,
   "metadata": {},
   "outputs": [
    {
     "data": {
      "text/html": [
       "\n",
       "        \n",
       "        <style type=\"text/css\">\n",
       "            .Relation{\n",
       "                border-collapse:collapse;\n",
       "            }\n",
       "            .Relation th{\n",
       "                background: #A0A0A0; color: #ffffff; padding:4px; border:#f0e0e0 1px solid;\n",
       "                font-weight: normal; font-family: monospace; font-size: 100%;\n",
       "            }\n",
       "            .Relation td{\n",
       "                padding:4px; border:#f0e0e0 1px solid; font-size:100%;\n",
       "            }\n",
       "            .Relation tr:nth-child(odd){\n",
       "                background: #ffffff;\n",
       "            }\n",
       "            .Relation tr:nth-child(even){\n",
       "                background: #f3f1ff;\n",
       "            }\n",
       "            /* Tooltip container */\n",
       "            .djtooltip {\n",
       "            }\n",
       "            /* Tooltip text */\n",
       "            .djtooltip .djtooltiptext {\n",
       "                visibility: hidden;\n",
       "                width: 120px;\n",
       "                background-color: black;\n",
       "                color: #fff;\n",
       "                text-align: center;\n",
       "                padding: 5px 0;\n",
       "                border-radius: 6px;\n",
       "                /* Position the tooltip text - see examples below! */\n",
       "                position: absolute;\n",
       "                z-index: 1;\n",
       "            }\n",
       "            #primary {\n",
       "                font-weight: bold;\n",
       "                color: black;\n",
       "            }\n",
       "\n",
       "            #nonprimary {\n",
       "                font-weight: normal;\n",
       "                color: white;\n",
       "            }\n",
       "\n",
       "            /* Show the tooltip text when you mouse over the tooltip container */\n",
       "            .djtooltip:hover .djtooltiptext {\n",
       "                visibility: visible;\n",
       "            }\n",
       "        </style>\n",
       "        \n",
       "        \n",
       "            <div style=\"max-height:1000px;max-width:1500px;overflow:auto;\">\n",
       "            <table border=\"1\" class=\"Relation\">\n",
       "                <thead> <tr style=\"text-align: right;\"> <th> <div class=\"djtooltip\">\n",
       "                                <p id=\"primary\">username</p>\n",
       "                                <span class=\"djtooltiptext\">user in the lab</span>\n",
       "                            </div></th><th><div class=\"djtooltip\">\n",
       "                                <p id=\"primary\">experiment_name</p>\n",
       "                                <span class=\"djtooltiptext\"></span>\n",
       "                            </div></th><th><div class=\"djtooltip\">\n",
       "                                <p id=\"primary\">sample_name</p>\n",
       "                                <span class=\"djtooltiptext\"></span>\n",
       "                            </div></th><th><div class=\"djtooltip\">\n",
       "                                <p id=\"primary\">imaging_request_number</p>\n",
       "                                <span class=\"djtooltiptext\"></span>\n",
       "                            </div></th><th><div class=\"djtooltip\">\n",
       "                                <p id=\"nonprimary\">imaging_progress</p>\n",
       "                                <span class=\"djtooltiptext\"></span>\n",
       "                            </div></th><th><div class=\"djtooltip\">\n",
       "                                <p id=\"nonprimary\">image_resolution</p>\n",
       "                                <span class=\"djtooltiptext\">calculated attribute</span>\n",
       "                            </div> </th> </tr> </thead>\n",
       "                <tbody> <tr> <td>ahoag</td>\n",
       "<td>test</td>\n",
       "<td>sample-001</td>\n",
       "<td>1</td>\n",
       "<td>incomplete</td>\n",
       "<td>1.3x</td> </tr> </tbody>\n",
       "            </table>\n",
       "            \n",
       "            <p>Total: 1</p></div>\n",
       "            "
      ],
      "text/plain": [
       "*username    *experiment_na *sample_name   *imaging_reque imaging_progre image_resoluti\n",
       "+----------+ +------------+ +------------+ +------------+ +------------+ +------------+\n",
       "ahoag        test           sample-001     1              incomplete     1.3x          \n",
       " (Total: 1)"
      ]
     },
     "execution_count": 14,
     "metadata": {},
     "output_type": "execute_result"
    }
   ],
   "source": [
    "dj.U('experiment_name','username','sample_name','imaging_request_number').aggr(channel_contents,imaging_progress='imaging_progress',\n",
    "        image_resolution='min(image_resolution)')"
   ]
  },
  {
   "cell_type": "code",
   "execution_count": 46,
   "metadata": {
    "collapsed": true
   },
   "outputs": [],
   "source": [
    "all_contents_unique_imaging_request_number = combined_contents.proj('imaging_request_number',\n",
    "\t\t'clearing_progress','clearer','imager',datetime_submitted='TIMESTAMP(date_submitted,time_submitted)')"
   ]
  },
  {
   "cell_type": "code",
   "execution_count": 47,
   "metadata": {},
   "outputs": [
    {
     "data": {
      "text/html": [
       "\n",
       "        \n",
       "        <style type=\"text/css\">\n",
       "            .Relation{\n",
       "                border-collapse:collapse;\n",
       "            }\n",
       "            .Relation th{\n",
       "                background: #A0A0A0; color: #ffffff; padding:4px; border:#f0e0e0 1px solid;\n",
       "                font-weight: normal; font-family: monospace; font-size: 100%;\n",
       "            }\n",
       "            .Relation td{\n",
       "                padding:4px; border:#f0e0e0 1px solid; font-size:100%;\n",
       "            }\n",
       "            .Relation tr:nth-child(odd){\n",
       "                background: #ffffff;\n",
       "            }\n",
       "            .Relation tr:nth-child(even){\n",
       "                background: #f3f1ff;\n",
       "            }\n",
       "            /* Tooltip container */\n",
       "            .djtooltip {\n",
       "            }\n",
       "            /* Tooltip text */\n",
       "            .djtooltip .djtooltiptext {\n",
       "                visibility: hidden;\n",
       "                width: 120px;\n",
       "                background-color: black;\n",
       "                color: #fff;\n",
       "                text-align: center;\n",
       "                padding: 5px 0;\n",
       "                border-radius: 6px;\n",
       "                /* Position the tooltip text - see examples below! */\n",
       "                position: absolute;\n",
       "                z-index: 1;\n",
       "            }\n",
       "            #primary {\n",
       "                font-weight: bold;\n",
       "                color: black;\n",
       "            }\n",
       "\n",
       "            #nonprimary {\n",
       "                font-weight: normal;\n",
       "                color: white;\n",
       "            }\n",
       "\n",
       "            /* Show the tooltip text when you mouse over the tooltip container */\n",
       "            .djtooltip:hover .djtooltiptext {\n",
       "                visibility: visible;\n",
       "            }\n",
       "        </style>\n",
       "        \n",
       "        \n",
       "            <div style=\"max-height:1000px;max-width:1500px;overflow:auto;\">\n",
       "            <table border=\"1\" class=\"Relation\">\n",
       "                <thead> <tr style=\"text-align: right;\"> <th> <div class=\"djtooltip\">\n",
       "                                <p id=\"primary\">username</p>\n",
       "                                <span class=\"djtooltiptext\">user in the lab</span>\n",
       "                            </div></th><th><div class=\"djtooltip\">\n",
       "                                <p id=\"primary\">experiment_name</p>\n",
       "                                <span class=\"djtooltiptext\"></span>\n",
       "                            </div></th><th><div class=\"djtooltip\">\n",
       "                                <p id=\"primary\">sample_name</p>\n",
       "                                <span class=\"djtooltiptext\"></span>\n",
       "                            </div></th><th><div class=\"djtooltip\">\n",
       "                                <p id=\"primary\">imaging_request_number</p>\n",
       "                                <span class=\"djtooltiptext\"></span>\n",
       "                            </div></th><th><div class=\"djtooltip\">\n",
       "                                <p id=\"nonprimary\">clearer</p>\n",
       "                                <span class=\"djtooltiptext\">netid of person doing the clearing</span>\n",
       "                            </div></th><th><div class=\"djtooltip\">\n",
       "                                <p id=\"nonprimary\">clearing_progress</p>\n",
       "                                <span class=\"djtooltiptext\"></span>\n",
       "                            </div></th><th><div class=\"djtooltip\">\n",
       "                                <p id=\"nonprimary\">imager</p>\n",
       "                                <span class=\"djtooltiptext\">netid of person doing the imaging</span>\n",
       "                            </div></th><th><div class=\"djtooltip\">\n",
       "                                <p id=\"nonprimary\">datetime_submitted</p>\n",
       "                                <span class=\"djtooltiptext\">calculated attribute</span>\n",
       "                            </div> </th> </tr> </thead>\n",
       "                <tbody> <tr> <td>ahoag</td>\n",
       "<td>test</td>\n",
       "<td>sample-001</td>\n",
       "<td>1</td>\n",
       "<td>ahoag</td>\n",
       "<td>complete</td>\n",
       "<td>not yet assigned</td>\n",
       "<td>2019-11-26 13:34:36</td></tr><tr><td>ahoag</td>\n",
       "<td>test2</td>\n",
       "<td>sample-001</td>\n",
       "<td>2</td>\n",
       "<td>ahoag</td>\n",
       "<td>incomplete</td>\n",
       "<td>not yet assigned</td>\n",
       "<td>2019-11-26 14:58:49</td></tr><tr><td>ahoag</td>\n",
       "<td>test2</td>\n",
       "<td>sample-001</td>\n",
       "<td>1</td>\n",
       "<td>ahoag</td>\n",
       "<td>incomplete</td>\n",
       "<td>not yet assigned</td>\n",
       "<td>2019-11-26 14:58:49</td> </tr> </tbody>\n",
       "            </table>\n",
       "            \n",
       "            <p>Total: 3</p></div>\n",
       "            "
      ],
      "text/plain": [
       "*username    *experiment_na *sample_name   *imaging_reque clearer     clearing_progr imager         datetime_submi\n",
       "+----------+ +------------+ +------------+ +------------+ +---------+ +------------+ +------------+ +------------+\n",
       "ahoag        test           sample-001     1              ahoag       complete       not yet assign 2019-11-26 13:\n",
       "ahoag        test2          sample-001     2              ahoag       incomplete     not yet assign 2019-11-26 14:\n",
       "ahoag        test2          sample-001     1              ahoag       incomplete     not yet assign 2019-11-26 14:\n",
       " (Total: 3)"
      ]
     },
     "execution_count": 47,
     "metadata": {},
     "output_type": "execute_result"
    }
   ],
   "source": [
    "all_contents_unique_imaging_request_number"
   ]
  },
  {
   "cell_type": "code",
   "execution_count": 30,
   "metadata": {
    "collapsed": true
   },
   "outputs": [],
   "source": [
    "schema.Sample.ImagingChannel().insert1(insert_dict)"
   ]
  },
  {
   "cell_type": "code",
   "execution_count": 16,
   "metadata": {
    "collapsed": true
   },
   "outputs": [],
   "source": [
    "TestTable().insert1({'someval':4})"
   ]
  },
  {
   "cell_type": "code",
   "execution_count": 17,
   "metadata": {},
   "outputs": [
    {
     "data": {
      "text/html": [
       "\n",
       "        \n",
       "        <style type=\"text/css\">\n",
       "            .Relation{\n",
       "                border-collapse:collapse;\n",
       "            }\n",
       "            .Relation th{\n",
       "                background: #A0A0A0; color: #ffffff; padding:4px; border:#f0e0e0 1px solid;\n",
       "                font-weight: normal; font-family: monospace; font-size: 100%;\n",
       "            }\n",
       "            .Relation td{\n",
       "                padding:4px; border:#f0e0e0 1px solid; font-size:100%;\n",
       "            }\n",
       "            .Relation tr:nth-child(odd){\n",
       "                background: #ffffff;\n",
       "            }\n",
       "            .Relation tr:nth-child(even){\n",
       "                background: #f3f1ff;\n",
       "            }\n",
       "            /* Tooltip container */\n",
       "            .djtooltip {\n",
       "            }\n",
       "            /* Tooltip text */\n",
       "            .djtooltip .djtooltiptext {\n",
       "                visibility: hidden;\n",
       "                width: 120px;\n",
       "                background-color: black;\n",
       "                color: #fff;\n",
       "                text-align: center;\n",
       "                padding: 5px 0;\n",
       "                border-radius: 6px;\n",
       "                /* Position the tooltip text - see examples below! */\n",
       "                position: absolute;\n",
       "                z-index: 1;\n",
       "            }\n",
       "            #primary {\n",
       "                font-weight: bold;\n",
       "                color: black;\n",
       "            }\n",
       "\n",
       "            #nonprimary {\n",
       "                font-weight: normal;\n",
       "                color: white;\n",
       "            }\n",
       "\n",
       "            /* Show the tooltip text when you mouse over the tooltip container */\n",
       "            .djtooltip:hover .djtooltiptext {\n",
       "                visibility: visible;\n",
       "            }\n",
       "        </style>\n",
       "        \n",
       "        <b>Test table to see how auto_increment works</b>\n",
       "            <div style=\"max-height:1000px;max-width:1500px;overflow:auto;\">\n",
       "            <table border=\"1\" class=\"Relation\">\n",
       "                <thead> <tr style=\"text-align: right;\"> <th> <div class=\"djtooltip\">\n",
       "                                <p id=\"primary\">session_number</p>\n",
       "                                <span class=\"djtooltiptext\"></span>\n",
       "                            </div></th><th><div class=\"djtooltip\">\n",
       "                                <p id=\"nonprimary\">someval</p>\n",
       "                                <span class=\"djtooltiptext\"></span>\n",
       "                            </div> </th> </tr> </thead>\n",
       "                <tbody> <tr> <td>1</td>\n",
       "<td>4</td> </tr> </tbody>\n",
       "            </table>\n",
       "            \n",
       "            <p>Total: 1</p></div>\n",
       "            "
      ],
      "text/plain": [
       "*session_numbe someval    \n",
       "+------------+ +---------+\n",
       "1              4          \n",
       " (Total: 1)"
      ]
     },
     "execution_count": 17,
     "metadata": {},
     "output_type": "execute_result"
    }
   ],
   "source": [
    "TestTable()"
   ]
  },
  {
   "cell_type": "code",
   "execution_count": null,
   "metadata": {
    "collapsed": true
   },
   "outputs": [],
   "source": [
    "schema.Experiment()"
   ]
  },
  {
   "cell_type": "code",
   "execution_count": 5,
   "metadata": {},
   "outputs": [
    {
     "data": {
      "text/html": [
       "\n",
       "        \n",
       "        <style type=\"text/css\">\n",
       "            .Relation{\n",
       "                border-collapse:collapse;\n",
       "            }\n",
       "            .Relation th{\n",
       "                background: #A0A0A0; color: #ffffff; padding:4px; border:#f0e0e0 1px solid;\n",
       "                font-weight: normal; font-family: monospace; font-size: 100%;\n",
       "            }\n",
       "            .Relation td{\n",
       "                padding:4px; border:#f0e0e0 1px solid; font-size:100%;\n",
       "            }\n",
       "            .Relation tr:nth-child(odd){\n",
       "                background: #ffffff;\n",
       "            }\n",
       "            .Relation tr:nth-child(even){\n",
       "                background: #f3f1ff;\n",
       "            }\n",
       "            /* Tooltip container */\n",
       "            .djtooltip {\n",
       "            }\n",
       "            /* Tooltip text */\n",
       "            .djtooltip .djtooltiptext {\n",
       "                visibility: hidden;\n",
       "                width: 120px;\n",
       "                background-color: black;\n",
       "                color: #fff;\n",
       "                text-align: center;\n",
       "                padding: 5px 0;\n",
       "                border-radius: 6px;\n",
       "                /* Position the tooltip text - see examples below! */\n",
       "                position: absolute;\n",
       "                z-index: 1;\n",
       "            }\n",
       "            #primary {\n",
       "                font-weight: bold;\n",
       "                color: black;\n",
       "            }\n",
       "\n",
       "            #nonprimary {\n",
       "                font-weight: normal;\n",
       "                color: white;\n",
       "            }\n",
       "\n",
       "            /* Show the tooltip text when you mouse over the tooltip container */\n",
       "            .djtooltip:hover .djtooltiptext {\n",
       "                visibility: visible;\n",
       "            }\n",
       "        </style>\n",
       "        \n",
       "        <b>Samples from a particular experiment</b>\n",
       "            <div style=\"max-height:1000px;max-width:1500px;overflow:auto;\">\n",
       "            <table border=\"1\" class=\"Relation\">\n",
       "                <thead> <tr style=\"text-align: right;\"> <th> <div class=\"djtooltip\">\n",
       "                                <p id=\"primary\">username</p>\n",
       "                                <span class=\"djtooltiptext\">user in the lab</span>\n",
       "                            </div></th><th><div class=\"djtooltip\">\n",
       "                                <p id=\"primary\">experiment_name</p>\n",
       "                                <span class=\"djtooltiptext\"></span>\n",
       "                            </div></th><th><div class=\"djtooltip\">\n",
       "                                <p id=\"primary\">sample_name</p>\n",
       "                                <span class=\"djtooltiptext\"></span>\n",
       "                            </div></th><th><div class=\"djtooltip\">\n",
       "                                <p id=\"nonprimary\">perfusion_date</p>\n",
       "                                <span class=\"djtooltiptext\"></span>\n",
       "                            </div></th><th><div class=\"djtooltip\">\n",
       "                                <p id=\"nonprimary\">expected_handoff_date</p>\n",
       "                                <span class=\"djtooltiptext\"></span>\n",
       "                            </div></th><th><div class=\"djtooltip\">\n",
       "                                <p id=\"nonprimary\">clearer</p>\n",
       "                                <span class=\"djtooltiptext\">netid of person doing the clearing</span>\n",
       "                            </div></th><th><div class=\"djtooltip\">\n",
       "                                <p id=\"nonprimary\">clearing_protocol</p>\n",
       "                                <span class=\"djtooltiptext\"></span>\n",
       "                            </div></th><th><div class=\"djtooltip\">\n",
       "                                <p id=\"nonprimary\">clearing_progress</p>\n",
       "                                <span class=\"djtooltiptext\"></span>\n",
       "                            </div></th><th><div class=\"djtooltip\">\n",
       "                                <p id=\"nonprimary\">antibody1</p>\n",
       "                                <span class=\"djtooltiptext\"></span>\n",
       "                            </div></th><th><div class=\"djtooltip\">\n",
       "                                <p id=\"nonprimary\">antibody2</p>\n",
       "                                <span class=\"djtooltiptext\"></span>\n",
       "                            </div></th><th><div class=\"djtooltip\">\n",
       "                                <p id=\"nonprimary\">notes_for_clearer</p>\n",
       "                                <span class=\"djtooltiptext\"></span>\n",
       "                            </div></th><th><div class=\"djtooltip\">\n",
       "                                <p id=\"nonprimary\">imager</p>\n",
       "                                <span class=\"djtooltiptext\">netid of person doing the imaging</span>\n",
       "                            </div></th><th><div class=\"djtooltip\">\n",
       "                                <p id=\"nonprimary\">imaging_progress</p>\n",
       "                                <span class=\"djtooltiptext\"></span>\n",
       "                            </div></th><th><div class=\"djtooltip\">\n",
       "                                <p id=\"nonprimary\">imaging_date</p>\n",
       "                                <span class=\"djtooltiptext\"></span>\n",
       "                            </div></th><th><div class=\"djtooltip\">\n",
       "                                <p id=\"nonprimary\">processor</p>\n",
       "                                <span class=\"djtooltiptext\">netid of person doing the processing</span>\n",
       "                            </div></th><th><div class=\"djtooltip\">\n",
       "                                <p id=\"nonprimary\">processing_progress</p>\n",
       "                                <span class=\"djtooltiptext\"></span>\n",
       "                            </div></th><th><div class=\"djtooltip\">\n",
       "                                <p id=\"nonprimary\">stitching_method</p>\n",
       "                                <span class=\"djtooltiptext\"></span>\n",
       "                            </div></th><th><div class=\"djtooltip\">\n",
       "                                <p id=\"nonprimary\">blend_type</p>\n",
       "                                <span class=\"djtooltiptext\"></span>\n",
       "                            </div></th><th><div class=\"djtooltip\">\n",
       "                                <p id=\"nonprimary\">notes_from_processing</p>\n",
       "                                <span class=\"djtooltiptext\"></span>\n",
       "                            </div> </th> </tr> </thead>\n",
       "                <tbody> <tr> <td>ahoag</td>\n",
       "<td>test</td>\n",
       "<td>sample-001</td>\n",
       "<td>None</td>\n",
       "<td>None</td>\n",
       "<td>ahoag</td>\n",
       "<td>iDISCO abbreviated clearing</td>\n",
       "<td>complete</td>\n",
       "<td></td>\n",
       "<td></td>\n",
       "<td></td>\n",
       "<td>not yet assigned</td>\n",
       "<td>incomplete</td>\n",
       "<td>None</td>\n",
       "<td>not yet assigned</td>\n",
       "<td>not started</td>\n",
       "<td>blending</td>\n",
       "<td>sigmoidal</td>\n",
       "<td></td></tr><tr><td>ahoag</td>\n",
       "<td>test</td>\n",
       "<td>sample-002</td>\n",
       "<td>None</td>\n",
       "<td>None</td>\n",
       "<td>not yet assigned</td>\n",
       "<td>iDISCO abbreviated clearing</td>\n",
       "<td>incomplete</td>\n",
       "<td></td>\n",
       "<td></td>\n",
       "<td></td>\n",
       "<td>not yet assigned</td>\n",
       "<td>incomplete</td>\n",
       "<td>None</td>\n",
       "<td>not yet assigned</td>\n",
       "<td>not started</td>\n",
       "<td>blending</td>\n",
       "<td>sigmoidal</td>\n",
       "<td></td></tr><tr><td>ahoag</td>\n",
       "<td>test2</td>\n",
       "<td>sample-001</td>\n",
       "<td>None</td>\n",
       "<td>None</td>\n",
       "<td>ahoag</td>\n",
       "<td>uDISCO</td>\n",
       "<td>complete</td>\n",
       "<td></td>\n",
       "<td></td>\n",
       "<td></td>\n",
       "<td>not yet assigned</td>\n",
       "<td>incomplete</td>\n",
       "<td>None</td>\n",
       "<td>not yet assigned</td>\n",
       "<td>not started</td>\n",
       "<td>blending</td>\n",
       "<td>sigmoidal</td>\n",
       "<td></td></tr><tr><td>ahoag</td>\n",
       "<td>test2</td>\n",
       "<td>sample-002</td>\n",
       "<td>None</td>\n",
       "<td>None</td>\n",
       "<td>ahoag</td>\n",
       "<td>iDISCO_EdU</td>\n",
       "<td>in progress</td>\n",
       "<td></td>\n",
       "<td></td>\n",
       "<td></td>\n",
       "<td>not yet assigned</td>\n",
       "<td>incomplete</td>\n",
       "<td>None</td>\n",
       "<td>not yet assigned</td>\n",
       "<td>not started</td>\n",
       "<td>blending</td>\n",
       "<td>sigmoidal</td>\n",
       "<td></td></tr><tr><td>ahoag</td>\n",
       "<td>test23</td>\n",
       "<td>sample-001</td>\n",
       "<td>None</td>\n",
       "<td>None</td>\n",
       "<td>not yet assigned</td>\n",
       "<td>iDISCO abbreviated clearing</td>\n",
       "<td>incomplete</td>\n",
       "<td></td>\n",
       "<td></td>\n",
       "<td></td>\n",
       "<td>not yet assigned</td>\n",
       "<td>incomplete</td>\n",
       "<td>None</td>\n",
       "<td>not yet assigned</td>\n",
       "<td>not started</td>\n",
       "<td>blending</td>\n",
       "<td>sigmoidal</td>\n",
       "<td></td></tr><tr><td>ahoag</td>\n",
       "<td>test231</td>\n",
       "<td>sample-001</td>\n",
       "<td>None</td>\n",
       "<td>None</td>\n",
       "<td>not yet assigned</td>\n",
       "<td>iDISCO abbreviated clearing</td>\n",
       "<td>incomplete</td>\n",
       "<td></td>\n",
       "<td></td>\n",
       "<td></td>\n",
       "<td>not yet assigned</td>\n",
       "<td>incomplete</td>\n",
       "<td>None</td>\n",
       "<td>not yet assigned</td>\n",
       "<td>not started</td>\n",
       "<td>blending</td>\n",
       "<td>sigmoidal</td>\n",
       "<td></td></tr><tr><td>ahoag</td>\n",
       "<td>test234</td>\n",
       "<td>sample-001</td>\n",
       "<td>None</td>\n",
       "<td>None</td>\n",
       "<td>ahoag</td>\n",
       "<td>iDISCO abbreviated clearing</td>\n",
       "<td>complete</td>\n",
       "<td></td>\n",
       "<td></td>\n",
       "<td></td>\n",
       "<td>ahoag</td>\n",
       "<td>in progress</td>\n",
       "<td>None</td>\n",
       "<td>not yet assigned</td>\n",
       "<td>not started</td>\n",
       "<td>blending</td>\n",
       "<td>sigmoidal</td>\n",
       "<td></td></tr><tr><td>ahoag</td>\n",
       "<td>test3</td>\n",
       "<td>sample-001</td>\n",
       "<td>None</td>\n",
       "<td>None</td>\n",
       "<td>ahoag</td>\n",
       "<td>iDISCO+_immuno</td>\n",
       "<td>in progress</td>\n",
       "<td>test</td>\n",
       "<td></td>\n",
       "<td></td>\n",
       "<td>not yet assigned</td>\n",
       "<td>incomplete</td>\n",
       "<td>None</td>\n",
       "<td>not yet assigned</td>\n",
       "<td>not started</td>\n",
       "<td>blending</td>\n",
       "<td>sigmoidal</td>\n",
       "<td></td></tr><tr><td>ahoag</td>\n",
       "<td>test5</td>\n",
       "<td>sample-001</td>\n",
       "<td>None</td>\n",
       "<td>None</td>\n",
       "<td>not yet assigned</td>\n",
       "<td>iDISCO abbreviated clearing</td>\n",
       "<td>incomplete</td>\n",
       "<td></td>\n",
       "<td></td>\n",
       "<td></td>\n",
       "<td>not yet assigned</td>\n",
       "<td>incomplete</td>\n",
       "<td>None</td>\n",
       "<td>not yet assigned</td>\n",
       "<td>not started</td>\n",
       "<td>blending</td>\n",
       "<td>sigmoidal</td>\n",
       "<td></td></tr><tr><td>ll3</td>\n",
       "<td>test</td>\n",
       "<td>sample-001</td>\n",
       "<td>None</td>\n",
       "<td>None</td>\n",
       "<td>not yet assigned</td>\n",
       "<td>iDISCO abbreviated clearing</td>\n",
       "<td>incomplete</td>\n",
       "<td></td>\n",
       "<td></td>\n",
       "<td></td>\n",
       "<td>not yet assigned</td>\n",
       "<td>incomplete</td>\n",
       "<td>None</td>\n",
       "<td>not yet assigned</td>\n",
       "<td>not started</td>\n",
       "<td>blending</td>\n",
       "<td>sigmoidal</td>\n",
       "<td></td> </tr> </tbody>\n",
       "            </table>\n",
       "            \n",
       "            <p>Total: 10</p></div>\n",
       "            "
      ],
      "text/plain": [
       "*username    *experiment_na *sample_name   perfusion_date expected_hando clearer        clearing_proto clearing_progr antibody1     antibody2     notes_for_clea imager         imaging_progre imaging_date   processor      processing_pro stitching_meth blend_type     notes_from_pro\n",
       "+----------+ +------------+ +------------+ +------------+ +------------+ +------------+ +------------+ +------------+ +-----------+ +-----------+ +------------+ +------------+ +------------+ +------------+ +------------+ +------------+ +------------+ +------------+ +------------+\n",
       "ahoag        test           sample-001     None           None           ahoag          iDISCO abbrevi complete                                                  not yet assign incomplete     None           not yet assign not started    blending       sigmoidal                    \n",
       "ahoag        test           sample-002     None           None           not yet assign iDISCO abbrevi incomplete                                                not yet assign incomplete     None           not yet assign not started    blending       sigmoidal                    \n",
       "ahoag        test2          sample-001     None           None           ahoag          uDISCO         complete                                                  not yet assign incomplete     None           not yet assign not started    blending       sigmoidal                    \n",
       "ahoag        test2          sample-002     None           None           ahoag          iDISCO_EdU     in progress                                               not yet assign incomplete     None           not yet assign not started    blending       sigmoidal                    \n",
       "ahoag        test23         sample-001     None           None           not yet assign iDISCO abbrevi incomplete                                                not yet assign incomplete     None           not yet assign not started    blending       sigmoidal                    \n",
       "ahoag        test231        sample-001     None           None           not yet assign iDISCO abbrevi incomplete                                                not yet assign incomplete     None           not yet assign not started    blending       sigmoidal                    \n",
       "ahoag        test234        sample-001     None           None           ahoag          iDISCO abbrevi complete                                                  ahoag          in progress    None           not yet assign not started    blending       sigmoidal                    \n",
       "ahoag        test3          sample-001     None           None           ahoag          iDISCO+_immuno in progress    test                                       not yet assign incomplete     None           not yet assign not started    blending       sigmoidal                    \n",
       "ahoag        test5          sample-001     None           None           not yet assign iDISCO abbrevi incomplete                                                not yet assign incomplete     None           not yet assign not started    blending       sigmoidal                    \n",
       "ll3          test           sample-001     None           None           not yet assign iDISCO abbrevi incomplete                                                not yet assign incomplete     None           not yet assign not started    blending       sigmoidal                    \n",
       " (Total: 10)"
      ]
     },
     "execution_count": 5,
     "metadata": {},
     "output_type": "execute_result"
    }
   ],
   "source": [
    "schema.Sample()"
   ]
  },
  {
   "cell_type": "code",
   "execution_count": null,
   "metadata": {
    "collapsed": true
   },
   "outputs": [],
   "source": []
  },
  {
   "cell_type": "code",
   "execution_count": null,
   "metadata": {
    "collapsed": true
   },
   "outputs": [],
   "source": [
    "schema.Sample.ImagingChannel()"
   ]
  },
  {
   "cell_type": "code",
   "execution_count": null,
   "metadata": {
    "collapsed": true
   },
   "outputs": [],
   "source": [
    "rs=sorted(list(set(schema.Sample.ImagingChannel().fetch('image_resolution'))))"
   ]
  },
  {
   "cell_type": "code",
   "execution_count": null,
   "metadata": {
    "collapsed": true
   },
   "outputs": [],
   "source": [
    "for ii in range(len(rs)):\n",
    "    r = rs[ii]\n",
    "    print(r)"
   ]
  },
  {
   "cell_type": "code",
   "execution_count": null,
   "metadata": {
    "collapsed": true
   },
   "outputs": [],
   "source": [
    "channel_contents =schema.Sample.ImagingChannel()"
   ]
  },
  {
   "cell_type": "code",
   "execution_count": null,
   "metadata": {
    "collapsed": true
   },
   "outputs": [],
   "source": [
    "channel_contents & 'image_resolution=\"1.3x\"'"
   ]
  },
  {
   "cell_type": "code",
   "execution_count": null,
   "metadata": {
    "collapsed": true
   },
   "outputs": [],
   "source": [
    "schema.Sample.ProcessingChannel()"
   ]
  },
  {
   "cell_type": "code",
   "execution_count": null,
   "metadata": {
    "collapsed": true
   },
   "outputs": [],
   "source": [
    "'4'.zfill(3)"
   ]
  },
  {
   "cell_type": "code",
   "execution_count": null,
   "metadata": {
    "collapsed": true
   },
   "outputs": [],
   "source": [
    "os.path.join('test','this','out')"
   ]
  },
  {
   "cell_type": "code",
   "execution_count": null,
   "metadata": {
    "collapsed": true
   },
   "outputs": [],
   "source": [
    "sample_contents = schema.Sample() \n",
    "sample_contents"
   ]
  },
  {
   "cell_type": "code",
   "execution_count": null,
   "metadata": {
    "collapsed": true
   },
   "outputs": [],
   "source": [
    "channel_contents=schema.Sample.ImagingChannel() \n",
    "channel_contents"
   ]
  },
  {
   "cell_type": "code",
   "execution_count": null,
   "metadata": {
    "collapsed": true
   },
   "outputs": [],
   "source": [
    "dict_list=channel_contents.fetch(as_dict=True)\n",
    "dict_list"
   ]
  },
  {
   "cell_type": "code",
   "execution_count": null,
   "metadata": {
    "collapsed": true
   },
   "outputs": [],
   "source": [
    "dict_list = [{'channel_name':'555','otherkey':'otherval1'},{'channel_name':'488','otherkey':'otherval2'}]\n",
    "sorted(dict_list,key = lambda x: x['otherkey'])"
   ]
  },
  {
   "cell_type": "code",
   "execution_count": null,
   "metadata": {
    "collapsed": true
   },
   "outputs": [],
   "source": [
    "sample_contents * channel_contents"
   ]
  },
  {
   "cell_type": "code",
   "execution_count": null,
   "metadata": {
    "collapsed": true
   },
   "outputs": [],
   "source": [
    "dj.ERD(schema)"
   ]
  },
  {
   "cell_type": "code",
   "execution_count": null,
   "metadata": {
    "collapsed": true
   },
   "outputs": [],
   "source": [
    "schema.Sample.ImagingChannel()"
   ]
  },
  {
   "cell_type": "code",
   "execution_count": null,
   "metadata": {
    "collapsed": true
   },
   "outputs": [],
   "source": [
    "sample_contents * channel_contents"
   ]
  },
  {
   "cell_type": "code",
   "execution_count": null,
   "metadata": {
    "collapsed": true
   },
   "outputs": [],
   "source": [
    "channel_contents.fetch(as_dict=True)"
   ]
  },
  {
   "cell_type": "code",
   "execution_count": null,
   "metadata": {
    "collapsed": true
   },
   "outputs": [],
   "source": [
    "insert_list = [{'username':'ahoag','experiment_name':'test','sample_name':'sample-001','channel_name':'488'}]"
   ]
  },
  {
   "cell_type": "code",
   "execution_count": null,
   "metadata": {
    "collapsed": true
   },
   "outputs": [],
   "source": [
    "insert_list = [\n",
    "    {'experiment_name': '3test', 'username': 'ahoag', 'sample_name': 'sample-001',\n",
    "     'channel_name': '488', 'image_resolution_requested': '1.3x', 'registration': True, \n",
    "     'injection_detection': False, 'probe_detection': False, 'cell_detection': False},\n",
    "    {'experiment_name': '3test', 'username': 'ahoag', 'sample_name': 'sample-001', \n",
    "     'channel_name': '555', 'registration': False, 'injection_detection': False, \n",
    "     'probe_detection': False, 'cell_detection': False}, \n",
    "    {'experiment_name': '3test', 'username': 'ahoag', 'sample_name': 'sample-001', \n",
    "     'channel_name': '647', 'registration': False, 'injection_detection': False, \n",
    "     'probe_detection': False, 'cell_detection': False}, \n",
    "    {'experiment_name': '3test', 'username': 'ahoag', 'sample_name': 'sample-001',\n",
    "     'channel_name': '790', 'registration': False, 'injection_detection': False,\n",
    "     'probe_detection': False, 'cell_detection': False}]\n"
   ]
  },
  {
   "cell_type": "code",
   "execution_count": null,
   "metadata": {
    "collapsed": true
   },
   "outputs": [],
   "source": [
    "schema.Sample.ImagingChannel().insert(insert_list)"
   ]
  },
  {
   "cell_type": "code",
   "execution_count": null,
   "metadata": {
    "collapsed": true
   },
   "outputs": [],
   "source": [
    "exp_contents"
   ]
  },
  {
   "cell_type": "code",
   "execution_count": null,
   "metadata": {
    "collapsed": true
   },
   "outputs": [],
   "source": [
    "(exp_contents * samples_contents).proj()"
   ]
  },
  {
   "cell_type": "code",
   "execution_count": null,
   "metadata": {
    "collapsed": true
   },
   "outputs": [],
   "source": [
    "(exp_contents * samples_contents)"
   ]
  },
  {
   "cell_type": "code",
   "execution_count": null,
   "metadata": {
    "collapsed": true
   },
   "outputs": [],
   "source": [
    "exp_contents.proj(datetime='TIMESTAMP(date_submitted,time_submitted)')"
   ]
  },
  {
   "cell_type": "code",
   "execution_count": null,
   "metadata": {
    "collapsed": true
   },
   "outputs": [],
   "source": [
    "schema = dj.create_virtual_module(\"ahoag_lightsheet_demo\",\"ahoag_lightsheet_demo\")"
   ]
  },
  {
   "cell_type": "code",
   "execution_count": null,
   "metadata": {
    "collapsed": true
   },
   "outputs": [],
   "source": [
    "schema.Sample()"
   ]
  },
  {
   "cell_type": "code",
   "execution_count": null,
   "metadata": {
    "collapsed": true
   },
   "outputs": [],
   "source": [
    "var='abc'\n",
    "foo='bar'"
   ]
  },
  {
   "cell_type": "code",
   "execution_count": null,
   "metadata": {
    "collapsed": true
   },
   "outputs": [],
   "source": [
    "\n",
    "schema.Sample().fetch?"
   ]
  },
  {
   "cell_type": "code",
   "execution_count": null,
   "metadata": {
    "collapsed": true
   },
   "outputs": [],
   "source": [
    "ng = (f\"this is an {var} \"\n",
    "      f\"implicitly joined {foo} string\")\n",
    "ng"
   ]
  },
  {
   "cell_type": "code",
   "execution_count": null,
   "metadata": {
    "collapsed": true
   },
   "outputs": [],
   "source": [
    "mystr = 'channel488_registration'\n",
    "mystr[0:6]"
   ]
  },
  {
   "cell_type": "code",
   "execution_count": null,
   "metadata": {
    "collapsed": true
   },
   "outputs": [],
   "source": [
    "import os"
   ]
  },
  {
   "cell_type": "code",
   "execution_count": null,
   "metadata": {
    "collapsed": true
   },
   "outputs": [],
   "source": [
    "mkdir \"test\n"
   ]
  },
  {
   "cell_type": "code",
   "execution_count": null,
   "metadata": {
    "collapsed": true
   },
   "outputs": [],
   "source": [
    "sample_contents = schema.Sample() & 'sample_name =\"test-1\"'"
   ]
  },
  {
   "cell_type": "code",
   "execution_count": null,
   "metadata": {
    "collapsed": true
   },
   "outputs": [],
   "source": [
    "sample_dict=sample_contents.fetch"
   ]
  },
  {
   "cell_type": "code",
   "execution_count": null,
   "metadata": {
    "collapsed": true
   },
   "outputs": [],
   "source": [
    "Sample = schema.Sample()"
   ]
  },
  {
   "cell_type": "code",
   "execution_count": null,
   "metadata": {
    "collapsed": true
   },
   "outputs": [],
   "source": [
    "contents = schema.Sample()"
   ]
  },
  {
   "cell_type": "code",
   "execution_count": null,
   "metadata": {
    "collapsed": true
   },
   "outputs": [],
   "source": [
    "contents2=contents & 'sample_name=\"nothing\"'"
   ]
  },
  {
   "cell_type": "code",
   "execution_count": null,
   "metadata": {
    "collapsed": true
   },
   "outputs": [],
   "source": [
    "contents2.heading.attributes.keys()\n"
   ]
  },
  {
   "cell_type": "code",
   "execution_count": null,
   "metadata": {
    "collapsed": true
   },
   "outputs": [],
   "source": [
    "Sample.heading.attributes.keys()"
   ]
  },
  {
   "cell_type": "code",
   "execution_count": null,
   "metadata": {
    "collapsed": true
   },
   "outputs": [],
   "source": [
    "sample_dict"
   ]
  },
  {
   "cell_type": "code",
   "execution_count": null,
   "metadata": {
    "collapsed": true
   },
   "outputs": [],
   "source": [
    "l1=[0,0,1]\n",
    "any(l1)"
   ]
  },
  {
   "cell_type": "code",
   "execution_count": null,
   "metadata": {
    "collapsed": true
   },
   "outputs": [],
   "source": [
    "[key for key in sample_dict.keys() if key[0:10]=='channel488']"
   ]
  },
  {
   "cell_type": "code",
   "execution_count": null,
   "metadata": {
    "collapsed": true
   },
   "outputs": [],
   "source": [
    "schema = dj.create_virtual_module(\"ahoag_microscope_demo\",\"ahoag_microscope_demo\")"
   ]
  },
  {
   "cell_type": "code",
   "execution_count": null,
   "metadata": {
    "collapsed": true
   },
   "outputs": [],
   "source": [
    "schema.Microscope()"
   ]
  },
  {
   "cell_type": "code",
   "execution_count": null,
   "metadata": {
    "collapsed": true
   },
   "outputs": [],
   "source": [
    "schema.Experiment"
   ]
  },
  {
   "cell_type": "code",
   "execution_count": null,
   "metadata": {
    "collapsed": true
   },
   "outputs": [],
   "source": [
    "user=schema.User()"
   ]
  },
  {
   "cell_type": "code",
   "execution_count": null,
   "metadata": {
    "collapsed": true
   },
   "outputs": [],
   "source": [
    "user_contents = user & 'username=\"ahoag\"'\n",
    "user_contents"
   ]
  },
  {
   "cell_type": "code",
   "execution_count": null,
   "metadata": {
    "collapsed": true
   },
   "outputs": [],
   "source": [
    "frame = pd.DataFrame(user_contents.fetch())\n",
    "frame.username"
   ]
  },
  {
   "cell_type": "code",
   "execution_count": null,
   "metadata": {
    "collapsed": true
   },
   "outputs": [],
   "source": [
    "insert_dict =  {'username':'ahoag','experiment_name':'Test','sample_name':'t-1','exp_notes':'notes'}\n",
    "schema.Sample.IdiscoAbbreviatedClearing().insert1(insert_dict)"
   ]
  },
  {
   "cell_type": "code",
   "execution_count": null,
   "metadata": {
    "collapsed": true
   },
   "outputs": [],
   "source": [
    "schema.Sample.IdiscoAbbreviatedClearing().insert1()"
   ]
  },
  {
   "cell_type": "code",
   "execution_count": null,
   "metadata": {
    "collapsed": true
   },
   "outputs": [],
   "source": [
    "user_contents=schema.User()"
   ]
  },
  {
   "cell_type": "code",
   "execution_count": null,
   "metadata": {
    "collapsed": true
   },
   "outputs": [],
   "source": [
    "username='ahoag'\n",
    "experiment_name='test3'"
   ]
  },
  {
   "cell_type": "code",
   "execution_count": null,
   "metadata": {
    "collapsed": true
   },
   "outputs": [],
   "source": [
    "schema.Experiment()"
   ]
  },
  {
   "cell_type": "code",
   "execution_count": null,
   "metadata": {
    "collapsed": true
   },
   "outputs": [],
   "source": [
    "schema.Experiment() & f'username=\"{username}\"' & f'experiment_name=\"{experiment_name}\"'"
   ]
  },
  {
   "cell_type": "code",
   "execution_count": null,
   "metadata": {
    "collapsed": true
   },
   "outputs": [],
   "source": [
    "schema.Experiment().Sample() & f'username=\"{username}\"' & f'experiment_name=\"{experiment_name}\"'"
   ]
  },
  {
   "cell_type": "code",
   "execution_count": null,
   "metadata": {
    "collapsed": true
   },
   "outputs": [],
   "source": [
    "schema.Experiment.Sample()"
   ]
  },
  {
   "cell_type": "code",
   "execution_count": null,
   "metadata": {
    "collapsed": true
   },
   "outputs": [],
   "source": [
    "schema.Experiment()"
   ]
  },
  {
   "cell_type": "code",
   "execution_count": null,
   "metadata": {
    "collapsed": true
   },
   "outputs": [],
   "source": [
    "# schema = dj.schema('ahoag_lightsheet_demo')\n",
    "schema = dj.create_virtual_module('ahoag_microscope_demo','ahoag_microscope_demo')"
   ]
  },
  {
   "cell_type": "code",
   "execution_count": null,
   "metadata": {
    "collapsed": true
   },
   "outputs": [],
   "source": [
    "schema.Microscope().fetch('microscope_name')"
   ]
  },
  {
   "cell_type": "code",
   "execution_count": null,
   "metadata": {
    "collapsed": true
   },
   "outputs": [],
   "source": [
    "schema.Channel().fetch(\"KEY\")"
   ]
  },
  {
   "cell_type": "code",
   "execution_count": null,
   "metadata": {
    "collapsed": true
   },
   "outputs": [],
   "source": [
    "schema.Laser().fetch(\"KEY\")[0].keys()"
   ]
  },
  {
   "cell_type": "code",
   "execution_count": null,
   "metadata": {
    "collapsed": true
   },
   "outputs": [],
   "source": [
    "schema.Laser()"
   ]
  },
  {
   "cell_type": "code",
   "execution_count": null,
   "metadata": {
    "collapsed": true
   },
   "outputs": [],
   "source": [
    "insert_dict = {'laser_name':'Test laser','laser_model':'new model','laser_serial':'new serial'}\n",
    "primary_key_list = schema.Laser().primary_key\n",
    "primary_key_list"
   ]
  },
  {
   "cell_type": "code",
   "execution_count": null,
   "metadata": {
    "collapsed": true
   },
   "outputs": [],
   "source": [
    "# primary_key_result_str = ''\n",
    "\n",
    "primary_key_result_str =','.join(f'{key} = {insert_dict[key]}' for key in primary_key_list)\n",
    "primary_key_result_str"
   ]
  },
  {
   "cell_type": "code",
   "execution_count": null,
   "metadata": {
    "collapsed": true
   },
   "outputs": [],
   "source": [
    "insert_dict = {'microscope_name':'light sheet microscope','channel_name':'test'}\n",
    "primary_key_list = schema.Channel().primary_key\n",
    "primary_key_list"
   ]
  },
  {
   "cell_type": "code",
   "execution_count": null,
   "metadata": {
    "collapsed": true
   },
   "outputs": [],
   "source": [
    "primary_key_result_str =', '.join(f'{key} = {insert_dict[key]}' for key in primary_key_list)\n",
    "primary_key_result_str"
   ]
  },
  {
   "cell_type": "code",
   "execution_count": null,
   "metadata": {
    "collapsed": true
   },
   "outputs": [],
   "source": [
    "schema.Microscope()"
   ]
  },
  {
   "cell_type": "code",
   "execution_count": null,
   "metadata": {
    "collapsed": true,
    "scrolled": true
   },
   "outputs": [],
   "source": [
    "UdiscoClearing().drop()"
   ]
  },
  {
   "cell_type": "markdown",
   "metadata": {},
   "source": [
    "## 1) Define database tables"
   ]
  },
  {
   "cell_type": "code",
   "execution_count": null,
   "metadata": {
    "collapsed": true
   },
   "outputs": [],
   "source": [
    "@schema\n",
    "class User(dj.Lookup):\n",
    "    definition = \"\"\"\n",
    "    # Users of the light sheet microscope\n",
    "    username : varchar(20)      # user in the lab\n",
    "    ---\n",
    "    email       : varchar(50)\n",
    "    \"\"\"\n",
    "    \n",
    "@schema\n",
    "class Experiment(dj.Manual):\n",
    "    definition = \"\"\" # Experiments performed using the light sheet microscope\n",
    "    experiment_id           :   smallint auto_increment    # allowed here are sql datatypes.\n",
    "    ----\n",
    "    -> User \n",
    "    title                   :   varchar(100)\n",
    "    description             :   varchar(250)\n",
    "    notes = \"\"              :   varchar(1000)\n",
    "    species                 :   varchar(50)\n",
    "    clearing_protocol       :   enum(\"iDISCO+_immuno\",\"iDISCO abbreviated clearing\",\"iDISCO abbreviated clearing (rat)\",\"uDISCO\",\"iDISCO_EdU\")\n",
    "    clearing_progress       :   enum(\"incomplete\",\"complete\")\n",
    "    fluorophores            :   varchar(100)\n",
    "    antibody1               :   varchar(100)\n",
    "    antibody2               :   varchar(100)\n",
    "    image_resolution        :   enum(\"1.3x\",\"4x\")\n",
    "    cell_detection          :   tinyint\n",
    "    registration            :   tinyint\n",
    "    probe_detection         :   tinyint\n",
    "    injection_detection     :   tinyint\n",
    "    \"\"\"  \n",
    "    \n",
    "@schema #  \n",
    "class Microscope(dj.Manual): # dj.Manual is one of the 4 datajoint table types - Manual corresponds to externally inputted data\n",
    "    definition = \"\"\" # Periodic calibration data of the light sheet microscope\n",
    "    entrynum                :   smallint auto_increment    # allowed here are sql datatypes.\n",
    "    ----\n",
    "    -> User              \n",
    "    date                    :   varchar(10)    \n",
    "    old_objective           :   varchar(50)\n",
    "    new_objective           :   varchar(50)\n",
    "    swapper                 :   varchar(250)\n",
    "    calibration =           :   varchar(1000) \n",
    "    notes =                 :   varchar(1000)\n",
    "    \"\"\""
   ]
  },
  {
   "cell_type": "code",
   "execution_count": null,
   "metadata": {
    "collapsed": true
   },
   "outputs": [],
   "source": [
    "User()"
   ]
  },
  {
   "cell_type": "code",
   "execution_count": null,
   "metadata": {
    "collapsed": true
   },
   "outputs": [],
   "source": [
    "Experiment()"
   ]
  },
  {
   "cell_type": "code",
   "execution_count": null,
   "metadata": {
    "collapsed": true
   },
   "outputs": [],
   "source": [
    "exp_contents = Experiment() & 'experiment_id=1'"
   ]
  },
  {
   "cell_type": "code",
   "execution_count": null,
   "metadata": {
    "collapsed": true
   },
   "outputs": [],
   "source": [
    "exp_contents.fetch1('cell_detection','registration','probe_detection','injection_detection')"
   ]
  },
  {
   "cell_type": "code",
   "execution_count": null,
   "metadata": {
    "collapsed": true
   },
   "outputs": [],
   "source": [
    "Microscope()"
   ]
  },
  {
   "cell_type": "markdown",
   "metadata": {},
   "source": [
    "## 2) Download content for the database from existing google sheets and the Sheets API"
   ]
  },
  {
   "cell_type": "code",
   "execution_count": null,
   "metadata": {
    "collapsed": true
   },
   "outputs": [],
   "source": [
    "def retrieve_google_sheet(spreadsheet_id,range_query):\n",
    "    \"\"\"\n",
    "    ---PURPOSE---\n",
    "    Get data from the range of cells in the google sheet specified.\n",
    "    ---INPUT---\n",
    "    spreadsheet_id    The long string in the URL of a google sheet\n",
    "                      that identifies the sheet\n",
    "    range_query       The Sheets API range query, e.g. 'Sheet1!A3:B3'\n",
    "    \"\"\"\n",
    "    creds = None\n",
    "    # The file token.pickle stores the user's access and refresh tokens, and is\n",
    "    # created automatically when the authorization flow completes for the first\n",
    "    # time.\n",
    "    if os.path.exists('token.pickle'):\n",
    "        with open('token.pickle', 'rb') as token:\n",
    "            creds = pickle.load(token)\n",
    "    # If there are no (valid) credentials available, let the user log in.\n",
    "    if not creds or not creds.valid:\n",
    "        if creds and creds.expired and creds.refresh_token:\n",
    "            creds.refresh(Request())\n",
    "        else:\n",
    "            flow = InstalledAppFlow.from_client_secrets_file(\n",
    "                secrets_file, SCOPES)\n",
    "            creds = flow.run_local_server(port=0)\n",
    "        # Save the credentials for the next run\n",
    "        with open('token.pickle', 'wb') as token:\n",
    "            pickle.dump(creds, token)\n",
    "\n",
    "    service = build('sheets', 'v4', credentials=creds)\n",
    "\n",
    "    # Call the Sheets API\n",
    "    sheet = service.spreadsheets()\n",
    "    result = sheet.values().get(spreadsheetId=spreadsheet_id,\n",
    "                                range=range_query).execute()\n",
    "    values = result.get('values', [])\n",
    "\n",
    "    return values"
   ]
  },
  {
   "cell_type": "markdown",
   "metadata": {},
   "source": [
    "## Fill User and Experiment tables"
   ]
  },
  {
   "cell_type": "code",
   "execution_count": null,
   "metadata": {
    "collapsed": true
   },
   "outputs": [],
   "source": [
    "# Grab the form response data so we can fill out User() and Experiment() table\n",
    "# Set the scope to be read only since we are not adding anything to the google sheet, just reading it\n",
    "SCOPES = ['https://www.googleapis.com/auth/spreadsheets.readonly']\n",
    "# Set the spreadsheet ID (long string in the url, e.g.:\n",
    "exp_SPREADSHEET_ID = '1iy4H8kHocnu9sS9P-NZA8qcp6_R4gj0ogwksl3I-suU' # The copy I made of the clearing/form responses spreadsheet\n",
    "exp_range_query='Form Responses!B3:P36'\n",
    "\n",
    "# https://docs.google.com/spreadsheets/d/1YbP64yIApUaxjpscBXP8r82VmrkrKYakbjRFqF9XHB0/edit#gid=0) \n",
    "# As well as the range of cells you want to grab. \n",
    "# We are in readonly (see SCOPES) so we cannot destroy it by accident.\n",
    "secrets_file = 'credentials.json' # Has to be called \"credentials.json\"  \n",
    "assert os.path.exists(secrets_file)"
   ]
  },
  {
   "cell_type": "code",
   "execution_count": null,
   "metadata": {
    "collapsed": true
   },
   "outputs": [],
   "source": [
    "def fill_user_exp_tables():\n",
    "    \"\"\" Fills the User() and Experiment() tables \n",
    "    using the form response data from the tab in the clearing google spreadsheet\n",
    "    \"\"\"\n",
    "\n",
    "    exp_column_names = ['username','species','clearing_protocol','clearing_progress','title','description','fluorophores',\\\n",
    "                    'antibody1','antibody2','image_resolution',\\\n",
    "                    'cell_detection','registration','probe_detection','injection_detection','notes'] # order doesn't matter since we will be using these in a dictionary\n",
    "    if len(User.fetch()) != 0 or len(Experiment.fetch()) != 0:\n",
    "        sys.exit('User and/or Experiment table not empty! Drop them first before refilling')\n",
    "    form_response_data = retrieve_google_sheet(spreadsheet_id=exp_SPREADSHEET_ID,range_query=exp_range_query)\n",
    "    # Remove \"Number of Samples\" column since it is empty and we don't want it\n",
    "    form_response_data=[x[0:3]+x[4:] for x in form_response_data]\n",
    "    for form_response in form_response_data:\n",
    "        # ignore blank lines\n",
    "        if not form_response:\n",
    "            continue\n",
    "        assert len(form_response) == 14\n",
    "        species = form_response[0].lower()\n",
    "        clearing_protocol = form_response[1]\n",
    "        if 'immunostaining' in clearing_protocol:\n",
    "            clearing_protocol = 'iDISCO+_immuno'\n",
    "        elif 'abbreviated' in clearing_protocol:\n",
    "            if species == 'rat':\n",
    "                clearing_protocol = 'iDISCO abbreviated clearing (rat)'\n",
    "            else:\n",
    "                clearing_protocol = 'iDISCO abbreviated clearing'\n",
    "        elif 'EdU' in clearing_protocol:\n",
    "            clearing_protocol = 'iDISCO_EdU'\n",
    "        else: # don't change it\n",
    "            pass\n",
    "        clearing_progress = 'complete' # All of the ones in this sheet have already been completed\n",
    "        title=form_response[2]\n",
    "        description = form_response[3]\n",
    "        fluorophores = form_response[4]\n",
    "        primary_antibody = form_response[5]\n",
    "        secondary_antibody = form_response[6]\n",
    "        imaging_str = form_response[7]\n",
    "        image_resolution = \"1.3x\" if \"1.3x\" in imaging_str else \"4x\"\n",
    "        processing_str = form_response[8]\n",
    "        processing_list = [x.lower() for x in processing_str.split(',')]\n",
    "\n",
    "        cell_detection = 0\n",
    "        registration = 0\n",
    "        probe_detection = 0\n",
    "        injection_detection = 0\n",
    "        for item in processing_list:\n",
    "            if 'cell detection' in item:\n",
    "                cell_detection = 1\n",
    "            if 'registration' in item:\n",
    "                registration=1\n",
    "            if 'probe' in item and 'detection' in item:\n",
    "                probe_detection = 1\n",
    "            if 'injection' in item and 'detection' in item:\n",
    "                injection_detection =1\n",
    "        notes = form_response[11]\n",
    "        email = form_response[13]\n",
    "        username = email.split('@')[0].lower() if 'princeton' in email else 'zmd' # zahra is the only one who used her gmail\n",
    "        labname = labname_dict[username]\n",
    "        user_insert_dict = {'username':username,'email':email}\n",
    "        \n",
    "        exp_insert_row = [username,species,clearing_protocol,clearing_progress,title,description,fluorophores,\\\n",
    "                      primary_antibody,secondary_antibody,image_resolution,cell_detection,registration,\\\n",
    "                      probe_detection,injection_detection,notes]\n",
    "        exp_insert_dict = {exp_column_names[ii]:exp_insert_row[ii] for ii in range(len(exp_column_names))}\n",
    "        \n",
    "        User().insert1(user_insert_dict,skip_duplicates=True)\n",
    "        Experiment().insert1(exp_insert_dict)"
   ]
  },
  {
   "cell_type": "code",
   "execution_count": null,
   "metadata": {
    "collapsed": true
   },
   "outputs": [],
   "source": [
    "exp_response_data = retrieve_google_sheet(spreadsheet_id=exp_SPREADSHEET_ID,range_query=exp_range_query)"
   ]
  },
  {
   "cell_type": "code",
   "execution_count": null,
   "metadata": {
    "collapsed": true
   },
   "outputs": [],
   "source": [
    "fill_user_exp_tables()"
   ]
  },
  {
   "cell_type": "code",
   "execution_count": null,
   "metadata": {
    "collapsed": true
   },
   "outputs": [],
   "source": [
    "def pickle_exp_data():\n",
    "    today = datetime.now().strftime('%Y-%m-%d')\n",
    "    exp_response_data = retrieve_google_sheet(spreadsheet_id=exp_SPREADSHEET_ID,range_query=exp_range_query)\n",
    "    experiment_data_file = home_dir + f'/Git/lightserv_dj_demo/lightserv/data/experiment_data_{today}.pkl'\n",
    "    with open(experiment_data_file, 'wb') as f:\n",
    "        pickle.dump(exp_response_data,f)\n",
    "        print(f\"Wrote {experiment_data_file}\")"
   ]
  },
  {
   "cell_type": "code",
   "execution_count": null,
   "metadata": {
    "collapsed": true
   },
   "outputs": [],
   "source": [
    "def pickle_exp_test_data():\n",
    "    exp_response_data = retrieve_google_sheet(spreadsheet_id=exp_SPREADSHEET_ID,range_query=exp_range_query)\n",
    "    experiment_test_data_file = home_dir + f'/Git/lightserv_dj_demo/lightserv/data/experiment_test_data.pkl'\n",
    "    with open(experiment_test_data_file, 'wb') as f:\n",
    "        pickle.dump(exp_response_data,f)\n",
    "        print(f\"Wrote {experiment_test_data_file}\")"
   ]
  },
  {
   "cell_type": "code",
   "execution_count": null,
   "metadata": {
    "collapsed": true
   },
   "outputs": [],
   "source": [
    "experiment_test_data_file = home_dir + f'/Git/lightserv_dj_demo/lightserv/data/experiment_test_data.pkl'\n",
    "with open(experiment_test_data_file,'rb') as f:\n",
    "    data = pickle.load(f)"
   ]
  },
  {
   "cell_type": "code",
   "execution_count": null,
   "metadata": {
    "collapsed": true
   },
   "outputs": [],
   "source": [
    "labname_dict = {'tomohito':'Falkner','jverpeut':'Wang','soline':'Falkner','marlies.oostland':'Wang','zmd':'Wang'}"
   ]
  },
  {
   "cell_type": "code",
   "execution_count": null,
   "metadata": {
    "collapsed": true
   },
   "outputs": [],
   "source": [
    "len(labname_dict)"
   ]
  },
  {
   "cell_type": "code",
   "execution_count": null,
   "metadata": {
    "collapsed": true
   },
   "outputs": [],
   "source": [
    "data"
   ]
  },
  {
   "cell_type": "code",
   "execution_count": null,
   "metadata": {
    "collapsed": true
   },
   "outputs": [],
   "source": [
    "udisco_test_data_file = home_dir + f'/Git/lightserv_dj_demo/lightserv/data/udisco_test_data.pkl'\n",
    "with open(udisco_test_data_file,'rb') as f:\n",
    "    data = pickle.load(f)"
   ]
  },
  {
   "cell_type": "code",
   "execution_count": null,
   "metadata": {
    "collapsed": true
   },
   "outputs": [],
   "source": [
    "df = pd.DataFrame(data)\n",
    "# df = df.set_index('experiment_id')\n",
    "df.to_dict('r')"
   ]
  },
  {
   "cell_type": "code",
   "execution_count": null,
   "metadata": {
    "collapsed": true
   },
   "outputs": [],
   "source": [
    "fill_user_exp_tables()"
   ]
  },
  {
   "cell_type": "code",
   "execution_count": null,
   "metadata": {
    "collapsed": true
   },
   "outputs": [],
   "source": [
    "User()"
   ]
  },
  {
   "cell_type": "code",
   "execution_count": null,
   "metadata": {
    "collapsed": true,
    "scrolled": true
   },
   "outputs": [],
   "source": [
    "Experiment()"
   ]
  },
  {
   "cell_type": "markdown",
   "metadata": {},
   "source": [
    "## Fill Microscope Table"
   ]
  },
  {
   "cell_type": "code",
   "execution_count": null,
   "metadata": {
    "collapsed": true
   },
   "outputs": [],
   "source": [
    "# Only does this if the table does not already exist.\n",
    "def fill_microscope_table():\n",
    "    microscope_spreadsheet_id = '1Velwahzvy0hxHDlcjlQPbLjShCQMmCb2DWuz-O_65PI' # The live spreadsheet\n",
    "    microscope_range_query = 'Sheet1' # Syntax is Sheet_name!cell_start:cell_end, e.g. \n",
    "    if len(Microscope.fetch()) != 0:\n",
    "        sys.exit('Microscope table not empty. Drop it before attempting to refill')\n",
    "    microscope_data = retrieve_google_sheet(spreadsheet_id=microscope_spreadsheet_id,range_query=microscope_range_query)\n",
    "    microscope_column_names = ['username','date','old_objective','new_objective','swapper','calibration','notes'] # in the database\n",
    "    for row in microscope_data[1:]: # skip the first row because it is the column names\n",
    "        if len(row) < 2:\n",
    "            continue\n",
    "        try:\n",
    "            date_str = datetime.strptime(row[0], \"%B %d, %Y\").strftime(\"%Y-%m-%d\")\n",
    "        except:\n",
    "            date_str = 'unknown'\n",
    "        for ii in range(len(microscope_column_names)-len(row)):\n",
    "            row.append('')\n",
    "        microscope_insert_row = ['zmd',date_str] + row[1:]    \n",
    "        microscope_insert_dict = {microscope_column_names[ii]:microscope_insert_row[ii]\\\n",
    "                                  for ii in range(len(microscope_column_names))}\n",
    "        Microscope().insert1(microscope_insert_dict,skip_duplicates = True)"
   ]
  },
  {
   "cell_type": "code",
   "execution_count": null,
   "metadata": {
    "collapsed": true
   },
   "outputs": [],
   "source": [
    "fill_microscope_table()"
   ]
  },
  {
   "cell_type": "code",
   "execution_count": null,
   "metadata": {
    "collapsed": true
   },
   "outputs": [],
   "source": [
    "today = datetime.now().strftime('%Y-%m-%d')\n",
    "microscope_data_file = home_dir + f'/Git/lightserv_dj_demo/lightserv/data/microscope_data_{today}.pkl'\n",
    "with open(microscope_data_file, 'wb') as f:\n",
    "    pickle.dump(microscope_data_file,f)\n",
    "    print(f\"wrote {microscope_data_file}\")"
   ]
  },
  {
   "cell_type": "code",
   "execution_count": null,
   "metadata": {
    "collapsed": true
   },
   "outputs": [],
   "source": [
    "Microscope()"
   ]
  },
  {
   "cell_type": "markdown",
   "metadata": {},
   "source": [
    "## Add clearing tables"
   ]
  },
  {
   "cell_type": "markdown",
   "metadata": {},
   "source": [
    "### iDISCO+ clearing table"
   ]
  },
  {
   "cell_type": "code",
   "execution_count": null,
   "metadata": {
    "collapsed": true
   },
   "outputs": [],
   "source": [
    "@schema\n",
    "class IdiscoPlusClearing(dj.Manual): # dj.Manual is one of the 4 datajoint table types - Manual corresponds to externally inputted data\n",
    "        definition = \"\"\" # Periodic calibration data of the light sheet microscope\n",
    "        -> Experiment              # experiment_id, the primary key from the Experiment() table\n",
    "        ----\n",
    "        -> User                    # username, the researcher's netid from the User() table\n",
    "        clearer                                                  :   varchar(20)   # the netid of the person who did the clearing\n",
    "        exp_notes = \"\"                                           :   varchar(500)  # Note anything unusual that happened during experiment that could affect clearing\n",
    "        perfusion_date = NULL                                    :   date \n",
    "        time_dehydr_pbs_wash1 = NULL                             :   datetime\n",
    "        dehydr_pbs_wash1_notes = \"\"                              :   varchar(250)\n",
    "        time_dehydr_pbs_wash2 = NULL                             :   datetime\n",
    "        dehydr_pbs_wash2_notes = \"\"                              :   varchar(250)\n",
    "        time_dehydr_pbs_wash3 = NULL                             :   datetime\n",
    "        dehydr_pbs_wash3_notes = \"\"                              :   varchar(250)\n",
    "        time_dehydr_ch3oh_20percent_wash1 = NULL                 :   datetime\n",
    "        dehydr_ch3oh_20percent_wash1_notes = \"\"                  :   varchar(250)\n",
    "        time_dehydr_ch3oh_40percent_wash1 = NULL                 :   datetime\n",
    "        dehydr_ch3oh_40percent_wash1_notes = \"\"                  :   varchar(250)\n",
    "        time_dehydr_ch3oh_60percent_wash1 = NULL                 :   datetime\n",
    "        dehydr_ch3oh_60percent_wash1_notes = \"\"                  :   varchar(250)\n",
    "        time_dehydr_ch3oh_80percent_wash1 = NULL                 :   datetime\n",
    "        dehydr_ch3oh_80percent_wash1_notes = \"\"                  :   varchar(250)\n",
    "        time_dehydr_ch3oh_100percent_wash1 = NULL                :   datetime\n",
    "        dehydr_ch3oh_100percent_wash1_notes = \"\"                 :   varchar(250)\n",
    "        time_dehydr_ch3oh_100percent_wash2 = NULL                :   datetime\n",
    "        dehydr_ch3oh_100percent_wash2_notes = \"\"                 :   varchar(250)\n",
    "        time_dehydr_h202_wash1 = NULL                            :   datetime\n",
    "        dehydr_h202_wash1_notes = \"\"                             :   varchar(250)\n",
    "        time_rehydr_ch3oh_100percent_wash1 = NULL                :   datetime\n",
    "        rehydr_ch3oh_100percent_wash1_notes = \"\"                 :   varchar(250)\n",
    "        time_rehydr_ch3oh_80percent_wash1 = NULL                 :   datetime\n",
    "        rehydr_ch3oh_80percent_wash1_notes = \"\"                  :   varchar(250)\n",
    "        time_rehydr_ch3oh_60percent_wash1 = NULL                 :   datetime\n",
    "        rehydr_ch3oh_60percent_wash1_notes = \"\"                  :   varchar(250)\n",
    "        time_rehydr_ch3oh_40percent_wash1 = NULL                 :   datetime\n",
    "        rehydr_ch3oh_40percent_wash1_notes = \"\"                  :   varchar(250)\n",
    "        time_rehydr_ch3oh_20percent_wash1 = NULL                 :   datetime\n",
    "        rehydr_ch3oh_20percent_wash1_notes = \"\"                  :   varchar(250)\n",
    "        time_rehydr_pbs_wash1 = NULL                             :   datetime\n",
    "        rehydr_pbs_wash1_notes = \"\"                              :   varchar(250)\n",
    "        time_rehydr_sodium_azide_wash1 = NULL                    :   datetime\n",
    "        rehydr_sodium_azide_wash1_notes = \"\"                     :   varchar(250)\n",
    "        time_rehydr_sodium_azide_wash2 = NULL                    :   datetime\n",
    "        rehydr_sodium_azide_wash2_notes = \"\"                     :   varchar(250)\n",
    "        time_rehydr_glycine_wash1 = NULL                         :   datetime\n",
    "        rehydr_glycine_wash1_notes = \"\"                          :   varchar(250)\n",
    "        time_blocking_start_roomtemp = NULL                      :   datetime\n",
    "        blocking_start_roomtemp_notes = \"\"                       :   varchar(250)\n",
    "        time_blocking_donkey_serum = NULL                        :   datetime\n",
    "        blocking_donkey_serum_notes = \"\"                         :   varchar(250)\n",
    "        time_antibody1_start_roomtemp = NULL                     :   datetime\n",
    "        antibody1_start_roomtemp_notes = \"\"                      :   varchar(250)\n",
    "        time_antibody1_ptwh_wash1 = NULL                         :   datetime\n",
    "        antibody1_ptwh_wash1_notes = \"\"                          :   varchar(250)\n",
    "        time_antibody1_ptwh_wash2 = NULL                         :   datetime\n",
    "        antibody1_ptwh_wash2_notes = \"\"                          :   varchar(250)\n",
    "        time_antibody1_added = NULL                              :   datetime\n",
    "        antibody1_added_notes = \"\"                               :   varchar(250)\n",
    "        time_wash1_start_roomtemp = NULL                         :   datetime\n",
    "        wash1_start_roomtemp_notes = \"\"                          :   varchar(250)\n",
    "        time_wash1_ptwh_wash1 = NULL                             :   datetime\n",
    "        wash1_ptwh_wash1_notes = \"\"                              :   varchar(250)\n",
    "        time_wash1_ptwh_wash2 = NULL                             :   datetime\n",
    "        wash1_ptwh_wash2_notes = \"\"                              :   varchar(250)\n",
    "        time_wash1_ptwh_wash3 = NULL                             :   datetime\n",
    "        wash1_ptwh_wash3_notes = \"\"                              :   varchar(250)\n",
    "        time_wash1_ptwh_wash4 = NULL                             :   datetime\n",
    "        wash1_ptwh_wash4_notes = \"\"                              :   varchar(250)\n",
    "        time_wash1_ptwh_wash5 = NULL                             :   datetime\n",
    "        wash1_ptwh_wash5_notes = \"\"                              :   varchar(250)\n",
    "        time_antibody2_added = NULL                              :   datetime\n",
    "        antibody2_added_notes = \"\"                               :   varchar(250)\n",
    "        time_wash2_start_roomtemp = NULL                         :   datetime\n",
    "        wash2_start_roomtemp_notes = \"\"                          :   varchar(250)\n",
    "        time_wash2_ptwh_wash1 = NULL                             :   datetime\n",
    "        wash2_ptwh_wash1_notes = \"\"                              :   varchar(250)\n",
    "        time_wash2_ptwh_wash2 = NULL                             :   datetime\n",
    "        wash2_ptwh_wash2_notes = \"\"                              :   varchar(250)\n",
    "        time_wash2_ptwh_wash3 = NULL                             :   datetime\n",
    "        wash2_ptwh_wash3_notes = \"\"                              :   varchar(250)\n",
    "        time_wash2_ptwh_wash4 = NULL                             :   datetime\n",
    "        wash2_ptwh_wash3_notes = \"\"                              :   varchar(250)\n",
    "        time_wash2_ptwh_wash5 = NULL                             :   datetime\n",
    "        wash2_ptwh_wash5_notes = \"\"                              :   varchar(250)\n",
    "        time_clearing_ch3oh_20percent_wash1 = NULL               :   datetime\n",
    "        clearing_ch3oh_20percent_wash1_notes = \"\"                :   varchar(250)\n",
    "        time_clearing_ch3oh_40percent_wash1 = NULL               :   datetime\n",
    "        clearing_ch3oh_40percent_wash1_notes = \"\"                :   varchar(250)\n",
    "        time_clearing_ch3oh_60percent_wash1 = NULL               :   datetime\n",
    "        clearing_ch3oh_60percent_wash1_notes = \"\"                :   varchar(250)\n",
    "        time_clearing_ch3oh_80percent_wash1 = NULL               :   datetime\n",
    "        clearing_ch3oh_80percent_wash1_notes = \"\"                :   varchar(250)\n",
    "        time_clearing_ch3oh_100percent_wash1 = NULL              :   datetime\n",
    "        clearing_ch3oh_100percent_wash1_notes = \"\"               :   varchar(250)\n",
    "        time_clearing_ch3oh_100percent_wash2 = NULL              :   datetime\n",
    "        clearing_ch3oh_100percent_wash2_notes = \"\"               :   varchar(250)\n",
    "        time_clearing_dcm_66percent_ch3oh_33percent = NULL       :   datetime\n",
    "        clearing_dcm_66percent_ch3oh_33percent_notes = \"\"        :   varchar(250)\n",
    "        time_clearing_dcm_wash1 = NULL                           :   datetime\n",
    "        clearing_dcm_wash1_notes = \"\"                            :   varchar(250)\n",
    "        time_clearing_dcm_wash2 = NULL                           :   datetime\n",
    "        clearing_dcm_wash2_notes = \"\"                            :   varchar(250)\n",
    "        time_clearing_dbe = NULL                                 :   datetime\n",
    "        clearing_dbe_notes = \"\"                                  :   varchar(250)\n",
    "        time_clearing_new_tubes = NULL                           :   datetime\n",
    "        clearing_new_tubes_notes = \"\"                            :   varchar(250)\n",
    "        clearing_notes = \"\"                                      :   varchar(500)\n",
    "        \"\"\""
   ]
  },
  {
   "cell_type": "code",
   "execution_count": null,
   "metadata": {
    "collapsed": true
   },
   "outputs": [],
   "source": [
    "@schema\n",
    "class IdiscoAbbreviatedClearing(dj.Manual): # dj.Manual is one of the 4 datajoint table types - Manual corresponds to externally inputted data\n",
    "        definition = \"\"\" # Periodic calibration data of the light sheet microscope\n",
    "        -> Experiment              # experiment_id, the primary key from the Experiment() table\n",
    "        ----\n",
    "        -> User                    # username, the researcher's netid from the User() table\n",
    "        clearer                                                  :   varchar(20)   # the netid of the person who did the clearing\n",
    "        exp_notes = \"\"                                           :   varchar(500)  # Note anything unusual that happened during experiment that could affect clearing\n",
    "        perfusion_date = NULL                                    :   date \n",
    "        time_pbs_wash1 = NULL                                    :   datetime\n",
    "        pbs_wash1_notes = \"\"                                     :   varchar(250)\n",
    "        time_pbs_wash2 = NULL                                    :   datetime\n",
    "        pbs_wash2_notes = \"\"                                     :   varchar(250)\n",
    "        time_pbs_wash3 = NULL                                    :   datetime\n",
    "        pbs_wash3_notes = \"\"                                     :   varchar(250)\n",
    "        time_dehydr_ch3oh_20percent_wash1 = NULL                 :   datetime\n",
    "        dehydr_ch3oh_20percent_wash1_notes = \"\"                  :   varchar(250)\n",
    "        time_dehydr_ch3oh_40percent_wash1 = NULL                 :   datetime\n",
    "        dehydr_ch3oh_40percent_wash1_notes = \"\"                  :   varchar(250)\n",
    "        time_dehydr_ch3oh_60percent_wash1 = NULL                 :   datetime\n",
    "        dehydr_ch3oh_60percent_wash1_notes = \"\"                  :   varchar(250)\n",
    "        time_dehydr_ch3oh_80percent_wash1 = NULL                 :   datetime\n",
    "        dehydr_ch3oh_80percent_wash1_notes = \"\"                  :   varchar(250)\n",
    "        time_dehydr_ch3oh_100percent_wash1 = NULL                :   datetime\n",
    "        dehydr_ch3oh_100percent_wash1_notes = \"\"                 :   varchar(250)\n",
    "        time_dehydr_ch3oh_100percent_wash2 = NULL                :   datetime\n",
    "        dehydr_ch3oh_100percent_wash2_notes = \"\"                 :   varchar(250)\n",
    "        time_dehydr_dcm_66percent_ch3oh_33percent = NULL         :   datetime\n",
    "        dehydr_dcm_66percent_ch3oh_33percent_notes = \"\"          :   varchar(250)\n",
    "        time_dehydr_dcm_wash1 = NULL                             :   datetime\n",
    "        dehydr_dcm_wash1_notes = \"\"                              :   varchar(250)\n",
    "        time_dehydr_dcm_wash2 = NULL                             :   datetime\n",
    "        dehydr_dcm_wash2_notes = \"\"                              :   varchar(250)\n",
    "        time_dehydr_dbe_wash1 = NULL                             :   datetime\n",
    "        dehydr_dbe_wash1_notes = \"\"                              :   varchar(250)\n",
    "        time_dehydr_dbe_wash2 = NULL                             :   datetime\n",
    "        dehydr_dbe_wash2_notes = \"\"                              :   varchar(250)\n",
    "        clearing_notes = \"\"                                      :   varchar(500)\n",
    "        \"\"\""
   ]
  },
  {
   "cell_type": "code",
   "execution_count": null,
   "metadata": {
    "collapsed": true
   },
   "outputs": [],
   "source": [
    "@schema\n",
    "class IdiscoAbbreviatedRatClearing(dj.Manual): # dj.Manual is one of the 4 datajoint table types - Manual corresponds to externally inputted data\n",
    "        definition = \"\"\" # Abbreviated Rat clearing table\n",
    "        -> Experiment              # experiment_id, the primary key from the Experiment() table\n",
    "        ----\n",
    "        -> User                    # username, the researcher's netid from the User() table\n",
    "        clearer                                                  :   varchar(20)   # the netid of the person who did the clearing\n",
    "        exp_notes = \"\"                                           :   varchar(500)  # Note anything unusual that happened during experiment that could affect clearing\n",
    "        perfusion_date = NULL                                    :   date \n",
    "        time_pbs_wash1 = NULL                                    :   datetime\n",
    "        pbs_wash1_notes = \"\"                                     :   varchar(250)\n",
    "        time_pbs_wash2 = NULL                                    :   datetime\n",
    "        pbs_wash2_notes = \"\"                                     :   varchar(250)\n",
    "        time_pbs_wash3 = NULL                                    :   datetime\n",
    "        pbs_wash3_notes = \"\"                                     :   varchar(250)\n",
    "        time_dehydr_ch3oh_20percent_wash1 = NULL                 :   datetime\n",
    "        dehydr_ch3oh_20percent_wash1_notes = \"\"                  :   varchar(250)\n",
    "        time_dehydr_ch3oh_40percent_wash1 = NULL                 :   datetime\n",
    "        dehydr_ch3oh_40percent_wash1_notes = \"\"                  :   varchar(250)\n",
    "        time_dehydr_ch3oh_60percent_wash1 = NULL                 :   datetime\n",
    "        dehydr_ch3oh_60percent_wash1_notes = \"\"                  :   varchar(250)\n",
    "        time_dehydr_ch3oh_80percent_wash1 = NULL                 :   datetime\n",
    "        dehydr_ch3oh_80percent_wash1_notes = \"\"                  :   varchar(250)\n",
    "        time_dehydr_ch3oh_100percent_wash1 = NULL                :   datetime\n",
    "        dehydr_ch3oh_100percent_wash1_notes = \"\"                 :   varchar(250)\n",
    "        time_dehydr_ch3oh_100percent_wash2 = NULL                :   datetime\n",
    "        dehydr_ch3oh_100percent_wash2_notes = \"\"                 :   varchar(250)\n",
    "        time_dehydr_h202_wash1 = NULL                            :   datetime\n",
    "        dehydr_h202_wash1_notes = \"\"                             :   varchar(250)\n",
    "        time_dehydr_ch3oh_100percent_wash3 = NULL                :   datetime\n",
    "        dehydr_ch3oh_100percent_wash3_notes = \"\"                 :   varchar(250)\n",
    "        time_dehydr_ch3oh_100percent_wash4 = NULL                :   datetime\n",
    "        dehydr_ch3oh_100percent_wash4_notes = \"\"                 :   varchar(250)\n",
    "        time_dehydr_ch3oh_100percent_wash5 = NULL                :   datetime\n",
    "        dehydr_ch3oh_100percent_wash5_notes = \"\"                 :   varchar(250)\n",
    "        time_dehydr_dcm_66percent_ch3oh_33percent = NULL         :   datetime\n",
    "        dehydr_dcm_66percent_ch3oh_33percent_notes = \"\"          :   varchar(250)\n",
    "        time_dehydr_dcm_wash1 = NULL                             :   datetime\n",
    "        dehydr_dcm_wash1_notes = \"\"                              :   varchar(250)\n",
    "        time_dehydr_dcm_wash2 = NULL                             :   datetime\n",
    "        dehydr_dcm_wash2_notes = \"\"                              :   varchar(250)\n",
    "        time_dehydr_dbe_wash1 = NULL                             :   datetime\n",
    "        dehydr_dbe_wash1_notes = \"\"                              :   varchar(250)\n",
    "        time_dehydr_dbe_wash2 = NULL                             :   datetime\n",
    "        dehydr_dbe_wash2_notes = \"\"                              :   varchar(250)\n",
    "        clearing_notes = \"\"                                      : varchar(500)\n",
    "        \"\"\""
   ]
  },
  {
   "cell_type": "code",
   "execution_count": null,
   "metadata": {
    "collapsed": true
   },
   "outputs": [],
   "source": [
    "@schema\n",
    "class UdiscoClearing(dj.Manual): # dj.Manual is one of the 4 datajoint table types - Manual corresponds to externally inputted data\n",
    "    definition = \"\"\" # uDISCO clearing table\n",
    "    -> Experiment              # experiment_id, the primary key from the Experiment() table\n",
    "    ----\n",
    "    -> User                    # username, the researcher's netid from the User() table\n",
    "    clearer                                                  :   varchar(20)   # the netid of the person who did the clearing\n",
    "    exp_notes = \"\"                                           :   varchar(500)  # Note anything unusual that happened during experiment that could affect clearing\n",
    "    perfusion_date = NULL                                    :   date \n",
    "    time_dehydr_pbs_wash1 = NULL                             :   datetime\n",
    "    dehydr_pbs_wash1_notes = \"\"                              :   varchar(250)\n",
    "    time_dehydr_butanol_30percent = NULL                     :   datetime\n",
    "    dehydr_butanol_30percent_notes = \"\"                      :   varchar(250)\n",
    "    time_dehydr_butanol_50percent = NULL                     :   datetime\n",
    "    dehydr_butanol_50percent_notes = \"\"                      :   varchar(250)\n",
    "    time_dehydr_butanol_70percent = NULL                     :   datetime\n",
    "    dehydr_butanol_70percent_notes = \"\"                      :   varchar(250)\n",
    "    time_dehydr_butanol_80percent = NULL                     :   datetime\n",
    "    dehydr_butanol_80percent_notes = \"\"                      :   varchar(250)\n",
    "    time_dehydr_butanol_90percent = NULL                     :   datetime\n",
    "    dehydr_butanol_90percent_notes = \"\"                      :   varchar(250)\n",
    "    time_dehydr_butanol_96percent = NULL                     :   datetime\n",
    "    dehydr_butanol_96percent_notes = \"\"                      :   varchar(250)\n",
    "    time_dehydr_butanol_100percent = NULL                    :   datetime\n",
    "    dehydr_butanol_100percent_notes = \"\"                     :   varchar(250)\n",
    "    time_clearing_dcm_wash1 = NULL                           :   datetime\n",
    "    clearing_dcm_wash1_notes = \"\"                            :   varchar(250)\n",
    "    time_clearing_babb_wash1 = NULL                          :   datetime\n",
    "    clearing_babb_wash1_notes = \"\"                           :   varchar(250)\n",
    "    clearing_notes = \"\"                                      : varchar(500)\n",
    "    \"\"\""
   ]
  },
  {
   "cell_type": "markdown",
   "metadata": {},
   "source": [
    "## Pickle data currently in the database"
   ]
  },
  {
   "cell_type": "code",
   "execution_count": null,
   "metadata": {
    "collapsed": true
   },
   "outputs": [],
   "source": [
    "def pickle_udisco_data():\n",
    "    udisco_data = UdiscoClearing().fetch()\n",
    "    # pickle current udisco data\n",
    "    today = datetime.now().strftime('%Y-%m-%d')\n",
    "    udisco_data_file = home_dir + f'/Git/lightserv_dj_demo/lightserv/data/udisco_data_{today}.pkl'\n",
    "    udisco_data_file_latest = home_dir + '/Git/lightserv_dj_demo/lightserv/data/udisco_data_latest.pkl'\n",
    "    with open(udisco_data_file, 'wb') as f:\n",
    "        pickle.dump(udisco_data,f)\n",
    "        print(f\"wrote {udisco_data_file}\")\n",
    "    copyfile(udisco_data_file,udisco_data_file_latest)"
   ]
  },
  {
   "cell_type": "code",
   "execution_count": null,
   "metadata": {
    "collapsed": true
   },
   "outputs": [],
   "source": [
    "def pickle_idiscoplus_data():\n",
    "    idiscoplus_data_file = home_dir + f'/Git/lightserv_dj_demo/lightserv/data/idiscoplus_data_latest.pkl'\n",
    "    with open(idiscoplus_data_file, 'wb') as f:\n",
    "        pickle.dump(idiscoplus_data,f)\n",
    "        print(f\"wrote {idiscoplus_data_file}\")"
   ]
  },
  {
   "cell_type": "code",
   "execution_count": null,
   "metadata": {
    "collapsed": true
   },
   "outputs": [],
   "source": [
    "pickle_idiscoplus_data()"
   ]
  },
  {
   "cell_type": "markdown",
   "metadata": {},
   "source": [
    "## Fill clearing tables "
   ]
  },
  {
   "cell_type": "code",
   "execution_count": null,
   "metadata": {
    "collapsed": true
   },
   "outputs": [],
   "source": [
    "fill_uDISCO_table()"
   ]
  },
  {
   "cell_type": "code",
   "execution_count": null,
   "metadata": {
    "collapsed": true
   },
   "outputs": [],
   "source": [
    "UdiscoClearing()"
   ]
  },
  {
   "cell_type": "code",
   "execution_count": null,
   "metadata": {
    "collapsed": true
   },
   "outputs": [],
   "source": [
    "IdiscoPlusClearing()"
   ]
  },
  {
   "cell_type": "code",
   "execution_count": null,
   "metadata": {
    "collapsed": true
   },
   "outputs": [],
   "source": [
    "idiscoplus_data_file = home_dir + '/Git/lightserv_dj_demo/lightserv/data/idiscoplus_data_latest.pkl'\n",
    "with open(idiscoplus_data_file,'rb') as f:\n",
    "    idiscoplus_data = pickle.load(f)"
   ]
  },
  {
   "cell_type": "code",
   "execution_count": null,
   "metadata": {
    "collapsed": true
   },
   "outputs": [],
   "source": [
    "udisco_data_file = home_dir + '/Git/lightserv_dj_demo/lightserv/data/udisco_data_latest.pkl'\n",
    "with open(udisco_data_file,'rb') as f:\n",
    "    udisco_data = pickle.load(f)\n",
    "udisco_data"
   ]
  },
  {
   "cell_type": "code",
   "execution_count": null,
   "metadata": {
    "collapsed": true
   },
   "outputs": [],
   "source": [
    "udisco_data[1]"
   ]
  },
  {
   "cell_type": "code",
   "execution_count": null,
   "metadata": {
    "collapsed": true
   },
   "outputs": [],
   "source": [
    "# Only does this if the table does not already exist.\n",
    "def fill_uDISCO_table():\n",
    "    today = datetime.now().strftime('%Y-%m-%d')\n",
    "    udisco_data_file_latest = home_dir + f'/Git/lightserv_dj_demo/lightserv/data/udisco_data_latest.pkl'\n",
    "    with open(udisco_data_file_latest,'rb') as f:\n",
    "        udisco_data = pickle.load(f)\n",
    "    for row in udisco_data:\n",
    "        UdiscoClearing().insert1(row)"
   ]
  },
  {
   "cell_type": "code",
   "execution_count": null,
   "metadata": {
    "collapsed": true
   },
   "outputs": [],
   "source": [
    "UdiscoClearing().delete_quick()"
   ]
  },
  {
   "cell_type": "code",
   "execution_count": null,
   "metadata": {
    "collapsed": true
   },
   "outputs": [],
   "source": [
    "fill_uDISCO_table()"
   ]
  },
  {
   "cell_type": "code",
   "execution_count": null,
   "metadata": {
    "collapsed": true
   },
   "outputs": [],
   "source": [
    "UdiscoClearing()"
   ]
  },
  {
   "cell_type": "code",
   "execution_count": null,
   "metadata": {
    "collapsed": true
   },
   "outputs": [],
   "source": [
    "udisco_data"
   ]
  },
  {
   "cell_type": "code",
   "execution_count": null,
   "metadata": {
    "collapsed": true
   },
   "outputs": [],
   "source": [
    "today = datetime.now().strftime('%Y-%m-%d')\n",
    "udisco_test_file = home_dir + f'/Git/lightserv_dj_demo/lightserv/data/udisco_test_data.pkl'\n",
    "udisco_data_file = home_dir + f'/Git/lightserv_dj_demo/lightserv/data/udisco_data_{today}.pkl'\n",
    "udisco_data_file_latest = home_dir + '/Git/lightserv_dj_demo/lightserv/data/udisco_data_latest.pkl'\n",
    "with open(udisco_test_file, 'wb') as f:\n",
    "    pickle.dump(udisco_data,f)\n",
    "    print(f\"wrote {udisco_test_file}\")\n"
   ]
  },
  {
   "cell_type": "code",
   "execution_count": null,
   "metadata": {
    "collapsed": true
   },
   "outputs": [],
   "source": [
    "IdiscoAbbreviatedClearing()"
   ]
  },
  {
   "cell_type": "code",
   "execution_count": null,
   "metadata": {
    "collapsed": true
   },
   "outputs": [],
   "source": [
    "os"
   ]
  },
  {
   "cell_type": "code",
   "execution_count": null,
   "metadata": {
    "collapsed": true
   },
   "outputs": [],
   "source": [
    "schema = dj.create_virtual_module('ahoag_lightsheet_demo','ahoag_lightsheet_demo') "
   ]
  },
  {
   "cell_type": "code",
   "execution_count": null,
   "metadata": {
    "collapsed": true
   },
   "outputs": [],
   "source": [
    "Experiment().fetch('title','description')"
   ]
  },
  {
   "cell_type": "code",
   "execution_count": null,
   "metadata": {
    "collapsed": true
   },
   "outputs": [],
   "source": [
    "attrs = ['title','description']"
   ]
  },
  {
   "cell_type": "code",
   "execution_count": null,
   "metadata": {
    "collapsed": true
   },
   "outputs": [],
   "source": [
    "Experiment().fetch(*attrs,as_dict=True)"
   ]
  },
  {
   "cell_type": "code",
   "execution_count": null,
   "metadata": {
    "collapsed": true
   },
   "outputs": [],
   "source": [
    "Experiment().fetch1(*attrs,as_dict=True)"
   ]
  },
  {
   "cell_type": "code",
   "execution_count": null,
   "metadata": {
    "collapsed": true
   },
   "outputs": [],
   "source": [
    "'4'.zfill(3)"
   ]
  },
  {
   "cell_type": "code",
   "execution_count": null,
   "metadata": {
    "collapsed": true
   },
   "outputs": [],
   "source": [
    "n=4"
   ]
  },
  {
   "cell_type": "code",
   "execution_count": null,
   "metadata": {
    "collapsed": true
   },
   "outputs": [],
   "source": [
    "val = f'{n+1}'.zfill(3)\n",
    "va"
   ]
  },
  {
   "cell_type": "code",
   "execution_count": null,
   "metadata": {
    "collapsed": true
   },
   "outputs": [],
   "source": [
    "'channel488_registration'[7:10]"
   ]
  },
  {
   "cell_type": "code",
   "execution_count": null,
   "metadata": {
    "collapsed": true
   },
   "outputs": [],
   "source": [
    "d={'csrf_token':'23234324','otherkey':'otherval'}"
   ]
  },
  {
   "cell_type": "code",
   "execution_count": null,
   "metadata": {
    "collapsed": true
   },
   "outputs": [],
   "source": [
    "d.pop('csrf_token',None)"
   ]
  },
  {
   "cell_type": "markdown",
   "metadata": {},
   "source": [
    "## Explore inserting blobs into database"
   ]
  },
  {
   "cell_type": "code",
   "execution_count": null,
   "metadata": {
    "collapsed": true
   },
   "outputs": [],
   "source": [
    "dj.config[\"enable_python_native_blobs\"] = True"
   ]
  },
  {
   "cell_type": "code",
   "execution_count": null,
   "metadata": {
    "collapsed": true
   },
   "outputs": [],
   "source": [
    "testschema = dj.schema('ahoag_testschema')"
   ]
  },
  {
   "cell_type": "code",
   "execution_count": null,
   "metadata": {
    "collapsed": true
   },
   "outputs": [],
   "source": [
    "dj.ERD(testschema)"
   ]
  },
  {
   "cell_type": "code",
   "execution_count": null,
   "metadata": {
    "collapsed": true
   },
   "outputs": [],
   "source": [
    "@testschema\n",
    "class Person(dj.Manual):\n",
    "    definition = '''\n",
    "    username : varchar(20)   # unique user name\n",
    "    ---\n",
    "    first_name : varchar(30)\n",
    "    last_name  : varchar(30)\n",
    "    '''"
   ]
  },
  {
   "cell_type": "code",
   "execution_count": null,
   "metadata": {
    "collapsed": true
   },
   "outputs": [],
   "source": [
    "@testschema\n",
    "class TestBlobTable(dj.Manual):\n",
    "    definition = '''\n",
    "    username : varchar(20)   # unique user name\n",
    "    ---\n",
    "    xml_file : mediumblob\n",
    "    '''"
   ]
  },
  {
   "cell_type": "code",
   "execution_count": null,
   "metadata": {
    "collapsed": true
   },
   "outputs": [],
   "source": [
    "test_array = [1,2,3]\n",
    "insert_dict = {'username':'bob','xml_file':test_array}\n",
    "TestBlobTable().insert1(insert_dict)"
   ]
  },
  {
   "cell_type": "code",
   "execution_count": null,
   "metadata": {
    "collapsed": true
   },
   "outputs": [],
   "source": [
    "TestBlobTable()"
   ]
  },
  {
   "cell_type": "code",
   "execution_count": null,
   "metadata": {
    "collapsed": true
   },
   "outputs": [],
   "source": [
    "results=TestBlobTable().fetch()"
   ]
  },
  {
   "cell_type": "code",
   "execution_count": null,
   "metadata": {
    "collapsed": true
   },
   "outputs": [],
   "source": [
    "results[0]['xml_file']\n"
   ]
  },
  {
   "cell_type": "code",
   "execution_count": null,
   "metadata": {
    "collapsed": true
   },
   "outputs": [],
   "source": [
    "# Now lets try with a real xml object\n",
    "import tifffile\n",
    "from xml.etree import ElementTree as ET \n",
    "raw_file = '/jukebox/LightSheetTransfer/kelly/201908_cfos/190820_m61468_observ_20190628_1d3x_647_008na_1hfds_z5um_250msec_14-50-40/14-50-40_UltraII_raw_RawDataStack[00 x 00]_C00_xyz-Table Z0000_UltraII Filter0000.ome.tif' \n"
   ]
  },
  {
   "cell_type": "code",
   "execution_count": null,
   "metadata": {
    "collapsed": true
   },
   "outputs": [],
   "source": [
    "# Grab the metadata tags\n",
    "with tifffile.TiffFile(raw_file) as tif:\n",
    "    tags = tif.pages[0].tags"
   ]
  },
  {
   "cell_type": "code",
   "execution_count": null,
   "metadata": {
    "collapsed": true
   },
   "outputs": [],
   "source": [
    "insert_dict = {'username':'alice','xml_file':tags}\n",
    "TestBlobTable().insert1(insert_dict)"
   ]
  },
  {
   "cell_type": "code",
   "execution_count": null,
   "metadata": {
    "collapsed": true
   },
   "outputs": [],
   "source": [
    "# OK, so that didn't work. Let's try to store the xml description string which we can then parse with elementtree"
   ]
  },
  {
   "cell_type": "code",
   "execution_count": null,
   "metadata": {
    "collapsed": true
   },
   "outputs": [],
   "source": [
    "xml_description=tags['ImageDescription'].value\n"
   ]
  },
  {
   "cell_type": "code",
   "execution_count": null,
   "metadata": {
    "collapsed": true
   },
   "outputs": [],
   "source": [
    "insert_dict = {'username':'alice','xml_file':xml_description}\n",
    "TestBlobTable().insert1(insert_dict)"
   ]
  },
  {
   "cell_type": "code",
   "execution_count": null,
   "metadata": {
    "collapsed": true
   },
   "outputs": [],
   "source": [
    "(TestBlobTable() & 'username=\"alice\"').fetch()"
   ]
  },
  {
   "cell_type": "code",
   "execution_count": null,
   "metadata": {
    "collapsed": true
   },
   "outputs": [],
   "source": [
    "processing_contents = schema.Sample.ProcessingChannel() "
   ]
  },
  {
   "cell_type": "code",
   "execution_count": null,
   "metadata": {
    "collapsed": true
   },
   "outputs": [],
   "source": [
    "xml_description=schema.Sample.ProcessingChannel().fetch1('metadata_xml_string')"
   ]
  },
  {
   "cell_type": "code",
   "execution_count": null,
   "metadata": {
    "collapsed": true
   },
   "outputs": [],
   "source": [
    "root = ET.fromstring(xml_description)"
   ]
  },
  {
   "cell_type": "code",
   "execution_count": null,
   "metadata": {
    "collapsed": true
   },
   "outputs": [],
   "source": [
    "custom_attributes = root[-1]\n",
    "# root\n",
    "proparray = custom_attributes[0]\n",
    "for child in proparray:\n",
    "#     if 'UltraII_Na_Value' in child.tag:\n",
    "    print(child.tag)\n",
    "#     print(child.attrib['Value'])"
   ]
  },
  {
   "cell_type": "code",
   "execution_count": null,
   "metadata": {
    "collapsed": true
   },
   "outputs": [],
   "source": [
    "# Write the xml string to a file\n",
    "import os\n",
    "output_filename = 'example_jverpeut_metadata.xml'\n",
    "if not os.path.exists(output_filename):\n",
    "    with open(output_filename,'w') as outfile:\n",
    "        outfile.write(xml_description)\n",
    "print(\"wrote %s\" % output_filename)"
   ]
  },
  {
   "cell_type": "code",
   "execution_count": 173,
   "metadata": {},
   "outputs": [],
   "source": [
    "d = datetime.strptime('2019-12-05 11:07:27','%Y-%m-%d %H:%M:%S')"
   ]
  },
  {
   "cell_type": "code",
   "execution_count": 174,
   "metadata": {},
   "outputs": [
    {
     "data": {
      "text/plain": [
       "datetime.datetime(2019, 12, 5, 11, 7, 27)"
      ]
     },
     "execution_count": 174,
     "metadata": {},
     "output_type": "execute_result"
    }
   ],
   "source": [
    "d"
   ]
  },
  {
   "cell_type": "code",
   "execution_count": 175,
   "metadata": {},
   "outputs": [
    {
     "data": {
      "text/plain": [
       "'12/05/19, 11:12 AM'"
      ]
     },
     "execution_count": 175,
     "metadata": {},
     "output_type": "execute_result"
    }
   ],
   "source": [
    "d.strftime('%m/%d/%y, %-I:%m %p')"
   ]
  },
  {
   "cell_type": "code",
   "execution_count": null,
   "metadata": {},
   "outputs": [],
   "source": []
  }
 ],
 "metadata": {
  "anaconda-cloud": {},
  "kernelspec": {
   "display_name": "lightserv",
   "language": "python",
   "name": "lightserv"
  },
  "language_info": {
   "codemirror_mode": {
    "name": "ipython",
    "version": 3
   },
   "file_extension": ".py",
   "mimetype": "text/x-python",
   "name": "python",
   "nbconvert_exporter": "python",
   "pygments_lexer": "ipython3",
   "version": "3.7.3"
  }
 },
 "nbformat": 4,
 "nbformat_minor": 2
}
