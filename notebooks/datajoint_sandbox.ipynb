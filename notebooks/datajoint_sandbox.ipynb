{
 "cells": [
  {
   "cell_type": "markdown",
   "metadata": {},
   "source": [
    "First, establish an ssh tunnel [with your PNI password] to jtb3-dev.princeton.edu to make the database available to you:\n",
    "\n",
    "    ssh username@jtb3-dev.princeton.edu -L 3306:127.0.0.1:3306 -N\n",
    "\n",
    "jtb3-dev is the database server on which all behavior and mouse data is stored. Second, make sure you have installed datajoint >= '0.12.dev3'\n",
    "[ pip install datajoint==0.12.dev3 ]"
   ]
  },
  {
   "cell_type": "code",
   "execution_count": 1,
   "metadata": {},
   "outputs": [],
   "source": [
    "import pylab as pl\n",
    "import datajoint as dj\n",
    "import numpy as np\n",
    "import os,sys\n",
    "import secrets\n",
    "# assert dj.__version__>='0.12.dev3'\n",
    "import pickle\n",
    "from datetime import datetime\n",
    "from googleapiclient.discovery import build\n",
    "from google_auth_oauthlib.flow import InstalledAppFlow\n",
    "from google.auth.transport.requests import Request\n",
    "import pandas as pd\n",
    "import pkg_resources\n",
    "from shutil import copyfile\n",
    "\n",
    "home_dir = os.environ['HOME']"
   ]
  },
  {
   "cell_type": "code",
   "execution_count": null,
   "metadata": {},
   "outputs": [],
   "source": [
    "dj.__version__"
   ]
  },
  {
   "cell_type": "code",
   "execution_count": 2,
   "metadata": {},
   "outputs": [
    {
     "name": "stdout",
     "output_type": "stream",
     "text": [
      "Please enter DataJoint username: ahoag\n",
      "Please enter DataJoint password: ········\n",
      "Connecting ahoag@localhost:3306\n"
     ]
    },
    {
     "data": {
      "text/plain": [
       "DataJoint connection (connected) ahoag@localhost:3306"
      ]
     },
     "execution_count": 2,
     "metadata": {},
     "output_type": "execute_result"
    }
   ],
   "source": [
    "dj.conn()"
   ]
  },
  {
   "cell_type": "code",
   "execution_count": 6,
   "metadata": {},
   "outputs": [],
   "source": [
    "schema = dj.create_virtual_module(\"ahoag_lightsheet_demo\",\"ahoag_lightsheet_demo\")"
   ]
  },
  {
   "cell_type": "code",
   "execution_count": 4,
   "metadata": {},
   "outputs": [],
   "source": [
    "schema = dj.create_virtual_module(\"ahoag_microscope_demo\",\"ahoag_microscope_demo\")"
   ]
  },
  {
   "cell_type": "code",
   "execution_count": 5,
   "metadata": {},
   "outputs": [
    {
     "data": {
      "text/html": [
       "\n",
       "        \n",
       "        <style type=\"text/css\">\n",
       "            .Relation{\n",
       "                border-collapse:collapse;\n",
       "            }\n",
       "            .Relation th{\n",
       "                background: #A0A0A0; color: #ffffff; padding:4px; border:#f0e0e0 1px solid;\n",
       "                font-weight: normal; font-family: monospace; font-size: 100%;\n",
       "            }\n",
       "            .Relation td{\n",
       "                padding:4px; border:#f0e0e0 1px solid; font-size:100%;\n",
       "            }\n",
       "            .Relation tr:nth-child(odd){\n",
       "                background: #ffffff;\n",
       "            }\n",
       "            .Relation tr:nth-child(even){\n",
       "                background: #f3f1ff;\n",
       "            }\n",
       "            /* Tooltip container */\n",
       "            .djtooltip {\n",
       "            }\n",
       "            /* Tooltip text */\n",
       "            .djtooltip .djtooltiptext {\n",
       "                visibility: hidden;\n",
       "                width: 120px;\n",
       "                background-color: black;\n",
       "                color: #fff;\n",
       "                text-align: center;\n",
       "                padding: 5px 0;\n",
       "                border-radius: 6px;\n",
       "                /* Position the tooltip text - see examples below! */\n",
       "                position: absolute;\n",
       "                z-index: 1;\n",
       "            }\n",
       "            #primary {\n",
       "                font-weight: bold;\n",
       "                color: black;\n",
       "            }\n",
       "\n",
       "            #nonprimary {\n",
       "                font-weight: normal;\n",
       "                color: white;\n",
       "            }\n",
       "\n",
       "            /* Show the tooltip text when you mouse over the tooltip container */\n",
       "            .djtooltip:hover .djtooltiptext {\n",
       "                visibility: visible;\n",
       "            }\n",
       "        </style>\n",
       "        \n",
       "        <b></b>\n",
       "            <div style=\"max-height:1000px;max-width:1500px;overflow:auto;\">\n",
       "            <table border=\"1\" class=\"Relation\">\n",
       "                <thead> <tr style=\"text-align: right;\"> <th> <div class=\"djtooltip\">\n",
       "                                <p id=\"primary\">pmt_serial</p>\n",
       "                                <span class=\"djtooltiptext\"></span>\n",
       "                            </div></th><th><div class=\"djtooltip\">\n",
       "                                <p id=\"nonprimary\">pmt_brand</p>\n",
       "                                <span class=\"djtooltiptext\"></span>\n",
       "                            </div></th><th><div class=\"djtooltip\">\n",
       "                                <p id=\"nonprimary\">pmt_model</p>\n",
       "                                <span class=\"djtooltiptext\"></span>\n",
       "                            </div></th><th><div class=\"djtooltip\">\n",
       "                                <p id=\"nonprimary\">pmt_date_of_first_use</p>\n",
       "                                <span class=\"djtooltiptext\"></span>\n",
       "                            </div> </th> </tr> </thead>\n",
       "                <tbody> <tr> <td>00011</td>\n",
       "<td>Hamamatsu</td>\n",
       "<td>H10770PA-40 SE</td>\n",
       "<td>2019-12-01</td> </tr> </tbody>\n",
       "            </table>\n",
       "            \n",
       "            <p>Total: 1</p></div>\n",
       "            "
      ],
      "text/plain": [
       "*pmt_serial    pmt_brand     pmt_model      pmt_date_of_fi\n",
       "+------------+ +-----------+ +------------+ +------------+\n",
       "00011          Hamamatsu     H10770PA-40 SE 2019-12-01    \n",
       " (Total: 1)"
      ]
     },
     "execution_count": 5,
     "metadata": {},
     "output_type": "execute_result"
    }
   ],
   "source": [
    "schema.Pmt()"
   ]
  },
  {
   "cell_type": "code",
   "execution_count": 16,
   "metadata": {},
   "outputs": [
    {
     "data": {
      "image/svg+xml": [
       "<svg height=\"405pt\" viewBox=\"0.00 0.00 1190.50 405.00\" width=\"1191pt\" xmlns=\"http://www.w3.org/2000/svg\" xmlns:xlink=\"http://www.w3.org/1999/xlink\">\n",
       "<g class=\"graph\" id=\"graph0\" transform=\"scale(1 1) rotate(0) translate(4 401)\">\n",
       "<title>%3</title>\n",
       "<polygon fill=\"white\" points=\"-4,4 -4,-401 1186.5,-401 1186.5,4 -4,4\" stroke=\"none\"/>\n",
       "<!-- 11 -->\n",
       "<g class=\"node\" id=\"node1\"><title>11</title>\n",
       "<ellipse cx=\"219\" cy=\"-237.5\" fill=\"#ff8800\" fill-opacity=\"0.501961\" rx=\"2\" ry=\"2\" stroke=\"#ff8800\" stroke-opacity=\"0.501961\"/>\n",
       "<text fill=\"#ff8800\" font-family=\"arial\" font-size=\"1.00\" text-anchor=\"middle\" x=\"219\" y=\"-237.2\">11</text>\n",
       "</g>\n",
       "<!-- schema.Sample.ImagingRequest -->\n",
       "<g class=\"node\" id=\"node15\"><title>schema.Sample.ImagingRequest</title>\n",
       "<g id=\"a_node15\"><a xlink:title=\"→ schema.Sample\r",
       "imaging_request_number \r",
       "------------------------------\r",
       "→ [nullable] schema.User.proj(imager=&quot;username&quot;)\r",
       "imaging_request_date_submitted \r",
       "imaging_request_time_submitted \r",
       "imaging_performed_date=null \r",
       "imaging_progress     \r",
       "→ [nullable] schema.User.proj(processor=&quot;username&quot;)\r",
       "processing_progress  \r",
       "\">\n",
       "<polygon fill=\"none\" points=\"179,-184 19,-184 19,-165 179,-165 179,-184\" stroke=\"none\"/>\n",
       "<text font-family=\"arial\" font-size=\"10.00\" text-anchor=\"start\" text-decoration=\"underline\" x=\"27\" y=\"-173\">schema.Sample.ImagingRequest</text>\n",
       "</a>\n",
       "</g>\n",
       "</g>\n",
       "<!-- 11&#45;&gt;schema.Sample.ImagingRequest -->\n",
       "<g class=\"edge\" id=\"edge1\"><title>11-&gt;schema.Sample.ImagingRequest</title>\n",
       "<path d=\"M217.652,-235.815C207.816,-230.815 146.609,-199.701 116.161,-184.224\" fill=\"none\" stroke=\"#000000\" stroke-dasharray=\"5,2\" stroke-opacity=\"0.250980\" stroke-width=\"0.75\"/>\n",
       "</g>\n",
       "<!-- 9 -->\n",
       "<g class=\"node\" id=\"node2\"><title>9</title>\n",
       "<ellipse cx=\"399\" cy=\"-308.5\" fill=\"#ff8800\" fill-opacity=\"0.501961\" rx=\"2\" ry=\"2\" stroke=\"#ff8800\" stroke-opacity=\"0.501961\"/>\n",
       "<text fill=\"#ff8800\" font-family=\"arial\" font-size=\"1.00\" text-anchor=\"middle\" x=\"399\" y=\"-308.2\">9</text>\n",
       "</g>\n",
       "<!-- schema.Sample -->\n",
       "<g class=\"node\" id=\"node7\"><title>schema.Sample</title>\n",
       "<g id=\"a_node7\"><a xlink:title=\"→ schema.Request\r",
       "sample_name          \r",
       "------------------------------\r",
       "perfusion_date=null  \r",
       "expected_handoff_date=null \r",
       "→ [nullable] schema.User.proj(clearer=&quot;username&quot;)\r",
       "clearing_protocol    \r",
       "clearing_progress    \r",
       "antibody1=&quot;&quot;         \r",
       "antibody2=&quot;&quot;         \r",
       "notes_for_clearer=&quot;&quot; \r",
       "stitching_method     \r",
       "blend_type           \r",
       "notes_from_processing=&quot;&quot; \r",
       "\">\n",
       "<polygon fill=\"#00ff00\" fill-opacity=\"0.188235\" points=\"543.5,-255 442.5,-255 442.5,-220 543.5,-220 543.5,-255\" stroke=\"#00ff00\" stroke-opacity=\"0.188235\"/>\n",
       "<text fill=\"darkgreen\" font-family=\"arial\" font-size=\"12.00\" text-anchor=\"start\" text-decoration=\"underline\" x=\"450.5\" y=\"-235.4\">schema.Sample</text>\n",
       "</a>\n",
       "</g>\n",
       "</g>\n",
       "<!-- 9&#45;&gt;schema.Sample -->\n",
       "<g class=\"edge\" id=\"edge2\"><title>9-&gt;schema.Sample</title>\n",
       "<path d=\"M400.056,-306.725C406.873,-301.721 445.195,-273.591 470.455,-255.049\" fill=\"none\" stroke=\"#000000\" stroke-dasharray=\"5,2\" stroke-opacity=\"0.250980\" stroke-width=\"0.75\"/>\n",
       "</g>\n",
       "<!-- 10 -->\n",
       "<g class=\"node\" id=\"node3\"><title>10</title>\n",
       "<ellipse cx=\"256\" cy=\"-237.5\" fill=\"#ff8800\" fill-opacity=\"0.501961\" rx=\"2\" ry=\"2\" stroke=\"#ff8800\" stroke-opacity=\"0.501961\"/>\n",
       "<text fill=\"#ff8800\" font-family=\"arial\" font-size=\"1.00\" text-anchor=\"middle\" x=\"256\" y=\"-237.2\">10</text>\n",
       "</g>\n",
       "<!-- 10&#45;&gt;schema.Sample.ImagingRequest -->\n",
       "<g class=\"edge\" id=\"edge3\"><title>10-&gt;schema.Sample.ImagingRequest</title>\n",
       "<path d=\"M255.081,-235.448C252.511,-232.567 244.915,-224.464 237,-220 206.413,-202.749 168.183,-191.085 139.723,-184.042\" fill=\"none\" stroke=\"#000000\" stroke-dasharray=\"5,2\" stroke-opacity=\"0.250980\" stroke-width=\"0.75\"/>\n",
       "</g>\n",
       "<!-- schema.Sample.ImagingChannel -->\n",
       "<g class=\"node\" id=\"node4\"><title>schema.Sample.ImagingChannel</title>\n",
       "<g id=\"a_node4\"><a xlink:title=\"→ schema.Sample.ImageResolutionRequest\r",
       "channel_name         \r",
       "------------------------------\r",
       "imaging_date=null    \r",
       "registration=0       \r",
       "injection_detection=0 \r",
       "probe_detection=0    \r",
       "cell_detection=0     \r",
       "generic_imaging=0    \r",
       "pixel_type=null      \r",
       "numerical_aperture=null \r",
       "tiling_scheme=&quot;1x1&quot;  \r",
       "tiling_overlap=0     \r",
       "z_step=10            \r",
       "number_of_z_planes=null \r",
       "rawdata_subfolder=null \r",
       "imspector_channel_index=null \r",
       "\">\n",
       "<polygon fill=\"none\" points=\"178.5,-74 19.5,-74 19.5,-55 178.5,-55 178.5,-74\" stroke=\"none\"/>\n",
       "<text font-family=\"arial\" font-size=\"10.00\" text-anchor=\"start\" text-decoration=\"underline\" x=\"27.5\" y=\"-63\">schema.Sample.ImagingChannel</text>\n",
       "</a>\n",
       "</g>\n",
       "</g>\n",
       "<!-- schema.Sample.ProcessingChannel -->\n",
       "<g class=\"node\" id=\"node13\"><title>schema.Sample.ProcessingChannel</title>\n",
       "<g id=\"a_node13\"><a xlink:title=\"→ schema.Sample.ImagingChannel\r",
       "------------------------------\r",
       "lightsheet_channel_str \r",
       "imspector_version=&quot;&quot; \r",
       "datetime_processing_started \r",
       "intensity_correction=1 \r",
       "metadata_xml_string=null \r",
       "\">\n",
       "<polygon fill=\"none\" points=\"186,-19 12,-19 12,-0 186,-0 186,-19\" stroke=\"none\"/>\n",
       "<text font-family=\"arial\" font-size=\"10.00\" text-anchor=\"middle\" x=\"99\" y=\"-7\">schema.Sample.ProcessingChannel</text>\n",
       "</a>\n",
       "</g>\n",
       "</g>\n",
       "<!-- schema.Sample.ImagingChannel&#45;&gt;schema.Sample.ProcessingChannel -->\n",
       "<g class=\"edge\" id=\"edge4\"><title>schema.Sample.ImagingChannel-&gt;schema.Sample.ProcessingChannel</title>\n",
       "<path d=\"M99,-54.7481C99,-44.8693 99,-28.9003 99,-19.089\" fill=\"none\" stroke=\"#000000\" stroke-opacity=\"0.250980\" stroke-width=\"2\"/>\n",
       "</g>\n",
       "<!-- schema.Request -->\n",
       "<g class=\"node\" id=\"node5\"><title>schema.Request</title>\n",
       "<g id=\"a_node5\"><a xlink:title=\"→ schema.User\r",
       "request_name         \r",
       "------------------------------\r",
       "date_submitted       \r",
       "time_submitted       \r",
       "labname              \r",
       "correspondence_email=&quot;&quot; \r",
       "description          \r",
       "species              \r",
       "number_of_samples    \r",
       "sample_prefix        \r",
       "uniform_clearing     \r",
       "\">\n",
       "<polygon fill=\"#00ff00\" fill-opacity=\"0.188235\" points=\"537,-326 433,-326 433,-291 537,-291 537,-326\" stroke=\"#00ff00\" stroke-opacity=\"0.188235\"/>\n",
       "<text fill=\"darkgreen\" font-family=\"arial\" font-size=\"12.00\" text-anchor=\"start\" text-decoration=\"underline\" x=\"441\" y=\"-306.4\">schema.Request</text>\n",
       "</a>\n",
       "</g>\n",
       "</g>\n",
       "<!-- schema.Request&#45;&gt;schema.Sample -->\n",
       "<g class=\"edge\" id=\"edge5\"><title>schema.Request-&gt;schema.Sample</title>\n",
       "<path d=\"M486.937,-290.797C488.194,-279.949 489.827,-265.867 491.081,-255.049\" fill=\"none\" stroke=\"#000000\" stroke-opacity=\"0.250980\" stroke-width=\"0.75\"/>\n",
       "</g>\n",
       "<!-- schema.Sample.IdiscoEdUClearing -->\n",
       "<g class=\"node\" id=\"node6\"><title>schema.Sample.IdiscoEdUClearing</title>\n",
       "<g id=\"a_node6\"><a xlink:title=\"→ schema.Sample\r",
       "------------------------------\r",
       "exp_notes=&quot;&quot;         \r",
       "time_dehydr_pbs_wash1=null \r",
       "dehydr_pbs_wash1_notes=&quot;&quot; \r",
       "time_dehydr_pbs_wash2=null \r",
       "dehydr_pbs_wash2_notes=&quot;&quot; \r",
       "time_dehydr_pbs_wash3=null \r",
       "dehydr_pbs_wash3_notes=&quot;&quot; \r",
       "time_dehydr_methanol_20percent_wash1=null \r",
       "dehydr_methanol_20percent_wash1_notes=&quot;&quot; \r",
       "time_dehydr_methanol_40percent_wash1=null \r",
       "dehydr_methanol_40percent_wash1_notes=&quot;&quot; \r",
       "time_dehydr_methanol_60percent_wash1=null \r",
       "dehydr_methanol_60percent_wash1_notes=&quot;&quot; \r",
       "time_dehydr_methanol_80percent_wash1=null \r",
       "dehydr_methanol_80percent_wash1_notes=&quot;&quot; \r",
       "time_dehydr_methanol_100percent_wash1=null \r",
       "dehydr_methanol_100percent_wash1_notes=&quot;&quot; \r",
       "time_dehydr_methanol_100percent_wash2=null \r",
       "dehydr_methanol_100percent_wash2_notes=&quot;&quot; \r",
       "time_dehydr_peroxide_wash1=null \r",
       "dehydr_peroxide_wash1_notes=&quot;&quot; \r",
       "time_rehydr_methanol_100percent_wash1=null \r",
       "rehydr_methanol_100percent_wash1_notes=&quot;&quot; \r",
       "time_rehydr_methanol_80percent_wash1=null \r",
       "rehydr_methanol_80percent_wash1_notes=&quot;&quot; \r",
       "time_rehydr_methanol_60percent_wash1=null \r",
       "rehydr_methanol_60percent_wash1_notes=&quot;&quot; \r",
       "time_rehydr_methanol_40percent_wash1=null \r",
       "rehydr_methanol_40percent_wash1_notes=&quot;&quot; \r",
       "time_rehydr_methanol_20percent_wash1=null \r",
       "rehydr_methanol_20percent_wash1_notes=&quot;&quot; \r",
       "time_rehydr_pbs_wash1=null \r",
       "rehydr_pbs_wash1_notes=&quot;&quot; \r",
       "time_rehydr_sodium_azide_wash1=null \r",
       "rehydr_sodium_azide_wash1_notes=&quot;&quot; \r",
       "time_rehydr_sodium_azide_wash2=null \r",
       "rehydr_sodium_azide_wash2_notes=&quot;&quot; \r",
       "time_rehydr_glycine_wash1=null \r",
       "rehydr_glycine_wash1_notes=&quot;&quot; \r",
       "time_wash1_start_roomtemp=null \r",
       "wash1_start_roomtemp_notes=&quot;&quot; \r",
       "time_wash1_ptwh_wash1=null \r",
       "wash1_ptwh_wash1_notes=&quot;&quot; \r",
       "time_wash1_ptwh_wash2=null \r",
       "wash1_ptwh_wash2_notes=&quot;&quot; \r",
       "time_wash1_ptwh_wash3=null \r",
       "wash1_ptwh_wash3_notes=&quot;&quot; \r",
       "time_wash1_ptwh_wash4=null \r",
       "wash1_ptwh_wash4_notes=&quot;&quot; \r",
       "time_wash1_ptwh_wash5=null \r",
       "wash1_ptwh_wash5_notes=&quot;&quot; \r",
       "time_edu_click_chemistry=null \r",
       "edu_click_chemistry_notes=&quot;&quot; \r",
       "time_wash2_ptwh_wash1=null \r",
       "wash2_ptwh_wash1_notes=&quot;&quot; \r",
       "time_wash2_ptwh_wash2=null \r",
       "wash2_ptwh_wash2_notes=&quot;&quot; \r",
       "time_wash2_ptwh_wash3=null \r",
       "wash2_ptwh_wash3_notes=&quot;&quot; \r",
       "time_wash2_ptwh_wash4=null \r",
       "wash2_ptwh_wash4_notes=&quot;&quot; \r",
       "time_wash2_ptwh_wash5=null \r",
       "wash2_ptwh_wash5_notes=&quot;&quot; \r",
       "time_clearing_methanol_20percent_wash1=null \r",
       "clearing_methanol_20percent_wash1_notes=&quot;&quot; \r",
       "time_clearing_methanol_40percent_wash1=null \r",
       "clearing_methanol_40percent_wash1_notes=&quot;&quot; \r",
       "time_clearing_methanol_60percent_wash1=null \r",
       "clearing_methanol_60percent_wash1_notes=&quot;&quot; \r",
       "time_clearing_methanol_80percent_wash1=null \r",
       "clearing_methanol_80percent_wash1_notes=&quot;&quot; \r",
       "time_clearing_methanol_100percent_wash1=null \r",
       "clearing_methanol_100percent_wash1_notes=&quot;&quot; \r",
       "time_clearing_methanol_100percent_wash2=null \r",
       "clearing_methanol_100percent_wash2_notes=&quot;&quot; \r",
       "time_clearing_dcm_66percent_methanol_33percent=null \r",
       "clearing_dcm_66percent_methanol_33percent_notes=&quot;&quot; \r",
       "time_clearing_dcm_wash1=null \r",
       "clearing_dcm_wash1_notes=&quot;&quot; \r",
       "time_clearing_dcm_wash2=null \r",
       "clearing_dcm_wash2_notes=&quot;&quot; \r",
       "time_clearing_dbe=null \r",
       "clearing_dbe_notes=&quot;&quot; \r",
       "time_clearing_new_tubes=null \r",
       "clearing_new_tubes_notes=&quot;&quot; \r",
       "clearing_notes=&quot;&quot;    \r",
       "\">\n",
       "<polygon fill=\"none\" points=\"367,-184 197,-184 197,-165 367,-165 367,-184\" stroke=\"none\"/>\n",
       "<text font-family=\"arial\" font-size=\"10.00\" text-anchor=\"middle\" x=\"282\" y=\"-172\">schema.Sample.IdiscoEdUClearing</text>\n",
       "</a>\n",
       "</g>\n",
       "</g>\n",
       "<!-- schema.Sample&#45;&gt;schema.Sample.IdiscoEdUClearing -->\n",
       "<g class=\"edge\" id=\"edge6\"><title>schema.Sample-&gt;schema.Sample.IdiscoEdUClearing</title>\n",
       "<path d=\"M442.46,-221.889C401.617,-210.081 345.528,-193.866 311.628,-184.065\" fill=\"none\" stroke=\"#000000\" stroke-opacity=\"0.250980\" stroke-width=\"2\"/>\n",
       "</g>\n",
       "<!-- schema.Sample.IdiscoAbbreviatedRatClearing -->\n",
       "<g class=\"node\" id=\"node8\"><title>schema.Sample.IdiscoAbbreviatedRatClearing</title>\n",
       "<g id=\"a_node8\"><a xlink:title=\"→ schema.Sample\r",
       "------------------------------\r",
       "exp_notes=&quot;&quot;         \r",
       "time_pbs_wash1=null  \r",
       "pbs_wash1_notes=&quot;&quot;   \r",
       "time_pbs_wash2=null  \r",
       "pbs_wash2_notes=&quot;&quot;   \r",
       "time_pbs_wash3=null  \r",
       "pbs_wash3_notes=&quot;&quot;   \r",
       "time_dehydr_methanol_20percent_wash1=null \r",
       "dehydr_methanol_20percent_wash1_notes=&quot;&quot; \r",
       "time_dehydr_methanol_20percent_wash2=null \r",
       "dehydr_methanol_20percent_wash2_notes=&quot;&quot; \r",
       "time_dehydr_methanol_40percent_wash1=null \r",
       "dehydr_methanol_40percent_wash1_notes=&quot;&quot; \r",
       "time_dehydr_methanol_40percent_wash2=null \r",
       "dehydr_methanol_40percent_wash2_notes=&quot;&quot; \r",
       "time_dehydr_methanol_60percent_wash1=null \r",
       "dehydr_methanol_60percent_wash1_notes=&quot;&quot; \r",
       "time_dehydr_methanol_80percent_wash1=null \r",
       "dehydr_methanol_80percent_wash1_notes=&quot;&quot; \r",
       "time_dehydr_methanol_80percent_wash2=null \r",
       "dehydr_methanol_80percent_wash2_notes=&quot;&quot; \r",
       "time_dehydr_methanol_100percent_wash1=null \r",
       "dehydr_methanol_100percent_wash1_notes=&quot;&quot; \r",
       "time_dehydr_methanol_100percent_wash2=null \r",
       "dehydr_methanol_100percent_wash2_notes=&quot;&quot; \r",
       "time_dehydr_peroxide_wash1=null \r",
       "dehydr_peroxide_wash1_notes=&quot;&quot; \r",
       "time_dehydr_methanol_100percent_wash3=null \r",
       "dehydr_methanol_100percent_wash3_notes=&quot;&quot; \r",
       "time_dehydr_methanol_100percent_wash4=null \r",
       "dehydr_methanol_100percent_wash4_notes=&quot;&quot; \r",
       "time_dehydr_methanol_100percent_wash5=null \r",
       "dehydr_methanol_100percent_wash5_notes=&quot;&quot; \r",
       "time_dehydr_dcm_66percent_methanol_33percent=null \r",
       "dehydr_dcm_66percent_methanol_33percent_notes=&quot;&quot; \r",
       "time_dehydr_dcm_wash1=null \r",
       "dehydr_dcm_wash1_notes=&quot;&quot; \r",
       "time_dehydr_dcm_wash2=null \r",
       "dehydr_dcm_wash2_notes=&quot;&quot; \r",
       "time_dehydr_dbe_wash1=null \r",
       "dehydr_dbe_wash1_notes=&quot;&quot; \r",
       "time_dehydr_dbe_wash2=null \r",
       "dehydr_dbe_wash2_notes=&quot;&quot; \r",
       "clearing_notes=&quot;&quot;    \r",
       "\">\n",
       "<polygon fill=\"none\" points=\"601,-184 385,-184 385,-165 601,-165 601,-184\" stroke=\"none\"/>\n",
       "<text font-family=\"arial\" font-size=\"10.00\" text-anchor=\"middle\" x=\"493\" y=\"-172\">schema.Sample.IdiscoAbbreviatedRatClearing</text>\n",
       "</a>\n",
       "</g>\n",
       "</g>\n",
       "<!-- schema.Sample&#45;&gt;schema.Sample.IdiscoAbbreviatedRatClearing -->\n",
       "<g class=\"edge\" id=\"edge7\"><title>schema.Sample-&gt;schema.Sample.IdiscoAbbreviatedRatClearing</title>\n",
       "<path d=\"M493,-219.831C493,-208.261 493,-193.322 493,-184.078\" fill=\"none\" stroke=\"#000000\" stroke-opacity=\"0.250980\" stroke-width=\"2\"/>\n",
       "</g>\n",
       "<!-- schema.Sample.IdiscoAbbreviatedClearing -->\n",
       "<g class=\"node\" id=\"node9\"><title>schema.Sample.IdiscoAbbreviatedClearing</title>\n",
       "<g id=\"a_node9\"><a xlink:title=\"→ schema.Sample\r",
       "------------------------------\r",
       "exp_notes=&quot;&quot;         \r",
       "time_pbs_wash1=null  \r",
       "pbs_wash1_notes=&quot;&quot;   \r",
       "time_pbs_wash2=null  \r",
       "pbs_wash2_notes=&quot;&quot;   \r",
       "time_pbs_wash3=null  \r",
       "pbs_wash3_notes=&quot;&quot;   \r",
       "time_dehydr_methanol_20percent_wash1=null \r",
       "dehydr_methanol_20percent_wash1_notes=&quot;&quot; \r",
       "time_dehydr_methanol_40percent_wash1=null \r",
       "dehydr_methanol_40percent_wash1_notes=&quot;&quot; \r",
       "time_dehydr_methanol_60percent_wash1=null \r",
       "dehydr_methanol_60percent_wash1_notes=&quot;&quot; \r",
       "time_dehydr_methanol_80percent_wash1=null \r",
       "dehydr_methanol_80percent_wash1_notes=&quot;&quot; \r",
       "time_dehydr_methanol_100percent_wash1=null \r",
       "dehydr_methanol_100percent_wash1_notes=&quot;&quot; \r",
       "time_dehydr_methanol_100percent_wash2=null \r",
       "dehydr_methanol_100percent_wash2_notes=&quot;&quot; \r",
       "time_dehydr_dcm_66percent_methanol_33percent=null \r",
       "dehydr_dcm_66percent_methanol_33percent_notes=&quot;&quot; \r",
       "time_dehydr_dcm_wash1=null \r",
       "dehydr_dcm_wash1_notes=&quot;&quot; \r",
       "time_dehydr_dcm_wash2=null \r",
       "dehydr_dcm_wash2_notes=&quot;&quot; \r",
       "time_dehydr_dbe_wash1=null \r",
       "dehydr_dbe_wash1_notes=&quot;&quot; \r",
       "time_dehydr_dbe_wash2=null \r",
       "dehydr_dbe_wash2_notes=&quot;&quot; \r",
       "clearing_notes=&quot;&quot;    \r",
       "\">\n",
       "<polygon fill=\"none\" points=\"820.5,-184 619.5,-184 619.5,-165 820.5,-165 820.5,-184\" stroke=\"none\"/>\n",
       "<text font-family=\"arial\" font-size=\"10.00\" text-anchor=\"middle\" x=\"720\" y=\"-172\">schema.Sample.IdiscoAbbreviatedClearing</text>\n",
       "</a>\n",
       "</g>\n",
       "</g>\n",
       "<!-- schema.Sample&#45;&gt;schema.Sample.IdiscoAbbreviatedClearing -->\n",
       "<g class=\"edge\" id=\"edge8\"><title>schema.Sample-&gt;schema.Sample.IdiscoAbbreviatedClearing</title>\n",
       "<path d=\"M543.661,-222.886C587.827,-211.018 650.529,-194.168 688.047,-184.087\" fill=\"none\" stroke=\"#000000\" stroke-opacity=\"0.250980\" stroke-width=\"2\"/>\n",
       "</g>\n",
       "<!-- schema.Sample.IdiscoPlusClearing -->\n",
       "<g class=\"node\" id=\"node10\"><title>schema.Sample.IdiscoPlusClearing</title>\n",
       "<g id=\"a_node10\"><a xlink:title=\"→ schema.Sample\r",
       "------------------------------\r",
       "exp_notes=&quot;&quot;         \r",
       "time_dehydr_pbs_wash1=null \r",
       "dehydr_pbs_wash1_notes=&quot;&quot; \r",
       "time_dehydr_pbs_wash2=null \r",
       "dehydr_pbs_wash2_notes=&quot;&quot; \r",
       "time_dehydr_pbs_wash3=null \r",
       "dehydr_pbs_wash3_notes=&quot;&quot; \r",
       "time_dehydr_methanol_20percent_wash1=null \r",
       "dehydr_methanol_20percent_wash1_notes=&quot;&quot; \r",
       "time_dehydr_methanol_40percent_wash1=null \r",
       "dehydr_methanol_40percent_wash1_notes=&quot;&quot; \r",
       "time_dehydr_methanol_60percent_wash1=null \r",
       "dehydr_methanol_60percent_wash1_notes=&quot;&quot; \r",
       "time_dehydr_methanol_80percent_wash1=null \r",
       "dehydr_methanol_80percent_wash1_notes=&quot;&quot; \r",
       "time_dehydr_methanol_100percent_wash1=null \r",
       "dehydr_methanol_100percent_wash1_notes=&quot;&quot; \r",
       "time_dehydr_methanol_100percent_wash2=null \r",
       "dehydr_methanol_100percent_wash2_notes=&quot;&quot; \r",
       "time_dehydr_peroxide_wash1=null \r",
       "dehydr_peroxide_wash1_notes=&quot;&quot; \r",
       "time_rehydr_methanol_100percent_wash1=null \r",
       "rehydr_methanol_100percent_wash1_notes=&quot;&quot; \r",
       "time_rehydr_methanol_80percent_wash1=null \r",
       "rehydr_methanol_80percent_wash1_notes=&quot;&quot; \r",
       "time_rehydr_methanol_60percent_wash1=null \r",
       "rehydr_methanol_60percent_wash1_notes=&quot;&quot; \r",
       "time_rehydr_methanol_40percent_wash1=null \r",
       "rehydr_methanol_40percent_wash1_notes=&quot;&quot; \r",
       "time_rehydr_methanol_20percent_wash1=null \r",
       "rehydr_methanol_20percent_wash1_notes=&quot;&quot; \r",
       "time_rehydr_pbs_wash1=null \r",
       "rehydr_pbs_wash1_notes=&quot;&quot; \r",
       "time_rehydr_sodium_azide_wash1=null \r",
       "rehydr_sodium_azide_wash1_notes=&quot;&quot; \r",
       "time_rehydr_sodium_azide_wash2=null \r",
       "rehydr_sodium_azide_wash2_notes=&quot;&quot; \r",
       "time_rehydr_glycine_wash1=null \r",
       "rehydr_glycine_wash1_notes=&quot;&quot; \r",
       "time_blocking_start_roomtemp=null \r",
       "blocking_start_roomtemp_notes=&quot;&quot; \r",
       "time_blocking_donkey_serum=null \r",
       "blocking_donkey_serum_notes=&quot;&quot; \r",
       "time_antibody1_start_roomtemp=null \r",
       "antibody1_start_roomtemp_notes=&quot;&quot; \r",
       "time_antibody1_ptwh_wash1=null \r",
       "antibody1_ptwh_wash1_notes=&quot;&quot; \r",
       "time_antibody1_ptwh_wash2=null \r",
       "antibody1_ptwh_wash2_notes=&quot;&quot; \r",
       "time_antibody1_added=null \r",
       "antibody1_added_notes=&quot;&quot; \r",
       "time_wash1_start_roomtemp=null \r",
       "wash1_start_roomtemp_notes=&quot;&quot; \r",
       "time_wash1_ptwh_wash1=null \r",
       "wash1_ptwh_wash1_notes=&quot;&quot; \r",
       "time_wash1_ptwh_wash2=null \r",
       "wash1_ptwh_wash2_notes=&quot;&quot; \r",
       "time_wash1_ptwh_wash3=null \r",
       "wash1_ptwh_wash3_notes=&quot;&quot; \r",
       "time_wash1_ptwh_wash4=null \r",
       "wash1_ptwh_wash4_notes=&quot;&quot; \r",
       "time_wash1_ptwh_wash5=null \r",
       "wash1_ptwh_wash5_notes=&quot;&quot; \r",
       "time_antibody2_added=null \r",
       "antibody2_added_notes=&quot;&quot; \r",
       "time_wash2_start_roomtemp=null \r",
       "wash2_start_roomtemp_notes=&quot;&quot; \r",
       "time_wash2_ptwh_wash1=null \r",
       "wash2_ptwh_wash1_notes=&quot;&quot; \r",
       "time_wash2_ptwh_wash2=null \r",
       "wash2_ptwh_wash2_notes=&quot;&quot; \r",
       "time_wash2_ptwh_wash3=null \r",
       "wash2_ptwh_wash3_notes=&quot;&quot; \r",
       "time_wash2_ptwh_wash4=null \r",
       "wash2_ptwh_wash4_notes=&quot;&quot; \r",
       "time_wash2_ptwh_wash5=null \r",
       "wash2_ptwh_wash5_notes=&quot;&quot; \r",
       "time_clearing_methanol_20percent_wash1=null \r",
       "clearing_methanol_20percent_wash1_notes=&quot;&quot; \r",
       "time_clearing_methanol_40percent_wash1=null \r",
       "clearing_methanol_40percent_wash1_notes=&quot;&quot; \r",
       "time_clearing_methanol_60percent_wash1=null \r",
       "clearing_methanol_60percent_wash1_notes=&quot;&quot; \r",
       "time_clearing_methanol_80percent_wash1=null \r",
       "clearing_methanol_80percent_wash1_notes=&quot;&quot; \r",
       "time_clearing_methanol_100percent_wash1=null \r",
       "clearing_methanol_100percent_wash1_notes=&quot;&quot; \r",
       "time_clearing_methanol_100percent_wash2=null \r",
       "clearing_methanol_100percent_wash2_notes=&quot;&quot; \r",
       "time_clearing_dcm_66percent_methanol_33percent=null \r",
       "clearing_dcm_66percent_methanol_33percent_notes=&quot;&quot; \r",
       "time_clearing_dcm_wash1=null \r",
       "clearing_dcm_wash1_notes=&quot;&quot; \r",
       "time_clearing_dcm_wash2=null \r",
       "clearing_dcm_wash2_notes=&quot;&quot; \r",
       "time_clearing_dbe=null \r",
       "clearing_dbe_notes=&quot;&quot; \r",
       "time_clearing_new_tubes=null \r",
       "clearing_new_tubes_notes=&quot;&quot; \r",
       "clearing_notes=&quot;&quot;    \r",
       "\">\n",
       "<polygon fill=\"none\" points=\"1009,-184 839,-184 839,-165 1009,-165 1009,-184\" stroke=\"none\"/>\n",
       "<text font-family=\"arial\" font-size=\"10.00\" text-anchor=\"middle\" x=\"924\" y=\"-172\">schema.Sample.IdiscoPlusClearing</text>\n",
       "</a>\n",
       "</g>\n",
       "</g>\n",
       "<!-- schema.Sample&#45;&gt;schema.Sample.IdiscoPlusClearing -->\n",
       "<g class=\"edge\" id=\"edge9\"><title>schema.Sample-&gt;schema.Sample.IdiscoPlusClearing</title>\n",
       "<path d=\"M543.709,-229.323C623.594,-218.017 778.42,-196.104 863.819,-184.018\" fill=\"none\" stroke=\"#000000\" stroke-opacity=\"0.250980\" stroke-width=\"2\"/>\n",
       "</g>\n",
       "<!-- schema.Sample.UdiscoClearing -->\n",
       "<g class=\"node\" id=\"node11\"><title>schema.Sample.UdiscoClearing</title>\n",
       "<g id=\"a_node11\"><a xlink:title=\"→ schema.Sample\r",
       "------------------------------\r",
       "exp_notes=&quot;&quot;         \r",
       "time_dehydr_pbs_wash1=null \r",
       "dehydr_pbs_wash1_notes=&quot;&quot; \r",
       "time_dehydr_butanol_30percent=null \r",
       "dehydr_butanol_30percent_notes=&quot;&quot; \r",
       "time_dehydr_butanol_50percent=null \r",
       "dehydr_butanol_50percent_notes=&quot;&quot; \r",
       "time_dehydr_butanol_70percent=null \r",
       "dehydr_butanol_70percent_notes=&quot;&quot; \r",
       "time_dehydr_butanol_80percent=null \r",
       "dehydr_butanol_80percent_notes=&quot;&quot; \r",
       "time_dehydr_butanol_90percent=null \r",
       "dehydr_butanol_90percent_notes=&quot;&quot; \r",
       "time_dehydr_butanol_96percent=null \r",
       "dehydr_butanol_96percent_notes=&quot;&quot; \r",
       "time_dehydr_butanol_100percent=null \r",
       "dehydr_butanol_100percent_notes=&quot;&quot; \r",
       "time_clearing_dcm_wash1=null \r",
       "clearing_dcm_wash1_notes=&quot;&quot; \r",
       "time_clearing_babb_wash1=null \r",
       "clearing_babb_wash1_notes=&quot;&quot; \r",
       "clearing_notes=&quot;&quot;    \r",
       "\">\n",
       "<polygon fill=\"none\" points=\"1182.5,-184 1027.5,-184 1027.5,-165 1182.5,-165 1182.5,-184\" stroke=\"none\"/>\n",
       "<text font-family=\"arial\" font-size=\"10.00\" text-anchor=\"middle\" x=\"1105\" y=\"-172\">schema.Sample.UdiscoClearing</text>\n",
       "</a>\n",
       "</g>\n",
       "</g>\n",
       "<!-- schema.Sample&#45;&gt;schema.Sample.UdiscoClearing -->\n",
       "<g class=\"edge\" id=\"edge10\"><title>schema.Sample-&gt;schema.Sample.UdiscoClearing</title>\n",
       "<path d=\"M543.603,-231.456C650.567,-220.795 900.224,-195.911 1027.47,-183.228\" fill=\"none\" stroke=\"#000000\" stroke-opacity=\"0.250980\" stroke-width=\"2\"/>\n",
       "</g>\n",
       "<!-- schema.Sample&#45;&gt;schema.Sample.ImagingRequest -->\n",
       "<g class=\"edge\" id=\"edge11\"><title>schema.Sample-&gt;schema.Sample.ImagingRequest</title>\n",
       "<path d=\"M442.298,-228.65C368.1,-217.163 230.469,-195.854 153.938,-184.006\" fill=\"none\" stroke=\"#000000\" stroke-opacity=\"0.250980\" stroke-width=\"0.75\"/>\n",
       "</g>\n",
       "<!-- schema.User -->\n",
       "<g class=\"node\" id=\"node12\"><title>schema.User</title>\n",
       "<g id=\"a_node12\"><a xlink:title=\"username             \r",
       "------------------------------\r",
       "princeton_email      \r",
       "\">\n",
       "<polygon fill=\"#000000\" fill-opacity=\"0.125490\" points=\"410,-397 336,-397 336,-362 410,-362 410,-397\" stroke=\"none\"/>\n",
       "<text font-family=\"arial\" font-size=\"10.00\" text-anchor=\"start\" text-decoration=\"underline\" x=\"344\" y=\"-378\">schema.User</text>\n",
       "</a>\n",
       "</g>\n",
       "</g>\n",
       "<!-- schema.User&#45;&gt;11 -->\n",
       "<g class=\"edge\" id=\"edge14\"><title>schema.User-&gt;11</title>\n",
       "<path d=\"M345.824,-361.985C330.79,-352.306 312.143,-339.379 297,-326 261.008,-294.201 225.088,-246.669 219.695,-239.436\" fill=\"none\" stroke=\"#000000\" stroke-dasharray=\"5,2\" stroke-opacity=\"0.250980\" stroke-width=\"0.75\"/>\n",
       "</g>\n",
       "<!-- schema.User&#45;&gt;9 -->\n",
       "<g class=\"edge\" id=\"edge12\"><title>schema.User-&gt;9</title>\n",
       "<path d=\"M379.294,-361.797C386.027,-343.929 396.065,-317.29 398.469,-310.91\" fill=\"none\" stroke=\"#000000\" stroke-dasharray=\"5,2\" stroke-opacity=\"0.250980\" stroke-width=\"0.75\"/>\n",
       "</g>\n",
       "<!-- schema.User&#45;&gt;10 -->\n",
       "<g class=\"edge\" id=\"edge13\"><title>schema.User-&gt;10</title>\n",
       "<path d=\"M359.119,-361.89C330.064,-327.124 264.855,-249.096 256.818,-239.478\" fill=\"none\" stroke=\"#000000\" stroke-dasharray=\"5,2\" stroke-opacity=\"0.250980\" stroke-width=\"0.75\"/>\n",
       "</g>\n",
       "<!-- schema.User&#45;&gt;schema.Request -->\n",
       "<g class=\"edge\" id=\"edge15\"><title>schema.User-&gt;schema.Request</title>\n",
       "<path d=\"M399.827,-361.973C417.429,-351.128 440.367,-336.997 458.004,-326.132\" fill=\"none\" stroke=\"#000000\" stroke-opacity=\"0.250980\" stroke-width=\"0.75\"/>\n",
       "</g>\n",
       "<!-- schema.Sample.ImageResolutionRequest -->\n",
       "<g class=\"node\" id=\"node14\"><title>schema.Sample.ImageResolutionRequest</title>\n",
       "<g id=\"a_node14\"><a xlink:title=\"→ schema.Sample.ImagingRequest\r",
       "image_resolution     \r",
       "------------------------------\r",
       "atlas_name           \r",
       "notes_for_imager=&quot;&quot;  \r",
       "notes_from_imaging=&quot;&quot; \r",
       "notes_for_processor=&quot;&quot; \r",
       "\">\n",
       "<polygon fill=\"none\" points=\"198,-129 0,-129 0,-110 198,-110 198,-129\" stroke=\"none\"/>\n",
       "<text font-family=\"arial\" font-size=\"10.00\" text-anchor=\"start\" text-decoration=\"underline\" x=\"8\" y=\"-118\">schema.Sample.ImageResolutionRequest</text>\n",
       "</a>\n",
       "</g>\n",
       "</g>\n",
       "<!-- schema.Sample.ImageResolutionRequest&#45;&gt;schema.Sample.ImagingChannel -->\n",
       "<g class=\"edge\" id=\"edge16\"><title>schema.Sample.ImageResolutionRequest-&gt;schema.Sample.ImagingChannel</title>\n",
       "<path d=\"M99,-109.748C99,-99.8693 99,-83.9003 99,-74.089\" fill=\"none\" stroke=\"#000000\" stroke-opacity=\"0.250980\" stroke-width=\"0.75\"/>\n",
       "</g>\n",
       "<!-- schema.Sample.ImagingRequest&#45;&gt;schema.Sample.ImageResolutionRequest -->\n",
       "<g class=\"edge\" id=\"edge17\"><title>schema.Sample.ImagingRequest-&gt;schema.Sample.ImageResolutionRequest</title>\n",
       "<path d=\"M99,-164.748C99,-154.869 99,-138.9 99,-129.089\" fill=\"none\" stroke=\"#000000\" stroke-opacity=\"0.250980\" stroke-width=\"0.75\"/>\n",
       "</g>\n",
       "</g>\n",
       "</svg>"
      ],
      "text/plain": [
       "<datajoint.diagram.Diagram at 0x7fbfa8b19518>"
      ]
     },
     "execution_count": 16,
     "metadata": {},
     "output_type": "execute_result"
    }
   ],
   "source": [
    "dj.ERD(schema)"
   ]
  },
  {
   "cell_type": "code",
   "execution_count": 17,
   "metadata": {},
   "outputs": [
    {
     "data": {
      "text/html": [
       "\n",
       "        \n",
       "        <style type=\"text/css\">\n",
       "            .Relation{\n",
       "                border-collapse:collapse;\n",
       "            }\n",
       "            .Relation th{\n",
       "                background: #A0A0A0; color: #ffffff; padding:4px; border:#f0e0e0 1px solid;\n",
       "                font-weight: normal; font-family: monospace; font-size: 100%;\n",
       "            }\n",
       "            .Relation td{\n",
       "                padding:4px; border:#f0e0e0 1px solid; font-size:100%;\n",
       "            }\n",
       "            .Relation tr:nth-child(odd){\n",
       "                background: #ffffff;\n",
       "            }\n",
       "            .Relation tr:nth-child(even){\n",
       "                background: #f3f1ff;\n",
       "            }\n",
       "            /* Tooltip container */\n",
       "            .djtooltip {\n",
       "            }\n",
       "            /* Tooltip text */\n",
       "            .djtooltip .djtooltiptext {\n",
       "                visibility: hidden;\n",
       "                width: 120px;\n",
       "                background-color: black;\n",
       "                color: #fff;\n",
       "                text-align: center;\n",
       "                padding: 5px 0;\n",
       "                border-radius: 6px;\n",
       "                /* Position the tooltip text - see examples below! */\n",
       "                position: absolute;\n",
       "                z-index: 1;\n",
       "            }\n",
       "            #primary {\n",
       "                font-weight: bold;\n",
       "                color: black;\n",
       "            }\n",
       "\n",
       "            #nonprimary {\n",
       "                font-weight: normal;\n",
       "                color: white;\n",
       "            }\n",
       "\n",
       "            /* Show the tooltip text when you mouse over the tooltip container */\n",
       "            .djtooltip:hover .djtooltiptext {\n",
       "                visibility: visible;\n",
       "            }\n",
       "        </style>\n",
       "        \n",
       "        <b>Samples from a particular request</b>\n",
       "            <div style=\"max-height:1000px;max-width:1500px;overflow:auto;\">\n",
       "            <table border=\"1\" class=\"Relation\">\n",
       "                <thead> <tr style=\"text-align: right;\"> <th> <div class=\"djtooltip\">\n",
       "                                <p id=\"primary\">username</p>\n",
       "                                <span class=\"djtooltiptext\">user in the lab</span>\n",
       "                            </div></th><th><div class=\"djtooltip\">\n",
       "                                <p id=\"primary\">request_name</p>\n",
       "                                <span class=\"djtooltiptext\"></span>\n",
       "                            </div></th><th><div class=\"djtooltip\">\n",
       "                                <p id=\"primary\">sample_name</p>\n",
       "                                <span class=\"djtooltiptext\"></span>\n",
       "                            </div></th><th><div class=\"djtooltip\">\n",
       "                                <p id=\"nonprimary\">perfusion_date</p>\n",
       "                                <span class=\"djtooltiptext\"></span>\n",
       "                            </div></th><th><div class=\"djtooltip\">\n",
       "                                <p id=\"nonprimary\">expected_handoff_date</p>\n",
       "                                <span class=\"djtooltiptext\"></span>\n",
       "                            </div></th><th><div class=\"djtooltip\">\n",
       "                                <p id=\"nonprimary\">clearer</p>\n",
       "                                <span class=\"djtooltiptext\">user in the lab</span>\n",
       "                            </div></th><th><div class=\"djtooltip\">\n",
       "                                <p id=\"nonprimary\">clearing_protocol</p>\n",
       "                                <span class=\"djtooltiptext\"></span>\n",
       "                            </div></th><th><div class=\"djtooltip\">\n",
       "                                <p id=\"nonprimary\">clearing_progress</p>\n",
       "                                <span class=\"djtooltiptext\"></span>\n",
       "                            </div></th><th><div class=\"djtooltip\">\n",
       "                                <p id=\"nonprimary\">antibody1</p>\n",
       "                                <span class=\"djtooltiptext\"></span>\n",
       "                            </div></th><th><div class=\"djtooltip\">\n",
       "                                <p id=\"nonprimary\">antibody2</p>\n",
       "                                <span class=\"djtooltiptext\"></span>\n",
       "                            </div></th><th><div class=\"djtooltip\">\n",
       "                                <p id=\"nonprimary\">notes_for_clearer</p>\n",
       "                                <span class=\"djtooltiptext\"></span>\n",
       "                            </div></th><th><div class=\"djtooltip\">\n",
       "                                <p id=\"nonprimary\">stitching_method</p>\n",
       "                                <span class=\"djtooltiptext\"></span>\n",
       "                            </div></th><th><div class=\"djtooltip\">\n",
       "                                <p id=\"nonprimary\">blend_type</p>\n",
       "                                <span class=\"djtooltiptext\"></span>\n",
       "                            </div></th><th><div class=\"djtooltip\">\n",
       "                                <p id=\"nonprimary\">notes_from_processing</p>\n",
       "                                <span class=\"djtooltiptext\"></span>\n",
       "                            </div> </th> </tr> </thead>\n",
       "                <tbody> <tr> <td>ahoag</td>\n",
       "<td>test</td>\n",
       "<td>sample-001</td>\n",
       "<td>None</td>\n",
       "<td>None</td>\n",
       "<td>None</td>\n",
       "<td>iDISCO abbreviated clearing</td>\n",
       "<td>incomplete</td>\n",
       "<td></td>\n",
       "<td></td>\n",
       "<td></td>\n",
       "<td>blending</td>\n",
       "<td>sigmoidal</td>\n",
       "<td></td> </tr> </tbody>\n",
       "            </table>\n",
       "            \n",
       "            <p>Total: 1</p></div>\n",
       "            "
      ],
      "text/plain": [
       "*username    *request_name  *sample_name   perfusion_date expected_hando clearer     clearing_proto clearing_progr antibody1     antibody2     notes_for_clea stitching_meth blend_type     notes_from_pro\n",
       "+----------+ +------------+ +------------+ +------------+ +------------+ +---------+ +------------+ +------------+ +-----------+ +-----------+ +------------+ +------------+ +------------+ +------------+\n",
       "ahoag        test           sample-001     None           None           None        iDISCO abbrevi incomplete                                                blending       sigmoidal                    \n",
       " (Total: 1)"
      ]
     },
     "execution_count": 17,
     "metadata": {},
     "output_type": "execute_result"
    }
   ],
   "source": [
    "schema.Sample()"
   ]
  },
  {
   "cell_type": "code",
   "execution_count": 22,
   "metadata": {},
   "outputs": [
    {
     "name": "stdout",
     "output_type": "stream",
     "text": [
      "About to delete:\n",
      "`ahoag_lightsheet_demo`.`sample__idisco_abbreviated_clearing`: 1 items\n",
      "`ahoag_lightsheet_demo`.`sample__imaging_channel`: 1 items\n",
      "`ahoag_lightsheet_demo`.`sample__image_resolution_request`: 1 items\n",
      "`ahoag_lightsheet_demo`.`sample__imaging_request`: 1 items\n",
      "`ahoag_lightsheet_demo`.`sample`: 1 items\n",
      "`ahoag_lightsheet_demo`.`request`: 1 items\n",
      "Proceed? [yes, No]: No\n",
      "Cancelled deletes.\n"
     ]
    }
   ],
   "source": [
    "schema.Request().delete()"
   ]
  },
  {
   "cell_type": "code",
   "execution_count": 21,
   "metadata": {},
   "outputs": [
    {
     "data": {
      "text/html": [
       "\n",
       "        \n",
       "        <style type=\"text/css\">\n",
       "            .Relation{\n",
       "                border-collapse:collapse;\n",
       "            }\n",
       "            .Relation th{\n",
       "                background: #A0A0A0; color: #ffffff; padding:4px; border:#f0e0e0 1px solid;\n",
       "                font-weight: normal; font-family: monospace; font-size: 100%;\n",
       "            }\n",
       "            .Relation td{\n",
       "                padding:4px; border:#f0e0e0 1px solid; font-size:100%;\n",
       "            }\n",
       "            .Relation tr:nth-child(odd){\n",
       "                background: #ffffff;\n",
       "            }\n",
       "            .Relation tr:nth-child(even){\n",
       "                background: #f3f1ff;\n",
       "            }\n",
       "            /* Tooltip container */\n",
       "            .djtooltip {\n",
       "            }\n",
       "            /* Tooltip text */\n",
       "            .djtooltip .djtooltiptext {\n",
       "                visibility: hidden;\n",
       "                width: 120px;\n",
       "                background-color: black;\n",
       "                color: #fff;\n",
       "                text-align: center;\n",
       "                padding: 5px 0;\n",
       "                border-radius: 6px;\n",
       "                /* Position the tooltip text - see examples below! */\n",
       "                position: absolute;\n",
       "                z-index: 1;\n",
       "            }\n",
       "            #primary {\n",
       "                font-weight: bold;\n",
       "                color: black;\n",
       "            }\n",
       "\n",
       "            #nonprimary {\n",
       "                font-weight: normal;\n",
       "                color: white;\n",
       "            }\n",
       "\n",
       "            /* Show the tooltip text when you mouse over the tooltip container */\n",
       "            .djtooltip:hover .djtooltiptext {\n",
       "                visibility: visible;\n",
       "            }\n",
       "        </style>\n",
       "        \n",
       "        <b>The highest level table for handling user requests to the Core Facility</b>\n",
       "            <div style=\"max-height:1000px;max-width:1500px;overflow:auto;\">\n",
       "            <table border=\"1\" class=\"Relation\">\n",
       "                <thead> <tr style=\"text-align: right;\"> <th> <div class=\"djtooltip\">\n",
       "                                <p id=\"primary\">username</p>\n",
       "                                <span class=\"djtooltiptext\">user in the lab</span>\n",
       "                            </div></th><th><div class=\"djtooltip\">\n",
       "                                <p id=\"primary\">request_name</p>\n",
       "                                <span class=\"djtooltiptext\"></span>\n",
       "                            </div></th><th><div class=\"djtooltip\">\n",
       "                                <p id=\"nonprimary\">date_submitted</p>\n",
       "                                <span class=\"djtooltiptext\">The date it was submitted as a request</span>\n",
       "                            </div></th><th><div class=\"djtooltip\">\n",
       "                                <p id=\"nonprimary\">time_submitted</p>\n",
       "                                <span class=\"djtooltiptext\">The time it was submitted as a request</span>\n",
       "                            </div></th><th><div class=\"djtooltip\">\n",
       "                                <p id=\"nonprimary\">labname</p>\n",
       "                                <span class=\"djtooltiptext\"></span>\n",
       "                            </div></th><th><div class=\"djtooltip\">\n",
       "                                <p id=\"nonprimary\">correspondence_email</p>\n",
       "                                <span class=\"djtooltiptext\"></span>\n",
       "                            </div></th><th><div class=\"djtooltip\">\n",
       "                                <p id=\"nonprimary\">description</p>\n",
       "                                <span class=\"djtooltiptext\"></span>\n",
       "                            </div></th><th><div class=\"djtooltip\">\n",
       "                                <p id=\"nonprimary\">species</p>\n",
       "                                <span class=\"djtooltiptext\"></span>\n",
       "                            </div></th><th><div class=\"djtooltip\">\n",
       "                                <p id=\"nonprimary\">number_of_samples</p>\n",
       "                                <span class=\"djtooltiptext\"></span>\n",
       "                            </div></th><th><div class=\"djtooltip\">\n",
       "                                <p id=\"nonprimary\">sample_prefix</p>\n",
       "                                <span class=\"djtooltiptext\"></span>\n",
       "                            </div></th><th><div class=\"djtooltip\">\n",
       "                                <p id=\"nonprimary\">uniform_clearing</p>\n",
       "                                <span class=\"djtooltiptext\"></span>\n",
       "                            </div> </th> </tr> </thead>\n",
       "                <tbody> <tr> <td>ahoag</td>\n",
       "<td>test</td>\n",
       "<td>2019-12-09</td>\n",
       "<td>12:03:30</td>\n",
       "<td>braincogs</td>\n",
       "<td>ahoag@princeton.edu</td>\n",
       "<td>test</td>\n",
       "<td>mouse</td>\n",
       "<td>1</td>\n",
       "<td>sample</td>\n",
       "<td>1</td> </tr> </tbody>\n",
       "            </table>\n",
       "            \n",
       "            <p>Total: 1</p></div>\n",
       "            "
      ],
      "text/plain": [
       "*username    *request_name  date_submitted time_submitted labname       correspondence description    species     number_of_samp sample_prefix  uniform_cleari\n",
       "+----------+ +------------+ +------------+ +------------+ +-----------+ +------------+ +------------+ +---------+ +------------+ +------------+ +------------+\n",
       "ahoag        test           2019-12-09     12:03:30       braincogs     ahoag@princeto test           mouse       1              sample         1             \n",
       " (Total: 1)"
      ]
     },
     "execution_count": 21,
     "metadata": {},
     "output_type": "execute_result"
    }
   ],
   "source": [
    "schema.Request()"
   ]
  },
  {
   "cell_type": "code",
   "execution_count": null,
   "metadata": {},
   "outputs": [],
   "source": [
    "schema.Request()"
   ]
  },
  {
   "cell_type": "code",
   "execution_count": null,
   "metadata": {},
   "outputs": [],
   "source": [
    "sample_contents = schema.Sample() \n",
    "sample_contents"
   ]
  },
  {
   "cell_type": "code",
   "execution_count": null,
   "metadata": {},
   "outputs": [],
   "source": [
    "schema.Sample.ProcessingChannel()"
   ]
  },
  {
   "cell_type": "code",
   "execution_count": null,
   "metadata": {},
   "outputs": [],
   "source": [
    "dj.Table._update(schema.Sample.ImagingRequest(),'processing_progress','not started')"
   ]
  },
  {
   "cell_type": "code",
   "execution_count": null,
   "metadata": {},
   "outputs": [],
   "source": [
    "schema.Sample.ImagingRequest()"
   ]
  },
  {
   "cell_type": "code",
   "execution_count": null,
   "metadata": {},
   "outputs": [],
   "source": [
    "schema.Sample.ImageResolutionRequest()"
   ]
  },
  {
   "cell_type": "code",
   "execution_count": null,
   "metadata": {},
   "outputs": [],
   "source": [
    "schema.Sample.ImagingChannel()"
   ]
  },
  {
   "cell_type": "code",
   "execution_count": null,
   "metadata": {},
   "outputs": [],
   "source": [
    "schema.Sample.ImagingChannel.heading.names"
   ]
  },
  {
   "cell_type": "code",
   "execution_count": null,
   "metadata": {},
   "outputs": [],
   "source": [
    "schema.Sample()"
   ]
  },
  {
   "cell_type": "code",
   "execution_count": null,
   "metadata": {},
   "outputs": [],
   "source": [
    "schema.Sample.IdiscoAbbreviatedClearing()"
   ]
  },
  {
   "cell_type": "code",
   "execution_count": null,
   "metadata": {},
   "outputs": [],
   "source": [
    "sample_contents = schema.Sample & 'request_name=\"test6\"' & 'username=\"ahoag\"' \n",
    "sample_contents"
   ]
  },
  {
   "cell_type": "code",
   "execution_count": null,
   "metadata": {},
   "outputs": [],
   "source": [
    "l=[1,2]\n",
    "try:\n",
    "    a = l[3]\n",
    "except Exception as e:\n",
    "    print(e)"
   ]
  },
  {
   "cell_type": "code",
   "execution_count": null,
   "metadata": {},
   "outputs": [],
   "source": [
    "sample_contents.fetch1('antibody1','antibody2')"
   ]
  },
  {
   "cell_type": "code",
   "execution_count": null,
   "metadata": {},
   "outputs": [],
   "source": [
    "dj.Table._update?"
   ]
  },
  {
   "cell_type": "code",
   "execution_count": null,
   "metadata": {},
   "outputs": [],
   "source": [
    "resolution_dict = {'image_resolution': '1.3x', 'channels': [{'channel_name': '488', 'registration': False, 'injection_detection': False, 'probe_detection': False, 'cell_detection': False, 'csrf_token': ''}, {'channel_name': '555', 'registration': False, 'injection_detection': False, 'probe_detection': False, 'cell_detection': False, 'csrf_token': ''}, {'channel_name': '647', 'registration': False, 'injection_detection': False, 'probe_detection': False, 'cell_detection': False, 'csrf_token': ''}, {'channel_name': '790', 'registration': False, 'injection_detection': False, 'probe_detection': False, 'cell_detection': False, 'csrf_token': ''}], 'notes_for_imager': '', 'notes_for_processor': '', 'atlas_name': 'allen_2017', 'csrf_token': ''}"
   ]
  },
  {
   "cell_type": "code",
   "execution_count": null,
   "metadata": {},
   "outputs": [],
   "source": [
    "all_imaging_modes = ['registration','injection_detection','probe_detection','cell_detection']\n",
    "channels = resolution_dict['channels']\n",
    "[item for subdict in channels for item in subdict if item in all_imaging_modes and subdict[item]==False]"
   ]
  },
  {
   "cell_type": "code",
   "execution_count": null,
   "metadata": {},
   "outputs": [],
   "source": [
    "insert_dict = {'username': 'ahoag',\n",
    "  'experiment_name': 'test2',\n",
    "  'sample_name': 'sample-001',\n",
    "  'image_resolution': '1.3x',\n",
    "  'channel_name': '488',\n",
    "  'imaging_request_number': 2,\n",
    "  'registration': 1,\n",
    "  'injection_detection': 0,\n",
    "  'probe_detection': 0,\n",
    "  'cell_detection': 0,\n",
    "  'notes_for_imager': '',\n",
    "  'notes_from_imaging': '',\n",
    "  'atlas_name': 'allen_2017',\n",
    "  'notes_for_processor': '',\n",
    "  'tiling_scheme': '1x1',\n",
    "  'tiling_overlap': 0.0,\n",
    "  'z_step': 10,\n",
    "    }"
   ]
  },
  {
   "cell_type": "code",
   "execution_count": null,
   "metadata": {},
   "outputs": [],
   "source": [
    "exp_contents = schema.Experiment()\n",
    "exp_contents"
   ]
  },
  {
   "cell_type": "code",
   "execution_count": null,
   "metadata": {},
   "outputs": [],
   "source": [
    "sample_contents = schema.Sample()\n",
    "sample_contents"
   ]
  },
  {
   "cell_type": "code",
   "execution_count": null,
   "metadata": {},
   "outputs": [],
   "source": [
    "channel_contents = schema.Sample.ImagingChannel()\n",
    "channel_contents"
   ]
  },
  {
   "cell_type": "code",
   "execution_count": null,
   "metadata": {},
   "outputs": [],
   "source": [
    "combined_contents = dj.U('experiment_name','sample_name','imaging_request_number').aggr(\n",
    "    channel_contents & 'experiment_name=\"test2\"') * exp_contents\n",
    "combined_contents"
   ]
  },
  {
   "cell_type": "code",
   "execution_count": null,
   "metadata": {},
   "outputs": [],
   "source": [
    "combined_contents = dj.U('experiment_name','username','sample_name','imaging_request_number').aggr(channel_contents, \n",
    "        image_resolution='min(image_resolution)') * sample_contents * exp_contents\n",
    "combined_contents"
   ]
  },
  {
   "cell_type": "code",
   "execution_count": null,
   "metadata": {},
   "outputs": [],
   "source": [
    "dj.U('experiment_name','username','sample_name','imaging_request_number').aggr(channel_contents,imaging_progress='imaging_progress',\n",
    "        image_resolution='min(image_resolution)')"
   ]
  },
  {
   "cell_type": "code",
   "execution_count": null,
   "metadata": {},
   "outputs": [],
   "source": [
    "all_contents_unique_imaging_request_number = combined_contents.proj('imaging_request_number',\n",
    "\t\t'clearing_progress','clearer','imager',datetime_submitted='TIMESTAMP(date_submitted,time_submitted)')"
   ]
  },
  {
   "cell_type": "code",
   "execution_count": null,
   "metadata": {},
   "outputs": [],
   "source": [
    "all_contents_unique_imaging_request_number"
   ]
  },
  {
   "cell_type": "code",
   "execution_count": null,
   "metadata": {},
   "outputs": [],
   "source": [
    "schema.Sample.ImagingChannel().insert1(insert_dict)"
   ]
  },
  {
   "cell_type": "code",
   "execution_count": null,
   "metadata": {},
   "outputs": [],
   "source": [
    "TestTable().insert1({'someval':4})"
   ]
  },
  {
   "cell_type": "code",
   "execution_count": null,
   "metadata": {},
   "outputs": [],
   "source": [
    "TestTable()"
   ]
  },
  {
   "cell_type": "code",
   "execution_count": null,
   "metadata": {},
   "outputs": [],
   "source": [
    "schema.Experiment()"
   ]
  },
  {
   "cell_type": "code",
   "execution_count": null,
   "metadata": {},
   "outputs": [],
   "source": [
    "schema.Sample()"
   ]
  },
  {
   "cell_type": "code",
   "execution_count": null,
   "metadata": {},
   "outputs": [],
   "source": []
  },
  {
   "cell_type": "code",
   "execution_count": null,
   "metadata": {},
   "outputs": [],
   "source": [
    "schema.Sample.ImagingChannel()"
   ]
  },
  {
   "cell_type": "code",
   "execution_count": null,
   "metadata": {},
   "outputs": [],
   "source": [
    "rs=sorted(list(set(schema.Sample.ImagingChannel().fetch('image_resolution'))))"
   ]
  },
  {
   "cell_type": "code",
   "execution_count": null,
   "metadata": {},
   "outputs": [],
   "source": [
    "for ii in range(len(rs)):\n",
    "    r = rs[ii]\n",
    "    print(r)"
   ]
  },
  {
   "cell_type": "code",
   "execution_count": null,
   "metadata": {},
   "outputs": [],
   "source": [
    "channel_contents =schema.Sample.ImagingChannel()"
   ]
  },
  {
   "cell_type": "code",
   "execution_count": null,
   "metadata": {},
   "outputs": [],
   "source": [
    "channel_contents & 'image_resolution=\"1.3x\"'"
   ]
  },
  {
   "cell_type": "code",
   "execution_count": null,
   "metadata": {},
   "outputs": [],
   "source": [
    "schema.Sample.ProcessingChannel()"
   ]
  },
  {
   "cell_type": "code",
   "execution_count": null,
   "metadata": {},
   "outputs": [],
   "source": [
    "'4'.zfill(3)"
   ]
  },
  {
   "cell_type": "code",
   "execution_count": null,
   "metadata": {},
   "outputs": [],
   "source": [
    "os.path.join('test','this','out')"
   ]
  },
  {
   "cell_type": "code",
   "execution_count": null,
   "metadata": {},
   "outputs": [],
   "source": [
    "sample_contents = schema.Sample() \n",
    "sample_contents"
   ]
  },
  {
   "cell_type": "code",
   "execution_count": null,
   "metadata": {},
   "outputs": [],
   "source": [
    "channel_contents=schema.Sample.ImagingChannel() \n",
    "channel_contents"
   ]
  },
  {
   "cell_type": "code",
   "execution_count": null,
   "metadata": {},
   "outputs": [],
   "source": [
    "dict_list=channel_contents.fetch(as_dict=True)\n",
    "dict_list"
   ]
  },
  {
   "cell_type": "code",
   "execution_count": null,
   "metadata": {},
   "outputs": [],
   "source": [
    "dict_list = [{'channel_name':'555','otherkey':'otherval1'},{'channel_name':'488','otherkey':'otherval2'}]\n",
    "sorted(dict_list,key = lambda x: x['otherkey'])"
   ]
  },
  {
   "cell_type": "code",
   "execution_count": null,
   "metadata": {},
   "outputs": [],
   "source": [
    "sample_contents * channel_contents"
   ]
  },
  {
   "cell_type": "code",
   "execution_count": null,
   "metadata": {},
   "outputs": [],
   "source": [
    "dj.ERD(schema)"
   ]
  },
  {
   "cell_type": "code",
   "execution_count": null,
   "metadata": {},
   "outputs": [],
   "source": [
    "schema.Sample.ImagingChannel()"
   ]
  },
  {
   "cell_type": "code",
   "execution_count": null,
   "metadata": {},
   "outputs": [],
   "source": [
    "sample_contents * channel_contents"
   ]
  },
  {
   "cell_type": "code",
   "execution_count": null,
   "metadata": {},
   "outputs": [],
   "source": [
    "channel_contents.fetch(as_dict=True)"
   ]
  },
  {
   "cell_type": "code",
   "execution_count": null,
   "metadata": {},
   "outputs": [],
   "source": [
    "insert_list = [{'username':'ahoag','experiment_name':'test','sample_name':'sample-001','channel_name':'488'}]"
   ]
  },
  {
   "cell_type": "code",
   "execution_count": null,
   "metadata": {},
   "outputs": [],
   "source": [
    "insert_list = [\n",
    "    {'experiment_name': '3test', 'username': 'ahoag', 'sample_name': 'sample-001',\n",
    "     'channel_name': '488', 'image_resolution_requested': '1.3x', 'registration': True, \n",
    "     'injection_detection': False, 'probe_detection': False, 'cell_detection': False},\n",
    "    {'experiment_name': '3test', 'username': 'ahoag', 'sample_name': 'sample-001', \n",
    "     'channel_name': '555', 'registration': False, 'injection_detection': False, \n",
    "     'probe_detection': False, 'cell_detection': False}, \n",
    "    {'experiment_name': '3test', 'username': 'ahoag', 'sample_name': 'sample-001', \n",
    "     'channel_name': '647', 'registration': False, 'injection_detection': False, \n",
    "     'probe_detection': False, 'cell_detection': False}, \n",
    "    {'experiment_name': '3test', 'username': 'ahoag', 'sample_name': 'sample-001',\n",
    "     'channel_name': '790', 'registration': False, 'injection_detection': False,\n",
    "     'probe_detection': False, 'cell_detection': False}]\n"
   ]
  },
  {
   "cell_type": "code",
   "execution_count": null,
   "metadata": {},
   "outputs": [],
   "source": [
    "schema.Sample.ImagingChannel().insert(insert_list)"
   ]
  },
  {
   "cell_type": "code",
   "execution_count": null,
   "metadata": {},
   "outputs": [],
   "source": [
    "exp_contents"
   ]
  },
  {
   "cell_type": "code",
   "execution_count": null,
   "metadata": {},
   "outputs": [],
   "source": [
    "(exp_contents * samples_contents).proj()"
   ]
  },
  {
   "cell_type": "code",
   "execution_count": null,
   "metadata": {},
   "outputs": [],
   "source": [
    "(exp_contents * samples_contents)"
   ]
  },
  {
   "cell_type": "code",
   "execution_count": null,
   "metadata": {},
   "outputs": [],
   "source": [
    "exp_contents.proj(datetime='TIMESTAMP(date_submitted,time_submitted)')"
   ]
  },
  {
   "cell_type": "code",
   "execution_count": null,
   "metadata": {},
   "outputs": [],
   "source": [
    "schema = dj.create_virtual_module(\"ahoag_lightsheet_demo\",\"ahoag_lightsheet_demo\")"
   ]
  },
  {
   "cell_type": "code",
   "execution_count": null,
   "metadata": {},
   "outputs": [],
   "source": [
    "schema.Sample()"
   ]
  },
  {
   "cell_type": "code",
   "execution_count": null,
   "metadata": {},
   "outputs": [],
   "source": [
    "var='abc'\n",
    "foo='bar'"
   ]
  },
  {
   "cell_type": "code",
   "execution_count": null,
   "metadata": {},
   "outputs": [],
   "source": [
    "\n",
    "schema.Sample().fetch?"
   ]
  },
  {
   "cell_type": "code",
   "execution_count": null,
   "metadata": {},
   "outputs": [],
   "source": [
    "ng = (f\"this is an {var} \"\n",
    "      f\"implicitly joined {foo} string\")\n",
    "ng"
   ]
  },
  {
   "cell_type": "code",
   "execution_count": null,
   "metadata": {},
   "outputs": [],
   "source": [
    "mystr = 'channel488_registration'\n",
    "mystr[0:6]"
   ]
  },
  {
   "cell_type": "code",
   "execution_count": null,
   "metadata": {},
   "outputs": [],
   "source": [
    "import os"
   ]
  },
  {
   "cell_type": "code",
   "execution_count": null,
   "metadata": {},
   "outputs": [],
   "source": [
    "mkdir \"test\n"
   ]
  },
  {
   "cell_type": "code",
   "execution_count": null,
   "metadata": {},
   "outputs": [],
   "source": [
    "sample_contents = schema.Sample() & 'sample_name =\"test-1\"'"
   ]
  },
  {
   "cell_type": "code",
   "execution_count": null,
   "metadata": {},
   "outputs": [],
   "source": [
    "sample_dict=sample_contents.fetch"
   ]
  },
  {
   "cell_type": "code",
   "execution_count": null,
   "metadata": {},
   "outputs": [],
   "source": [
    "Sample = schema.Sample()"
   ]
  },
  {
   "cell_type": "code",
   "execution_count": null,
   "metadata": {},
   "outputs": [],
   "source": [
    "contents = schema.Sample()"
   ]
  },
  {
   "cell_type": "code",
   "execution_count": null,
   "metadata": {},
   "outputs": [],
   "source": [
    "contents2=contents & 'sample_name=\"nothing\"'"
   ]
  },
  {
   "cell_type": "code",
   "execution_count": null,
   "metadata": {},
   "outputs": [],
   "source": [
    "contents2.heading.attributes.keys()\n"
   ]
  },
  {
   "cell_type": "code",
   "execution_count": null,
   "metadata": {},
   "outputs": [],
   "source": [
    "Sample.heading.attributes.keys()"
   ]
  },
  {
   "cell_type": "code",
   "execution_count": null,
   "metadata": {},
   "outputs": [],
   "source": [
    "sample_dict"
   ]
  },
  {
   "cell_type": "code",
   "execution_count": null,
   "metadata": {},
   "outputs": [],
   "source": [
    "l1=[0,0,1]\n",
    "any(l1)"
   ]
  },
  {
   "cell_type": "code",
   "execution_count": null,
   "metadata": {},
   "outputs": [],
   "source": [
    "[key for key in sample_dict.keys() if key[0:10]=='channel488']"
   ]
  },
  {
   "cell_type": "code",
   "execution_count": null,
   "metadata": {},
   "outputs": [],
   "source": [
    "schema = dj.create_virtual_module(\"ahoag_microscope_demo\",\"ahoag_microscope_demo\")"
   ]
  },
  {
   "cell_type": "code",
   "execution_count": null,
   "metadata": {},
   "outputs": [],
   "source": [
    "schema.Microscope()"
   ]
  },
  {
   "cell_type": "code",
   "execution_count": null,
   "metadata": {},
   "outputs": [],
   "source": [
    "schema.Experiment"
   ]
  },
  {
   "cell_type": "code",
   "execution_count": null,
   "metadata": {},
   "outputs": [],
   "source": [
    "user=schema.User()"
   ]
  },
  {
   "cell_type": "code",
   "execution_count": null,
   "metadata": {},
   "outputs": [],
   "source": [
    "user_contents = user & 'username=\"ahoag\"'\n",
    "user_contents"
   ]
  },
  {
   "cell_type": "code",
   "execution_count": null,
   "metadata": {},
   "outputs": [],
   "source": [
    "frame = pd.DataFrame(user_contents.fetch())\n",
    "frame.username"
   ]
  },
  {
   "cell_type": "code",
   "execution_count": null,
   "metadata": {},
   "outputs": [],
   "source": [
    "insert_dict =  {'username':'ahoag','experiment_name':'Test','sample_name':'t-1','exp_notes':'notes'}\n",
    "schema.Sample.IdiscoAbbreviatedClearing().insert1(insert_dict)"
   ]
  },
  {
   "cell_type": "code",
   "execution_count": null,
   "metadata": {},
   "outputs": [],
   "source": [
    "schema.Sample.IdiscoAbbreviatedClearing().insert1()"
   ]
  },
  {
   "cell_type": "code",
   "execution_count": null,
   "metadata": {},
   "outputs": [],
   "source": [
    "user_contents=schema.User()"
   ]
  },
  {
   "cell_type": "code",
   "execution_count": null,
   "metadata": {},
   "outputs": [],
   "source": [
    "username='ahoag'\n",
    "experiment_name='test3'"
   ]
  },
  {
   "cell_type": "code",
   "execution_count": null,
   "metadata": {},
   "outputs": [],
   "source": [
    "schema.Experiment()"
   ]
  },
  {
   "cell_type": "code",
   "execution_count": null,
   "metadata": {},
   "outputs": [],
   "source": [
    "schema.Experiment() & f'username=\"{username}\"' & f'experiment_name=\"{experiment_name}\"'"
   ]
  },
  {
   "cell_type": "code",
   "execution_count": null,
   "metadata": {},
   "outputs": [],
   "source": [
    "schema.Experiment().Sample() & f'username=\"{username}\"' & f'experiment_name=\"{experiment_name}\"'"
   ]
  },
  {
   "cell_type": "code",
   "execution_count": null,
   "metadata": {},
   "outputs": [],
   "source": [
    "schema.Experiment.Sample()"
   ]
  },
  {
   "cell_type": "code",
   "execution_count": null,
   "metadata": {},
   "outputs": [],
   "source": [
    "schema.Experiment()"
   ]
  },
  {
   "cell_type": "code",
   "execution_count": null,
   "metadata": {},
   "outputs": [],
   "source": [
    "# schema = dj.schema('ahoag_lightsheet_demo')\n",
    "schema = dj.create_virtual_module('ahoag_microscope_demo','ahoag_microscope_demo')"
   ]
  },
  {
   "cell_type": "code",
   "execution_count": null,
   "metadata": {},
   "outputs": [],
   "source": [
    "schema.Microscope().fetch('microscope_name')"
   ]
  },
  {
   "cell_type": "code",
   "execution_count": null,
   "metadata": {},
   "outputs": [],
   "source": [
    "schema.Channel().fetch(\"KEY\")"
   ]
  },
  {
   "cell_type": "code",
   "execution_count": null,
   "metadata": {},
   "outputs": [],
   "source": [
    "schema.Laser().fetch(\"KEY\")[0].keys()"
   ]
  },
  {
   "cell_type": "code",
   "execution_count": null,
   "metadata": {},
   "outputs": [],
   "source": [
    "schema.Laser()"
   ]
  },
  {
   "cell_type": "code",
   "execution_count": null,
   "metadata": {},
   "outputs": [],
   "source": [
    "insert_dict = {'laser_name':'Test laser','laser_model':'new model','laser_serial':'new serial'}\n",
    "primary_key_list = schema.Laser().primary_key\n",
    "primary_key_list"
   ]
  },
  {
   "cell_type": "code",
   "execution_count": null,
   "metadata": {},
   "outputs": [],
   "source": [
    "# primary_key_result_str = ''\n",
    "\n",
    "primary_key_result_str =','.join(f'{key} = {insert_dict[key]}' for key in primary_key_list)\n",
    "primary_key_result_str"
   ]
  },
  {
   "cell_type": "code",
   "execution_count": null,
   "metadata": {},
   "outputs": [],
   "source": [
    "insert_dict = {'microscope_name':'light sheet microscope','channel_name':'test'}\n",
    "primary_key_list = schema.Channel().primary_key\n",
    "primary_key_list"
   ]
  },
  {
   "cell_type": "code",
   "execution_count": null,
   "metadata": {},
   "outputs": [],
   "source": [
    "primary_key_result_str =', '.join(f'{key} = {insert_dict[key]}' for key in primary_key_list)\n",
    "primary_key_result_str"
   ]
  },
  {
   "cell_type": "code",
   "execution_count": null,
   "metadata": {},
   "outputs": [],
   "source": [
    "schema.Microscope()"
   ]
  },
  {
   "cell_type": "code",
   "execution_count": null,
   "metadata": {
    "scrolled": true
   },
   "outputs": [],
   "source": [
    "UdiscoClearing().drop()"
   ]
  },
  {
   "cell_type": "markdown",
   "metadata": {},
   "source": [
    "## 1) Define database tables"
   ]
  },
  {
   "cell_type": "code",
   "execution_count": null,
   "metadata": {},
   "outputs": [],
   "source": [
    "@schema\n",
    "class User(dj.Lookup):\n",
    "    definition = \"\"\"\n",
    "    # Users of the light sheet microscope\n",
    "    username : varchar(20)      # user in the lab\n",
    "    ---\n",
    "    email       : varchar(50)\n",
    "    \"\"\"\n",
    "    \n",
    "@schema\n",
    "class Experiment(dj.Manual):\n",
    "    definition = \"\"\" # Experiments performed using the light sheet microscope\n",
    "    experiment_id           :   smallint auto_increment    # allowed here are sql datatypes.\n",
    "    ----\n",
    "    -> User \n",
    "    title                   :   varchar(100)\n",
    "    description             :   varchar(250)\n",
    "    notes = \"\"              :   varchar(1000)\n",
    "    species                 :   varchar(50)\n",
    "    clearing_protocol       :   enum(\"iDISCO+_immuno\",\"iDISCO abbreviated clearing\",\"iDISCO abbreviated clearing (rat)\",\"uDISCO\",\"iDISCO_EdU\")\n",
    "    clearing_progress       :   enum(\"incomplete\",\"complete\")\n",
    "    fluorophores            :   varchar(100)\n",
    "    antibody1               :   varchar(100)\n",
    "    antibody2               :   varchar(100)\n",
    "    image_resolution        :   enum(\"1.3x\",\"4x\")\n",
    "    cell_detection          :   tinyint\n",
    "    registration            :   tinyint\n",
    "    probe_detection         :   tinyint\n",
    "    injection_detection     :   tinyint\n",
    "    \"\"\"  \n",
    "    \n",
    "@schema #  \n",
    "class Microscope(dj.Manual): # dj.Manual is one of the 4 datajoint table types - Manual corresponds to externally inputted data\n",
    "    definition = \"\"\" # Periodic calibration data of the light sheet microscope\n",
    "    entrynum                :   smallint auto_increment    # allowed here are sql datatypes.\n",
    "    ----\n",
    "    -> User              \n",
    "    date                    :   varchar(10)    \n",
    "    old_objective           :   varchar(50)\n",
    "    new_objective           :   varchar(50)\n",
    "    swapper                 :   varchar(250)\n",
    "    calibration =           :   varchar(1000) \n",
    "    notes =                 :   varchar(1000)\n",
    "    \"\"\""
   ]
  },
  {
   "cell_type": "code",
   "execution_count": null,
   "metadata": {},
   "outputs": [],
   "source": [
    "User()"
   ]
  },
  {
   "cell_type": "code",
   "execution_count": null,
   "metadata": {},
   "outputs": [],
   "source": [
    "Experiment()"
   ]
  },
  {
   "cell_type": "code",
   "execution_count": null,
   "metadata": {},
   "outputs": [],
   "source": [
    "exp_contents = Experiment() & 'experiment_id=1'"
   ]
  },
  {
   "cell_type": "code",
   "execution_count": null,
   "metadata": {},
   "outputs": [],
   "source": [
    "exp_contents.fetch1('cell_detection','registration','probe_detection','injection_detection')"
   ]
  },
  {
   "cell_type": "code",
   "execution_count": null,
   "metadata": {},
   "outputs": [],
   "source": [
    "Microscope()"
   ]
  },
  {
   "cell_type": "markdown",
   "metadata": {},
   "source": [
    "## 2) Download content for the database from existing google sheets and the Sheets API"
   ]
  },
  {
   "cell_type": "code",
   "execution_count": null,
   "metadata": {},
   "outputs": [],
   "source": [
    "def retrieve_google_sheet(spreadsheet_id,range_query):\n",
    "    \"\"\"\n",
    "    ---PURPOSE---\n",
    "    Get data from the range of cells in the google sheet specified.\n",
    "    ---INPUT---\n",
    "    spreadsheet_id    The long string in the URL of a google sheet\n",
    "                      that identifies the sheet\n",
    "    range_query       The Sheets API range query, e.g. 'Sheet1!A3:B3'\n",
    "    \"\"\"\n",
    "    creds = None\n",
    "    # The file token.pickle stores the user's access and refresh tokens, and is\n",
    "    # created automatically when the authorization flow completes for the first\n",
    "    # time.\n",
    "    if os.path.exists('token.pickle'):\n",
    "        with open('token.pickle', 'rb') as token:\n",
    "            creds = pickle.load(token)\n",
    "    # If there are no (valid) credentials available, let the user log in.\n",
    "    if not creds or not creds.valid:\n",
    "        if creds and creds.expired and creds.refresh_token:\n",
    "            creds.refresh(Request())\n",
    "        else:\n",
    "            flow = InstalledAppFlow.from_client_secrets_file(\n",
    "                secrets_file, SCOPES)\n",
    "            creds = flow.run_local_server(port=0)\n",
    "        # Save the credentials for the next run\n",
    "        with open('token.pickle', 'wb') as token:\n",
    "            pickle.dump(creds, token)\n",
    "\n",
    "    service = build('sheets', 'v4', credentials=creds)\n",
    "\n",
    "    # Call the Sheets API\n",
    "    sheet = service.spreadsheets()\n",
    "    result = sheet.values().get(spreadsheetId=spreadsheet_id,\n",
    "                                range=range_query).execute()\n",
    "    values = result.get('values', [])\n",
    "\n",
    "    return values"
   ]
  },
  {
   "cell_type": "markdown",
   "metadata": {},
   "source": [
    "## Fill User and Experiment tables"
   ]
  },
  {
   "cell_type": "code",
   "execution_count": null,
   "metadata": {},
   "outputs": [],
   "source": [
    "# Grab the form response data so we can fill out User() and Experiment() table\n",
    "# Set the scope to be read only since we are not adding anything to the google sheet, just reading it\n",
    "SCOPES = ['https://www.googleapis.com/auth/spreadsheets.readonly']\n",
    "# Set the spreadsheet ID (long string in the url, e.g.:\n",
    "exp_SPREADSHEET_ID = '1iy4H8kHocnu9sS9P-NZA8qcp6_R4gj0ogwksl3I-suU' # The copy I made of the clearing/form responses spreadsheet\n",
    "exp_range_query='Form Responses!B3:P36'\n",
    "\n",
    "# https://docs.google.com/spreadsheets/d/1YbP64yIApUaxjpscBXP8r82VmrkrKYakbjRFqF9XHB0/edit#gid=0) \n",
    "# As well as the range of cells you want to grab. \n",
    "# We are in readonly (see SCOPES) so we cannot destroy it by accident.\n",
    "secrets_file = 'credentials.json' # Has to be called \"credentials.json\"  \n",
    "assert os.path.exists(secrets_file)"
   ]
  },
  {
   "cell_type": "code",
   "execution_count": null,
   "metadata": {},
   "outputs": [],
   "source": [
    "def fill_user_exp_tables():\n",
    "    \"\"\" Fills the User() and Experiment() tables \n",
    "    using the form response data from the tab in the clearing google spreadsheet\n",
    "    \"\"\"\n",
    "\n",
    "    exp_column_names = ['username','species','clearing_protocol','clearing_progress','title','description','fluorophores',\\\n",
    "                    'antibody1','antibody2','image_resolution',\\\n",
    "                    'cell_detection','registration','probe_detection','injection_detection','notes'] # order doesn't matter since we will be using these in a dictionary\n",
    "    if len(User.fetch()) != 0 or len(Experiment.fetch()) != 0:\n",
    "        sys.exit('User and/or Experiment table not empty! Drop them first before refilling')\n",
    "    form_response_data = retrieve_google_sheet(spreadsheet_id=exp_SPREADSHEET_ID,range_query=exp_range_query)\n",
    "    # Remove \"Number of Samples\" column since it is empty and we don't want it\n",
    "    form_response_data=[x[0:3]+x[4:] for x in form_response_data]\n",
    "    for form_response in form_response_data:\n",
    "        # ignore blank lines\n",
    "        if not form_response:\n",
    "            continue\n",
    "        assert len(form_response) == 14\n",
    "        species = form_response[0].lower()\n",
    "        clearing_protocol = form_response[1]\n",
    "        if 'immunostaining' in clearing_protocol:\n",
    "            clearing_protocol = 'iDISCO+_immuno'\n",
    "        elif 'abbreviated' in clearing_protocol:\n",
    "            if species == 'rat':\n",
    "                clearing_protocol = 'iDISCO abbreviated clearing (rat)'\n",
    "            else:\n",
    "                clearing_protocol = 'iDISCO abbreviated clearing'\n",
    "        elif 'EdU' in clearing_protocol:\n",
    "            clearing_protocol = 'iDISCO_EdU'\n",
    "        else: # don't change it\n",
    "            pass\n",
    "        clearing_progress = 'complete' # All of the ones in this sheet have already been completed\n",
    "        title=form_response[2]\n",
    "        description = form_response[3]\n",
    "        fluorophores = form_response[4]\n",
    "        primary_antibody = form_response[5]\n",
    "        secondary_antibody = form_response[6]\n",
    "        imaging_str = form_response[7]\n",
    "        image_resolution = \"1.3x\" if \"1.3x\" in imaging_str else \"4x\"\n",
    "        processing_str = form_response[8]\n",
    "        processing_list = [x.lower() for x in processing_str.split(',')]\n",
    "\n",
    "        cell_detection = 0\n",
    "        registration = 0\n",
    "        probe_detection = 0\n",
    "        injection_detection = 0\n",
    "        for item in processing_list:\n",
    "            if 'cell detection' in item:\n",
    "                cell_detection = 1\n",
    "            if 'registration' in item:\n",
    "                registration=1\n",
    "            if 'probe' in item and 'detection' in item:\n",
    "                probe_detection = 1\n",
    "            if 'injection' in item and 'detection' in item:\n",
    "                injection_detection =1\n",
    "        notes = form_response[11]\n",
    "        email = form_response[13]\n",
    "        username = email.split('@')[0].lower() if 'princeton' in email else 'zmd' # zahra is the only one who used her gmail\n",
    "        labname = labname_dict[username]\n",
    "        user_insert_dict = {'username':username,'email':email}\n",
    "        \n",
    "        exp_insert_row = [username,species,clearing_protocol,clearing_progress,title,description,fluorophores,\\\n",
    "                      primary_antibody,secondary_antibody,image_resolution,cell_detection,registration,\\\n",
    "                      probe_detection,injection_detection,notes]\n",
    "        exp_insert_dict = {exp_column_names[ii]:exp_insert_row[ii] for ii in range(len(exp_column_names))}\n",
    "        \n",
    "        User().insert1(user_insert_dict,skip_duplicates=True)\n",
    "        Experiment().insert1(exp_insert_dict)"
   ]
  },
  {
   "cell_type": "code",
   "execution_count": null,
   "metadata": {},
   "outputs": [],
   "source": [
    "exp_response_data = retrieve_google_sheet(spreadsheet_id=exp_SPREADSHEET_ID,range_query=exp_range_query)"
   ]
  },
  {
   "cell_type": "code",
   "execution_count": null,
   "metadata": {},
   "outputs": [],
   "source": [
    "fill_user_exp_tables()"
   ]
  },
  {
   "cell_type": "code",
   "execution_count": null,
   "metadata": {},
   "outputs": [],
   "source": [
    "def pickle_exp_data():\n",
    "    today = datetime.now().strftime('%Y-%m-%d')\n",
    "    exp_response_data = retrieve_google_sheet(spreadsheet_id=exp_SPREADSHEET_ID,range_query=exp_range_query)\n",
    "    experiment_data_file = home_dir + f'/Git/lightserv_dj_demo/lightserv/data/experiment_data_{today}.pkl'\n",
    "    with open(experiment_data_file, 'wb') as f:\n",
    "        pickle.dump(exp_response_data,f)\n",
    "        print(f\"Wrote {experiment_data_file}\")"
   ]
  },
  {
   "cell_type": "code",
   "execution_count": null,
   "metadata": {},
   "outputs": [],
   "source": [
    "def pickle_exp_test_data():\n",
    "    exp_response_data = retrieve_google_sheet(spreadsheet_id=exp_SPREADSHEET_ID,range_query=exp_range_query)\n",
    "    experiment_test_data_file = home_dir + f'/Git/lightserv_dj_demo/lightserv/data/experiment_test_data.pkl'\n",
    "    with open(experiment_test_data_file, 'wb') as f:\n",
    "        pickle.dump(exp_response_data,f)\n",
    "        print(f\"Wrote {experiment_test_data_file}\")"
   ]
  },
  {
   "cell_type": "code",
   "execution_count": null,
   "metadata": {},
   "outputs": [],
   "source": [
    "experiment_test_data_file = home_dir + f'/Git/lightserv_dj_demo/lightserv/data/experiment_test_data.pkl'\n",
    "with open(experiment_test_data_file,'rb') as f:\n",
    "    data = pickle.load(f)"
   ]
  },
  {
   "cell_type": "code",
   "execution_count": null,
   "metadata": {},
   "outputs": [],
   "source": [
    "labname_dict = {'tomohito':'Falkner','jverpeut':'Wang','soline':'Falkner','marlies.oostland':'Wang','zmd':'Wang'}"
   ]
  },
  {
   "cell_type": "code",
   "execution_count": null,
   "metadata": {},
   "outputs": [],
   "source": [
    "len(labname_dict)"
   ]
  },
  {
   "cell_type": "code",
   "execution_count": null,
   "metadata": {},
   "outputs": [],
   "source": [
    "data"
   ]
  },
  {
   "cell_type": "code",
   "execution_count": null,
   "metadata": {},
   "outputs": [],
   "source": [
    "udisco_test_data_file = home_dir + f'/Git/lightserv_dj_demo/lightserv/data/udisco_test_data.pkl'\n",
    "with open(udisco_test_data_file,'rb') as f:\n",
    "    data = pickle.load(f)"
   ]
  },
  {
   "cell_type": "code",
   "execution_count": null,
   "metadata": {},
   "outputs": [],
   "source": [
    "df = pd.DataFrame(data)\n",
    "# df = df.set_index('experiment_id')\n",
    "df.to_dict('r')"
   ]
  },
  {
   "cell_type": "code",
   "execution_count": null,
   "metadata": {},
   "outputs": [],
   "source": [
    "fill_user_exp_tables()"
   ]
  },
  {
   "cell_type": "code",
   "execution_count": null,
   "metadata": {},
   "outputs": [],
   "source": [
    "User()"
   ]
  },
  {
   "cell_type": "code",
   "execution_count": null,
   "metadata": {
    "scrolled": true
   },
   "outputs": [],
   "source": [
    "Experiment()"
   ]
  },
  {
   "cell_type": "markdown",
   "metadata": {},
   "source": [
    "## Fill Microscope Table"
   ]
  },
  {
   "cell_type": "code",
   "execution_count": null,
   "metadata": {},
   "outputs": [],
   "source": [
    "# Only does this if the table does not already exist.\n",
    "def fill_microscope_table():\n",
    "    microscope_spreadsheet_id = '1Velwahzvy0hxHDlcjlQPbLjShCQMmCb2DWuz-O_65PI' # The live spreadsheet\n",
    "    microscope_range_query = 'Sheet1' # Syntax is Sheet_name!cell_start:cell_end, e.g. \n",
    "    if len(Microscope.fetch()) != 0:\n",
    "        sys.exit('Microscope table not empty. Drop it before attempting to refill')\n",
    "    microscope_data = retrieve_google_sheet(spreadsheet_id=microscope_spreadsheet_id,range_query=microscope_range_query)\n",
    "    microscope_column_names = ['username','date','old_objective','new_objective','swapper','calibration','notes'] # in the database\n",
    "    for row in microscope_data[1:]: # skip the first row because it is the column names\n",
    "        if len(row) < 2:\n",
    "            continue\n",
    "        try:\n",
    "            date_str = datetime.strptime(row[0], \"%B %d, %Y\").strftime(\"%Y-%m-%d\")\n",
    "        except:\n",
    "            date_str = 'unknown'\n",
    "        for ii in range(len(microscope_column_names)-len(row)):\n",
    "            row.append('')\n",
    "        microscope_insert_row = ['zmd',date_str] + row[1:]    \n",
    "        microscope_insert_dict = {microscope_column_names[ii]:microscope_insert_row[ii]\\\n",
    "                                  for ii in range(len(microscope_column_names))}\n",
    "        Microscope().insert1(microscope_insert_dict,skip_duplicates = True)"
   ]
  },
  {
   "cell_type": "code",
   "execution_count": null,
   "metadata": {},
   "outputs": [],
   "source": [
    "fill_microscope_table()"
   ]
  },
  {
   "cell_type": "code",
   "execution_count": null,
   "metadata": {},
   "outputs": [],
   "source": [
    "today = datetime.now().strftime('%Y-%m-%d')\n",
    "microscope_data_file = home_dir + f'/Git/lightserv_dj_demo/lightserv/data/microscope_data_{today}.pkl'\n",
    "with open(microscope_data_file, 'wb') as f:\n",
    "    pickle.dump(microscope_data_file,f)\n",
    "    print(f\"wrote {microscope_data_file}\")"
   ]
  },
  {
   "cell_type": "code",
   "execution_count": null,
   "metadata": {},
   "outputs": [],
   "source": [
    "Microscope()"
   ]
  },
  {
   "cell_type": "markdown",
   "metadata": {},
   "source": [
    "## Add clearing tables"
   ]
  },
  {
   "cell_type": "markdown",
   "metadata": {},
   "source": [
    "### iDISCO+ clearing table"
   ]
  },
  {
   "cell_type": "code",
   "execution_count": null,
   "metadata": {},
   "outputs": [],
   "source": [
    "@schema\n",
    "class IdiscoPlusClearing(dj.Manual): # dj.Manual is one of the 4 datajoint table types - Manual corresponds to externally inputted data\n",
    "        definition = \"\"\" # Periodic calibration data of the light sheet microscope\n",
    "        -> Experiment              # experiment_id, the primary key from the Experiment() table\n",
    "        ----\n",
    "        -> User                    # username, the researcher's netid from the User() table\n",
    "        clearer                                                  :   varchar(20)   # the netid of the person who did the clearing\n",
    "        exp_notes = \"\"                                           :   varchar(500)  # Note anything unusual that happened during experiment that could affect clearing\n",
    "        perfusion_date = NULL                                    :   date \n",
    "        time_dehydr_pbs_wash1 = NULL                             :   datetime\n",
    "        dehydr_pbs_wash1_notes = \"\"                              :   varchar(250)\n",
    "        time_dehydr_pbs_wash2 = NULL                             :   datetime\n",
    "        dehydr_pbs_wash2_notes = \"\"                              :   varchar(250)\n",
    "        time_dehydr_pbs_wash3 = NULL                             :   datetime\n",
    "        dehydr_pbs_wash3_notes = \"\"                              :   varchar(250)\n",
    "        time_dehydr_ch3oh_20percent_wash1 = NULL                 :   datetime\n",
    "        dehydr_ch3oh_20percent_wash1_notes = \"\"                  :   varchar(250)\n",
    "        time_dehydr_ch3oh_40percent_wash1 = NULL                 :   datetime\n",
    "        dehydr_ch3oh_40percent_wash1_notes = \"\"                  :   varchar(250)\n",
    "        time_dehydr_ch3oh_60percent_wash1 = NULL                 :   datetime\n",
    "        dehydr_ch3oh_60percent_wash1_notes = \"\"                  :   varchar(250)\n",
    "        time_dehydr_ch3oh_80percent_wash1 = NULL                 :   datetime\n",
    "        dehydr_ch3oh_80percent_wash1_notes = \"\"                  :   varchar(250)\n",
    "        time_dehydr_ch3oh_100percent_wash1 = NULL                :   datetime\n",
    "        dehydr_ch3oh_100percent_wash1_notes = \"\"                 :   varchar(250)\n",
    "        time_dehydr_ch3oh_100percent_wash2 = NULL                :   datetime\n",
    "        dehydr_ch3oh_100percent_wash2_notes = \"\"                 :   varchar(250)\n",
    "        time_dehydr_h202_wash1 = NULL                            :   datetime\n",
    "        dehydr_h202_wash1_notes = \"\"                             :   varchar(250)\n",
    "        time_rehydr_ch3oh_100percent_wash1 = NULL                :   datetime\n",
    "        rehydr_ch3oh_100percent_wash1_notes = \"\"                 :   varchar(250)\n",
    "        time_rehydr_ch3oh_80percent_wash1 = NULL                 :   datetime\n",
    "        rehydr_ch3oh_80percent_wash1_notes = \"\"                  :   varchar(250)\n",
    "        time_rehydr_ch3oh_60percent_wash1 = NULL                 :   datetime\n",
    "        rehydr_ch3oh_60percent_wash1_notes = \"\"                  :   varchar(250)\n",
    "        time_rehydr_ch3oh_40percent_wash1 = NULL                 :   datetime\n",
    "        rehydr_ch3oh_40percent_wash1_notes = \"\"                  :   varchar(250)\n",
    "        time_rehydr_ch3oh_20percent_wash1 = NULL                 :   datetime\n",
    "        rehydr_ch3oh_20percent_wash1_notes = \"\"                  :   varchar(250)\n",
    "        time_rehydr_pbs_wash1 = NULL                             :   datetime\n",
    "        rehydr_pbs_wash1_notes = \"\"                              :   varchar(250)\n",
    "        time_rehydr_sodium_azide_wash1 = NULL                    :   datetime\n",
    "        rehydr_sodium_azide_wash1_notes = \"\"                     :   varchar(250)\n",
    "        time_rehydr_sodium_azide_wash2 = NULL                    :   datetime\n",
    "        rehydr_sodium_azide_wash2_notes = \"\"                     :   varchar(250)\n",
    "        time_rehydr_glycine_wash1 = NULL                         :   datetime\n",
    "        rehydr_glycine_wash1_notes = \"\"                          :   varchar(250)\n",
    "        time_blocking_start_roomtemp = NULL                      :   datetime\n",
    "        blocking_start_roomtemp_notes = \"\"                       :   varchar(250)\n",
    "        time_blocking_donkey_serum = NULL                        :   datetime\n",
    "        blocking_donkey_serum_notes = \"\"                         :   varchar(250)\n",
    "        time_antibody1_start_roomtemp = NULL                     :   datetime\n",
    "        antibody1_start_roomtemp_notes = \"\"                      :   varchar(250)\n",
    "        time_antibody1_ptwh_wash1 = NULL                         :   datetime\n",
    "        antibody1_ptwh_wash1_notes = \"\"                          :   varchar(250)\n",
    "        time_antibody1_ptwh_wash2 = NULL                         :   datetime\n",
    "        antibody1_ptwh_wash2_notes = \"\"                          :   varchar(250)\n",
    "        time_antibody1_added = NULL                              :   datetime\n",
    "        antibody1_added_notes = \"\"                               :   varchar(250)\n",
    "        time_wash1_start_roomtemp = NULL                         :   datetime\n",
    "        wash1_start_roomtemp_notes = \"\"                          :   varchar(250)\n",
    "        time_wash1_ptwh_wash1 = NULL                             :   datetime\n",
    "        wash1_ptwh_wash1_notes = \"\"                              :   varchar(250)\n",
    "        time_wash1_ptwh_wash2 = NULL                             :   datetime\n",
    "        wash1_ptwh_wash2_notes = \"\"                              :   varchar(250)\n",
    "        time_wash1_ptwh_wash3 = NULL                             :   datetime\n",
    "        wash1_ptwh_wash3_notes = \"\"                              :   varchar(250)\n",
    "        time_wash1_ptwh_wash4 = NULL                             :   datetime\n",
    "        wash1_ptwh_wash4_notes = \"\"                              :   varchar(250)\n",
    "        time_wash1_ptwh_wash5 = NULL                             :   datetime\n",
    "        wash1_ptwh_wash5_notes = \"\"                              :   varchar(250)\n",
    "        time_antibody2_added = NULL                              :   datetime\n",
    "        antibody2_added_notes = \"\"                               :   varchar(250)\n",
    "        time_wash2_start_roomtemp = NULL                         :   datetime\n",
    "        wash2_start_roomtemp_notes = \"\"                          :   varchar(250)\n",
    "        time_wash2_ptwh_wash1 = NULL                             :   datetime\n",
    "        wash2_ptwh_wash1_notes = \"\"                              :   varchar(250)\n",
    "        time_wash2_ptwh_wash2 = NULL                             :   datetime\n",
    "        wash2_ptwh_wash2_notes = \"\"                              :   varchar(250)\n",
    "        time_wash2_ptwh_wash3 = NULL                             :   datetime\n",
    "        wash2_ptwh_wash3_notes = \"\"                              :   varchar(250)\n",
    "        time_wash2_ptwh_wash4 = NULL                             :   datetime\n",
    "        wash2_ptwh_wash3_notes = \"\"                              :   varchar(250)\n",
    "        time_wash2_ptwh_wash5 = NULL                             :   datetime\n",
    "        wash2_ptwh_wash5_notes = \"\"                              :   varchar(250)\n",
    "        time_clearing_ch3oh_20percent_wash1 = NULL               :   datetime\n",
    "        clearing_ch3oh_20percent_wash1_notes = \"\"                :   varchar(250)\n",
    "        time_clearing_ch3oh_40percent_wash1 = NULL               :   datetime\n",
    "        clearing_ch3oh_40percent_wash1_notes = \"\"                :   varchar(250)\n",
    "        time_clearing_ch3oh_60percent_wash1 = NULL               :   datetime\n",
    "        clearing_ch3oh_60percent_wash1_notes = \"\"                :   varchar(250)\n",
    "        time_clearing_ch3oh_80percent_wash1 = NULL               :   datetime\n",
    "        clearing_ch3oh_80percent_wash1_notes = \"\"                :   varchar(250)\n",
    "        time_clearing_ch3oh_100percent_wash1 = NULL              :   datetime\n",
    "        clearing_ch3oh_100percent_wash1_notes = \"\"               :   varchar(250)\n",
    "        time_clearing_ch3oh_100percent_wash2 = NULL              :   datetime\n",
    "        clearing_ch3oh_100percent_wash2_notes = \"\"               :   varchar(250)\n",
    "        time_clearing_dcm_66percent_ch3oh_33percent = NULL       :   datetime\n",
    "        clearing_dcm_66percent_ch3oh_33percent_notes = \"\"        :   varchar(250)\n",
    "        time_clearing_dcm_wash1 = NULL                           :   datetime\n",
    "        clearing_dcm_wash1_notes = \"\"                            :   varchar(250)\n",
    "        time_clearing_dcm_wash2 = NULL                           :   datetime\n",
    "        clearing_dcm_wash2_notes = \"\"                            :   varchar(250)\n",
    "        time_clearing_dbe = NULL                                 :   datetime\n",
    "        clearing_dbe_notes = \"\"                                  :   varchar(250)\n",
    "        time_clearing_new_tubes = NULL                           :   datetime\n",
    "        clearing_new_tubes_notes = \"\"                            :   varchar(250)\n",
    "        clearing_notes = \"\"                                      :   varchar(500)\n",
    "        \"\"\""
   ]
  },
  {
   "cell_type": "code",
   "execution_count": null,
   "metadata": {},
   "outputs": [],
   "source": [
    "@schema\n",
    "class IdiscoAbbreviatedClearing(dj.Manual): # dj.Manual is one of the 4 datajoint table types - Manual corresponds to externally inputted data\n",
    "        definition = \"\"\" # Periodic calibration data of the light sheet microscope\n",
    "        -> Experiment              # experiment_id, the primary key from the Experiment() table\n",
    "        ----\n",
    "        -> User                    # username, the researcher's netid from the User() table\n",
    "        clearer                                                  :   varchar(20)   # the netid of the person who did the clearing\n",
    "        exp_notes = \"\"                                           :   varchar(500)  # Note anything unusual that happened during experiment that could affect clearing\n",
    "        perfusion_date = NULL                                    :   date \n",
    "        time_pbs_wash1 = NULL                                    :   datetime\n",
    "        pbs_wash1_notes = \"\"                                     :   varchar(250)\n",
    "        time_pbs_wash2 = NULL                                    :   datetime\n",
    "        pbs_wash2_notes = \"\"                                     :   varchar(250)\n",
    "        time_pbs_wash3 = NULL                                    :   datetime\n",
    "        pbs_wash3_notes = \"\"                                     :   varchar(250)\n",
    "        time_dehydr_ch3oh_20percent_wash1 = NULL                 :   datetime\n",
    "        dehydr_ch3oh_20percent_wash1_notes = \"\"                  :   varchar(250)\n",
    "        time_dehydr_ch3oh_40percent_wash1 = NULL                 :   datetime\n",
    "        dehydr_ch3oh_40percent_wash1_notes = \"\"                  :   varchar(250)\n",
    "        time_dehydr_ch3oh_60percent_wash1 = NULL                 :   datetime\n",
    "        dehydr_ch3oh_60percent_wash1_notes = \"\"                  :   varchar(250)\n",
    "        time_dehydr_ch3oh_80percent_wash1 = NULL                 :   datetime\n",
    "        dehydr_ch3oh_80percent_wash1_notes = \"\"                  :   varchar(250)\n",
    "        time_dehydr_ch3oh_100percent_wash1 = NULL                :   datetime\n",
    "        dehydr_ch3oh_100percent_wash1_notes = \"\"                 :   varchar(250)\n",
    "        time_dehydr_ch3oh_100percent_wash2 = NULL                :   datetime\n",
    "        dehydr_ch3oh_100percent_wash2_notes = \"\"                 :   varchar(250)\n",
    "        time_dehydr_dcm_66percent_ch3oh_33percent = NULL         :   datetime\n",
    "        dehydr_dcm_66percent_ch3oh_33percent_notes = \"\"          :   varchar(250)\n",
    "        time_dehydr_dcm_wash1 = NULL                             :   datetime\n",
    "        dehydr_dcm_wash1_notes = \"\"                              :   varchar(250)\n",
    "        time_dehydr_dcm_wash2 = NULL                             :   datetime\n",
    "        dehydr_dcm_wash2_notes = \"\"                              :   varchar(250)\n",
    "        time_dehydr_dbe_wash1 = NULL                             :   datetime\n",
    "        dehydr_dbe_wash1_notes = \"\"                              :   varchar(250)\n",
    "        time_dehydr_dbe_wash2 = NULL                             :   datetime\n",
    "        dehydr_dbe_wash2_notes = \"\"                              :   varchar(250)\n",
    "        clearing_notes = \"\"                                      :   varchar(500)\n",
    "        \"\"\""
   ]
  },
  {
   "cell_type": "code",
   "execution_count": null,
   "metadata": {},
   "outputs": [],
   "source": [
    "@schema\n",
    "class IdiscoAbbreviatedRatClearing(dj.Manual): # dj.Manual is one of the 4 datajoint table types - Manual corresponds to externally inputted data\n",
    "        definition = \"\"\" # Abbreviated Rat clearing table\n",
    "        -> Experiment              # experiment_id, the primary key from the Experiment() table\n",
    "        ----\n",
    "        -> User                    # username, the researcher's netid from the User() table\n",
    "        clearer                                                  :   varchar(20)   # the netid of the person who did the clearing\n",
    "        exp_notes = \"\"                                           :   varchar(500)  # Note anything unusual that happened during experiment that could affect clearing\n",
    "        perfusion_date = NULL                                    :   date \n",
    "        time_pbs_wash1 = NULL                                    :   datetime\n",
    "        pbs_wash1_notes = \"\"                                     :   varchar(250)\n",
    "        time_pbs_wash2 = NULL                                    :   datetime\n",
    "        pbs_wash2_notes = \"\"                                     :   varchar(250)\n",
    "        time_pbs_wash3 = NULL                                    :   datetime\n",
    "        pbs_wash3_notes = \"\"                                     :   varchar(250)\n",
    "        time_dehydr_ch3oh_20percent_wash1 = NULL                 :   datetime\n",
    "        dehydr_ch3oh_20percent_wash1_notes = \"\"                  :   varchar(250)\n",
    "        time_dehydr_ch3oh_40percent_wash1 = NULL                 :   datetime\n",
    "        dehydr_ch3oh_40percent_wash1_notes = \"\"                  :   varchar(250)\n",
    "        time_dehydr_ch3oh_60percent_wash1 = NULL                 :   datetime\n",
    "        dehydr_ch3oh_60percent_wash1_notes = \"\"                  :   varchar(250)\n",
    "        time_dehydr_ch3oh_80percent_wash1 = NULL                 :   datetime\n",
    "        dehydr_ch3oh_80percent_wash1_notes = \"\"                  :   varchar(250)\n",
    "        time_dehydr_ch3oh_100percent_wash1 = NULL                :   datetime\n",
    "        dehydr_ch3oh_100percent_wash1_notes = \"\"                 :   varchar(250)\n",
    "        time_dehydr_ch3oh_100percent_wash2 = NULL                :   datetime\n",
    "        dehydr_ch3oh_100percent_wash2_notes = \"\"                 :   varchar(250)\n",
    "        time_dehydr_h202_wash1 = NULL                            :   datetime\n",
    "        dehydr_h202_wash1_notes = \"\"                             :   varchar(250)\n",
    "        time_dehydr_ch3oh_100percent_wash3 = NULL                :   datetime\n",
    "        dehydr_ch3oh_100percent_wash3_notes = \"\"                 :   varchar(250)\n",
    "        time_dehydr_ch3oh_100percent_wash4 = NULL                :   datetime\n",
    "        dehydr_ch3oh_100percent_wash4_notes = \"\"                 :   varchar(250)\n",
    "        time_dehydr_ch3oh_100percent_wash5 = NULL                :   datetime\n",
    "        dehydr_ch3oh_100percent_wash5_notes = \"\"                 :   varchar(250)\n",
    "        time_dehydr_dcm_66percent_ch3oh_33percent = NULL         :   datetime\n",
    "        dehydr_dcm_66percent_ch3oh_33percent_notes = \"\"          :   varchar(250)\n",
    "        time_dehydr_dcm_wash1 = NULL                             :   datetime\n",
    "        dehydr_dcm_wash1_notes = \"\"                              :   varchar(250)\n",
    "        time_dehydr_dcm_wash2 = NULL                             :   datetime\n",
    "        dehydr_dcm_wash2_notes = \"\"                              :   varchar(250)\n",
    "        time_dehydr_dbe_wash1 = NULL                             :   datetime\n",
    "        dehydr_dbe_wash1_notes = \"\"                              :   varchar(250)\n",
    "        time_dehydr_dbe_wash2 = NULL                             :   datetime\n",
    "        dehydr_dbe_wash2_notes = \"\"                              :   varchar(250)\n",
    "        clearing_notes = \"\"                                      : varchar(500)\n",
    "        \"\"\""
   ]
  },
  {
   "cell_type": "code",
   "execution_count": null,
   "metadata": {},
   "outputs": [],
   "source": [
    "@schema\n",
    "class UdiscoClearing(dj.Manual): # dj.Manual is one of the 4 datajoint table types - Manual corresponds to externally inputted data\n",
    "    definition = \"\"\" # uDISCO clearing table\n",
    "    -> Experiment              # experiment_id, the primary key from the Experiment() table\n",
    "    ----\n",
    "    -> User                    # username, the researcher's netid from the User() table\n",
    "    clearer                                                  :   varchar(20)   # the netid of the person who did the clearing\n",
    "    exp_notes = \"\"                                           :   varchar(500)  # Note anything unusual that happened during experiment that could affect clearing\n",
    "    perfusion_date = NULL                                    :   date \n",
    "    time_dehydr_pbs_wash1 = NULL                             :   datetime\n",
    "    dehydr_pbs_wash1_notes = \"\"                              :   varchar(250)\n",
    "    time_dehydr_butanol_30percent = NULL                     :   datetime\n",
    "    dehydr_butanol_30percent_notes = \"\"                      :   varchar(250)\n",
    "    time_dehydr_butanol_50percent = NULL                     :   datetime\n",
    "    dehydr_butanol_50percent_notes = \"\"                      :   varchar(250)\n",
    "    time_dehydr_butanol_70percent = NULL                     :   datetime\n",
    "    dehydr_butanol_70percent_notes = \"\"                      :   varchar(250)\n",
    "    time_dehydr_butanol_80percent = NULL                     :   datetime\n",
    "    dehydr_butanol_80percent_notes = \"\"                      :   varchar(250)\n",
    "    time_dehydr_butanol_90percent = NULL                     :   datetime\n",
    "    dehydr_butanol_90percent_notes = \"\"                      :   varchar(250)\n",
    "    time_dehydr_butanol_96percent = NULL                     :   datetime\n",
    "    dehydr_butanol_96percent_notes = \"\"                      :   varchar(250)\n",
    "    time_dehydr_butanol_100percent = NULL                    :   datetime\n",
    "    dehydr_butanol_100percent_notes = \"\"                     :   varchar(250)\n",
    "    time_clearing_dcm_wash1 = NULL                           :   datetime\n",
    "    clearing_dcm_wash1_notes = \"\"                            :   varchar(250)\n",
    "    time_clearing_babb_wash1 = NULL                          :   datetime\n",
    "    clearing_babb_wash1_notes = \"\"                           :   varchar(250)\n",
    "    clearing_notes = \"\"                                      : varchar(500)\n",
    "    \"\"\""
   ]
  },
  {
   "cell_type": "markdown",
   "metadata": {},
   "source": [
    "## Pickle data currently in the database"
   ]
  },
  {
   "cell_type": "code",
   "execution_count": null,
   "metadata": {},
   "outputs": [],
   "source": [
    "def pickle_udisco_data():\n",
    "    udisco_data = UdiscoClearing().fetch()\n",
    "    # pickle current udisco data\n",
    "    today = datetime.now().strftime('%Y-%m-%d')\n",
    "    udisco_data_file = home_dir + f'/Git/lightserv_dj_demo/lightserv/data/udisco_data_{today}.pkl'\n",
    "    udisco_data_file_latest = home_dir + '/Git/lightserv_dj_demo/lightserv/data/udisco_data_latest.pkl'\n",
    "    with open(udisco_data_file, 'wb') as f:\n",
    "        pickle.dump(udisco_data,f)\n",
    "        print(f\"wrote {udisco_data_file}\")\n",
    "    copyfile(udisco_data_file,udisco_data_file_latest)"
   ]
  },
  {
   "cell_type": "code",
   "execution_count": null,
   "metadata": {},
   "outputs": [],
   "source": [
    "def pickle_idiscoplus_data():\n",
    "    idiscoplus_data_file = home_dir + f'/Git/lightserv_dj_demo/lightserv/data/idiscoplus_data_latest.pkl'\n",
    "    with open(idiscoplus_data_file, 'wb') as f:\n",
    "        pickle.dump(idiscoplus_data,f)\n",
    "        print(f\"wrote {idiscoplus_data_file}\")"
   ]
  },
  {
   "cell_type": "code",
   "execution_count": null,
   "metadata": {},
   "outputs": [],
   "source": [
    "pickle_idiscoplus_data()"
   ]
  },
  {
   "cell_type": "markdown",
   "metadata": {},
   "source": [
    "## Fill clearing tables "
   ]
  },
  {
   "cell_type": "code",
   "execution_count": null,
   "metadata": {},
   "outputs": [],
   "source": [
    "fill_uDISCO_table()"
   ]
  },
  {
   "cell_type": "code",
   "execution_count": null,
   "metadata": {},
   "outputs": [],
   "source": [
    "UdiscoClearing()"
   ]
  },
  {
   "cell_type": "code",
   "execution_count": null,
   "metadata": {},
   "outputs": [],
   "source": [
    "IdiscoPlusClearing()"
   ]
  },
  {
   "cell_type": "code",
   "execution_count": null,
   "metadata": {},
   "outputs": [],
   "source": [
    "idiscoplus_data_file = home_dir + '/Git/lightserv_dj_demo/lightserv/data/idiscoplus_data_latest.pkl'\n",
    "with open(idiscoplus_data_file,'rb') as f:\n",
    "    idiscoplus_data = pickle.load(f)"
   ]
  },
  {
   "cell_type": "code",
   "execution_count": null,
   "metadata": {},
   "outputs": [],
   "source": [
    "udisco_data_file = home_dir + '/Git/lightserv_dj_demo/lightserv/data/udisco_data_latest.pkl'\n",
    "with open(udisco_data_file,'rb') as f:\n",
    "    udisco_data = pickle.load(f)\n",
    "udisco_data"
   ]
  },
  {
   "cell_type": "code",
   "execution_count": null,
   "metadata": {},
   "outputs": [],
   "source": [
    "udisco_data[1]"
   ]
  },
  {
   "cell_type": "code",
   "execution_count": null,
   "metadata": {},
   "outputs": [],
   "source": [
    "# Only does this if the table does not already exist.\n",
    "def fill_uDISCO_table():\n",
    "    today = datetime.now().strftime('%Y-%m-%d')\n",
    "    udisco_data_file_latest = home_dir + f'/Git/lightserv_dj_demo/lightserv/data/udisco_data_latest.pkl'\n",
    "    with open(udisco_data_file_latest,'rb') as f:\n",
    "        udisco_data = pickle.load(f)\n",
    "    for row in udisco_data:\n",
    "        UdiscoClearing().insert1(row)"
   ]
  },
  {
   "cell_type": "code",
   "execution_count": null,
   "metadata": {},
   "outputs": [],
   "source": [
    "UdiscoClearing().delete_quick()"
   ]
  },
  {
   "cell_type": "code",
   "execution_count": null,
   "metadata": {},
   "outputs": [],
   "source": [
    "fill_uDISCO_table()"
   ]
  },
  {
   "cell_type": "code",
   "execution_count": null,
   "metadata": {},
   "outputs": [],
   "source": [
    "UdiscoClearing()"
   ]
  },
  {
   "cell_type": "code",
   "execution_count": null,
   "metadata": {},
   "outputs": [],
   "source": [
    "udisco_data"
   ]
  },
  {
   "cell_type": "code",
   "execution_count": null,
   "metadata": {},
   "outputs": [],
   "source": [
    "today = datetime.now().strftime('%Y-%m-%d')\n",
    "udisco_test_file = home_dir + f'/Git/lightserv_dj_demo/lightserv/data/udisco_test_data.pkl'\n",
    "udisco_data_file = home_dir + f'/Git/lightserv_dj_demo/lightserv/data/udisco_data_{today}.pkl'\n",
    "udisco_data_file_latest = home_dir + '/Git/lightserv_dj_demo/lightserv/data/udisco_data_latest.pkl'\n",
    "with open(udisco_test_file, 'wb') as f:\n",
    "    pickle.dump(udisco_data,f)\n",
    "    print(f\"wrote {udisco_test_file}\")\n"
   ]
  },
  {
   "cell_type": "code",
   "execution_count": null,
   "metadata": {},
   "outputs": [],
   "source": [
    "IdiscoAbbreviatedClearing()"
   ]
  },
  {
   "cell_type": "code",
   "execution_count": null,
   "metadata": {},
   "outputs": [],
   "source": [
    "os"
   ]
  },
  {
   "cell_type": "code",
   "execution_count": null,
   "metadata": {},
   "outputs": [],
   "source": [
    "schema = dj.create_virtual_module('ahoag_lightsheet_demo','ahoag_lightsheet_demo') "
   ]
  },
  {
   "cell_type": "code",
   "execution_count": null,
   "metadata": {},
   "outputs": [],
   "source": [
    "Experiment().fetch('title','description')"
   ]
  },
  {
   "cell_type": "code",
   "execution_count": null,
   "metadata": {},
   "outputs": [],
   "source": [
    "attrs = ['title','description']"
   ]
  },
  {
   "cell_type": "code",
   "execution_count": null,
   "metadata": {},
   "outputs": [],
   "source": [
    "Experiment().fetch(*attrs,as_dict=True)"
   ]
  },
  {
   "cell_type": "code",
   "execution_count": null,
   "metadata": {},
   "outputs": [],
   "source": [
    "Experiment().fetch1(*attrs,as_dict=True)"
   ]
  },
  {
   "cell_type": "code",
   "execution_count": null,
   "metadata": {},
   "outputs": [],
   "source": [
    "'4'.zfill(3)"
   ]
  },
  {
   "cell_type": "code",
   "execution_count": null,
   "metadata": {},
   "outputs": [],
   "source": [
    "n=4"
   ]
  },
  {
   "cell_type": "code",
   "execution_count": null,
   "metadata": {},
   "outputs": [],
   "source": [
    "val = f'{n+1}'.zfill(3)\n",
    "va"
   ]
  },
  {
   "cell_type": "code",
   "execution_count": null,
   "metadata": {},
   "outputs": [],
   "source": [
    "'channel488_registration'[7:10]"
   ]
  },
  {
   "cell_type": "code",
   "execution_count": null,
   "metadata": {},
   "outputs": [],
   "source": [
    "d={'csrf_token':'23234324','otherkey':'otherval'}"
   ]
  },
  {
   "cell_type": "code",
   "execution_count": null,
   "metadata": {},
   "outputs": [],
   "source": [
    "d.pop('csrf_token',None)"
   ]
  },
  {
   "cell_type": "markdown",
   "metadata": {},
   "source": [
    "## Explore inserting blobs into database"
   ]
  },
  {
   "cell_type": "code",
   "execution_count": null,
   "metadata": {},
   "outputs": [],
   "source": [
    "dj.config[\"enable_python_native_blobs\"] = True"
   ]
  },
  {
   "cell_type": "code",
   "execution_count": null,
   "metadata": {},
   "outputs": [],
   "source": [
    "testschema = dj.schema('ahoag_testschema')"
   ]
  },
  {
   "cell_type": "code",
   "execution_count": null,
   "metadata": {},
   "outputs": [],
   "source": [
    "dj.ERD(testschema)"
   ]
  },
  {
   "cell_type": "code",
   "execution_count": null,
   "metadata": {},
   "outputs": [],
   "source": [
    "@testschema\n",
    "class Person(dj.Manual):\n",
    "    definition = '''\n",
    "    username : varchar(20)   # unique user name\n",
    "    ---\n",
    "    first_name : varchar(30)\n",
    "    last_name  : varchar(30)\n",
    "    '''"
   ]
  },
  {
   "cell_type": "code",
   "execution_count": null,
   "metadata": {},
   "outputs": [],
   "source": [
    "@testschema\n",
    "class TestBlobTable(dj.Manual):\n",
    "    definition = '''\n",
    "    username : varchar(20)   # unique user name\n",
    "    ---\n",
    "    xml_file : mediumblob\n",
    "    '''"
   ]
  },
  {
   "cell_type": "code",
   "execution_count": null,
   "metadata": {},
   "outputs": [],
   "source": [
    "test_array = [1,2,3]\n",
    "insert_dict = {'username':'bob','xml_file':test_array}\n",
    "TestBlobTable().insert1(insert_dict)"
   ]
  },
  {
   "cell_type": "code",
   "execution_count": null,
   "metadata": {},
   "outputs": [],
   "source": [
    "TestBlobTable()"
   ]
  },
  {
   "cell_type": "code",
   "execution_count": null,
   "metadata": {},
   "outputs": [],
   "source": [
    "results=TestBlobTable().fetch()"
   ]
  },
  {
   "cell_type": "code",
   "execution_count": null,
   "metadata": {},
   "outputs": [],
   "source": [
    "results[0]['xml_file']\n"
   ]
  },
  {
   "cell_type": "code",
   "execution_count": null,
   "metadata": {},
   "outputs": [],
   "source": [
    "# Now lets try with a real xml object\n",
    "import tifffile\n",
    "from xml.etree import ElementTree as ET \n",
    "raw_file = '/jukebox/LightSheetTransfer/kelly/201908_cfos/190820_m61468_observ_20190628_1d3x_647_008na_1hfds_z5um_250msec_14-50-40/14-50-40_UltraII_raw_RawDataStack[00 x 00]_C00_xyz-Table Z0000_UltraII Filter0000.ome.tif' \n"
   ]
  },
  {
   "cell_type": "code",
   "execution_count": null,
   "metadata": {},
   "outputs": [],
   "source": [
    "# Grab the metadata tags\n",
    "with tifffile.TiffFile(raw_file) as tif:\n",
    "    tags = tif.pages[0].tags"
   ]
  },
  {
   "cell_type": "code",
   "execution_count": null,
   "metadata": {},
   "outputs": [],
   "source": [
    "insert_dict = {'username':'alice','xml_file':tags}\n",
    "TestBlobTable().insert1(insert_dict)"
   ]
  },
  {
   "cell_type": "code",
   "execution_count": null,
   "metadata": {},
   "outputs": [],
   "source": [
    "# OK, so that didn't work. Let's try to store the xml description string which we can then parse with elementtree"
   ]
  },
  {
   "cell_type": "code",
   "execution_count": null,
   "metadata": {},
   "outputs": [],
   "source": [
    "xml_description=tags['ImageDescription'].value\n"
   ]
  },
  {
   "cell_type": "code",
   "execution_count": null,
   "metadata": {},
   "outputs": [],
   "source": [
    "insert_dict = {'username':'alice','xml_file':xml_description}\n",
    "TestBlobTable().insert1(insert_dict)"
   ]
  },
  {
   "cell_type": "code",
   "execution_count": null,
   "metadata": {},
   "outputs": [],
   "source": [
    "(TestBlobTable() & 'username=\"alice\"').fetch()"
   ]
  },
  {
   "cell_type": "code",
   "execution_count": null,
   "metadata": {},
   "outputs": [],
   "source": [
    "processing_contents = schema.Sample.ProcessingChannel() "
   ]
  },
  {
   "cell_type": "code",
   "execution_count": null,
   "metadata": {},
   "outputs": [],
   "source": [
    "xml_description=schema.Sample.ProcessingChannel().fetch1('metadata_xml_string')"
   ]
  },
  {
   "cell_type": "code",
   "execution_count": null,
   "metadata": {},
   "outputs": [],
   "source": [
    "root = ET.fromstring(xml_description)"
   ]
  },
  {
   "cell_type": "code",
   "execution_count": null,
   "metadata": {},
   "outputs": [],
   "source": [
    "custom_attributes = root[-1]\n",
    "# root\n",
    "proparray = custom_attributes[0]\n",
    "for child in proparray:\n",
    "#     if 'UltraII_Na_Value' in child.tag:\n",
    "    print(child.tag)\n",
    "#     print(child.attrib['Value'])"
   ]
  },
  {
   "cell_type": "code",
   "execution_count": null,
   "metadata": {},
   "outputs": [],
   "source": [
    "# Write the xml string to a file\n",
    "import os\n",
    "output_filename = 'example_jverpeut_metadata.xml'\n",
    "if not os.path.exists(output_filename):\n",
    "    with open(output_filename,'w') as outfile:\n",
    "        outfile.write(xml_description)\n",
    "print(\"wrote %s\" % output_filename)"
   ]
  },
  {
   "cell_type": "code",
   "execution_count": null,
   "metadata": {},
   "outputs": [],
   "source": [
    "d = datetime.strptime('2019-12-05 11:07:27','%Y-%m-%d %H:%M:%S')"
   ]
  },
  {
   "cell_type": "code",
   "execution_count": null,
   "metadata": {},
   "outputs": [],
   "source": [
    "d"
   ]
  },
  {
   "cell_type": "code",
   "execution_count": null,
   "metadata": {},
   "outputs": [],
   "source": [
    "d.strftime('%m/%d/%y, %-I:%m %p')"
   ]
  },
  {
   "cell_type": "code",
   "execution_count": null,
   "metadata": {},
   "outputs": [],
   "source": []
  }
 ],
 "metadata": {
  "anaconda-cloud": {},
  "kernelspec": {
   "display_name": "lightserv",
   "language": "python",
   "name": "lightserv"
  },
  "language_info": {
   "codemirror_mode": {
    "name": "ipython",
    "version": 3
   },
   "file_extension": ".py",
   "mimetype": "text/x-python",
   "name": "python",
   "nbconvert_exporter": "python",
   "pygments_lexer": "ipython3",
   "version": "3.7.3"
  }
 },
 "nbformat": 4,
 "nbformat_minor": 2
}
