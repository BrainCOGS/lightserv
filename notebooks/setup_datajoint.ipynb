{
 "cells": [
  {
   "cell_type": "markdown",
   "metadata": {},
   "source": [
    "First, establish an ssh tunnel [with your PNI password] to jtb3-dev.princeton.edu to make the database available to you:\n",
    "\n",
    "    ssh username@jtb3-dev.princeton.edu -L 3306:127.0.0.1:3306 -N\n",
    "\n",
    "jtb3-dev is the database server on which all behavior and mouse data is stored. Second, make sure you have installed datajoint >= '0.12.dev3'\n",
    "[ pip install datajoint==0.12.dev3 ]"
   ]
  },
  {
   "cell_type": "code",
   "execution_count": 1,
   "metadata": {},
   "outputs": [],
   "source": [
    "import pylab as pl\n",
    "import datajoint as dj\n",
    "import numpy as np\n",
    "import os,sys\n",
    "import secrets\n",
    "assert dj.__version__>='0.12.dev3'\n",
    "import pickle\n",
    "from datetime import datetime\n",
    "from googleapiclient.discovery import build\n",
    "from google_auth_oauthlib.flow import InstalledAppFlow\n",
    "from google.auth.transport.requests import Request\n",
    "import pandas as pd"
   ]
  },
  {
   "cell_type": "code",
   "execution_count": 2,
   "metadata": {},
   "outputs": [
    {
     "name": "stdout",
     "output_type": "stream",
     "text": [
      "Please enter DataJoint username: ahoag\n",
      "Please enter DataJoint password: ········\n",
      "Connecting ahoag@localhost:3306\n"
     ]
    }
   ],
   "source": [
    "schema = dj.schema('ahoag_lightsheet_demo') "
   ]
  },
  {
   "cell_type": "code",
   "execution_count": 3,
   "metadata": {},
   "outputs": [
    {
     "data": {
      "image/svg+xml": [
       "<svg height=\"114pt\" viewBox=\"0.00 0.00 512.50 114.00\" width=\"513pt\" xmlns=\"http://www.w3.org/2000/svg\" xmlns:xlink=\"http://www.w3.org/1999/xlink\">\n",
       "<g class=\"graph\" id=\"graph0\" transform=\"scale(1 1) rotate(0) translate(4 110)\">\n",
       "<title>%3</title>\n",
       "<polygon fill=\"white\" points=\"-4,4 -4,-110 508.5,-110 508.5,4 -4,4\" stroke=\"none\"/>\n",
       "<!-- `ahoag_lightsheet_demo`.`#user` -->\n",
       "<g class=\"node\" id=\"node1\"><title>`ahoag_lightsheet_demo`.`#user`</title>\n",
       "<polygon fill=\"#000000\" fill-opacity=\"0.125490\" points=\"307,-106 149,-106 149,-71 307,-71 307,-106\" stroke=\"none\"/>\n",
       "<text font-family=\"arial\" font-size=\"10.00\" text-anchor=\"start\" text-decoration=\"underline\" x=\"157\" y=\"-87\">`ahoag_lightsheet_demo`.`#user`</text>\n",
       "</g>\n",
       "<!-- `ahoag_lightsheet_demo`.`experiment` -->\n",
       "<g class=\"node\" id=\"node2\"><title>`ahoag_lightsheet_demo`.`experiment`</title>\n",
       "<polygon fill=\"#00ff00\" fill-opacity=\"0.188235\" points=\"218,-35 0,-35 0,-0 218,-0 218,-35\" stroke=\"#00ff00\" stroke-opacity=\"0.188235\"/>\n",
       "<text fill=\"darkgreen\" font-family=\"arial\" font-size=\"12.00\" text-anchor=\"start\" text-decoration=\"underline\" x=\"8\" y=\"-15.4\">`ahoag_lightsheet_demo`.`experiment`</text>\n",
       "</g>\n",
       "<!-- `ahoag_lightsheet_demo`.`#user`&#45;&gt;`ahoag_lightsheet_demo`.`experiment` -->\n",
       "<g class=\"edge\" id=\"edge1\"><title>`ahoag_lightsheet_demo`.`#user`-&gt;`ahoag_lightsheet_demo`.`experiment`</title>\n",
       "<path d=\"M199.497,-70.9728C180.794,-60.1284 156.422,-45.9969 137.683,-35.1315\" fill=\"none\" stroke=\"#000000\" stroke-dasharray=\"5,2\" stroke-opacity=\"0.250980\" stroke-width=\"0.75\"/>\n",
       "</g>\n",
       "<!-- `ahoag_lightsheet_demo`.`microscope` -->\n",
       "<g class=\"node\" id=\"node3\"><title>`ahoag_lightsheet_demo`.`microscope`</title>\n",
       "<polygon fill=\"#00ff00\" fill-opacity=\"0.188235\" points=\"458,-35 236,-35 236,-0 458,-0 458,-35\" stroke=\"#00ff00\" stroke-opacity=\"0.188235\"/>\n",
       "<text fill=\"darkgreen\" font-family=\"arial\" font-size=\"12.00\" text-anchor=\"start\" text-decoration=\"underline\" x=\"244\" y=\"-15.4\">`ahoag_lightsheet_demo`.`microscope`</text>\n",
       "</g>\n",
       "<!-- `ahoag_lightsheet_demo`.`#user`&#45;&gt;`ahoag_lightsheet_demo`.`microscope` -->\n",
       "<g class=\"edge\" id=\"edge2\"><title>`ahoag_lightsheet_demo`.`#user`-&gt;`ahoag_lightsheet_demo`.`microscope`</title>\n",
       "<path d=\"M256.503,-70.9728C275.206,-60.1284 299.578,-45.9969 318.317,-35.1315\" fill=\"none\" stroke=\"#000000\" stroke-dasharray=\"5,2\" stroke-opacity=\"0.250980\" stroke-width=\"0.75\"/>\n",
       "</g>\n",
       "<!-- `ahoag_lightsheet_demo`.`test` -->\n",
       "<g class=\"node\" id=\"node4\"><title>`ahoag_lightsheet_demo`.`test`</title>\n",
       "<polygon fill=\"#00ff00\" fill-opacity=\"0.188235\" points=\"504.5,-106 325.5,-106 325.5,-71 504.5,-71 504.5,-106\" stroke=\"#00ff00\" stroke-opacity=\"0.188235\"/>\n",
       "<text fill=\"darkgreen\" font-family=\"arial\" font-size=\"12.00\" text-anchor=\"start\" text-decoration=\"underline\" x=\"333.5\" y=\"-86.4\">`ahoag_lightsheet_demo`.`test`</text>\n",
       "</g>\n",
       "</g>\n",
       "</svg>"
      ],
      "text/plain": [
       "<datajoint.diagram.Diagram at 0x7f50caf4f358>"
      ]
     },
     "execution_count": 3,
     "metadata": {},
     "output_type": "execute_result"
    }
   ],
   "source": [
    "dj.ERD(schema)"
   ]
  },
  {
   "cell_type": "code",
   "execution_count": null,
   "metadata": {},
   "outputs": [],
   "source": [
    "# Reset the schema to blank state by uncommenting the line below\n",
    "# schema.drop()"
   ]
  },
  {
   "cell_type": "markdown",
   "metadata": {},
   "source": [
    "## 1) Define database tables"
   ]
  },
  {
   "cell_type": "code",
   "execution_count": 4,
   "metadata": {},
   "outputs": [],
   "source": [
    "@schema\n",
    "class User(dj.Lookup):\n",
    "    definition = \"\"\"\n",
    "    # Users of the light sheet microscope\n",
    "    username : varchar(20)      # user in the lab\n",
    "    ---\n",
    "    email       : varchar(50)\n",
    "    \"\"\"\n",
    "\n",
    "@schema\n",
    "class Experiment(dj.Manual):\n",
    "    definition = \"\"\" # Experiments performed using the light sheet microscope\n",
    "    experiment_id           :   smallint auto_increment    # allowed here are sql datatypes.\n",
    "    ----\n",
    "    -> User \n",
    "    title                   :   varchar(100)\n",
    "    description             :   varchar(250)\n",
    "    notes = \"\"              :   varchar(1000)\n",
    "    species                 :   varchar(50)\n",
    "    clearing_protocol       :   enum(\"iDISCO+_immuno\",\"iDISCO abbreviated clearing\",\"uDISCO\",\"iDISCO+\",\"iDISCO_EdU\")\n",
    "    clearing_progress       :   enum(\"incomplete\",\"complete\")\n",
    "    fluorophores            :   varchar(100)\n",
    "    primary_antibody        :   varchar(100)\n",
    "    secondary_antibody      :   varchar(100)\n",
    "    image_resolution        :   enum(\"1.3x\",\"4x\")\n",
    "    cell_detection          :   tinyint\n",
    "    registration            :   tinyint\n",
    "    probe_detection         :   tinyint\n",
    "    injection_detection     :   tinyint\n",
    "    \"\"\"  \n",
    "    \n",
    "@schema #  \n",
    "class Microscope(dj.Manual): # dj.Manual is one of the 4 datajoint table types - Manual corresponds to externally inputted data\n",
    "    definition = \"\"\" # Periodic calibration data of the light sheet microscope\n",
    "    entrynum                :   smallint auto_increment    # allowed here are sql datatypes.\n",
    "    ----\n",
    "    -> User              \n",
    "    date                    :   varchar(10)    \n",
    "    old_objective           :   varchar(50)\n",
    "    new_objective           :   varchar(50)\n",
    "    swapper                 :   varchar(250)\n",
    "    calibration =           :   varchar(1000) \n",
    "    notes =                 :   varchar(1000)\n",
    "    \"\"\""
   ]
  },
  {
   "cell_type": "code",
   "execution_count": null,
   "metadata": {},
   "outputs": [],
   "source": [
    "User()"
   ]
  },
  {
   "cell_type": "code",
   "execution_count": null,
   "metadata": {},
   "outputs": [],
   "source": [
    "Experiment()"
   ]
  },
  {
   "cell_type": "code",
   "execution_count": null,
   "metadata": {},
   "outputs": [],
   "source": [
    "Microscope()"
   ]
  },
  {
   "cell_type": "markdown",
   "metadata": {},
   "source": [
    "## 2) Download content for the database from existing google sheets and the Sheets API"
   ]
  },
  {
   "cell_type": "code",
   "execution_count": null,
   "metadata": {},
   "outputs": [],
   "source": [
    "# Set the scope to be read only since we are not adding anything to the google sheet, just reading it\n",
    "SCOPES = ['https://www.googleapis.com/auth/spreadsheets.readonly']\n",
    "# Set the spreadsheet ID (long string in the url, e.g.: \n",
    "# https://docs.google.com/spreadsheets/d/1YbP64yIApUaxjpscBXP8r82VmrkrKYakbjRFqF9XHB0/edit#gid=0) \n",
    "# As well as the range of cells you want to grab. \n",
    "SPREADSHEET_ID = '1A83HVyy1bEhctqArwt4EiT637M8wBxTFodobbt1jrXI' # The live clearing/form responses spreadsheet\n",
    "# We are in readonly (see SCOPES) so we cannot destroy it by accident.\n",
    "secrets_file = 'credentials.json' # Has to be called \"credentials.json\"  \n",
    "assert os.path.exists(secrets_file)"
   ]
  },
  {
   "cell_type": "code",
   "execution_count": null,
   "metadata": {},
   "outputs": [],
   "source": [
    "def retrieve_google_sheet(spreadsheet_id,range_query):\n",
    "    \"\"\"\n",
    "    ---PURPOSE---\n",
    "    Get data from the range of cells in the google sheet specified.\n",
    "    ---INPUT---\n",
    "    spreadsheet_id    The long string in the URL of a google sheet\n",
    "                      that identifies the sheet\n",
    "    range_query       The Sheets API range query, e.g. 'Sheet1!A3:B3'\n",
    "    \"\"\"\n",
    "    creds = None\n",
    "    # The file token.pickle stores the user's access and refresh tokens, and is\n",
    "    # created automatically when the authorization flow completes for the first\n",
    "    # time.\n",
    "    if os.path.exists('token.pickle'):\n",
    "        with open('token.pickle', 'rb') as token:\n",
    "            creds = pickle.load(token)\n",
    "    # If there are no (valid) credentials available, let the user log in.\n",
    "    if not creds or not creds.valid:\n",
    "        if creds and creds.expired and creds.refresh_token:\n",
    "            creds.refresh(Request())\n",
    "        else:\n",
    "            flow = InstalledAppFlow.from_client_secrets_file(\n",
    "                secrets_file, SCOPES)\n",
    "            creds = flow.run_local_server(port=0)\n",
    "        # Save the credentials for the next run\n",
    "        with open('token.pickle', 'wb') as token:\n",
    "            pickle.dump(creds, token)\n",
    "\n",
    "    service = build('sheets', 'v4', credentials=creds)\n",
    "\n",
    "    # Call the Sheets API\n",
    "    sheet = service.spreadsheets()\n",
    "    result = sheet.values().get(spreadsheetId=spreadsheet_id,\n",
    "                                range=range_query).execute()\n",
    "    values = result.get('values', [])\n",
    "\n",
    "    return values"
   ]
  },
  {
   "cell_type": "markdown",
   "metadata": {},
   "source": [
    "## Fill User and Experiment tables"
   ]
  },
  {
   "cell_type": "code",
   "execution_count": null,
   "metadata": {},
   "outputs": [],
   "source": [
    "# Grab the form response data so we can fill out User() and Experiment() table\n",
    "range_query='Form Responses!B4:P36'\n",
    "form_response_data = retrieve_google_sheet(spreadsheet_id=SPREADSHEET_ID,range_query=range_query)\n",
    "# Remove \"Number of Samples\" column since it is empty and we don't want it\n",
    "form_response_data=[x[0:3]+x[4:] for x in form_response_data]"
   ]
  },
  {
   "cell_type": "code",
   "execution_count": null,
   "metadata": {},
   "outputs": [],
   "source": [
    "def fill_user_exp_tables():\n",
    "    \"\"\" Fills the User() and Experiment() tables \n",
    "    using the form response data from the tab in the clearing google spreadsheet\n",
    "    \"\"\"\n",
    "    exp_column_names = ['username','species','clearing_protocol','clearing_progress','title','description','fluorophores',\\\n",
    "                    'primary_antibody','secondary_antibody','image_resolution',\\\n",
    "                    'cell_detection','registration','probe_detection','injection_detection','notes'] # order doesn't matter since we will be using these in a dictionary\n",
    "    if len(User.fetch()) != 0 or len(Experiment.fetch()) != 0:\n",
    "        sys.exit('User and/or Experiment table not empty! Drop them first before refilling')\n",
    "\n",
    "    for form_response in form_response_data:\n",
    "        # ignore blank lines\n",
    "        if not form_response:\n",
    "            continue\n",
    "        assert len(form_response) == 14\n",
    "        species = form_response[0].lower()\n",
    "        clearing_protocol = form_response[1]\n",
    "        if 'immunostaining' in clearing_protocol:\n",
    "            clearing_protocol = 'iDISCO+_immuno'\n",
    "        elif 'abbreviated' in clearing_protocol:\n",
    "            clearing_protocol = 'iDISCO abbreviated clearing'\n",
    "        elif 'EdU' in clearing_protocol:\n",
    "            clearing_protocol = 'iDISCO_EdU'\n",
    "        else: # don't change it\n",
    "            pass\n",
    "        clearing_progress = 'complete' # All of the ones in this sheet have already been completed\n",
    "        title=form_response[2]\n",
    "        description = form_response[3]\n",
    "        fluorophores = form_response[4]\n",
    "        primary_antibody = form_response[5]\n",
    "        secondary_antibody = form_response[6]\n",
    "        imaging_str = form_response[7]\n",
    "        image_resolution = \"1.3x\" if \"1.3x\" in imaging_str else \"4x\"\n",
    "        processing_str = form_response[8]\n",
    "        processing_list = [x.lower() for x in processing_str.split(',')]\n",
    "\n",
    "        cell_detection = 0\n",
    "        registration = 0\n",
    "        probe_detection = 0\n",
    "        injection_detection = 0\n",
    "        for item in processing_list:\n",
    "            if 'cell detection' in item:\n",
    "                cell_detection = 1\n",
    "            if 'registration' in item:\n",
    "                registration=1\n",
    "            if 'probe' in item and 'detection' in item:\n",
    "                probe_detection = 1\n",
    "            if 'injection' in item and 'detection' in item:\n",
    "                injection_detection =1\n",
    "        notes = form_response[11]\n",
    "        email = form_response[13]\n",
    "        username = email.split('@')[0].lower() if 'princeton' in email else 'zmd' # zahra is the only one who used her gmail\n",
    "        \n",
    "        user_insert_dict = {'username':username,'email':email}\n",
    "        \n",
    "        exp_insert_row = [username,species,clearing_protocol,clearing_progress,title,description,fluorophores,\\\n",
    "                      primary_antibody,secondary_antibody,image_resolution,cell_detection,registration,\\\n",
    "                      probe_detection,injection_detection,notes]\n",
    "        exp_insert_dict = {exp_column_names[ii]:exp_insert_row[ii] for ii in range(len(exp_column_names))}\n",
    "        \n",
    "        User().insert1(user_insert_dict,skip_duplicates=True)\n",
    "        Experiment().insert1(exp_insert_dict)"
   ]
  },
  {
   "cell_type": "code",
   "execution_count": null,
   "metadata": {},
   "outputs": [],
   "source": [
    "fill_user_exp_tables()"
   ]
  },
  {
   "cell_type": "code",
   "execution_count": null,
   "metadata": {},
   "outputs": [],
   "source": [
    "User()"
   ]
  },
  {
   "cell_type": "code",
   "execution_count": null,
   "metadata": {},
   "outputs": [],
   "source": [
    "Experiment()"
   ]
  },
  {
   "cell_type": "markdown",
   "metadata": {},
   "source": [
    "## Fill Microscope Table"
   ]
  },
  {
   "cell_type": "code",
   "execution_count": null,
   "metadata": {},
   "outputs": [],
   "source": [
    "# Only does this if the table does not already exist.\n",
    "def fill_microscope_table():\n",
    "    microscope_spreadsheet_id = '1Velwahzvy0hxHDlcjlQPbLjShCQMmCb2DWuz-O_65PI' # The live spreadsheet\n",
    "    microscope_range_query = 'Sheet1' # Syntax is Sheet_name!cell_start:cell_end, e.g. \n",
    "    if len(Microscope.fetch()) != 0:\n",
    "        sys.exit('Microscope table not empty. Drop it before attempting to refill')\n",
    "    values = retrieve_google_sheet(spreadsheet_id=microscope_spreadsheet_id,range_query=microscope_range_query)\n",
    "    microscope_column_names = ['username','date','old_objective','new_objective','swapper','calibration','notes'] # in the database\n",
    "    for row in values[1:]: # skip the first row because it is the column names\n",
    "        if len(row) < 2:\n",
    "            continue\n",
    "        try:\n",
    "            date_str = datetime.strptime(row[0], \"%B %d, %Y\").strftime(\"%Y-%m-%d\")\n",
    "        except:\n",
    "            date_str = 'unknown'\n",
    "        for ii in range(len(microscope_column_names)-len(row)):\n",
    "            row.append('')\n",
    "        microscope_insert_row = ['zmd',date_str] + row[1:]    \n",
    "        microscope_insert_dict = {microscope_column_names[ii]:microscope_insert_row[ii]\\\n",
    "                                  for ii in range(len(microscope_column_names))}\n",
    "        Microscope().insert1(microscope_insert_dict,skip_duplicates = True)"
   ]
  },
  {
   "cell_type": "code",
   "execution_count": null,
   "metadata": {},
   "outputs": [],
   "source": [
    "fill_microscope_table()"
   ]
  },
  {
   "cell_type": "code",
   "execution_count": null,
   "metadata": {},
   "outputs": [],
   "source": [
    "Microscope()"
   ]
  },
  {
   "cell_type": "code",
   "execution_count": null,
   "metadata": {},
   "outputs": [],
   "source": [
    "dj.ERD(schema)"
   ]
  },
  {
   "cell_type": "markdown",
   "metadata": {},
   "source": [
    "## Add clearing tables"
   ]
  },
  {
   "cell_type": "markdown",
   "metadata": {},
   "source": [
    "### iDISCO+ clearing table"
   ]
  },
  {
   "cell_type": "code",
   "execution_count": 5,
   "metadata": {},
   "outputs": [],
   "source": [
    "@schema\n",
    "class IdiscoPlusClearing(dj.Manual): # dj.Manual is one of the 4 datajoint table types - Manual corresponds to externally inputted data\n",
    "        definition = \"\"\" # Periodic calibration data of the light sheet microscope\n",
    "        -> Experiment              # experiment_id, the primary key from the Experiment() table\n",
    "        ----\n",
    "        -> User                    # username, the researcher's netid from the User() table\n",
    "        clearer                                                  :   varchar(20)   # the netid of the person who did the clearing\n",
    "        exp_notes = \"\"                                           :   varchar(500)  # Note anything unusual that happened during experiment that could affect clearing\n",
    "        perfusion_date = NULL                                    :   date \n",
    "        time_dehydr_pbs_wash1 = NULL                             :   datetime\n",
    "        time_dehydr_pbs_wash2 = NULL                             :   datetime\n",
    "        time_dehydr_pbs_wash3 = NULL                             :   datetime\n",
    "        time_dehydr_ch3oh_20percent_wash1 = NULL                 :   datetime\n",
    "        time_dehydr_ch3oh_40percent_wash1 = NULL                 :   datetime\n",
    "        time_dehydr_ch3oh_60percent_wash1 = NULL                 :   datetime\n",
    "        time_dehydr_ch3oh_80percent_wash1 = NULL                 :   datetime\n",
    "        time_dehydr_ch3oh_100percent_wash1 = NULL                :   datetime\n",
    "        time_dehydr_ch3oh_100percent_wash2 = NULL                :   datetime\n",
    "        time_dehydr_h202_wash1 = NULL                            :   datetime\n",
    "        time_rehydr_ch3oh_100percent_wash1 = NULL                :   datetime\n",
    "        time_rehydr_ch3oh_80percent_wash1 = NULL                 :   datetime\n",
    "        time_rehydr_ch3oh_60percent_wash1 = NULL                 :   datetime\n",
    "        time_rehydr_ch3oh_40percent_wash1 = NULL                 :   datetime\n",
    "        time_rehydr_ch3oh_20percent_wash1 = NULL                 :   datetime\n",
    "        time_rehydr_pbs_wash1 = NULL                             :   datetime\n",
    "        time_rehydr_sodium_azide_wash1 = NULL                    :   datetime\n",
    "        time_rehydr_sodium_azide_wash2 = NULL                    :   datetime\n",
    "        time_rehydr_glycine_wash1 = NULL                         :   datetime\n",
    "        time_blocking_start_roomtemp = NULL                      :   datetime\n",
    "        time_blocking_donkey_serum = NULL                        :   datetime\n",
    "        time_antibody1_start_roomtemp = NULL                     :   datetime\n",
    "        time_antibody1_ptwh_wash1 = NULL                         :   datetime\n",
    "        time_antibody1_ptwh_wash2 = NULL                         :   datetime\n",
    "        time_antibody1_added = NULL                              :   datetime\n",
    "        time_wash1_start_roomtemp = NULL                          :   datetime\n",
    "        time_wash1_ptwh_wash1 = NULL                              :   datetime\n",
    "        time_wash1_ptwh_wash2 = NULL                              :   datetime\n",
    "        time_wash1_ptwh_wash3 = NULL                              :   datetime\n",
    "        time_wash1_ptwh_wash4 = NULL                              :   datetime\n",
    "        time_wash1_ptwh_wash5 = NULL                              :   datetime\n",
    "        time_antibody2_added = NULL                              :   datetime\n",
    "        time_wash2_start_roomtemp = NULL                          :   datetime\n",
    "        time_wash2_ptwh_wash1 = NULL                              :   datetime\n",
    "        time_wash2_ptwh_wash2 = NULL                              :   datetime\n",
    "        time_wash2_ptwh_wash3 = NULL                              :   datetime\n",
    "        time_wash2_ptwh_wash4 = NULL                              :   datetime\n",
    "        time_wash2_ptwh_wash5 = NULL                              :   datetime\n",
    "        time_clearing_ch3oh_20percent_wash1 = NULL               :   datetime\n",
    "        time_clearing_ch3oh_40percent_wash1 = NULL               :   datetime\n",
    "        time_clearing_ch3oh_60percent_wash1 = NULL               :   datetime\n",
    "        time_clearing_ch3oh_80percent_wash1 = NULL               :   datetime\n",
    "        time_clearing_ch3oh_100percent_wash1 = NULL              :   datetime\n",
    "        time_clearing_ch3oh_100percent_wash2 = NULL              :   datetime\n",
    "        time_clearing_dcm_66percent_ch3oh_33percent = NULL       :   datetime\n",
    "        time_clearing_dcm_wash1 = NULL                           :   datetime\n",
    "        time_clearing_dcm_wash2 = NULL                           :   datetime\n",
    "        time_clearing_dbe = NULL                                 :   datetime\n",
    "        time_clearing_new_tubes = NULL                           :   datetime\n",
    "        clearing_notes = \"\"                                      : varchar(500)\n",
    "        \"\"\""
   ]
  },
  {
   "cell_type": "code",
   "execution_count": null,
   "metadata": {},
   "outputs": [],
   "source": [
    "# @schema\n",
    "# class IdiscoPlusClearing(dj.Manual): # dj.Manual is one of the 4 datajoint table types - Manual corresponds to externally inputted data\n",
    "#         definition = \"\"\" # Periodic calibration data of the light sheet microscope\n",
    "#         -> Experiment              # experiment_id, the primary key from the Experiment() table\n",
    "#         ----\n",
    "#         -> User                    # username, the researcher's netid from the User() table\n",
    "#         clearer                                           :   varchar(20)   # the netid of the person who did the clearing\n",
    "#         exp_notes = \"\"                                    :   varchar(200)  # Note anything unusual that happened during experiment that could affect clearing\n",
    "#         perfusion_date = NULL                             :   date \n",
    "#         \"\"\""
   ]
  },
  {
   "cell_type": "code",
   "execution_count": 8,
   "metadata": {},
   "outputs": [
    {
     "data": {
      "text/html": [
       "\n",
       "        \n",
       "        <style type=\"text/css\">\n",
       "            .Relation{\n",
       "                border-collapse:collapse;\n",
       "            }\n",
       "            .Relation th{\n",
       "                background: #A0A0A0; color: #ffffff; padding:4px; border:#f0e0e0 1px solid;\n",
       "                font-weight: normal; font-family: monospace; font-size: 100%;\n",
       "            }\n",
       "            .Relation td{\n",
       "                padding:4px; border:#f0e0e0 1px solid; font-size:100%;\n",
       "            }\n",
       "            .Relation tr:nth-child(odd){\n",
       "                background: #ffffff;\n",
       "            }\n",
       "            .Relation tr:nth-child(even){\n",
       "                background: #f3f1ff;\n",
       "            }\n",
       "            /* Tooltip container */\n",
       "            .djtooltip {\n",
       "            }\n",
       "            /* Tooltip text */\n",
       "            .djtooltip .djtooltiptext {\n",
       "                visibility: hidden;\n",
       "                width: 120px;\n",
       "                background-color: black;\n",
       "                color: #fff;\n",
       "                text-align: center;\n",
       "                padding: 5px 0;\n",
       "                border-radius: 6px;\n",
       "                /* Position the tooltip text - see examples below! */\n",
       "                position: absolute;\n",
       "                z-index: 1;\n",
       "            }\n",
       "            #primary {\n",
       "                font-weight: bold;\n",
       "                color: black;\n",
       "            }\n",
       "\n",
       "            #nonprimary {\n",
       "                font-weight: normal;\n",
       "                color: white;\n",
       "            }\n",
       "\n",
       "            /* Show the tooltip text when you mouse over the tooltip container */\n",
       "            .djtooltip:hover .djtooltiptext {\n",
       "                visibility: visible;\n",
       "            }\n",
       "        </style>\n",
       "        \n",
       "        <b>Periodic calibration data of the light sheet microscope</b>\n",
       "            <div style=\"max-height:1000px;max-width:1500px;overflow:auto;\">\n",
       "            <table border=\"1\" class=\"Relation\">\n",
       "                <thead> <tr style=\"text-align: right;\"> <th> <div class=\"djtooltip\">\n",
       "                                <p id=\"primary\">experiment_id</p>\n",
       "                                <span class=\"djtooltiptext\">allowed here are sql datatypes.</span>\n",
       "                            </div></th><th><div class=\"djtooltip\">\n",
       "                                <p id=\"nonprimary\">username</p>\n",
       "                                <span class=\"djtooltiptext\">user in the lab</span>\n",
       "                            </div></th><th><div class=\"djtooltip\">\n",
       "                                <p id=\"nonprimary\">clearer</p>\n",
       "                                <span class=\"djtooltiptext\">the netid of the person who did the clearing</span>\n",
       "                            </div></th><th><div class=\"djtooltip\">\n",
       "                                <p id=\"nonprimary\">exp_notes</p>\n",
       "                                <span class=\"djtooltiptext\">Note anything unusual that happened during experiment that could affect clearing</span>\n",
       "                            </div></th><th><div class=\"djtooltip\">\n",
       "                                <p id=\"nonprimary\">perfusion_date</p>\n",
       "                                <span class=\"djtooltiptext\"></span>\n",
       "                            </div></th><th><div class=\"djtooltip\">\n",
       "                                <p id=\"nonprimary\">time_dehydr_pbs_wash1</p>\n",
       "                                <span class=\"djtooltiptext\"></span>\n",
       "                            </div></th><th><div class=\"djtooltip\">\n",
       "                                <p id=\"nonprimary\">time_dehydr_pbs_wash2</p>\n",
       "                                <span class=\"djtooltiptext\"></span>\n",
       "                            </div></th><th><div class=\"djtooltip\">\n",
       "                                <p id=\"nonprimary\">time_dehydr_pbs_wash3</p>\n",
       "                                <span class=\"djtooltiptext\"></span>\n",
       "                            </div></th><th><div class=\"djtooltip\">\n",
       "                                <p id=\"nonprimary\">time_dehydr_ch3oh_20percent_wash1</p>\n",
       "                                <span class=\"djtooltiptext\"></span>\n",
       "                            </div></th><th><div class=\"djtooltip\">\n",
       "                                <p id=\"nonprimary\">time_dehydr_ch3oh_40percent_wash1</p>\n",
       "                                <span class=\"djtooltiptext\"></span>\n",
       "                            </div></th><th><div class=\"djtooltip\">\n",
       "                                <p id=\"nonprimary\">time_dehydr_ch3oh_60percent_wash1</p>\n",
       "                                <span class=\"djtooltiptext\"></span>\n",
       "                            </div></th><th><div class=\"djtooltip\">\n",
       "                                <p id=\"nonprimary\">time_dehydr_ch3oh_80percent_wash1</p>\n",
       "                                <span class=\"djtooltiptext\"></span>\n",
       "                            </div></th><th><div class=\"djtooltip\">\n",
       "                                <p id=\"nonprimary\">time_dehydr_ch3oh_100percent_wash1</p>\n",
       "                                <span class=\"djtooltiptext\"></span>\n",
       "                            </div></th><th><div class=\"djtooltip\">\n",
       "                                <p id=\"nonprimary\">time_dehydr_ch3oh_100percent_wash2</p>\n",
       "                                <span class=\"djtooltiptext\"></span>\n",
       "                            </div></th><th><div class=\"djtooltip\">\n",
       "                                <p id=\"nonprimary\">time_dehydr_h202_wash1</p>\n",
       "                                <span class=\"djtooltiptext\"></span>\n",
       "                            </div></th><th><div class=\"djtooltip\">\n",
       "                                <p id=\"nonprimary\">time_rehydr_ch3oh_100percent_wash1</p>\n",
       "                                <span class=\"djtooltiptext\"></span>\n",
       "                            </div></th><th><div class=\"djtooltip\">\n",
       "                                <p id=\"nonprimary\">time_rehydr_ch3oh_80percent_wash1</p>\n",
       "                                <span class=\"djtooltiptext\"></span>\n",
       "                            </div></th><th><div class=\"djtooltip\">\n",
       "                                <p id=\"nonprimary\">time_rehydr_ch3oh_60percent_wash1</p>\n",
       "                                <span class=\"djtooltiptext\"></span>\n",
       "                            </div></th><th><div class=\"djtooltip\">\n",
       "                                <p id=\"nonprimary\">time_rehydr_ch3oh_40percent_wash1</p>\n",
       "                                <span class=\"djtooltiptext\"></span>\n",
       "                            </div></th><th><div class=\"djtooltip\">\n",
       "                                <p id=\"nonprimary\">time_rehydr_ch3oh_20percent_wash1</p>\n",
       "                                <span class=\"djtooltiptext\"></span>\n",
       "                            </div></th><th><div class=\"djtooltip\">\n",
       "                                <p id=\"nonprimary\">time_rehydr_pbs_wash1</p>\n",
       "                                <span class=\"djtooltiptext\"></span>\n",
       "                            </div></th><th><div class=\"djtooltip\">\n",
       "                                <p id=\"nonprimary\">time_rehydr_sodium_azide_wash1</p>\n",
       "                                <span class=\"djtooltiptext\"></span>\n",
       "                            </div></th><th><div class=\"djtooltip\">\n",
       "                                <p id=\"nonprimary\">time_rehydr_sodium_azide_wash2</p>\n",
       "                                <span class=\"djtooltiptext\"></span>\n",
       "                            </div></th><th><div class=\"djtooltip\">\n",
       "                                <p id=\"nonprimary\">time_rehydr_glycine_wash1</p>\n",
       "                                <span class=\"djtooltiptext\"></span>\n",
       "                            </div></th><th><div class=\"djtooltip\">\n",
       "                                <p id=\"nonprimary\">time_blocking_start_roomtemp</p>\n",
       "                                <span class=\"djtooltiptext\"></span>\n",
       "                            </div></th><th><div class=\"djtooltip\">\n",
       "                                <p id=\"nonprimary\">time_blocking_donkey_serum</p>\n",
       "                                <span class=\"djtooltiptext\"></span>\n",
       "                            </div></th><th><div class=\"djtooltip\">\n",
       "                                <p id=\"nonprimary\">time_antibody1_start_roomtemp</p>\n",
       "                                <span class=\"djtooltiptext\"></span>\n",
       "                            </div></th><th><div class=\"djtooltip\">\n",
       "                                <p id=\"nonprimary\">time_antibody1_ptwh_wash1</p>\n",
       "                                <span class=\"djtooltiptext\"></span>\n",
       "                            </div></th><th><div class=\"djtooltip\">\n",
       "                                <p id=\"nonprimary\">time_antibody1_ptwh_wash2</p>\n",
       "                                <span class=\"djtooltiptext\"></span>\n",
       "                            </div></th><th><div class=\"djtooltip\">\n",
       "                                <p id=\"nonprimary\">time_antibody1_added</p>\n",
       "                                <span class=\"djtooltiptext\"></span>\n",
       "                            </div></th><th><div class=\"djtooltip\">\n",
       "                                <p id=\"nonprimary\">time_wash1_start_roomtemp</p>\n",
       "                                <span class=\"djtooltiptext\"></span>\n",
       "                            </div></th><th><div class=\"djtooltip\">\n",
       "                                <p id=\"nonprimary\">time_wash1_ptwh_wash1</p>\n",
       "                                <span class=\"djtooltiptext\"></span>\n",
       "                            </div></th><th><div class=\"djtooltip\">\n",
       "                                <p id=\"nonprimary\">time_wash1_ptwh_wash2</p>\n",
       "                                <span class=\"djtooltiptext\"></span>\n",
       "                            </div></th><th><div class=\"djtooltip\">\n",
       "                                <p id=\"nonprimary\">time_wash1_ptwh_wash3</p>\n",
       "                                <span class=\"djtooltiptext\"></span>\n",
       "                            </div></th><th><div class=\"djtooltip\">\n",
       "                                <p id=\"nonprimary\">time_wash1_ptwh_wash4</p>\n",
       "                                <span class=\"djtooltiptext\"></span>\n",
       "                            </div></th><th><div class=\"djtooltip\">\n",
       "                                <p id=\"nonprimary\">time_wash1_ptwh_wash5</p>\n",
       "                                <span class=\"djtooltiptext\"></span>\n",
       "                            </div></th><th><div class=\"djtooltip\">\n",
       "                                <p id=\"nonprimary\">time_antibody2_added</p>\n",
       "                                <span class=\"djtooltiptext\"></span>\n",
       "                            </div></th><th><div class=\"djtooltip\">\n",
       "                                <p id=\"nonprimary\">time_wash2_start_roomtemp</p>\n",
       "                                <span class=\"djtooltiptext\"></span>\n",
       "                            </div></th><th><div class=\"djtooltip\">\n",
       "                                <p id=\"nonprimary\">time_wash2_ptwh_wash1</p>\n",
       "                                <span class=\"djtooltiptext\"></span>\n",
       "                            </div></th><th><div class=\"djtooltip\">\n",
       "                                <p id=\"nonprimary\">time_wash2_ptwh_wash2</p>\n",
       "                                <span class=\"djtooltiptext\"></span>\n",
       "                            </div></th><th><div class=\"djtooltip\">\n",
       "                                <p id=\"nonprimary\">time_wash2_ptwh_wash3</p>\n",
       "                                <span class=\"djtooltiptext\"></span>\n",
       "                            </div></th><th><div class=\"djtooltip\">\n",
       "                                <p id=\"nonprimary\">time_wash2_ptwh_wash4</p>\n",
       "                                <span class=\"djtooltiptext\"></span>\n",
       "                            </div></th><th><div class=\"djtooltip\">\n",
       "                                <p id=\"nonprimary\">time_wash2_ptwh_wash5</p>\n",
       "                                <span class=\"djtooltiptext\"></span>\n",
       "                            </div></th><th><div class=\"djtooltip\">\n",
       "                                <p id=\"nonprimary\">time_clearing_ch3oh_20percent_wash1</p>\n",
       "                                <span class=\"djtooltiptext\"></span>\n",
       "                            </div></th><th><div class=\"djtooltip\">\n",
       "                                <p id=\"nonprimary\">time_clearing_ch3oh_40percent_wash1</p>\n",
       "                                <span class=\"djtooltiptext\"></span>\n",
       "                            </div></th><th><div class=\"djtooltip\">\n",
       "                                <p id=\"nonprimary\">time_clearing_ch3oh_60percent_wash1</p>\n",
       "                                <span class=\"djtooltiptext\"></span>\n",
       "                            </div></th><th><div class=\"djtooltip\">\n",
       "                                <p id=\"nonprimary\">time_clearing_ch3oh_80percent_wash1</p>\n",
       "                                <span class=\"djtooltiptext\"></span>\n",
       "                            </div></th><th><div class=\"djtooltip\">\n",
       "                                <p id=\"nonprimary\">time_clearing_ch3oh_100percent_wash1</p>\n",
       "                                <span class=\"djtooltiptext\"></span>\n",
       "                            </div></th><th><div class=\"djtooltip\">\n",
       "                                <p id=\"nonprimary\">time_clearing_ch3oh_100percent_wash2</p>\n",
       "                                <span class=\"djtooltiptext\"></span>\n",
       "                            </div></th><th><div class=\"djtooltip\">\n",
       "                                <p id=\"nonprimary\">time_clearing_dcm_66percent_ch3oh_33percent</p>\n",
       "                                <span class=\"djtooltiptext\"></span>\n",
       "                            </div></th><th><div class=\"djtooltip\">\n",
       "                                <p id=\"nonprimary\">time_clearing_dcm_wash1</p>\n",
       "                                <span class=\"djtooltiptext\"></span>\n",
       "                            </div></th><th><div class=\"djtooltip\">\n",
       "                                <p id=\"nonprimary\">time_clearing_dcm_wash2</p>\n",
       "                                <span class=\"djtooltiptext\"></span>\n",
       "                            </div></th><th><div class=\"djtooltip\">\n",
       "                                <p id=\"nonprimary\">time_clearing_dbe</p>\n",
       "                                <span class=\"djtooltiptext\"></span>\n",
       "                            </div></th><th><div class=\"djtooltip\">\n",
       "                                <p id=\"nonprimary\">time_clearing_new_tubes</p>\n",
       "                                <span class=\"djtooltiptext\"></span>\n",
       "                            </div></th><th><div class=\"djtooltip\">\n",
       "                                <p id=\"nonprimary\">clearing_notes</p>\n",
       "                                <span class=\"djtooltiptext\"></span>\n",
       "                            </div> </th> </tr> </thead>\n",
       "                <tbody> <tr> <td>1</td>\n",
       "<td>jverpeut</td>\n",
       "<td>ahoag</td>\n",
       "<td></td>\n",
       "<td>None</td>\n",
       "<td>2019-01-30 14:30:00</td>\n",
       "<td>2019-01-30 15:00:00</td>\n",
       "<td>2019-01-30 15:30:00</td>\n",
       "<td>2019-02-04 09:14:00</td>\n",
       "<td>2019-02-04 10:04:00</td>\n",
       "<td>2019-02-04 10:56:00</td>\n",
       "<td>2019-02-04 11:47:00</td>\n",
       "<td>2019-02-04 12:41:00</td>\n",
       "<td>2019-02-04 13:32:00</td>\n",
       "<td>2019-02-26 16:58:00</td>\n",
       "<td>2019-02-27 11:01:00</td>\n",
       "<td>2019-02-27 11:55:00</td>\n",
       "<td>2019-02-27 12:50:00</td>\n",
       "<td>2019-02-27 13:43:00</td>\n",
       "<td>2019-02-27 14:40:00</td>\n",
       "<td>2019-02-27 15:35:00</td>\n",
       "<td>2019-02-27 16:32:00</td>\n",
       "<td>2019-02-27 17:28:00</td>\n",
       "<td>2019-02-27 18:26:00</td>\n",
       "<td>2019-03-01 09:54:00</td>\n",
       "<td>2019-03-01 12:06:00</td>\n",
       "<td>2019-03-04 09:34:00</td>\n",
       "<td>2019-03-04 11:33:00</td>\n",
       "<td>None</td>\n",
       "<td>2019-03-04 14:58:00</td>\n",
       "<td>2019-03-11 10:05:00</td>\n",
       "<td>2019-03-11 12:50:00</td>\n",
       "<td>2019-03-11 13:15:00</td>\n",
       "<td>2019-03-11 13:45:00</td>\n",
       "<td>2019-03-11 14:36:00</td>\n",
       "<td>2019-03-11 15:42:00</td>\n",
       "<td>2019-03-12 14:11:00</td>\n",
       "<td>2019-03-13 10:27:00</td>\n",
       "<td>2019-03-13 12:48:00</td>\n",
       "<td>2019-03-13 13:10:00</td>\n",
       "<td>2019-03-13 13:40:00</td>\n",
       "<td>2019-03-13 14:23:00</td>\n",
       "<td>2019-03-13 15:37:00</td>\n",
       "<td>2019-03-20 10:36:00</td>\n",
       "<td>2019-03-20 11:13:00</td>\n",
       "<td>2019-03-20 11:57:00</td>\n",
       "<td>2019-03-20 13:00:00</td>\n",
       "<td>2019-03-20 13:55:00</td>\n",
       "<td>2019-03-20 14:55:00</td>\n",
       "<td>2019-03-20 15:55:00</td>\n",
       "<td>2019-03-20 18:55:00</td>\n",
       "<td>2019-03-20 19:10:00</td>\n",
       "<td>2019-03-20 19:30:00</td>\n",
       "<td>2019-03-21 11:40:00</td>\n",
       "<td></td> </tr> </tbody>\n",
       "            </table>\n",
       "            \n",
       "            <p>Total: 1</p></div>\n",
       "            "
      ],
      "text/plain": [
       "*experiment_id username     clearer     exp_notes     perfusion_date time_dehydr_pb time_dehydr_pb time_dehydr_pb time_dehydr_ch time_dehydr_ch time_dehydr_ch time_dehydr_ch time_dehydr_ch time_dehydr_ch time_dehydr_h2 time_rehydr_ch time_rehydr_ch time_rehydr_ch time_rehydr_ch time_rehydr_ch time_rehydr_pb time_rehydr_so time_rehydr_so time_rehydr_gl time_blocking_ time_blocking_ time_antibody1 time_antibody1 time_antibody1 time_antibody1 time_wash1_sta time_wash1_ptw time_wash1_ptw time_wash1_ptw time_wash1_ptw time_wash1_ptw time_antibody2 time_wash2_sta time_wash2_ptw time_wash2_ptw time_wash2_ptw time_wash2_ptw time_wash2_ptw time_clearing_ time_clearing_ time_clearing_ time_clearing_ time_clearing_ time_clearing_ time_clearing_ time_clearing_ time_clearing_ time_clearing_ time_clearing_ clearing_notes\n",
       "+------------+ +----------+ +---------+ +-----------+ +------------+ +------------+ +------------+ +------------+ +------------+ +------------+ +------------+ +------------+ +------------+ +------------+ +------------+ +------------+ +------------+ +------------+ +------------+ +------------+ +------------+ +------------+ +------------+ +------------+ +------------+ +------------+ +------------+ +------------+ +------------+ +------------+ +------------+ +------------+ +------------+ +------------+ +------------+ +------------+ +------------+ +------------+ +------------+ +------------+ +------------+ +------------+ +------------+ +------------+ +------------+ +------------+ +------------+ +------------+ +------------+ +------------+ +------------+ +------------+ +------------+ +------------+ +------------+\n",
       "1              jverpeut     ahoag                     None           2019-01-30 14: 2019-01-30 15: 2019-01-30 15: 2019-02-04 09: 2019-02-04 10: 2019-02-04 10: 2019-02-04 11: 2019-02-04 12: 2019-02-04 13: 2019-02-26 16: 2019-02-27 11: 2019-02-27 11: 2019-02-27 12: 2019-02-27 13: 2019-02-27 14: 2019-02-27 15: 2019-02-27 16: 2019-02-27 17: 2019-02-27 18: 2019-03-01 09: 2019-03-01 12: 2019-03-04 09: 2019-03-04 11: None           2019-03-04 14: 2019-03-11 10: 2019-03-11 12: 2019-03-11 13: 2019-03-11 13: 2019-03-11 14: 2019-03-11 15: 2019-03-12 14: 2019-03-13 10: 2019-03-13 12: 2019-03-13 13: 2019-03-13 13: 2019-03-13 14: 2019-03-13 15: 2019-03-20 10: 2019-03-20 11: 2019-03-20 11: 2019-03-20 13: 2019-03-20 13: 2019-03-20 14: 2019-03-20 15: 2019-03-20 18: 2019-03-20 19: 2019-03-20 19: 2019-03-21 11:               \n",
       " (Total: 1)"
      ]
     },
     "execution_count": 8,
     "metadata": {},
     "output_type": "execute_result"
    }
   ],
   "source": [
    "IdiscoPlusClearing()"
   ]
  },
  {
   "cell_type": "code",
   "execution_count": 10,
   "metadata": {},
   "outputs": [
    {
     "data": {
      "text/plain": [
       "{'experiment_id': 1,\n",
       " 'username': 'jverpeut',\n",
       " 'clearer': 'ahoag',\n",
       " 'exp_notes': '',\n",
       " 'perfusion_date': None,\n",
       " 'time_dehydr_pbs_wash1': datetime.datetime(2019, 1, 30, 14, 30),\n",
       " 'time_dehydr_pbs_wash2': datetime.datetime(2019, 1, 30, 15, 0),\n",
       " 'time_dehydr_pbs_wash3': datetime.datetime(2019, 1, 30, 15, 30),\n",
       " 'time_dehydr_ch3oh_20percent_wash1': datetime.datetime(2019, 2, 4, 9, 14),\n",
       " 'time_dehydr_ch3oh_40percent_wash1': datetime.datetime(2019, 2, 4, 10, 4),\n",
       " 'time_dehydr_ch3oh_60percent_wash1': datetime.datetime(2019, 2, 4, 10, 56),\n",
       " 'time_dehydr_ch3oh_80percent_wash1': datetime.datetime(2019, 2, 4, 11, 47),\n",
       " 'time_dehydr_ch3oh_100percent_wash1': datetime.datetime(2019, 2, 4, 12, 41),\n",
       " 'time_dehydr_ch3oh_100percent_wash2': datetime.datetime(2019, 2, 4, 13, 32),\n",
       " 'time_dehydr_h202_wash1': datetime.datetime(2019, 2, 26, 16, 58),\n",
       " 'time_rehydr_ch3oh_100percent_wash1': datetime.datetime(2019, 2, 27, 11, 1),\n",
       " 'time_rehydr_ch3oh_80percent_wash1': datetime.datetime(2019, 2, 27, 11, 55),\n",
       " 'time_rehydr_ch3oh_60percent_wash1': datetime.datetime(2019, 2, 27, 12, 50),\n",
       " 'time_rehydr_ch3oh_40percent_wash1': datetime.datetime(2019, 2, 27, 13, 43),\n",
       " 'time_rehydr_ch3oh_20percent_wash1': datetime.datetime(2019, 2, 27, 14, 40),\n",
       " 'time_rehydr_pbs_wash1': datetime.datetime(2019, 2, 27, 15, 35),\n",
       " 'time_rehydr_sodium_azide_wash1': datetime.datetime(2019, 2, 27, 16, 32),\n",
       " 'time_rehydr_sodium_azide_wash2': datetime.datetime(2019, 2, 27, 17, 28),\n",
       " 'time_rehydr_glycine_wash1': datetime.datetime(2019, 2, 27, 18, 26),\n",
       " 'time_blocking_start_roomtemp': datetime.datetime(2019, 3, 1, 9, 54),\n",
       " 'time_blocking_donkey_serum': datetime.datetime(2019, 3, 1, 12, 6),\n",
       " 'time_antibody1_start_roomtemp': datetime.datetime(2019, 3, 4, 9, 34),\n",
       " 'time_antibody1_ptwh_wash1': datetime.datetime(2019, 3, 4, 11, 33),\n",
       " 'time_antibody1_ptwh_wash2': None,\n",
       " 'time_antibody1_added': datetime.datetime(2019, 3, 4, 14, 58),\n",
       " 'time_wash1_start_roomtemp': datetime.datetime(2019, 3, 11, 10, 5),\n",
       " 'time_wash1_ptwh_wash1': datetime.datetime(2019, 3, 11, 12, 50),\n",
       " 'time_wash1_ptwh_wash2': datetime.datetime(2019, 3, 11, 13, 15),\n",
       " 'time_wash1_ptwh_wash3': datetime.datetime(2019, 3, 11, 13, 45),\n",
       " 'time_wash1_ptwh_wash4': datetime.datetime(2019, 3, 11, 14, 36),\n",
       " 'time_wash1_ptwh_wash5': datetime.datetime(2019, 3, 11, 15, 42),\n",
       " 'time_antibody2_added': datetime.datetime(2019, 3, 12, 14, 11),\n",
       " 'time_wash2_start_roomtemp': datetime.datetime(2019, 3, 13, 10, 27),\n",
       " 'time_wash2_ptwh_wash1': datetime.datetime(2019, 3, 13, 12, 48),\n",
       " 'time_wash2_ptwh_wash2': datetime.datetime(2019, 3, 13, 13, 10),\n",
       " 'time_wash2_ptwh_wash3': datetime.datetime(2019, 3, 13, 13, 40),\n",
       " 'time_wash2_ptwh_wash4': datetime.datetime(2019, 3, 13, 14, 23),\n",
       " 'time_wash2_ptwh_wash5': datetime.datetime(2019, 3, 13, 15, 37),\n",
       " 'time_clearing_ch3oh_20percent_wash1': datetime.datetime(2019, 3, 20, 10, 36),\n",
       " 'time_clearing_ch3oh_40percent_wash1': datetime.datetime(2019, 3, 20, 11, 13),\n",
       " 'time_clearing_ch3oh_60percent_wash1': datetime.datetime(2019, 3, 20, 11, 57),\n",
       " 'time_clearing_ch3oh_80percent_wash1': datetime.datetime(2019, 3, 20, 13, 0),\n",
       " 'time_clearing_ch3oh_100percent_wash1': datetime.datetime(2019, 3, 20, 13, 55),\n",
       " 'time_clearing_ch3oh_100percent_wash2': datetime.datetime(2019, 3, 20, 14, 55),\n",
       " 'time_clearing_dcm_66percent_ch3oh_33percent': datetime.datetime(2019, 3, 20, 15, 55),\n",
       " 'time_clearing_dcm_wash1': datetime.datetime(2019, 3, 20, 18, 55),\n",
       " 'time_clearing_dcm_wash2': datetime.datetime(2019, 3, 20, 19, 10),\n",
       " 'time_clearing_dbe': datetime.datetime(2019, 3, 20, 19, 30),\n",
       " 'time_clearing_new_tubes': datetime.datetime(2019, 3, 21, 11, 40),\n",
       " 'clearing_notes': ''}"
      ]
     },
     "execution_count": 10,
     "metadata": {},
     "output_type": "execute_result"
    }
   ],
   "source": [
    "IdiscoPlusClearing().fetch1()"
   ]
  },
  {
   "cell_type": "code",
   "execution_count": null,
   "metadata": {},
   "outputs": [],
   "source": [
    "val=(IdiscoPlusClearing() & 'experiment_id=1').fetch1('time_dehydr_pbs_wash1')"
   ]
  },
  {
   "cell_type": "code",
   "execution_count": null,
   "metadata": {},
   "outputs": [],
   "source": []
  },
  {
   "cell_type": "code",
   "execution_count": null,
   "metadata": {},
   "outputs": [],
   "source": [
    "dj.__version__"
   ]
  },
  {
   "cell_type": "code",
   "execution_count": null,
   "metadata": {},
   "outputs": [],
   "source": [
    "(IdiscoPlusClearing() & 'experiment_id=1').fetch1()"
   ]
  },
  {
   "cell_type": "code",
   "execution_count": null,
   "metadata": {},
   "outputs": [],
   "source": [
    "Id"
   ]
  },
  {
   "cell_type": "code",
   "execution_count": null,
   "metadata": {},
   "outputs": [],
   "source": [
    "dj.__version__"
   ]
  },
  {
   "cell_type": "code",
   "execution_count": null,
   "metadata": {},
   "outputs": [],
   "source": [
    "dj.ERD(schema)"
   ]
  },
  {
   "cell_type": "code",
   "execution_count": null,
   "metadata": {},
   "outputs": [],
   "source": [
    "s = '4 PM'\n",
    "datetime.strptime(s, \"%I %p\")"
   ]
  },
  {
   "cell_type": "code",
   "execution_count": null,
   "metadata": {},
   "outputs": [],
   "source": [
    "clearing_SPREADSHEET_ID = '1iy4H8kHocnu9sS9P-NZA8qcp6_R4gj0ogwksl3I-suU' # the copy I have been editing\n",
    "clearing_range_query = 'iDISCO+!A6:BE15' # Syntax is Sheet_name!cell_start:cell_end, e.g. "
   ]
  },
  {
   "cell_type": "code",
   "execution_count": null,
   "metadata": {},
   "outputs": [],
   "source": [
    "iDISCOplus_response_data = retrieve_google_sheet(spreadsheet_id=clearing_SPREADSHEET_ID,range_query=clearing_range_query)"
   ]
  },
  {
   "cell_type": "code",
   "execution_count": null,
   "metadata": {},
   "outputs": [],
   "source": [
    "iDISCOplus_response_data[0]"
   ]
  },
  {
   "cell_type": "code",
   "execution_count": null,
   "metadata": {},
   "outputs": [],
   "source": [
    "@schema\n",
    "class Test(dj.Manual): # dj.Manual is one of the 4 datajoint table types - Manual corresponds to externally inputted data\n",
    "        definition = \"\"\" # Test table to try out NULL values\n",
    "        num                           : smallint\n",
    "        ----\n",
    "        val = NULL                    : varchar(20)\n",
    "        date = NULL                   : date \n",
    "        \"\"\""
   ]
  },
  {
   "cell_type": "code",
   "execution_count": null,
   "metadata": {},
   "outputs": [],
   "source": [
    "Test().insert1({'num':1,'val':'test1','date':'2019-09-26'})\n",
    "Test().insert1({'num':2,'val':'test2','date':'2019-09-27'})\n",
    "Test()"
   ]
  },
  {
   "cell_type": "code",
   "execution_count": null,
   "metadata": {},
   "outputs": [],
   "source": [
    "dj.Table._update(Test() & 'num = 2', 'val', 'updated')\n",
    "Test()"
   ]
  },
  {
   "cell_type": "code",
   "execution_count": null,
   "metadata": {},
   "outputs": [],
   "source": [
    "mydict={'num':1,'val':'test1','date':'2019-09-26'}"
   ]
  },
  {
   "cell_type": "code",
   "execution_count": null,
   "metadata": {},
   "outputs": [],
   "source": [
    "s='time_blocking_donkey_serum_submit'\n",
    "s.rstrip('_submit')"
   ]
  },
  {
   "cell_type": "code",
   "execution_count": null,
   "metadata": {},
   "outputs": [],
   "source": [
    "s.split('_submit')"
   ]
  },
  {
   "cell_type": "code",
   "execution_count": null,
   "metadata": {},
   "outputs": [],
   "source": []
  }
 ],
 "metadata": {
  "anaconda-cloud": {},
  "kernelspec": {
   "display_name": "lightserv",
   "language": "python",
   "name": "lightserv"
  },
  "language_info": {
   "codemirror_mode": {
    "name": "ipython",
    "version": 3
   },
   "file_extension": ".py",
   "mimetype": "text/x-python",
   "name": "python",
   "nbconvert_exporter": "python",
   "pygments_lexer": "ipython3",
   "version": "3.7.3"
  }
 },
 "nbformat": 4,
 "nbformat_minor": 2
}
