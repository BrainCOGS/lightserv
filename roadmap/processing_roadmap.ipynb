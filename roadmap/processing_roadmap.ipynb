{
 "cells": [
  {
   "cell_type": "markdown",
   "metadata": {},
   "source": [
    "# Making a graphviz digraph for the Lightsheet data processing pipeline"
   ]
  },
  {
   "cell_type": "code",
   "execution_count": 1,
   "metadata": {
    "collapsed": true
   },
   "outputs": [],
   "source": [
    "import graphviz\n",
    "%matplotlib inline"
   ]
  },
  {
   "cell_type": "code",
   "execution_count": 161,
   "metadata": {
    "collapsed": false
   },
   "outputs": [
    {
     "ename": "AttributeError",
     "evalue": "'set' object has no attribute 'partition'",
     "output_type": "error",
     "traceback": [
      "\u001b[0;31m---------------------------------------------------------------------------\u001b[0m",
      "\u001b[0;31mAttributeError\u001b[0m                            Traceback (most recent call last)",
      "\u001b[0;32m<ipython-input-161-23486f6a6822>\u001b[0m in \u001b[0;36m<module>\u001b[0;34m\u001b[0m\n\u001b[1;32m     22\u001b[0m     \u001b[0ms\u001b[0m\u001b[0;34m.\u001b[0m\u001b[0mnode\u001b[0m\u001b[0;34m(\u001b[0m\u001b[0;34m'G'\u001b[0m\u001b[0;34m,\u001b[0m\u001b[0mlabel\u001b[0m\u001b[0;34m=\u001b[0m\u001b[0;34m'Registration solution'\u001b[0m\u001b[0;34m)\u001b[0m\u001b[0;34m\u001b[0m\u001b[0;34m\u001b[0m\u001b[0m\n\u001b[1;32m     23\u001b[0m     \u001b[0ms\u001b[0m\u001b[0;34m.\u001b[0m\u001b[0mnode\u001b[0m\u001b[0;34m(\u001b[0m\u001b[0;34m'H'\u001b[0m\u001b[0;34m,\u001b[0m\u001b[0mlabel\u001b[0m\u001b[0;34m=\u001b[0m\u001b[0;34m'Cells(x,y,z) (registered)'\u001b[0m\u001b[0;34m)\u001b[0m\u001b[0;34m\u001b[0m\u001b[0;34m\u001b[0m\u001b[0m\n\u001b[0;32m---> 24\u001b[0;31m \u001b[0mG\u001b[0m\u001b[0;34m.\u001b[0m\u001b[0medge\u001b[0m\u001b[0;34m(\u001b[0m\u001b[0;34m{\u001b[0m\u001b[0;34m'E'\u001b[0m\u001b[0;34m,\u001b[0m\u001b[0;34m'F'\u001b[0m\u001b[0;34m}\u001b[0m\u001b[0;34m,\u001b[0m\u001b[0;34m'G'\u001b[0m\u001b[0;34m)\u001b[0m\u001b[0;34m\u001b[0m\u001b[0;34m\u001b[0m\u001b[0m\n\u001b[0m\u001b[1;32m     25\u001b[0m \u001b[0mG\u001b[0m\u001b[0;34m.\u001b[0m\u001b[0medge\u001b[0m\u001b[0;34m(\u001b[0m\u001b[0;34m'D'\u001b[0m\u001b[0;34m,\u001b[0m\u001b[0;34m'F'\u001b[0m\u001b[0;34m,\u001b[0m\u001b[0mheadlabel\u001b[0m\u001b[0;34m=\u001b[0m\u001b[0;34m'Registration'\u001b[0m\u001b[0;34m,\u001b[0m\u001b[0mlabeldistance\u001b[0m\u001b[0;34m=\u001b[0m\u001b[0;34m'8'\u001b[0m\u001b[0;34m,\u001b[0m\u001b[0mlabelangle\u001b[0m\u001b[0;34m=\u001b[0m\u001b[0;34m'75'\u001b[0m\u001b[0;34m)\u001b[0m\u001b[0;34m\u001b[0m\u001b[0;34m\u001b[0m\u001b[0m\n\u001b[1;32m     26\u001b[0m \u001b[0;31m# G.edge('E','G')\u001b[0m\u001b[0;34m\u001b[0m\u001b[0;34m\u001b[0m\u001b[0;34m\u001b[0m\u001b[0m\n",
      "\u001b[0;32m~/anaconda2/envs/lightserv/lib/python3.7/site-packages/graphviz/dot.py\u001b[0m in \u001b[0;36medge\u001b[0;34m(self, tail_name, head_name, label, _attributes, **attrs)\u001b[0m\n\u001b[1;32m    142\u001b[0m             \u001b[0mattrs\u001b[0m\u001b[0;34m:\u001b[0m \u001b[0mAny\u001b[0m \u001b[0madditional\u001b[0m \u001b[0medge\u001b[0m \u001b[0mattributes\u001b[0m \u001b[0;34m(\u001b[0m\u001b[0mmust\u001b[0m \u001b[0mbe\u001b[0m \u001b[0mstrings\u001b[0m\u001b[0;34m)\u001b[0m\u001b[0;34m.\u001b[0m\u001b[0;34m\u001b[0m\u001b[0;34m\u001b[0m\u001b[0m\n\u001b[1;32m    143\u001b[0m         \"\"\"\n\u001b[0;32m--> 144\u001b[0;31m         \u001b[0mtail_name\u001b[0m \u001b[0;34m=\u001b[0m \u001b[0mself\u001b[0m\u001b[0;34m.\u001b[0m\u001b[0m_quote_edge\u001b[0m\u001b[0;34m(\u001b[0m\u001b[0mtail_name\u001b[0m\u001b[0;34m)\u001b[0m\u001b[0;34m\u001b[0m\u001b[0;34m\u001b[0m\u001b[0m\n\u001b[0m\u001b[1;32m    145\u001b[0m         \u001b[0mhead_name\u001b[0m \u001b[0;34m=\u001b[0m \u001b[0mself\u001b[0m\u001b[0;34m.\u001b[0m\u001b[0m_quote_edge\u001b[0m\u001b[0;34m(\u001b[0m\u001b[0mhead_name\u001b[0m\u001b[0;34m)\u001b[0m\u001b[0;34m\u001b[0m\u001b[0;34m\u001b[0m\u001b[0m\n\u001b[1;32m    146\u001b[0m         \u001b[0mattr_list\u001b[0m \u001b[0;34m=\u001b[0m \u001b[0mself\u001b[0m\u001b[0;34m.\u001b[0m\u001b[0m_attr_list\u001b[0m\u001b[0;34m(\u001b[0m\u001b[0mlabel\u001b[0m\u001b[0;34m,\u001b[0m \u001b[0mattrs\u001b[0m\u001b[0;34m,\u001b[0m \u001b[0m_attributes\u001b[0m\u001b[0;34m)\u001b[0m\u001b[0;34m\u001b[0m\u001b[0;34m\u001b[0m\u001b[0m\n",
      "\u001b[0;32m~/anaconda2/envs/lightserv/lib/python3.7/site-packages/graphviz/lang.py\u001b[0m in \u001b[0;36mquote_edge\u001b[0;34m(identifier)\u001b[0m\n\u001b[1;32m     73\u001b[0m     \u001b[0;34m'spam:eggs:s'\u001b[0m\u001b[0;34m\u001b[0m\u001b[0;34m\u001b[0m\u001b[0m\n\u001b[1;32m     74\u001b[0m     \"\"\"\n\u001b[0;32m---> 75\u001b[0;31m     \u001b[0mnode\u001b[0m\u001b[0;34m,\u001b[0m \u001b[0m_\u001b[0m\u001b[0;34m,\u001b[0m \u001b[0mrest\u001b[0m \u001b[0;34m=\u001b[0m \u001b[0midentifier\u001b[0m\u001b[0;34m.\u001b[0m\u001b[0mpartition\u001b[0m\u001b[0;34m(\u001b[0m\u001b[0;34m':'\u001b[0m\u001b[0;34m)\u001b[0m\u001b[0;34m\u001b[0m\u001b[0;34m\u001b[0m\u001b[0m\n\u001b[0m\u001b[1;32m     76\u001b[0m     \u001b[0mparts\u001b[0m \u001b[0;34m=\u001b[0m \u001b[0;34m[\u001b[0m\u001b[0mquote\u001b[0m\u001b[0;34m(\u001b[0m\u001b[0mnode\u001b[0m\u001b[0;34m)\u001b[0m\u001b[0;34m]\u001b[0m\u001b[0;34m\u001b[0m\u001b[0;34m\u001b[0m\u001b[0m\n\u001b[1;32m     77\u001b[0m     \u001b[0;32mif\u001b[0m \u001b[0mrest\u001b[0m\u001b[0;34m:\u001b[0m\u001b[0;34m\u001b[0m\u001b[0;34m\u001b[0m\u001b[0m\n",
      "\u001b[0;31mAttributeError\u001b[0m: 'set' object has no attribute 'partition'"
     ]
    }
   ],
   "source": [
    "G = graphviz.Digraph(name='cluster_processing')\n",
    "# with processing_graph.subgraph(name='cluster_subprocessing') as G:\n",
    "\n",
    "G.attr(nodesep=\"1\")\n",
    "G.attr('node',shape='box')\n",
    "G.node('A',label='Raw data \\n__ ... __',)\n",
    "with G.subgraph() as s:\n",
    "    s.attr(rank='same')\n",
    "    s.node('E',label='Cells(x,y,z) (unregistered)')\n",
    "    s.node('B',label='Preprocessed raw data \\n__ ... __')\n",
    "G.node('C',label='Blended (and/or stitched) data \\n__ ... __')\n",
    "G.node('D',label='Fully processed z stacks' + u'\\n__ \\n\\u22EE\\n __')\n",
    "G.edge('A','B',headlabel='Preprocessing',labeldistance=\"4\",labelangle=\"90\",)\n",
    "G.edge('B','C',headlabel='Blending/stitching',labeldistance=\"8\",labelangle=\"70\")\n",
    "G.edge('C','D',headlabel='Stacking/downsampling',labeldistance=\"10\",labelangle=\"75\")\n",
    "\n",
    "\n",
    "G.edge('A','E',headlabel='Cell detection',labeldistance=\"4\",labelangle=\"-90\",)\n",
    "with G.subgraph() as s:\n",
    "    s.attr(rank='same')\n",
    "    s.node('F',label='Registered volume' + u'\\n__ \\n\\u22EE\\n __')\n",
    "    s.node('G',label='Registration solution')\n",
    "    s.node('H',label='Cells(x,y,z) (registered)')\n",
    "G.edge({'E',,'G')\n",
    "G.edge('D','F',headlabel='Registration',labeldistance='8',labelangle='75')\n",
    "G.edge('E','G')\n",
    "G.edge('G','H')\n",
    "\n",
    "# G.save('cell_detection_roadmap.gv')\n",
    "print(G)"
   ]
  },
  {
   "cell_type": "code",
   "execution_count": 177,
   "metadata": {
    "collapsed": true
   },
   "outputs": [],
   "source": [
    "src = \"\"\"\n",
    "digraph cluster_processing {\n",
    "\tnodesep=1\n",
    "\tnode [shape=box]\n",
    "\tA [label=\"Raw data \n",
    "__ ... __\"]\n",
    "\t{\n",
    "\t\trank=same\n",
    "\t\tE [label=\"Cells(x,y,z) (unregistered)\"]\n",
    "\t\tB [label=\"Preprocessed raw data \n",
    "__ ... __\"]\n",
    "\t}\n",
    "\tC [label=\"Blended (and/or stitched) data \n",
    "__ ... __\"]\n",
    "\tD [label=\"Fully processed z stacks\n",
    "__ \n",
    "⋮\n",
    " __\"]\n",
    "\tA -> B [headlabel=Preprocessing labelangle=90 labeldistance=4]\n",
    "\tB -> C [headlabel=\"Blending/stitching\" labelangle=70 labeldistance=8]\n",
    "\tC -> D [headlabel=\"Stacking/downsampling\" labelangle=70 labeldistance=10]\n",
    "\tA -> E [headlabel=\"Cell detection\" labelangle=-90 labeldistance=4]\n",
    "\t{\n",
    "\t\trank=same\n",
    "\t\tF [label=\"Registered volume\n",
    "__ \n",
    "⋮\n",
    " __\"]\n",
    "\t\tG [shape=point,width=0.01,height=0.01]\n",
    "\t\tH [label=\"Cells(x,y,z) (registered)\"]\n",
    "\t}\n",
    "\t{E,F} -> G [dir=none]\n",
    "\tD -> F [headlabel=Registration labelangle=60 labeldistance=6]\n",
    "\tG -> H\n",
    "}\n",
    "\n",
    "\"\"\"\n"
   ]
  },
  {
   "cell_type": "code",
   "execution_count": 178,
   "metadata": {
    "collapsed": false
   },
   "outputs": [
    {
     "data": {
      "image/svg+xml": [
       "<?xml version=\"1.0\" encoding=\"UTF-8\" standalone=\"no\"?>\n",
       "<!DOCTYPE svg PUBLIC \"-//W3C//DTD SVG 1.1//EN\"\n",
       " \"http://www.w3.org/Graphics/SVG/1.1/DTD/svg11.dtd\">\n",
       "<!-- Generated by graphviz version 2.40.1 (20161225.0304)\n",
       " -->\n",
       "<!-- Title: cluster_processing Pages: 1 -->\n",
       "<svg width=\"573pt\" height=\"388pt\"\n",
       " viewBox=\"0.00 0.00 572.92 388.00\" xmlns=\"http://www.w3.org/2000/svg\" xmlns:xlink=\"http://www.w3.org/1999/xlink\">\n",
       "<g id=\"graph0\" class=\"graph\" transform=\"scale(1 1) rotate(0) translate(4 384)\">\n",
       "<title>cluster_processing</title>\n",
       "<polygon fill=\"#ffffff\" stroke=\"transparent\" points=\"-4,4 -4,-384 568.9236,-384 568.9236,4 -4,4\"/>\n",
       "<!-- A -->\n",
       "<g id=\"node1\" class=\"node\">\n",
       "<title>A</title>\n",
       "<polygon fill=\"none\" stroke=\"#000000\" points=\"294.6902,-380 222.7312,-380 222.7312,-344 294.6902,-344 294.6902,-380\"/>\n",
       "<text text-anchor=\"middle\" x=\"258.7107\" y=\"-364.8\" font-family=\"Times,serif\" font-size=\"14.00\" fill=\"#000000\">Raw data </text>\n",
       "<text text-anchor=\"middle\" x=\"258.7107\" y=\"-350.8\" font-family=\"Times,serif\" font-size=\"14.00\" fill=\"#000000\">__ ... __</text>\n",
       "</g>\n",
       "<!-- E -->\n",
       "<g id=\"node2\" class=\"node\">\n",
       "<title>E</title>\n",
       "<polygon fill=\"none\" stroke=\"#000000\" points=\"453.137,-308 290.2843,-308 290.2843,-272 453.137,-272 453.137,-308\"/>\n",
       "<text text-anchor=\"middle\" x=\"371.7107\" y=\"-285.8\" font-family=\"Times,serif\" font-size=\"14.00\" fill=\"#000000\">Cells(x,y,z) (unregistered)</text>\n",
       "</g>\n",
       "<!-- A&#45;&gt;E -->\n",
       "<g id=\"edge4\" class=\"edge\">\n",
       "<title>A&#45;&gt;E</title>\n",
       "<path fill=\"none\" stroke=\"#000000\" d=\"M287.2253,-343.8314C301.5449,-334.7074 319.073,-323.539 334.4444,-313.7449\"/>\n",
       "<polygon fill=\"#000000\" stroke=\"#000000\" points=\"336.6523,-316.4882 343.2051,-308.1628 332.8908,-310.5847 336.6523,-316.4882\"/>\n",
       "<text text-anchor=\"middle\" x=\"364.6995\" y=\"-337.697\" font-family=\"Times,serif\" font-size=\"14.00\" fill=\"#000000\">Cell detection</text>\n",
       "</g>\n",
       "<!-- B -->\n",
       "<g id=\"node3\" class=\"node\">\n",
       "<title>B</title>\n",
       "<polygon fill=\"none\" stroke=\"#000000\" points=\"217.8771,-308 73.5443,-308 73.5443,-272 217.8771,-272 217.8771,-308\"/>\n",
       "<text text-anchor=\"middle\" x=\"145.7107\" y=\"-292.8\" font-family=\"Times,serif\" font-size=\"14.00\" fill=\"#000000\">Preprocessed raw data </text>\n",
       "<text text-anchor=\"middle\" x=\"145.7107\" y=\"-278.8\" font-family=\"Times,serif\" font-size=\"14.00\" fill=\"#000000\">__ ... __</text>\n",
       "</g>\n",
       "<!-- A&#45;&gt;B -->\n",
       "<g id=\"edge1\" class=\"edge\">\n",
       "<title>A&#45;&gt;B</title>\n",
       "<path fill=\"none\" stroke=\"#000000\" d=\"M230.196,-343.8314C215.8764,-334.7074 198.3483,-323.539 182.9769,-313.7449\"/>\n",
       "<polygon fill=\"#000000\" stroke=\"#000000\" points=\"184.5305,-310.5847 174.2162,-308.1628 180.769,-316.4882 184.5305,-310.5847\"/>\n",
       "<text text-anchor=\"middle\" x=\"152.7219\" y=\"-337.697\" font-family=\"Times,serif\" font-size=\"14.00\" fill=\"#000000\">Preprocessing</text>\n",
       "</g>\n",
       "<!-- G -->\n",
       "<g id=\"node7\" class=\"node\">\n",
       "<title>G</title>\n",
       "<ellipse fill=\"#000000\" stroke=\"#000000\" cx=\"343.7107\" cy=\"-32\" rx=\".36\" ry=\".36\"/>\n",
       "</g>\n",
       "<!-- E&#45;&gt;G -->\n",
       "<g id=\"edge5\" class=\"edge\">\n",
       "<title>E&#45;&gt;G</title>\n",
       "<path fill=\"none\" stroke=\"#000000\" d=\"M369.7418,-271.8579C363.5675,-214.9669 344.9263,-43.2012 343.7673,-32.5214\"/>\n",
       "</g>\n",
       "<!-- C -->\n",
       "<g id=\"node4\" class=\"node\">\n",
       "<title>C</title>\n",
       "<polygon fill=\"none\" stroke=\"#000000\" points=\"250.8185,-236 62.6028,-236 62.6028,-200 250.8185,-200 250.8185,-236\"/>\n",
       "<text text-anchor=\"middle\" x=\"156.7107\" y=\"-220.8\" font-family=\"Times,serif\" font-size=\"14.00\" fill=\"#000000\">Blended (and/or stitched) data </text>\n",
       "<text text-anchor=\"middle\" x=\"156.7107\" y=\"-206.8\" font-family=\"Times,serif\" font-size=\"14.00\" fill=\"#000000\">__ ... __</text>\n",
       "</g>\n",
       "<!-- B&#45;&gt;C -->\n",
       "<g id=\"edge2\" class=\"edge\">\n",
       "<title>B&#45;&gt;C</title>\n",
       "<path fill=\"none\" stroke=\"#000000\" d=\"M148.4864,-271.8314C149.6629,-264.131 151.0618,-254.9743 152.3692,-246.4166\"/>\n",
       "<polygon fill=\"#000000\" stroke=\"#000000\" points=\"155.8471,-246.8272 153.8975,-236.4133 148.9273,-245.7699 155.8471,-246.8272\"/>\n",
       "<text text-anchor=\"middle\" x=\"75.4521\" y=\"-247.9076\" font-family=\"Times,serif\" font-size=\"14.00\" fill=\"#000000\">Blending/stitching</text>\n",
       "</g>\n",
       "<!-- D -->\n",
       "<g id=\"node5\" class=\"node\">\n",
       "<title>D</title>\n",
       "<polygon fill=\"none\" stroke=\"#000000\" points=\"247.4043,-164 96.017,-164 96.017,-100 247.4043,-100 247.4043,-164\"/>\n",
       "<text text-anchor=\"middle\" x=\"171.7107\" y=\"-148.8\" font-family=\"Times,serif\" font-size=\"14.00\" fill=\"#000000\">Fully processed z stacks</text>\n",
       "<text text-anchor=\"middle\" x=\"171.7107\" y=\"-134.8\" font-family=\"Times,serif\" font-size=\"14.00\" fill=\"#000000\">__ </text>\n",
       "<text text-anchor=\"middle\" x=\"171.7107\" y=\"-120.8\" font-family=\"Times,serif\" font-size=\"14.00\" fill=\"#000000\">⋮</text>\n",
       "<text text-anchor=\"middle\" x=\"171.7107\" y=\"-106.8\" font-family=\"Times,serif\" font-size=\"14.00\" fill=\"#000000\"> __</text>\n",
       "</g>\n",
       "<!-- C&#45;&gt;D -->\n",
       "<g id=\"edge3\" class=\"edge\">\n",
       "<title>C&#45;&gt;D</title>\n",
       "<path fill=\"none\" stroke=\"#000000\" d=\"M159.8918,-199.7616C161.2039,-192.2386 162.7836,-183.1818 164.3549,-174.1733\"/>\n",
       "<polygon fill=\"#000000\" stroke=\"#000000\" points=\"167.8402,-174.56 166.1106,-164.1073 160.9443,-173.3572 167.8402,-174.56\"/>\n",
       "<text text-anchor=\"middle\" x=\"67.6621\" y=\"-177.4544\" font-family=\"Times,serif\" font-size=\"14.00\" fill=\"#000000\">Stacking/downsampling</text>\n",
       "</g>\n",
       "<!-- F -->\n",
       "<g id=\"node6\" class=\"node\">\n",
       "<title>F</title>\n",
       "<polygon fill=\"none\" stroke=\"#000000\" points=\"258.5735,-64 136.8478,-64 136.8478,0 258.5735,0 258.5735,-64\"/>\n",
       "<text text-anchor=\"middle\" x=\"197.7107\" y=\"-48.8\" font-family=\"Times,serif\" font-size=\"14.00\" fill=\"#000000\">Registered volume</text>\n",
       "<text text-anchor=\"middle\" x=\"197.7107\" y=\"-34.8\" font-family=\"Times,serif\" font-size=\"14.00\" fill=\"#000000\">__ </text>\n",
       "<text text-anchor=\"middle\" x=\"197.7107\" y=\"-20.8\" font-family=\"Times,serif\" font-size=\"14.00\" fill=\"#000000\">⋮</text>\n",
       "<text text-anchor=\"middle\" x=\"197.7107\" y=\"-6.8\" font-family=\"Times,serif\" font-size=\"14.00\" fill=\"#000000\"> __</text>\n",
       "</g>\n",
       "<!-- D&#45;&gt;F -->\n",
       "<g id=\"edge7\" class=\"edge\">\n",
       "<title>D&#45;&gt;F</title>\n",
       "<path fill=\"none\" stroke=\"#000000\" d=\"M180.0804,-99.8089C182.2143,-91.6014 184.5398,-82.6574 186.7809,-74.0374\"/>\n",
       "<polygon fill=\"#000000\" stroke=\"#000000\" points=\"190.2276,-74.6897 189.3567,-64.1308 183.4529,-72.9282 190.2276,-74.6897\"/>\n",
       "<text text-anchor=\"middle\" x=\"131.5181\" y=\"-75.8902\" font-family=\"Times,serif\" font-size=\"14.00\" fill=\"#000000\">Registration</text>\n",
       "</g>\n",
       "<!-- F&#45;&gt;G -->\n",
       "<g id=\"edge6\" class=\"edge\">\n",
       "<title>F&#45;&gt;G</title>\n",
       "<path fill=\"none\" stroke=\"#000000\" d=\"M258.449,-32C286.6475,-32 314.846,-32 343.0446,-32\"/>\n",
       "</g>\n",
       "<!-- H -->\n",
       "<g id=\"node8\" class=\"node\">\n",
       "<title>H</title>\n",
       "<polygon fill=\"none\" stroke=\"#000000\" points=\"565.1371,-50 416.2843,-50 416.2843,-14 565.1371,-14 565.1371,-50\"/>\n",
       "<text text-anchor=\"middle\" x=\"490.7107\" y=\"-27.8\" font-family=\"Times,serif\" font-size=\"14.00\" fill=\"#000000\">Cells(x,y,z) (registered)</text>\n",
       "</g>\n",
       "<!-- G&#45;&gt;H -->\n",
       "<g id=\"edge8\" class=\"edge\">\n",
       "<title>G&#45;&gt;H</title>\n",
       "<path fill=\"none\" stroke=\"#000000\" d=\"M344.2849,-32C364.9296,-32 385.5744,-32 406.2191,-32\"/>\n",
       "<polygon fill=\"#000000\" stroke=\"#000000\" points=\"406.3539,-35.5001 416.3538,-32 406.3538,-28.5001 406.3539,-35.5001\"/>\n",
       "</g>\n",
       "</g>\n",
       "</svg>\n"
      ],
      "text/plain": [
       "<graphviz.files.Source at 0x10dadb0b8>"
      ]
     },
     "execution_count": 178,
     "metadata": {},
     "output_type": "execute_result"
    }
   ],
   "source": [
    "d=graphviz.Source(src)\n",
    "d"
   ]
  },
  {
   "cell_type": "code",
   "execution_count": 179,
   "metadata": {
    "collapsed": false
   },
   "outputs": [
    {
     "data": {
      "text/plain": [
       "'cell_detection_roadmap.gv'"
      ]
     },
     "execution_count": 179,
     "metadata": {},
     "output_type": "execute_result"
    }
   ],
   "source": [
    "d.save('cell_detection_roadmap.gv')"
   ]
  },
  {
   "cell_type": "code",
   "execution_count": null,
   "metadata": {
    "collapsed": true
   },
   "outputs": [],
   "source": []
  }
 ],
 "metadata": {
  "anaconda-cloud": {},
  "kernelspec": {
   "display_name": "lightserv",
   "language": "python",
   "name": "lightserv"
  },
  "language_info": {
   "codemirror_mode": {
    "name": "ipython",
    "version": 3
   },
   "file_extension": ".py",
   "mimetype": "text/x-python",
   "name": "python",
   "nbconvert_exporter": "python",
   "pygments_lexer": "ipython3",
   "version": "3.7.3"
  }
 },
 "nbformat": 4,
 "nbformat_minor": 2
}
